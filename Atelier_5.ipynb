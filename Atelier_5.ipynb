{
  "nbformat": 4,
  "nbformat_minor": 0,
  "metadata": {
    "kernelspec": {
      "display_name": "Python 3",
      "language": "python",
      "name": "python3"
    },
    "language_info": {
      "codemirror_mode": {
        "name": "ipython",
        "version": 3
      },
      "file_extension": ".py",
      "mimetype": "text/x-python",
      "name": "python",
      "nbconvert_exporter": "python",
      "pygments_lexer": "ipython3",
      "version": "3.7.10"
    },
    "nav_menu": {
      "height": "264px",
      "width": "369px"
    },
    "toc": {
      "navigate_menu": true,
      "number_sections": true,
      "sideBar": true,
      "threshold": 6,
      "toc_cell": false,
      "toc_section_display": "block",
      "toc_window_display": false
    },
    "colab": {
      "name": "Atelier_5.ipynb",
      "provenance": [],
      "collapsed_sections": [],
      "include_colab_link": true
    }
  },
  "cells": [
    {
      "cell_type": "markdown",
      "metadata": {
        "id": "view-in-github",
        "colab_type": "text"
      },
      "source": [
        "<a href=\"https://colab.research.google.com/github/alibouch/TensorFlow_FSA_21-22/blob/main/Atelier_5.ipynb\" target=\"_parent\"><img src=\"https://colab.research.google.com/assets/colab-badge.svg\" alt=\"Open In Colab\"/></a>"
      ]
    },
    {
      "cell_type": "markdown",
      "metadata": {
        "id": "rEUXpdiF9lua"
      },
      "source": [
        "# Atelier 5"
      ]
    },
    {
      "cell_type": "markdown",
      "metadata": {
        "id": "N4VfB_GS9lub"
      },
      "source": [
        "## Docummentation\n",
        "\n",
        "[Sequential API](https://www.tensorflow.org/api_docs/python/tf/keras/Sequential)\n",
        "\n",
        "[Functional API](https://www.tensorflow.org/guide/keras/functional)\n",
        "\n",
        "[API Subclassing](https://www.tensorflow.org/guide/keras/custom_layers_and_models)\n",
        "\n",
        "[Callbacks](https://www.tensorflow.org/api_docs/python/tf/keras/callbacks/Callback)\n",
        "\n",
        "[Tensorboard](https://www.tensorflow.org/tensorboard?hl=fr)"
      ]
    },
    {
      "cell_type": "code",
      "metadata": {
        "id": "jnC2s-MU9luc"
      },
      "source": [
        "import sys\n",
        "import sklearn\n",
        "import tensorflow as tf\n",
        "from tensorflow import keras\n",
        "import numpy as np\n",
        "import os\n",
        "np.random.seed(42)\n",
        "\n",
        "# To plot pretty figures\n",
        "%matplotlib inline\n",
        "import matplotlib as mpl\n",
        "import matplotlib.pyplot as plt\n",
        "mpl.rc('axes', labelsize=14)\n",
        "mpl.rc('xtick', labelsize=12)\n",
        "mpl.rc('ytick', labelsize=12)\n",
        "\n",
        "# Where to save the figures\n",
        "PROJECT_ROOT_DIR = \".\"\n",
        "CHAPTER_ID = \"ann\"\n",
        "IMAGES_PATH = os.path.join(PROJECT_ROOT_DIR, \"images\", CHAPTER_ID)\n",
        "os.makedirs(IMAGES_PATH, exist_ok=True)\n",
        "\n",
        "def save_fig(fig_id, tight_layout=True, fig_extension=\"png\", resolution=300):\n",
        "    path = os.path.join(IMAGES_PATH, fig_id + \".\" + fig_extension)\n",
        "    print(\"Saving figure\", fig_id)\n",
        "    if tight_layout:\n",
        "        plt.tight_layout()\n",
        "    plt.savefig(path, format=fig_extension, dpi=resolution)\n"
      ],
      "execution_count": null,
      "outputs": []
    },
    {
      "cell_type": "markdown",
      "metadata": {
        "id": "HTfm27nz9lup"
      },
      "source": [
        "# Sequential API"
      ]
    },
    {
      "cell_type": "markdown",
      "metadata": {
        "id": "eN3kjv-p9lus"
      },
      "source": [
        "Commençons par charger et préparer le dataset fashion MNIST. Keras dispose d'un ensemble de fonctions pour charger les datasets populaires dans `keras.datasets`. Le dataset est déja divisé en un ensemble d'entraînement et un ensemble de test, mais il peut être utile de diviser davantage l'ensemble d'entraînement pour avoir un ensemble de validation :"
      ]
    },
    {
      "cell_type": "code",
      "metadata": {
        "id": "LHE--ySu9lut",
        "colab": {
          "base_uri": "https://localhost:8080/"
        },
        "outputId": "b60206f4-dfc8-48ad-9898-3cc0b779ba64"
      },
      "source": [
        "fashion_mnist = keras.datasets.fashion_mnist\n",
        "(X_train_full, y_train_full), (X_test, y_test) = fashion_mnist.load_data()"
      ],
      "execution_count": null,
      "outputs": [
        {
          "output_type": "stream",
          "name": "stdout",
          "text": [
            "Downloading data from https://storage.googleapis.com/tensorflow/tf-keras-datasets/train-labels-idx1-ubyte.gz\n",
            "32768/29515 [=================================] - 0s 0us/step\n",
            "40960/29515 [=========================================] - 0s 0us/step\n",
            "Downloading data from https://storage.googleapis.com/tensorflow/tf-keras-datasets/train-images-idx3-ubyte.gz\n",
            "26427392/26421880 [==============================] - 0s 0us/step\n",
            "26435584/26421880 [==============================] - 0s 0us/step\n",
            "Downloading data from https://storage.googleapis.com/tensorflow/tf-keras-datasets/t10k-labels-idx1-ubyte.gz\n",
            "16384/5148 [===============================================================================================] - 0s 0us/step\n",
            "Downloading data from https://storage.googleapis.com/tensorflow/tf-keras-datasets/t10k-images-idx3-ubyte.gz\n",
            "4423680/4422102 [==============================] - 0s 0us/step\n",
            "4431872/4422102 [==============================] - 0s 0us/step\n"
          ]
        }
      ]
    },
    {
      "cell_type": "code",
      "metadata": {
        "id": "9DUth4K49lux"
      },
      "source": [
        "X_valid, X_train = X_train_full[:5000] / 255., X_train_full[5000:] / 255.\n",
        "y_valid, y_train = y_train_full[:5000], y_train_full[5000:]\n",
        "X_test = X_test / 255."
      ],
      "execution_count": null,
      "outputs": []
    },
    {
      "cell_type": "markdown",
      "metadata": {
        "id": "rKEg2gvIBuS0"
      },
      "source": [
        "\n",
        "\n",
        "## 1. Construisez le réseau de neurones suivant :\n",
        "\n",
        "\n",
        "\n",
        "\n",
        "\n",
        "![image.png](data:image/png;base64,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)"
      ]
    },
    {
      "cell_type": "markdown",
      "metadata": {
        "id": "5NGsjs7iDbvg"
      },
      "source": [
        "### 1.1. en ajoutant les couches une par une :"
      ]
    },
    {
      "cell_type": "code",
      "metadata": {
        "id": "LmvAvDUT9lu1"
      },
      "source": [
        "model = keras.models.Sequential()\n",
        "\n",
        "\n",
        "\n"
      ],
      "execution_count": null,
      "outputs": []
    },
    {
      "cell_type": "code",
      "metadata": {
        "id": "c-wISKbr9lu1"
      },
      "source": [
        "keras.backend.clear_session()\n",
        "np.random.seed(42)\n",
        "tf.random.set_seed(42)"
      ],
      "execution_count": null,
      "outputs": []
    },
    {
      "cell_type": "markdown",
      "metadata": {
        "id": "4VTd6hORDnqQ"
      },
      "source": [
        "### 1.2. en passant la liste de couches au moment de la création du modèle :"
      ]
    },
    {
      "cell_type": "code",
      "metadata": {
        "id": "7HIcmW1T9lu1"
      },
      "source": [
        "model = keras.models.Sequential([\n",
        "\n",
        "\n",
        "\n",
        "\n",
        "])"
      ],
      "execution_count": null,
      "outputs": []
    },
    {
      "cell_type": "markdown",
      "metadata": {
        "id": "wuSE_lvAFDkT"
      },
      "source": [
        "## 2. Affichez toutes les couches du modèle, y compris leur nom , la forme de leur sortie, leur nombre de paramètres et le nombre total de paramètres :"
      ]
    },
    {
      "cell_type": "code",
      "metadata": {
        "id": "8RhJ6q1_9lu2",
        "colab": {
          "base_uri": "https://localhost:8080/"
        },
        "outputId": "43f5aac1-3f7e-4753-b124-ac413b9b65fb"
      },
      "source": [
        ""
      ],
      "execution_count": null,
      "outputs": [
        {
          "output_type": "stream",
          "name": "stdout",
          "text": [
            "Model: \"sequential\"\n",
            "_________________________________________________________________\n",
            " Layer (type)                Output Shape              Param #   \n",
            "=================================================================\n",
            " flatten (Flatten)           (None, 784)               0         \n",
            "                                                                 \n",
            " dense (Dense)               (None, 300)               235500    \n",
            "                                                                 \n",
            " dense_1 (Dense)             (None, 100)               30100     \n",
            "                                                                 \n",
            " dense_2 (Dense)             (None, 10)                1010      \n",
            "                                                                 \n",
            "=================================================================\n",
            "Total params: 266,610\n",
            "Trainable params: 266,610\n",
            "Non-trainable params: 0\n",
            "_________________________________________________________________\n"
          ]
        }
      ]
    },
    {
      "cell_type": "markdown",
      "metadata": {
        "id": "IzbeRIoNFsRC"
      },
      "source": [
        "## 3. Générez une image du modèle :"
      ]
    },
    {
      "cell_type": "code",
      "metadata": {
        "id": "vsrdyulP9lu2",
        "colab": {
          "base_uri": "https://localhost:8080/",
          "height": 533
        },
        "outputId": "5c2bffa5-f4cc-47f4-9915-0ca299aced66"
      },
      "source": [
        ""
      ],
      "execution_count": null,
      "outputs": [
        {
          "output_type": "execute_result",
          "data": {
            "image/png": "[encoded data removed]",
            "text/plain": [
              "<IPython.core.display.Image object>"
            ]
          },
          "metadata": {},
          "execution_count": 8
        }
      ]
    },
    {
      "cell_type": "code",
      "metadata": {
        "id": "uY2a9S8G9lu2",
        "colab": {
          "base_uri": "https://localhost:8080/"
        },
        "outputId": "695436b0-6867-4a90-93cd-8a6b297331f2"
      },
      "source": [
        "model.layers"
      ],
      "execution_count": null,
      "outputs": [
        {
          "output_type": "execute_result",
          "data": {
            "text/plain": [
              "[<keras.layers.core.flatten.Flatten at 0x7f9b071ea850>,\n",
              " <keras.layers.core.dense.Dense at 0x7f9b071eabd0>,\n",
              " <keras.layers.core.dense.Dense at 0x7f9b071f6050>,\n",
              " <keras.layers.core.dense.Dense at 0x7f9b071f6350>]"
            ]
          },
          "metadata": {},
          "execution_count": 9
        }
      ]
    },
    {
      "cell_type": "code",
      "metadata": {
        "id": "IcfVouCL9lu2",
        "colab": {
          "base_uri": "https://localhost:8080/",
          "height": 35
        },
        "outputId": "b3870da0-693f-4d81-a210-c60ab2c5f6c7"
      },
      "source": [
        "hidden1 = model.layers[1]\n",
        "hidden1.name"
      ],
      "execution_count": null,
      "outputs": [
        {
          "output_type": "execute_result",
          "data": {
            "application/vnd.google.colaboratory.intrinsic+json": {
              "type": "string"
            },
            "text/plain": [
              "'dense'"
            ]
          },
          "metadata": {},
          "execution_count": 10
        }
      ]
    },
    {
      "cell_type": "code",
      "metadata": {
        "id": "dgKFKdJb9lu3",
        "colab": {
          "base_uri": "https://localhost:8080/"
        },
        "outputId": "60b490a8-080b-4770-8dc0-8d72a6f6a7aa"
      },
      "source": [
        "model.get_layer(hidden1.name) is hidden1"
      ],
      "execution_count": null,
      "outputs": [
        {
          "output_type": "execute_result",
          "data": {
            "text/plain": [
              "True"
            ]
          },
          "metadata": {},
          "execution_count": 11
        }
      ]
    },
    {
      "cell_type": "markdown",
      "metadata": {
        "id": "nZ71liT0GUWT"
      },
      "source": [
        "## 4. Récupérez les poids des connexions (`weights`) et les termes constants (`biases`) de la couche `hidden1` :"
      ]
    },
    {
      "cell_type": "code",
      "metadata": {
        "id": "-T_C1ROv9lu3"
      },
      "source": [
        "weights, biases = "
      ],
      "execution_count": null,
      "outputs": []
    },
    {
      "cell_type": "code",
      "metadata": {
        "id": "djcy75_69lu3",
        "colab": {
          "base_uri": "https://localhost:8080/"
        },
        "outputId": "bdec0790-3630-42aa-dded-20b4929768db"
      },
      "source": [
        "weights"
      ],
      "execution_count": null,
      "outputs": [
        {
          "output_type": "execute_result",
          "data": {
            "text/plain": [
              "array([[ 0.02448617, -0.00877795, -0.02189048, ..., -0.02766046,\n",
              "         0.03859074, -0.06889391],\n",
              "       [ 0.00476504, -0.03105379, -0.0586676 , ...,  0.00602964,\n",
              "        -0.02763776, -0.04165364],\n",
              "       [-0.06189284, -0.06901957,  0.07102345, ..., -0.04238207,\n",
              "         0.07121518, -0.07331658],\n",
              "       ...,\n",
              "       [-0.03048757,  0.02155137, -0.05400612, ..., -0.00113463,\n",
              "         0.00228987,  0.05581069],\n",
              "       [ 0.07061854, -0.06960931,  0.07038955, ..., -0.00384101,\n",
              "         0.00034875,  0.02878492],\n",
              "       [-0.06022581,  0.01577859, -0.02585464, ..., -0.00527829,\n",
              "         0.00272203, -0.06793761]], dtype=float32)"
            ]
          },
          "metadata": {},
          "execution_count": 13
        }
      ]
    },
    {
      "cell_type": "code",
      "metadata": {
        "id": "k6Gmu5hP9lu3",
        "colab": {
          "base_uri": "https://localhost:8080/"
        },
        "outputId": "9189dffe-d9b7-4f2d-b86c-6eb4a7cb707f"
      },
      "source": [
        "weights.shape"
      ],
      "execution_count": null,
      "outputs": [
        {
          "output_type": "execute_result",
          "data": {
            "text/plain": [
              "(784, 300)"
            ]
          },
          "metadata": {},
          "execution_count": 14
        }
      ]
    },
    {
      "cell_type": "code",
      "metadata": {
        "id": "JKkDzUki9lu4",
        "colab": {
          "base_uri": "https://localhost:8080/"
        },
        "outputId": "906b6355-cd2d-42ab-b80f-800ba3a09275"
      },
      "source": [
        "biases"
      ],
      "execution_count": null,
      "outputs": [
        {
          "output_type": "execute_result",
          "data": {
            "text/plain": [
              "array([0., 0., 0., 0., 0., 0., 0., 0., 0., 0., 0., 0., 0., 0., 0., 0., 0.,\n",
              "       0., 0., 0., 0., 0., 0., 0., 0., 0., 0., 0., 0., 0., 0., 0., 0., 0.,\n",
              "       0., 0., 0., 0., 0., 0., 0., 0., 0., 0., 0., 0., 0., 0., 0., 0., 0.,\n",
              "       0., 0., 0., 0., 0., 0., 0., 0., 0., 0., 0., 0., 0., 0., 0., 0., 0.,\n",
              "       0., 0., 0., 0., 0., 0., 0., 0., 0., 0., 0., 0., 0., 0., 0., 0., 0.,\n",
              "       0., 0., 0., 0., 0., 0., 0., 0., 0., 0., 0., 0., 0., 0., 0., 0., 0.,\n",
              "       0., 0., 0., 0., 0., 0., 0., 0., 0., 0., 0., 0., 0., 0., 0., 0., 0.,\n",
              "       0., 0., 0., 0., 0., 0., 0., 0., 0., 0., 0., 0., 0., 0., 0., 0., 0.,\n",
              "       0., 0., 0., 0., 0., 0., 0., 0., 0., 0., 0., 0., 0., 0., 0., 0., 0.,\n",
              "       0., 0., 0., 0., 0., 0., 0., 0., 0., 0., 0., 0., 0., 0., 0., 0., 0.,\n",
              "       0., 0., 0., 0., 0., 0., 0., 0., 0., 0., 0., 0., 0., 0., 0., 0., 0.,\n",
              "       0., 0., 0., 0., 0., 0., 0., 0., 0., 0., 0., 0., 0., 0., 0., 0., 0.,\n",
              "       0., 0., 0., 0., 0., 0., 0., 0., 0., 0., 0., 0., 0., 0., 0., 0., 0.,\n",
              "       0., 0., 0., 0., 0., 0., 0., 0., 0., 0., 0., 0., 0., 0., 0., 0., 0.,\n",
              "       0., 0., 0., 0., 0., 0., 0., 0., 0., 0., 0., 0., 0., 0., 0., 0., 0.,\n",
              "       0., 0., 0., 0., 0., 0., 0., 0., 0., 0., 0., 0., 0., 0., 0., 0., 0.,\n",
              "       0., 0., 0., 0., 0., 0., 0., 0., 0., 0., 0., 0., 0., 0., 0., 0., 0.,\n",
              "       0., 0., 0., 0., 0., 0., 0., 0., 0., 0., 0.], dtype=float32)"
            ]
          },
          "metadata": {},
          "execution_count": 15
        }
      ]
    },
    {
      "cell_type": "code",
      "metadata": {
        "id": "5XEWPsdF9lu4",
        "colab": {
          "base_uri": "https://localhost:8080/"
        },
        "outputId": "ee5c5cd3-3590-4df5-dcb3-15686e72da7b"
      },
      "source": [
        "biases.shape"
      ],
      "execution_count": null,
      "outputs": [
        {
          "output_type": "execute_result",
          "data": {
            "text/plain": [
              "(300,)"
            ]
          },
          "metadata": {},
          "execution_count": 16
        }
      ]
    },
    {
      "cell_type": "code",
      "metadata": {
        "id": "u9kxJ0ua9lu4"
      },
      "source": [
        "model.compile(loss=\"sparse_categorical_crossentropy\",\n",
        "              optimizer=\"sgd\",\n",
        "              metrics=[\"accuracy\"])"
      ],
      "execution_count": null,
      "outputs": []
    },
    {
      "cell_type": "code",
      "metadata": {
        "id": "O79iagZ39lu5",
        "colab": {
          "base_uri": "https://localhost:8080/"
        },
        "outputId": "7a10889e-91fc-4271-8f0b-1e5553f176dc"
      },
      "source": [
        "history = model.fit(X_train, y_train, epochs=30,\n",
        "                    validation_data=(X_valid, y_valid))"
      ],
      "execution_count": null,
      "outputs": [
        {
          "output_type": "stream",
          "name": "stdout",
          "text": [
            "Epoch 1/30\n",
            "1719/1719 [==============================] - 5s 3ms/step - loss: 0.7237 - accuracy: 0.7643 - val_loss: 0.5213 - val_accuracy: 0.8226\n",
            "Epoch 2/30\n",
            "1719/1719 [==============================] - 4s 3ms/step - loss: 0.4842 - accuracy: 0.8318 - val_loss: 0.4353 - val_accuracy: 0.8526\n",
            "Epoch 3/30\n",
            "1719/1719 [==============================] - 4s 3ms/step - loss: 0.4391 - accuracy: 0.8457 - val_loss: 0.5333 - val_accuracy: 0.7988\n",
            "Epoch 4/30\n",
            "1719/1719 [==============================] - 4s 2ms/step - loss: 0.4123 - accuracy: 0.8564 - val_loss: 0.3916 - val_accuracy: 0.8650\n",
            "Epoch 5/30\n",
            "1719/1719 [==============================] - 4s 3ms/step - loss: 0.3939 - accuracy: 0.8616 - val_loss: 0.3741 - val_accuracy: 0.8698\n",
            "Epoch 6/30\n",
            "1719/1719 [==============================] - 4s 3ms/step - loss: 0.3751 - accuracy: 0.8678 - val_loss: 0.3706 - val_accuracy: 0.8726\n",
            "Epoch 7/30\n",
            "1719/1719 [==============================] - 4s 3ms/step - loss: 0.3630 - accuracy: 0.8715 - val_loss: 0.3621 - val_accuracy: 0.8726\n",
            "Epoch 8/30\n",
            "1719/1719 [==============================] - 4s 3ms/step - loss: 0.3515 - accuracy: 0.8752 - val_loss: 0.3855 - val_accuracy: 0.8626\n",
            "Epoch 9/30\n",
            "1719/1719 [==============================] - 5s 3ms/step - loss: 0.3413 - accuracy: 0.8792 - val_loss: 0.3575 - val_accuracy: 0.8718\n",
            "Epoch 10/30\n",
            "1719/1719 [==============================] - 4s 3ms/step - loss: 0.3318 - accuracy: 0.8822 - val_loss: 0.3423 - val_accuracy: 0.8774\n",
            "Epoch 11/30\n",
            "1719/1719 [==============================] - 5s 3ms/step - loss: 0.3238 - accuracy: 0.8838 - val_loss: 0.3449 - val_accuracy: 0.8776\n",
            "Epoch 12/30\n",
            "1719/1719 [==============================] - 4s 3ms/step - loss: 0.3147 - accuracy: 0.8867 - val_loss: 0.3306 - val_accuracy: 0.8808\n",
            "Epoch 13/30\n",
            "1719/1719 [==============================] - 4s 3ms/step - loss: 0.3078 - accuracy: 0.8894 - val_loss: 0.3265 - val_accuracy: 0.8880\n",
            "Epoch 14/30\n",
            "1719/1719 [==============================] - 4s 3ms/step - loss: 0.3019 - accuracy: 0.8915 - val_loss: 0.3422 - val_accuracy: 0.8774\n",
            "Epoch 15/30\n",
            "1719/1719 [==============================] - 4s 3ms/step - loss: 0.2944 - accuracy: 0.8938 - val_loss: 0.3224 - val_accuracy: 0.8858\n",
            "Epoch 16/30\n",
            "1719/1719 [==============================] - 4s 3ms/step - loss: 0.2888 - accuracy: 0.8970 - val_loss: 0.3093 - val_accuracy: 0.8902\n",
            "Epoch 17/30\n",
            "1719/1719 [==============================] - 4s 3ms/step - loss: 0.2835 - accuracy: 0.8981 - val_loss: 0.3549 - val_accuracy: 0.8734\n",
            "Epoch 18/30\n",
            "1719/1719 [==============================] - 4s 3ms/step - loss: 0.2775 - accuracy: 0.9001 - val_loss: 0.3128 - val_accuracy: 0.8900\n",
            "Epoch 19/30\n",
            "1719/1719 [==============================] - 4s 2ms/step - loss: 0.2726 - accuracy: 0.9025 - val_loss: 0.3123 - val_accuracy: 0.8912\n",
            "Epoch 20/30\n",
            "1719/1719 [==============================] - 4s 3ms/step - loss: 0.2672 - accuracy: 0.9037 - val_loss: 0.3289 - val_accuracy: 0.8808\n",
            "Epoch 21/30\n",
            "1719/1719 [==============================] - 4s 3ms/step - loss: 0.2621 - accuracy: 0.9059 - val_loss: 0.3074 - val_accuracy: 0.8920\n",
            "Epoch 22/30\n",
            "1719/1719 [==============================] - 4s 2ms/step - loss: 0.2575 - accuracy: 0.9075 - val_loss: 0.2955 - val_accuracy: 0.8972\n",
            "Epoch 23/30\n",
            "1719/1719 [==============================] - 4s 2ms/step - loss: 0.2533 - accuracy: 0.9084 - val_loss: 0.2995 - val_accuracy: 0.8938\n",
            "Epoch 24/30\n",
            "1719/1719 [==============================] - 4s 2ms/step - loss: 0.2482 - accuracy: 0.9100 - val_loss: 0.3089 - val_accuracy: 0.8878\n",
            "Epoch 25/30\n",
            "1719/1719 [==============================] - 5s 3ms/step - loss: 0.2441 - accuracy: 0.9124 - val_loss: 0.2975 - val_accuracy: 0.8950\n",
            "Epoch 26/30\n",
            "1719/1719 [==============================] - 4s 2ms/step - loss: 0.2403 - accuracy: 0.9137 - val_loss: 0.3066 - val_accuracy: 0.8910\n",
            "Epoch 27/30\n",
            "1719/1719 [==============================] - 4s 3ms/step - loss: 0.2361 - accuracy: 0.9155 - val_loss: 0.3025 - val_accuracy: 0.8958\n",
            "Epoch 28/30\n",
            "1719/1719 [==============================] - 4s 2ms/step - loss: 0.2326 - accuracy: 0.9166 - val_loss: 0.2996 - val_accuracy: 0.8946\n",
            "Epoch 29/30\n",
            "1719/1719 [==============================] - 4s 2ms/step - loss: 0.2282 - accuracy: 0.9189 - val_loss: 0.3055 - val_accuracy: 0.8906\n",
            "Epoch 30/30\n",
            "1719/1719 [==============================] - 4s 2ms/step - loss: 0.2247 - accuracy: 0.9199 - val_loss: 0.3026 - val_accuracy: 0.8928\n"
          ]
        }
      ]
    },
    {
      "cell_type": "markdown",
      "metadata": {
        "id": "YgjMQn4_Inin"
      },
      "source": [
        "Les paramètres d’entraînement : "
      ]
    },
    {
      "cell_type": "code",
      "metadata": {
        "id": "-MMNC1NF9lu5",
        "colab": {
          "base_uri": "https://localhost:8080/"
        },
        "outputId": "54395958-f64c-4bfd-a492-0f975d2d9eff"
      },
      "source": [
        "history.params"
      ],
      "execution_count": null,
      "outputs": [
        {
          "output_type": "execute_result",
          "data": {
            "text/plain": [
              "{'epochs': 30, 'steps': 1719, 'verbose': 1}"
            ]
          },
          "metadata": {},
          "execution_count": 19
        }
      ]
    },
    {
      "cell_type": "markdown",
      "metadata": {
        "id": "T_BkaeqzLSis"
      },
      "source": [
        "La liste des époques effectuées :"
      ]
    },
    {
      "cell_type": "code",
      "metadata": {
        "id": "-bbpP1369lu5",
        "colab": {
          "base_uri": "https://localhost:8080/"
        },
        "outputId": "a5c5a4f6-9c87-4b44-e28d-ec234ebf2086"
      },
      "source": [
        "print(history.epoch)"
      ],
      "execution_count": null,
      "outputs": [
        {
          "output_type": "stream",
          "name": "stdout",
          "text": [
            "[0, 1, 2, 3, 4, 5, 6, 7, 8, 9, 10, 11, 12, 13, 14, 15, 16, 17, 18, 19, 20, 21, 22, 23, 24, 25, 26, 27, 28, 29]\n"
          ]
        }
      ]
    },
    {
      "cell_type": "markdown",
      "metadata": {
        "id": "PkLg8RgKLcVO"
      },
      "source": [
        "Le dictionnaire `history.history` donne la perte et les indicateurs supplémentaires mesurés à la fin de chaque itération sur le jeu\n",
        "d’entraînement et le jeu de validation :"
      ]
    },
    {
      "cell_type": "code",
      "metadata": {
        "id": "mOM47E5G9lu6",
        "colab": {
          "base_uri": "https://localhost:8080/"
        },
        "outputId": "66568d18-cd07-4cc1-918b-168410f98423"
      },
      "source": [
        "history.history.keys()"
      ],
      "execution_count": null,
      "outputs": [
        {
          "output_type": "execute_result",
          "data": {
            "text/plain": [
              "dict_keys(['loss', 'accuracy', 'val_loss', 'val_accuracy'])"
            ]
          },
          "metadata": {},
          "execution_count": 21
        }
      ]
    },
    {
      "cell_type": "markdown",
      "metadata": {
        "id": "oropkXdRLuXJ"
      },
      "source": [
        "En utilisant ce dictionnaire pour créer un `DataFrame` pandas et en invoquant sa méthode `plot()`, nous obtenons les courbes d’apprentissage :"
      ]
    },
    {
      "cell_type": "code",
      "metadata": {
        "id": "LeCvXuRm9lu6",
        "colab": {
          "base_uri": "https://localhost:8080/",
          "height": 386
        },
        "outputId": "b99e900c-e29c-4c33-f2ef-7f1f718cd075"
      },
      "source": [
        "import pandas as pd\n",
        "\n",
        "pd.DataFrame(history.history).plot(figsize=(8, 5))\n",
        "plt.grid(True)\n",
        "plt.gca().set_ylim(0, 1)\n",
        "save_fig(\"keras_learning_curves_plot\")\n",
        "plt.show()"
      ],
      "execution_count": null,
      "outputs": [
        {
          "output_type": "stream",
          "name": "stdout",
          "text": [
            "Saving figure keras_learning_curves_plot\n"
          ]
        },
        {
          "output_type": "display_data",
          "data": {
            "image/png": "[encoded data removed]",
            "text/plain": [
              "<Figure size 576x360 with 1 Axes>"
            ]
          },
          "metadata": {
            "needs_background": "light"
          }
        }
      ]
    },
    {
      "cell_type": "markdown",
      "metadata": {
        "id": "TgT13KZkL9Mk"
      },
      "source": [
        ""
      ]
    },
    {
      "cell_type": "markdown",
      "metadata": {
        "id": "H_3ejaNTMJPs"
      },
      "source": [
        "## 5. Evaluez le modèle sur le jeu de test :"
      ]
    },
    {
      "cell_type": "code",
      "metadata": {
        "id": "GU4NurhA9lu6",
        "colab": {
          "base_uri": "https://localhost:8080/"
        },
        "outputId": "ea42d7f7-81b2-4d87-d2bf-92c071f73cdb"
      },
      "source": [
        ""
      ],
      "execution_count": null,
      "outputs": [
        {
          "output_type": "stream",
          "name": "stdout",
          "text": [
            "313/313 [==============================] - 0s 1ms/step - loss: 0.3366 - accuracy: 0.8820\n"
          ]
        },
        {
          "output_type": "execute_result",
          "data": {
            "text/plain": [
              "[0.3366333842277527, 0.8820000290870667]"
            ]
          },
          "metadata": {},
          "execution_count": 23
        }
      ]
    },
    {
      "cell_type": "markdown",
      "metadata": {
        "id": "ORvI2KJxMd9g"
      },
      "source": [
        "## 6.Effectuez des prédictions sur les trois premières du jeu de test :"
      ]
    },
    {
      "cell_type": "code",
      "metadata": {
        "id": "aqrbiXlF9lu7",
        "colab": {
          "base_uri": "https://localhost:8080/"
        },
        "outputId": "f43f0da7-7489-4e7d-8506-34c6cf9fad09"
      },
      "source": [
        "\n",
        "\n"
      ],
      "execution_count": null,
      "outputs": [
        {
          "output_type": "execute_result",
          "data": {
            "text/plain": [
              "array([[0.  , 0.  , 0.  , 0.  , 0.  , 0.01, 0.  , 0.03, 0.  , 0.96],\n",
              "       [0.  , 0.  , 0.99, 0.  , 0.01, 0.  , 0.  , 0.  , 0.  , 0.  ],\n",
              "       [0.  , 1.  , 0.  , 0.  , 0.  , 0.  , 0.  , 0.  , 0.  , 0.  ]],\n",
              "      dtype=float32)"
            ]
          },
          "metadata": {},
          "execution_count": 24
        }
      ]
    },
    {
      "cell_type": "markdown",
      "metadata": {
        "id": "KQI9zqJL9lu-"
      },
      "source": [
        "# Functional API"
      ]
    },
    {
      "cell_type": "markdown",
      "metadata": {
        "id": "V1SUaOmW9lu8"
      },
      "source": [
        "Commençons par charger et préparer le dataset California Housing :"
      ]
    },
    {
      "cell_type": "code",
      "metadata": {
        "id": "TFFmQ-OJ9lu8"
      },
      "source": [
        "from sklearn.datasets import fetch_california_housing\n",
        "from sklearn.model_selection import train_test_split\n",
        "from sklearn.preprocessing import StandardScaler\n",
        "\n",
        "housing = fetch_california_housing()\n",
        "\n",
        "X_train_full, X_test, y_train_full, y_test = train_test_split(housing.data, housing.target, random_state=42)\n",
        "X_train, X_valid, y_train, y_valid = train_test_split(X_train_full, y_train_full, random_state=42)\n",
        "\n",
        "scaler = StandardScaler()\n",
        "X_train = scaler.fit_transform(X_train)\n",
        "X_valid = scaler.transform(X_valid)\n",
        "X_test = scaler.transform(X_test)\n",
        "X_new = X_test[:3]"
      ],
      "execution_count": null,
      "outputs": []
    },
    {
      "cell_type": "markdown",
      "metadata": {
        "id": "AgjLZKrB9lu-"
      },
      "source": [
        "## 1. Construisez le réseau de neurones suivant :\n",
        "\n",
        "![image.png](data:image/png;base64,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)"
      ]
    },
    {
      "cell_type": "code",
      "metadata": {
        "id": "I4RWLMPx9lu-"
      },
      "source": [
        "np.random.seed(42)\n",
        "tf.random.set_seed(42)"
      ],
      "execution_count": null,
      "outputs": []
    },
    {
      "cell_type": "code",
      "metadata": {
        "id": "O5cxbn2V9lu-"
      },
      "source": [
        "input_ = keras.layers.Input(shape=X_train.shape[1:])\n",
        "hidden1 = keras.layers.Dense(30, activation=\"relu\")(input_)\n",
        "hidden2 = keras.layers.Dense(30, activation=\"relu\")(hidden1)\n",
        "concat = keras.layers.concatenate([input_, hidden2])\n",
        "output = keras.layers.Dense(1)(concat)\n",
        "model = keras.models.Model(inputs=[input_], outputs=[output])"
      ],
      "execution_count": null,
      "outputs": []
    },
    {
      "cell_type": "code",
      "metadata": {
        "id": "lmPRz7Y79lu-",
        "colab": {
          "base_uri": "https://localhost:8080/"
        },
        "outputId": "69bb9e16-9495-4015-916c-11b68cbd1616"
      },
      "source": [
        "model.summary()"
      ],
      "execution_count": null,
      "outputs": [
        {
          "output_type": "stream",
          "name": "stdout",
          "text": [
            "Model: \"model\"\n",
            "__________________________________________________________________________________________________\n",
            " Layer (type)                   Output Shape         Param #     Connected to                     \n",
            "==================================================================================================\n",
            " input_1 (InputLayer)           [(None, 8)]          0           []                               \n",
            "                                                                                                  \n",
            " dense_3 (Dense)                (None, 30)           270         ['input_1[0][0]']                \n",
            "                                                                                                  \n",
            " dense_4 (Dense)                (None, 30)           930         ['dense_3[0][0]']                \n",
            "                                                                                                  \n",
            " concatenate (Concatenate)      (None, 38)           0           ['input_1[0][0]',                \n",
            "                                                                  'dense_4[0][0]']                \n",
            "                                                                                                  \n",
            " dense_5 (Dense)                (None, 1)            39          ['concatenate[0][0]']            \n",
            "                                                                                                  \n",
            "==================================================================================================\n",
            "Total params: 1,239\n",
            "Trainable params: 1,239\n",
            "Non-trainable params: 0\n",
            "__________________________________________________________________________________________________\n"
          ]
        }
      ]
    },
    {
      "cell_type": "code",
      "metadata": {
        "id": "M1gTKhCt9lu_",
        "colab": {
          "base_uri": "https://localhost:8080/"
        },
        "outputId": "53260ef8-81ff-43d1-c105-5f52685655a7"
      },
      "source": [
        "model.compile(loss=\"mean_squared_error\", optimizer=keras.optimizers.SGD(learning_rate=1e-3))\n",
        "history = model.fit(X_train, y_train, epochs=20,\n",
        "                    validation_data=(X_valid, y_valid))\n",
        "mse_test = model.evaluate(X_test, y_test)\n",
        "y_pred = model.predict(X_new)"
      ],
      "execution_count": null,
      "outputs": [
        {
          "output_type": "stream",
          "name": "stdout",
          "text": [
            "Epoch 1/20\n",
            "363/363 [==============================] - 1s 1ms/step - loss: 1.2611 - val_loss: 3.3940\n",
            "Epoch 2/20\n",
            "363/363 [==============================] - 1s 1ms/step - loss: 0.6580 - val_loss: 0.9360\n",
            "Epoch 3/20\n",
            "363/363 [==============================] - 0s 1ms/step - loss: 0.5878 - val_loss: 0.5649\n",
            "Epoch 4/20\n",
            "363/363 [==============================] - 1s 1ms/step - loss: 0.5582 - val_loss: 0.5712\n",
            "Epoch 5/20\n",
            "363/363 [==============================] - 1s 1ms/step - loss: 0.5347 - val_loss: 0.5045\n",
            "Epoch 6/20\n",
            "363/363 [==============================] - 0s 1ms/step - loss: 0.5158 - val_loss: 0.4831\n",
            "Epoch 7/20\n",
            "363/363 [==============================] - 0s 1ms/step - loss: 0.5002 - val_loss: 0.4639\n",
            "Epoch 8/20\n",
            "363/363 [==============================] - 0s 1ms/step - loss: 0.4876 - val_loss: 0.4638\n",
            "Epoch 9/20\n",
            "363/363 [==============================] - 0s 1ms/step - loss: 0.4760 - val_loss: 0.4421\n",
            "Epoch 10/20\n",
            "363/363 [==============================] - 1s 1ms/step - loss: 0.4659 - val_loss: 0.4313\n",
            "Epoch 11/20\n",
            "363/363 [==============================] - 0s 1ms/step - loss: 0.4577 - val_loss: 0.4345\n",
            "Epoch 12/20\n",
            "363/363 [==============================] - 0s 1ms/step - loss: 0.4498 - val_loss: 0.4168\n",
            "Epoch 13/20\n",
            "363/363 [==============================] - 0s 1ms/step - loss: 0.4428 - val_loss: 0.4230\n",
            "Epoch 14/20\n",
            "363/363 [==============================] - 0s 1ms/step - loss: 0.4366 - val_loss: 0.4047\n",
            "Epoch 15/20\n",
            "363/363 [==============================] - 0s 1ms/step - loss: 0.4307 - val_loss: 0.4078\n",
            "Epoch 16/20\n",
            "363/363 [==============================] - 1s 1ms/step - loss: 0.4257 - val_loss: 0.3938\n",
            "Epoch 17/20\n",
            "363/363 [==============================] - 1s 1ms/step - loss: 0.4210 - val_loss: 0.3952\n",
            "Epoch 18/20\n",
            "363/363 [==============================] - 0s 1ms/step - loss: 0.4167 - val_loss: 0.3860\n",
            "Epoch 19/20\n",
            "363/363 [==============================] - 0s 1ms/step - loss: 0.4121 - val_loss: 0.3827\n",
            "Epoch 20/20\n",
            "363/363 [==============================] - 0s 1ms/step - loss: 0.4088 - val_loss: 0.4054\n",
            "162/162 [==============================] - 0s 812us/step - loss: 0.4032\n"
          ]
        }
      ]
    },
    {
      "cell_type": "markdown",
      "metadata": {
        "id": "PnUGcfRhcZfw"
      },
      "source": [
        "Nous souhaittons faire passer un sous-ensemble des features de l'entrée par le chemin large et un sous-ensemble différent par le chemin profond. Pour cela noua allons utiliser des entrées multiples."
      ]
    },
    {
      "cell_type": "markdown",
      "metadata": {
        "id": "W0DP6-J-bOTm"
      },
      "source": [
        "## 2. Construisez le modèle illustré sur la figure suivante en envoyant cinq features (0 à 4) sur le chemin large (Input A)  et six features (2 à 7) sur le chemin profond (Input B) :"
      ]
    },
    {
      "cell_type": "markdown",
      "metadata": {
        "id": "1KE1iw9tcwMn"
      },
      "source": [
        "![image.png](data:image/png;base64,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)"
      ]
    },
    {
      "cell_type": "code",
      "metadata": {
        "id": "wlFe2FvY9lu_"
      },
      "source": [
        "np.random.seed(42)\n",
        "tf.random.set_seed(42)"
      ],
      "execution_count": null,
      "outputs": []
    },
    {
      "cell_type": "code",
      "metadata": {
        "id": "KHRfidWs9lu_"
      },
      "source": [
        "input_A = \n",
        "input_B = \n",
        "hidden1 = \n",
        "hidden2 = \n",
        "concat = \n",
        "output = \n",
        "model = "
      ],
      "execution_count": null,
      "outputs": []
    },
    {
      "cell_type": "code",
      "metadata": {
        "id": "f2B-WUMA9lu_",
        "colab": {
          "base_uri": "https://localhost:8080/"
        },
        "outputId": "3fc46576-d928-42a0-f82b-739e994d8f78"
      },
      "source": [
        "model.compile(loss=\"mse\", optimizer=keras.optimizers.SGD(learning_rate=1e-3))\n",
        "\n",
        "X_train_A, X_train_B = \n",
        "X_valid_A, X_valid_B =\n",
        "X_test_A, X_test_B = \n",
        "X_new_A, X_new_B = \n",
        "\n",
        "history = model.fit((X_train_A, X_train_B), y_train, epochs=20,\n",
        "                    validation_data=((X_valid_A, X_valid_B), y_valid))\n",
        "mse_test = model.evaluate((X_test_A, X_test_B), y_test)\n",
        "y_pred = model.predict((X_new_A, X_new_B))"
      ],
      "execution_count": null,
      "outputs": [
        {
          "output_type": "stream",
          "name": "stdout",
          "text": [
            "Epoch 1/20\n",
            "363/363 [==============================] - 1s 2ms/step - loss: 1.8145 - val_loss: 0.8072\n",
            "Epoch 2/20\n",
            "363/363 [==============================] - 1s 1ms/step - loss: 0.6771 - val_loss: 0.6658\n",
            "Epoch 3/20\n",
            "363/363 [==============================] - 0s 1ms/step - loss: 0.5979 - val_loss: 0.5687\n",
            "Epoch 4/20\n",
            "363/363 [==============================] - 0s 1ms/step - loss: 0.5584 - val_loss: 0.5296\n",
            "Epoch 5/20\n",
            "363/363 [==============================] - 1s 1ms/step - loss: 0.5334 - val_loss: 0.4993\n",
            "Epoch 6/20\n",
            "363/363 [==============================] - 0s 1ms/step - loss: 0.5120 - val_loss: 0.4811\n",
            "Epoch 7/20\n",
            "363/363 [==============================] - 1s 1ms/step - loss: 0.4970 - val_loss: 0.4696\n",
            "Epoch 8/20\n",
            "363/363 [==============================] - 1s 1ms/step - loss: 0.4843 - val_loss: 0.4496\n",
            "Epoch 9/20\n",
            "363/363 [==============================] - 0s 1ms/step - loss: 0.4730 - val_loss: 0.4404\n",
            "Epoch 10/20\n",
            "363/363 [==============================] - 0s 1ms/step - loss: 0.4644 - val_loss: 0.4315\n",
            "Epoch 11/20\n",
            "363/363 [==============================] - 0s 1ms/step - loss: 0.4570 - val_loss: 0.4268\n",
            "Epoch 12/20\n",
            "363/363 [==============================] - 0s 1ms/step - loss: 0.4510 - val_loss: 0.4166\n",
            "Epoch 13/20\n",
            "363/363 [==============================] - 1s 1ms/step - loss: 0.4462 - val_loss: 0.4125\n",
            "Epoch 14/20\n",
            "363/363 [==============================] - 0s 1ms/step - loss: 0.4421 - val_loss: 0.4074\n",
            "Epoch 15/20\n",
            "363/363 [==============================] - 0s 1ms/step - loss: 0.4385 - val_loss: 0.4044\n",
            "Epoch 16/20\n",
            "363/363 [==============================] - 1s 1ms/step - loss: 0.4356 - val_loss: 0.4007\n",
            "Epoch 17/20\n",
            "363/363 [==============================] - 1s 1ms/step - loss: 0.4322 - val_loss: 0.4013\n",
            "Epoch 18/20\n",
            "363/363 [==============================] - 1s 1ms/step - loss: 0.4305 - val_loss: 0.3987\n",
            "Epoch 19/20\n",
            "363/363 [==============================] - 1s 1ms/step - loss: 0.4274 - val_loss: 0.3934\n",
            "Epoch 20/20\n",
            "363/363 [==============================] - 0s 1ms/step - loss: 0.4261 - val_loss: 0.4204\n",
            "162/162 [==============================] - 0s 893us/step - loss: 0.4219\n"
          ]
        }
      ]
    },
    {
      "cell_type": "markdown",
      "metadata": {
        "id": "2z1aszmrdHj-"
      },
      "source": [
        "## 3. Ajoutez une sortie supplémentaire  tel qu'indiqué à la figure suivante:"
      ]
    },
    {
      "cell_type": "markdown",
      "metadata": {
        "id": "_ha1PhbVc_iS"
      },
      "source": [
        "![image.png](data:image/png;base64,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)"
      ]
    },
    {
      "cell_type": "code",
      "metadata": {
        "id": "-jm4EVFM9lvA"
      },
      "source": [
        "np.random.seed(42)\n",
        "tf.random.set_seed(42)"
      ],
      "execution_count": null,
      "outputs": []
    },
    {
      "cell_type": "code",
      "metadata": {
        "id": "uOdOYLRs9lvA"
      },
      "source": [
        "input_A = \n",
        "input_B = \n",
        "hidden1 = \n",
        "hidden2 = \n",
        "concat = \n",
        "output = \n",
        "aux_output = \n",
        "model = keras.models.Model(\n",
        "                                                    )"
      ],
      "execution_count": null,
      "outputs": []
    },
    {
      "cell_type": "code",
      "metadata": {
        "id": "T8ULIEtt9lvB"
      },
      "source": [
        "model.compile(loss=[\"mse\", \"mse\"], loss_weights=[0.9, 0.1], optimizer=keras.optimizers.SGD(learning_rate=1e-3))"
      ],
      "execution_count": null,
      "outputs": []
    },
    {
      "cell_type": "code",
      "metadata": {
        "id": "NZslmT729lvB",
        "colab": {
          "base_uri": "https://localhost:8080/"
        },
        "outputId": "c60220f2-bb91-42be-bb1f-b3caae4f4b41"
      },
      "source": [
        "history = model.fit([X_train_A, X_train_B], [y_train, y_train], epochs=20,\n",
        "                    validation_data=([X_valid_A, X_valid_B], [y_valid, y_valid]))"
      ],
      "execution_count": null,
      "outputs": [
        {
          "output_type": "stream",
          "name": "stdout",
          "text": [
            "Epoch 1/20\n",
            "363/363 [==============================] - 1s 2ms/step - loss: 2.1365 - main_output_loss: 1.9196 - aux_output_loss: 4.0890 - val_loss: 1.6233 - val_main_output_loss: 0.8468 - val_aux_output_loss: 8.6117\n",
            "Epoch 2/20\n",
            "363/363 [==============================] - 1s 1ms/step - loss: 0.8905 - main_output_loss: 0.6969 - aux_output_loss: 2.6326 - val_loss: 1.5163 - val_main_output_loss: 0.6836 - val_aux_output_loss: 9.0109\n",
            "Epoch 3/20\n",
            "363/363 [==============================] - 1s 2ms/step - loss: 0.7429 - main_output_loss: 0.6088 - aux_output_loss: 1.9499 - val_loss: 1.4639 - val_main_output_loss: 0.6229 - val_aux_output_loss: 9.0326\n",
            "Epoch 4/20\n",
            "363/363 [==============================] - 1s 2ms/step - loss: 0.6771 - main_output_loss: 0.5691 - aux_output_loss: 1.6485 - val_loss: 1.3388 - val_main_output_loss: 0.5481 - val_aux_output_loss: 8.4552\n",
            "Epoch 5/20\n",
            "363/363 [==============================] - 1s 1ms/step - loss: 0.6381 - main_output_loss: 0.5434 - aux_output_loss: 1.4911 - val_loss: 1.2177 - val_main_output_loss: 0.5194 - val_aux_output_loss: 7.5030\n",
            "Epoch 6/20\n",
            "363/363 [==============================] - 1s 2ms/step - loss: 0.6079 - main_output_loss: 0.5207 - aux_output_loss: 1.3923 - val_loss: 1.0935 - val_main_output_loss: 0.5106 - val_aux_output_loss: 6.3396\n",
            "Epoch 7/20\n",
            "363/363 [==============================] - 1s 1ms/step - loss: 0.5853 - main_output_loss: 0.5040 - aux_output_loss: 1.3175 - val_loss: 0.9918 - val_main_output_loss: 0.5115 - val_aux_output_loss: 5.3151\n",
            "Epoch 8/20\n",
            "363/363 [==============================] - 1s 1ms/step - loss: 0.5666 - main_output_loss: 0.4898 - aux_output_loss: 1.2572 - val_loss: 0.8733 - val_main_output_loss: 0.4733 - val_aux_output_loss: 4.4740\n",
            "Epoch 9/20\n",
            "363/363 [==============================] - 1s 1ms/step - loss: 0.5504 - main_output_loss: 0.4771 - aux_output_loss: 1.2101 - val_loss: 0.7832 - val_main_output_loss: 0.4555 - val_aux_output_loss: 3.7323\n",
            "Epoch 10/20\n",
            "363/363 [==============================] - 1s 2ms/step - loss: 0.5373 - main_output_loss: 0.4671 - aux_output_loss: 1.1695 - val_loss: 0.7170 - val_main_output_loss: 0.4604 - val_aux_output_loss: 3.0262\n",
            "Epoch 11/20\n",
            "363/363 [==============================] - 1s 2ms/step - loss: 0.5266 - main_output_loss: 0.4591 - aux_output_loss: 1.1344 - val_loss: 0.6510 - val_main_output_loss: 0.4293 - val_aux_output_loss: 2.6468\n",
            "Epoch 12/20\n",
            "363/363 [==============================] - 1s 1ms/step - loss: 0.5173 - main_output_loss: 0.4520 - aux_output_loss: 1.1048 - val_loss: 0.6051 - val_main_output_loss: 0.4310 - val_aux_output_loss: 2.1722\n",
            "Epoch 13/20\n",
            "363/363 [==============================] - 1s 1ms/step - loss: 0.5095 - main_output_loss: 0.4465 - aux_output_loss: 1.0765 - val_loss: 0.5644 - val_main_output_loss: 0.4161 - val_aux_output_loss: 1.8992\n",
            "Epoch 14/20\n",
            "363/363 [==============================] - 1s 2ms/step - loss: 0.5027 - main_output_loss: 0.4417 - aux_output_loss: 1.0511 - val_loss: 0.5354 - val_main_output_loss: 0.4119 - val_aux_output_loss: 1.6466\n",
            "Epoch 15/20\n",
            "363/363 [==============================] - 1s 1ms/step - loss: 0.4967 - main_output_loss: 0.4376 - aux_output_loss: 1.0280 - val_loss: 0.5124 - val_main_output_loss: 0.4047 - val_aux_output_loss: 1.4812\n",
            "Epoch 16/20\n",
            "363/363 [==============================] - 1s 2ms/step - loss: 0.4916 - main_output_loss: 0.4343 - aux_output_loss: 1.0070 - val_loss: 0.4934 - val_main_output_loss: 0.4034 - val_aux_output_loss: 1.3035\n",
            "Epoch 17/20\n",
            "363/363 [==============================] - 1s 2ms/step - loss: 0.4867 - main_output_loss: 0.4311 - aux_output_loss: 0.9872 - val_loss: 0.4801 - val_main_output_loss: 0.3984 - val_aux_output_loss: 1.2150\n",
            "Epoch 18/20\n",
            "363/363 [==============================] - 1s 2ms/step - loss: 0.4829 - main_output_loss: 0.4289 - aux_output_loss: 0.9686 - val_loss: 0.4694 - val_main_output_loss: 0.3962 - val_aux_output_loss: 1.1279\n",
            "Epoch 19/20\n",
            "363/363 [==============================] - 1s 2ms/step - loss: 0.4785 - main_output_loss: 0.4260 - aux_output_loss: 0.9510 - val_loss: 0.4580 - val_main_output_loss: 0.3936 - val_aux_output_loss: 1.0372\n",
            "Epoch 20/20\n",
            "363/363 [==============================] - 1s 1ms/step - loss: 0.4756 - main_output_loss: 0.4246 - aux_output_loss: 0.9344 - val_loss: 0.4655 - val_main_output_loss: 0.4048 - val_aux_output_loss: 1.0118\n"
          ]
        }
      ]
    },
    {
      "cell_type": "code",
      "metadata": {
        "id": "fLYsbfx09lvB",
        "colab": {
          "base_uri": "https://localhost:8080/"
        },
        "outputId": "c03616b1-fbdb-48ca-d7e0-eaa5b9cb5a72"
      },
      "source": [
        "total_loss, main_loss, aux_loss = model.evaluate(\n",
        "    [X_test_A, X_test_B], [y_test, y_test])\n",
        "y_pred_main, y_pred_aux = model.predict([X_new_A, X_new_B])"
      ],
      "execution_count": null,
      "outputs": [
        {
          "output_type": "stream",
          "name": "stdout",
          "text": [
            "162/162 [==============================] - 0s 982us/step - loss: 0.4668 - main_output_loss: 0.4178 - aux_output_loss: 0.9082\n"
          ]
        }
      ]
    },
    {
      "cell_type": "markdown",
      "metadata": {
        "id": "R2l_S5ia9lvC"
      },
      "source": [
        "# Subclassing API"
      ]
    },
    {
      "cell_type": "markdown",
      "metadata": {
        "id": "HmWxk5Z9dox0"
      },
      "source": [
        "## 4. Créez une sous-classe de la classe Model qui donne le modèle équivalent au modèle de la figure précédente. Pour cela, créez les couches requises dans le constructeur et utiliser les ensuite dans la méthode `call()` pour effectuer les calculs nécessaires :"
      ]
    },
    {
      "cell_type": "code",
      "metadata": {
        "id": "wOCAk7QY9lvD"
      },
      "source": [
        "class WideAndDeepModel(keras.models.Model):\n",
        "    def __init__(self, units=30, activation=\"relu\", **kwargs):\n",
        "        super().__init__(**kwargs)\n",
        "        self.hidden1 = \n",
        "        self.hidden2 = \n",
        "        self.main_output = \n",
        "        self.aux_output = \n",
        "        \n",
        "    def call(self, inputs):\n",
        "        input_A, input_B = \n",
        "        hidden1 = \n",
        "        hidden2 = \n",
        "        concat = \n",
        "        main_output = \n",
        "        aux_output = )\n",
        "        return         ,      \n",
        "\n",
        "model = WideAndDeepModel(30, activation=\"relu\")"
      ],
      "execution_count": null,
      "outputs": []
    },
    {
      "cell_type": "code",
      "metadata": {
        "id": "MnaVME0J9lvD",
        "colab": {
          "base_uri": "https://localhost:8080/"
        },
        "outputId": "0db6effe-7534-4378-ed7a-b003dd60a961"
      },
      "source": [
        "model.compile(loss=\"mse\", loss_weights=[0.9, 0.1], optimizer=keras.optimizers.SGD(learning_rate=1e-3))\n",
        "history = model.fit((X_train_A, X_train_B), (y_train, y_train), epochs=10,\n",
        "                    validation_data=((X_valid_A, X_valid_B), (y_valid, y_valid)))\n",
        "total_loss, main_loss, aux_loss = model.evaluate((X_test_A, X_test_B), (y_test, y_test))\n",
        "y_pred_main, y_pred_aux = model.predict((X_new_A, X_new_B))"
      ],
      "execution_count": null,
      "outputs": [
        {
          "output_type": "stream",
          "name": "stdout",
          "text": [
            "Epoch 1/10\n",
            "363/363 [==============================] - 1s 2ms/step - loss: 2.3298 - output_1_loss: 2.2186 - output_2_loss: 3.3304 - val_loss: 2.1435 - val_output_1_loss: 1.1581 - val_output_2_loss: 11.0117\n",
            "Epoch 2/10\n",
            "363/363 [==============================] - 1s 1ms/step - loss: 0.9714 - output_1_loss: 0.8543 - output_2_loss: 2.0252 - val_loss: 1.7567 - val_output_1_loss: 0.8205 - val_output_2_loss: 10.1825\n",
            "Epoch 3/10\n",
            "363/363 [==============================] - 1s 1ms/step - loss: 0.8268 - output_1_loss: 0.7289 - output_2_loss: 1.7082 - val_loss: 1.5664 - val_output_1_loss: 0.7913 - val_output_2_loss: 8.5419\n",
            "Epoch 4/10\n",
            "363/363 [==============================] - 1s 2ms/step - loss: 0.7636 - output_1_loss: 0.6764 - output_2_loss: 1.5477 - val_loss: 1.3088 - val_output_1_loss: 0.6549 - val_output_2_loss: 7.1933\n",
            "Epoch 5/10\n",
            "363/363 [==============================] - 0s 1ms/step - loss: 0.7211 - output_1_loss: 0.6402 - output_2_loss: 1.4489 - val_loss: 1.1357 - val_output_1_loss: 0.5964 - val_output_2_loss: 5.9898\n",
            "Epoch 6/10\n",
            "363/363 [==============================] - 1s 2ms/step - loss: 0.6895 - output_1_loss: 0.6124 - output_2_loss: 1.3833 - val_loss: 1.0036 - val_output_1_loss: 0.5937 - val_output_2_loss: 4.6933\n",
            "Epoch 7/10\n",
            "363/363 [==============================] - 1s 2ms/step - loss: 0.6632 - output_1_loss: 0.5894 - output_2_loss: 1.3274 - val_loss: 0.8904 - val_output_1_loss: 0.5591 - val_output_2_loss: 3.8714\n",
            "Epoch 8/10\n",
            "363/363 [==============================] - 1s 2ms/step - loss: 0.6410 - output_1_loss: 0.5701 - output_2_loss: 1.2796 - val_loss: 0.8009 - val_output_1_loss: 0.5243 - val_output_2_loss: 3.2903\n",
            "Epoch 9/10\n",
            "363/363 [==============================] - 1s 1ms/step - loss: 0.6204 - output_1_loss: 0.5514 - output_2_loss: 1.2416 - val_loss: 0.7357 - val_output_1_loss: 0.5144 - val_output_2_loss: 2.7275\n",
            "Epoch 10/10\n",
            "363/363 [==============================] - 1s 2ms/step - loss: 0.6024 - output_1_loss: 0.5355 - output_2_loss: 1.2043 - val_loss: 0.6849 - val_output_1_loss: 0.5014 - val_output_2_loss: 2.3370\n",
            "162/162 [==============================] - 0s 931us/step - loss: 0.5841 - output_1_loss: 0.5188 - output_2_loss: 1.1722\n",
            "WARNING:tensorflow:5 out of the last 5 calls to <function Model.make_predict_function.<locals>.predict_function at 0x7f9b06e9a440> triggered tf.function retracing. Tracing is expensive and the excessive number of tracings could be due to (1) creating @tf.function repeatedly in a loop, (2) passing tensors with different shapes, (3) passing Python objects instead of tensors. For (1), please define your @tf.function outside of the loop. For (2), @tf.function has experimental_relax_shapes=True option that relaxes argument shapes that can avoid unnecessary retracing. For (3), please refer to https://www.tensorflow.org/guide/function#controlling_retracing and https://www.tensorflow.org/api_docs/python/tf/function for  more details.\n"
          ]
        }
      ]
    },
    {
      "cell_type": "code",
      "metadata": {
        "id": "YaHZMr53rgst"
      },
      "source": [
        "np.random.seed(42)\n",
        "tf.random.set_seed(42)"
      ],
      "execution_count": null,
      "outputs": []
    },
    {
      "cell_type": "code",
      "metadata": {
        "id": "0lEngHHorm1E"
      },
      "source": [
        "model = keras.models.Sequential([\n",
        "    keras.layers.Dense(30, activation=\"relu\", input_shape=[8]),\n",
        "    keras.layers.Dense(30, activation=\"relu\"),\n",
        "    keras.layers.Dense(1)\n",
        "])  "
      ],
      "execution_count": null,
      "outputs": []
    },
    {
      "cell_type": "code",
      "metadata": {
        "colab": {
          "base_uri": "https://localhost:8080/"
        },
        "id": "JNbfoxG8rpai",
        "outputId": "5fccb45f-3376-4257-ab17-941a3bb06e59"
      },
      "source": [
        "model.compile(loss=\"mse\", optimizer=keras.optimizers.SGD(learning_rate=1e-3))\n",
        "history = model.fit(X_train, y_train, epochs=10, validation_data=(X_valid, y_valid))\n",
        "mse_test = model.evaluate(X_test, y_test)"
      ],
      "execution_count": null,
      "outputs": [
        {
          "output_type": "stream",
          "name": "stdout",
          "text": [
            "Epoch 1/10\n",
            "363/363 [==============================] - 1s 2ms/step - loss: 1.8866 - val_loss: 0.7126\n",
            "Epoch 2/10\n",
            "363/363 [==============================] - 1s 1ms/step - loss: 0.6577 - val_loss: 0.6880\n",
            "Epoch 3/10\n",
            "363/363 [==============================] - 0s 1ms/step - loss: 0.5934 - val_loss: 0.5803\n",
            "Epoch 4/10\n",
            "363/363 [==============================] - 0s 1ms/step - loss: 0.5557 - val_loss: 0.5166\n",
            "Epoch 5/10\n",
            "363/363 [==============================] - 1s 1ms/step - loss: 0.5272 - val_loss: 0.4895\n",
            "Epoch 6/10\n",
            "363/363 [==============================] - 0s 1ms/step - loss: 0.5033 - val_loss: 0.4951\n",
            "Epoch 7/10\n",
            "363/363 [==============================] - 0s 1ms/step - loss: 0.4854 - val_loss: 0.4861\n",
            "Epoch 8/10\n",
            "363/363 [==============================] - 0s 1ms/step - loss: 0.4709 - val_loss: 0.4554\n",
            "Epoch 9/10\n",
            "363/363 [==============================] - 0s 1ms/step - loss: 0.4578 - val_loss: 0.4413\n",
            "Epoch 10/10\n",
            "363/363 [==============================] - 0s 1ms/step - loss: 0.4474 - val_loss: 0.4379\n",
            "162/162 [==============================] - 0s 835us/step - loss: 0.4382\n"
          ]
        }
      ]
    },
    {
      "cell_type": "markdown",
      "metadata": {
        "id": "atutAMwvgVAO"
      },
      "source": [
        "## 5. Sauvgardez le modèle :"
      ]
    },
    {
      "cell_type": "markdown",
      "metadata": {
        "id": "NK-Y8bqJrfqt"
      },
      "source": [
        "Keras utilise le format HDF5 pour sauvegarder à la fois l’architecture du modèle et les valeurs de tous les paramètres du modèle pour chaque couche "
      ]
    },
    {
      "cell_type": "code",
      "metadata": {
        "id": "W95t_1wc9lvE"
      },
      "source": [
        ""
      ],
      "execution_count": null,
      "outputs": []
    },
    {
      "cell_type": "markdown",
      "metadata": {
        "id": "ooJtS4XwgZ7Y"
      },
      "source": [
        "## 6. Chargez le modèle sauvgardé :"
      ]
    },
    {
      "cell_type": "code",
      "metadata": {
        "id": "7lkNKMAq9lvE"
      },
      "source": [
        "model = "
      ],
      "execution_count": null,
      "outputs": []
    },
    {
      "cell_type": "markdown",
      "metadata": {
        "id": "R8URHf009lvH"
      },
      "source": [
        "# Les Callbacks "
      ]
    },
    {
      "cell_type": "code",
      "metadata": {
        "id": "FlTS8k1Y9lvH"
      },
      "source": [
        "keras.backend.clear_session()\n",
        "np.random.seed(42)\n",
        "tf.random.set_seed(42)"
      ],
      "execution_count": null,
      "outputs": []
    },
    {
      "cell_type": "code",
      "metadata": {
        "id": "Cg2b15bS9lvH"
      },
      "source": [
        "model = keras.models.Sequential([\n",
        "    keras.layers.Dense(30, activation=\"relu\", input_shape=[8]),\n",
        "    keras.layers.Dense(30, activation=\"relu\"),\n",
        "    keras.layers.Dense(1)\n",
        "])    "
      ],
      "execution_count": null,
      "outputs": []
    },
    {
      "cell_type": "code",
      "metadata": {
        "id": "9P1vX9DkiqOr"
      },
      "source": [
        "model.compile(loss=\"mse\", optimizer=keras.optimizers.SGD(learning_rate=1e-3))"
      ],
      "execution_count": null,
      "outputs": []
    },
    {
      "cell_type": "markdown",
      "metadata": {
        "id": "Hjo0sXYgsGdS"
      },
      "source": [
        "## 1. Créez un callback `ModelCheckpoint` qui enregistre des points de restauration du modèle à intervalle régulier, en lui indiquant de n'enregistrer que le modèle avec les meilleurs performances :"
      ]
    },
    {
      "cell_type": "code",
      "metadata": {
        "id": "sEiz5m4NiuDg"
      },
      "source": [
        "checkpoint_cb = "
      ],
      "execution_count": null,
      "outputs": []
    },
    {
      "cell_type": "code",
      "metadata": {
        "colab": {
          "base_uri": "https://localhost:8080/"
        },
        "id": "DXupdzd5jMxT",
        "outputId": "67ecd6dc-5263-4958-f756-780dfd6ed140"
      },
      "source": [
        "history = model.fit(X_train, y_train, epochs=10,\n",
        "                    validation_data=(X_valid, y_valid),\n",
        "                                              )"
      ],
      "execution_count": null,
      "outputs": [
        {
          "output_type": "stream",
          "name": "stdout",
          "text": [
            "Epoch 1/10\n",
            "363/363 [==============================] - 1s 1ms/step - loss: 1.8866 - val_loss: 0.7126\n",
            "Epoch 2/10\n",
            "363/363 [==============================] - 0s 1ms/step - loss: 0.6577 - val_loss: 0.6880\n",
            "Epoch 3/10\n",
            "363/363 [==============================] - 0s 1ms/step - loss: 0.5934 - val_loss: 0.5803\n",
            "Epoch 4/10\n",
            "363/363 [==============================] - 0s 1ms/step - loss: 0.5557 - val_loss: 0.5166\n",
            "Epoch 5/10\n",
            "363/363 [==============================] - 0s 1ms/step - loss: 0.5272 - val_loss: 0.4895\n",
            "Epoch 6/10\n",
            "363/363 [==============================] - 0s 1ms/step - loss: 0.5033 - val_loss: 0.4951\n",
            "Epoch 7/10\n",
            "363/363 [==============================] - 0s 1ms/step - loss: 0.4854 - val_loss: 0.4861\n",
            "Epoch 8/10\n",
            "363/363 [==============================] - 0s 1ms/step - loss: 0.4709 - val_loss: 0.4554\n",
            "Epoch 9/10\n",
            "363/363 [==============================] - 1s 1ms/step - loss: 0.4578 - val_loss: 0.4413\n",
            "Epoch 10/10\n",
            "363/363 [==============================] - 1s 1ms/step - loss: 0.4474 - val_loss: 0.4379\n"
          ]
        }
      ]
    },
    {
      "cell_type": "code",
      "metadata": {
        "id": "HkrKDoKI9lvH",
        "colab": {
          "base_uri": "https://localhost:8080/"
        },
        "outputId": "e3450c83-9cc1-433c-d924-3690eace33df"
      },
      "source": [
        "\n",
        "model = keras.models.load_model(\"my_keras_model.h5\") \n",
        "mse_test = model.evaluate(X_test, y_test)"
      ],
      "execution_count": null,
      "outputs": [
        {
          "output_type": "stream",
          "name": "stdout",
          "text": [
            "162/162 [==============================] - 0s 835us/step - loss: 0.4382\n"
          ]
        }
      ]
    },
    {
      "cell_type": "code",
      "metadata": {
        "id": "fkFFMNc4j0Bj"
      },
      "source": [
        "model.compile(loss=\"mse\", optimizer=keras.optimizers.SGD(learning_rate=1e-3))"
      ],
      "execution_count": null,
      "outputs": []
    },
    {
      "cell_type": "markdown",
      "metadata": {
        "id": "unLE7mDIj5Ez"
      },
      "source": [
        "## 2. Créez un callback `EarlyStopping` qui interrompra l’entraînement lorsqu’il ne constatera plus aucun progrès sur le jeu de validation pendant 10 itérations et reviendra au meilleur modèle :"
      ]
    },
    {
      "cell_type": "code",
      "metadata": {
        "id": "J0iQ5WGlj3hH"
      },
      "source": [
        "early_stopping_cb = \n"
      ],
      "execution_count": null,
      "outputs": []
    },
    {
      "cell_type": "markdown",
      "metadata": {
        "id": "7o_ZJ62ZkrYH"
      },
      "source": [
        "## 3. Combinez les deux callbacks `ModelCheckpoint` et `EarlyStopping`  afin d’effectuer des sauvegardes intermédiaires du modèle (en cas de panne de l’ordinateur) et d’interrompre l’entraînement de façon prématurée lorsque les progrès sont absents :"
      ]
    },
    {
      "cell_type": "code",
      "metadata": {
        "id": "35Y3TjzL9lvI",
        "colab": {
          "base_uri": "https://localhost:8080/"
        },
        "outputId": "75683f70-34bd-45c5-91fb-cf60c0053ea0"
      },
      "source": [
        "\n",
        "history = model.fit(X_train, y_train, epochs=100,\n",
        "                    validation_data=(X_valid, y_valid),\n",
        "                    callbacks=                                 )\n",
        "mse_test = model.evaluate(X_test, y_test)"
      ],
      "execution_count": null,
      "outputs": [
        {
          "output_type": "stream",
          "name": "stdout",
          "text": [
            "Epoch 1/100\n",
            "363/363 [==============================] - 1s 1ms/step - loss: 0.4393 - val_loss: 0.4110\n",
            "Epoch 2/100\n",
            "363/363 [==============================] - 1s 1ms/step - loss: 0.4315 - val_loss: 0.4266\n",
            "Epoch 3/100\n",
            "363/363 [==============================] - 1s 1ms/step - loss: 0.4259 - val_loss: 0.3996\n",
            "Epoch 4/100\n",
            "363/363 [==============================] - 0s 1ms/step - loss: 0.4201 - val_loss: 0.3939\n",
            "Epoch 5/100\n",
            "363/363 [==============================] - 0s 1ms/step - loss: 0.4154 - val_loss: 0.3889\n",
            "Epoch 6/100\n",
            "363/363 [==============================] - 1s 1ms/step - loss: 0.4111 - val_loss: 0.3866\n",
            "Epoch 7/100\n",
            "363/363 [==============================] - 1s 1ms/step - loss: 0.4074 - val_loss: 0.3860\n",
            "Epoch 8/100\n",
            "363/363 [==============================] - 1s 1ms/step - loss: 0.4040 - val_loss: 0.3793\n",
            "Epoch 9/100\n",
            "363/363 [==============================] - 0s 1ms/step - loss: 0.4008 - val_loss: 0.3746\n",
            "Epoch 10/100\n",
            "363/363 [==============================] - 0s 1ms/step - loss: 0.3976 - val_loss: 0.3723\n",
            "Epoch 11/100\n",
            "363/363 [==============================] - 0s 1ms/step - loss: 0.3950 - val_loss: 0.3697\n",
            "Epoch 12/100\n",
            "363/363 [==============================] - 1s 1ms/step - loss: 0.3923 - val_loss: 0.3669\n",
            "Epoch 13/100\n",
            "363/363 [==============================] - 0s 1ms/step - loss: 0.3897 - val_loss: 0.3661\n",
            "Epoch 14/100\n",
            "363/363 [==============================] - 1s 1ms/step - loss: 0.3874 - val_loss: 0.3631\n",
            "Epoch 15/100\n",
            "363/363 [==============================] - 0s 1ms/step - loss: 0.3851 - val_loss: 0.3660\n",
            "Epoch 16/100\n",
            "363/363 [==============================] - 0s 1ms/step - loss: 0.3829 - val_loss: 0.3625\n",
            "Epoch 17/100\n",
            "363/363 [==============================] - 0s 1ms/step - loss: 0.3810 - val_loss: 0.3592\n",
            "Epoch 18/100\n",
            "363/363 [==============================] - 1s 1ms/step - loss: 0.3788 - val_loss: 0.3563\n",
            "Epoch 19/100\n",
            "363/363 [==============================] - 0s 1ms/step - loss: 0.3766 - val_loss: 0.3535\n",
            "Epoch 20/100\n",
            "363/363 [==============================] - 0s 1ms/step - loss: 0.3750 - val_loss: 0.3709\n",
            "Epoch 21/100\n",
            "363/363 [==============================] - 0s 1ms/step - loss: 0.3732 - val_loss: 0.3512\n",
            "Epoch 22/100\n",
            "363/363 [==============================] - 0s 1ms/step - loss: 0.3715 - val_loss: 0.3699\n",
            "Epoch 23/100\n",
            "363/363 [==============================] - 1s 1ms/step - loss: 0.3700 - val_loss: 0.3476\n",
            "Epoch 24/100\n",
            "363/363 [==============================] - 0s 1ms/step - loss: 0.3685 - val_loss: 0.3561\n",
            "Epoch 25/100\n",
            "363/363 [==============================] - 0s 1ms/step - loss: 0.3671 - val_loss: 0.3527\n",
            "Epoch 26/100\n",
            "363/363 [==============================] - 0s 1ms/step - loss: 0.3658 - val_loss: 0.3700\n",
            "Epoch 27/100\n",
            "363/363 [==============================] - 1s 1ms/step - loss: 0.3647 - val_loss: 0.3432\n",
            "Epoch 28/100\n",
            "363/363 [==============================] - 0s 1ms/step - loss: 0.3635 - val_loss: 0.3592\n",
            "Epoch 29/100\n",
            "363/363 [==============================] - 0s 1ms/step - loss: 0.3625 - val_loss: 0.3521\n",
            "Epoch 30/100\n",
            "363/363 [==============================] - 0s 1ms/step - loss: 0.3613 - val_loss: 0.3626\n",
            "Epoch 31/100\n",
            "363/363 [==============================] - 0s 1ms/step - loss: 0.3601 - val_loss: 0.3431\n",
            "Epoch 32/100\n",
            "363/363 [==============================] - 0s 1ms/step - loss: 0.3589 - val_loss: 0.3766\n",
            "Epoch 33/100\n",
            "363/363 [==============================] - 1s 1ms/step - loss: 0.3584 - val_loss: 0.3374\n",
            "Epoch 34/100\n",
            "363/363 [==============================] - 0s 1ms/step - loss: 0.3572 - val_loss: 0.3407\n",
            "Epoch 35/100\n",
            "363/363 [==============================] - 0s 1ms/step - loss: 0.3563 - val_loss: 0.3614\n",
            "Epoch 36/100\n",
            "363/363 [==============================] - 0s 1ms/step - loss: 0.3555 - val_loss: 0.3348\n",
            "Epoch 37/100\n",
            "363/363 [==============================] - 0s 1ms/step - loss: 0.3546 - val_loss: 0.3573\n",
            "Epoch 38/100\n",
            "363/363 [==============================] - 0s 1ms/step - loss: 0.3538 - val_loss: 0.3367\n",
            "Epoch 39/100\n",
            "363/363 [==============================] - 0s 1ms/step - loss: 0.3530 - val_loss: 0.3425\n",
            "Epoch 40/100\n",
            "363/363 [==============================] - 1s 1ms/step - loss: 0.3523 - val_loss: 0.3368\n",
            "Epoch 41/100\n",
            "363/363 [==============================] - 1s 1ms/step - loss: 0.3515 - val_loss: 0.3514\n",
            "Epoch 42/100\n",
            "363/363 [==============================] - 0s 1ms/step - loss: 0.3511 - val_loss: 0.3426\n",
            "Epoch 43/100\n",
            "363/363 [==============================] - 0s 1ms/step - loss: 0.3500 - val_loss: 0.3677\n",
            "Epoch 44/100\n",
            "363/363 [==============================] - 0s 1ms/step - loss: 0.3496 - val_loss: 0.3563\n",
            "Epoch 45/100\n",
            "363/363 [==============================] - 1s 1ms/step - loss: 0.3490 - val_loss: 0.3336\n",
            "Epoch 46/100\n",
            "363/363 [==============================] - 1s 1ms/step - loss: 0.3481 - val_loss: 0.3456\n",
            "Epoch 47/100\n",
            "363/363 [==============================] - 1s 1ms/step - loss: 0.3478 - val_loss: 0.3433\n",
            "Epoch 48/100\n",
            "363/363 [==============================] - 1s 1ms/step - loss: 0.3471 - val_loss: 0.3658\n",
            "Epoch 49/100\n",
            "363/363 [==============================] - 0s 1ms/step - loss: 0.3466 - val_loss: 0.3286\n",
            "Epoch 50/100\n",
            "363/363 [==============================] - 1s 1ms/step - loss: 0.3460 - val_loss: 0.3268\n",
            "Epoch 51/100\n",
            "363/363 [==============================] - 0s 1ms/step - loss: 0.3454 - val_loss: 0.3438\n",
            "Epoch 52/100\n",
            "363/363 [==============================] - 1s 1ms/step - loss: 0.3449 - val_loss: 0.3262\n",
            "Epoch 53/100\n",
            "363/363 [==============================] - 0s 1ms/step - loss: 0.3444 - val_loss: 0.3909\n",
            "Epoch 54/100\n",
            "363/363 [==============================] - 1s 1ms/step - loss: 0.3439 - val_loss: 0.3275\n",
            "Epoch 55/100\n",
            "363/363 [==============================] - 0s 1ms/step - loss: 0.3435 - val_loss: 0.3559\n",
            "Epoch 56/100\n",
            "363/363 [==============================] - 1s 1ms/step - loss: 0.3430 - val_loss: 0.3237\n",
            "Epoch 57/100\n",
            "363/363 [==============================] - 0s 1ms/step - loss: 0.3423 - val_loss: 0.3242\n",
            "Epoch 58/100\n",
            "363/363 [==============================] - 0s 1ms/step - loss: 0.3419 - val_loss: 0.3766\n",
            "Epoch 59/100\n",
            "363/363 [==============================] - 1s 1ms/step - loss: 0.3417 - val_loss: 0.3289\n",
            "Epoch 60/100\n",
            "363/363 [==============================] - 0s 1ms/step - loss: 0.3410 - val_loss: 0.3501\n",
            "Epoch 61/100\n",
            "363/363 [==============================] - 0s 1ms/step - loss: 0.3404 - val_loss: 0.3456\n",
            "Epoch 62/100\n",
            "363/363 [==============================] - 0s 1ms/step - loss: 0.3402 - val_loss: 0.3445\n",
            "Epoch 63/100\n",
            "363/363 [==============================] - 0s 1ms/step - loss: 0.3392 - val_loss: 0.3290\n",
            "Epoch 64/100\n",
            "363/363 [==============================] - 0s 1ms/step - loss: 0.3393 - val_loss: 0.3217\n",
            "Epoch 65/100\n",
            "363/363 [==============================] - 1s 1ms/step - loss: 0.3387 - val_loss: 0.3351\n",
            "Epoch 66/100\n",
            "363/363 [==============================] - 0s 1ms/step - loss: 0.3383 - val_loss: 0.3232\n",
            "Epoch 67/100\n",
            "363/363 [==============================] - 1s 1ms/step - loss: 0.3376 - val_loss: 0.3566\n",
            "Epoch 68/100\n",
            "363/363 [==============================] - 0s 1ms/step - loss: 0.3374 - val_loss: 0.3257\n",
            "Epoch 69/100\n",
            "363/363 [==============================] - 0s 1ms/step - loss: 0.3370 - val_loss: 0.3349\n",
            "Epoch 70/100\n",
            "363/363 [==============================] - 0s 1ms/step - loss: 0.3365 - val_loss: 0.3560\n",
            "Epoch 71/100\n",
            "363/363 [==============================] - 1s 1ms/step - loss: 0.3361 - val_loss: 0.3581\n",
            "Epoch 72/100\n",
            "363/363 [==============================] - 1s 1ms/step - loss: 0.3357 - val_loss: 0.3288\n",
            "Epoch 73/100\n",
            "363/363 [==============================] - 0s 1ms/step - loss: 0.3351 - val_loss: 0.3203\n",
            "Epoch 74/100\n",
            "363/363 [==============================] - 0s 1ms/step - loss: 0.3350 - val_loss: 0.3840\n",
            "Epoch 75/100\n",
            "363/363 [==============================] - 0s 1ms/step - loss: 0.3347 - val_loss: 0.3233\n",
            "Epoch 76/100\n",
            "363/363 [==============================] - 0s 1ms/step - loss: 0.3342 - val_loss: 0.3476\n",
            "Epoch 77/100\n",
            "363/363 [==============================] - 0s 1ms/step - loss: 0.3338 - val_loss: 0.3408\n",
            "Epoch 78/100\n",
            "363/363 [==============================] - 0s 1ms/step - loss: 0.3335 - val_loss: 0.3463\n",
            "Epoch 79/100\n",
            "363/363 [==============================] - 0s 1ms/step - loss: 0.3332 - val_loss: 0.3347\n",
            "Epoch 80/100\n",
            "363/363 [==============================] - 1s 1ms/step - loss: 0.3329 - val_loss: 0.3353\n",
            "Epoch 81/100\n",
            "363/363 [==============================] - 0s 1ms/step - loss: 0.3324 - val_loss: 0.3276\n",
            "Epoch 82/100\n",
            "363/363 [==============================] - 0s 1ms/step - loss: 0.3320 - val_loss: 0.3167\n",
            "Epoch 83/100\n",
            "363/363 [==============================] - 0s 1ms/step - loss: 0.3317 - val_loss: 0.3280\n",
            "Epoch 84/100\n",
            "363/363 [==============================] - 0s 1ms/step - loss: 0.3312 - val_loss: 0.3636\n",
            "Epoch 85/100\n",
            "363/363 [==============================] - 0s 1ms/step - loss: 0.3310 - val_loss: 0.3176\n",
            "Epoch 86/100\n",
            "363/363 [==============================] - 0s 1ms/step - loss: 0.3308 - val_loss: 0.3156\n",
            "Epoch 87/100\n",
            "363/363 [==============================] - 1s 1ms/step - loss: 0.3305 - val_loss: 0.3529\n",
            "Epoch 88/100\n",
            "363/363 [==============================] - 1s 1ms/step - loss: 0.3299 - val_loss: 0.3255\n",
            "Epoch 89/100\n",
            "363/363 [==============================] - 1s 1ms/step - loss: 0.3294 - val_loss: 0.3627\n",
            "Epoch 90/100\n",
            "363/363 [==============================] - 0s 1ms/step - loss: 0.3296 - val_loss: 0.3377\n",
            "Epoch 91/100\n",
            "363/363 [==============================] - 0s 1ms/step - loss: 0.3292 - val_loss: 0.3211\n",
            "Epoch 92/100\n",
            "363/363 [==============================] - 0s 1ms/step - loss: 0.3287 - val_loss: 0.3455\n",
            "Epoch 93/100\n",
            "363/363 [==============================] - 0s 1ms/step - loss: 0.3285 - val_loss: 0.3158\n",
            "Epoch 94/100\n",
            "363/363 [==============================] - 0s 1ms/step - loss: 0.3281 - val_loss: 0.3409\n",
            "Epoch 95/100\n",
            "363/363 [==============================] - 0s 1ms/step - loss: 0.3277 - val_loss: 0.3378\n",
            "Epoch 96/100\n",
            "363/363 [==============================] - 0s 1ms/step - loss: 0.3273 - val_loss: 0.3214\n",
            "162/162 [==============================] - 0s 802us/step - loss: 0.3310\n"
          ]
        }
      ]
    },
    {
      "cell_type": "markdown",
      "metadata": {
        "id": "rRPSyEhAlH2b"
      },
      "source": [
        "## 4. Créez un callback  personnalisé qui affiche le rapport entre la perte de validation et la perte d’entraînement au cours de l’entraînement (pour détecter l'overfitting) :"
      ]
    },
    {
      "cell_type": "code",
      "metadata": {
        "id": "4DRL6Ytc9lvI"
      },
      "source": [
        "class PrintValTrainRatioCallback(keras.callbacks.Callback):\n",
        "    def               (self, epoch, logs):\n",
        "        print(\"\\nval/train: {:.2f}\".format(logs[          ] / logs[        ]))"
      ],
      "execution_count": null,
      "outputs": []
    },
    {
      "cell_type": "code",
      "metadata": {
        "id": "qMfxeLnH9lvJ",
        "colab": {
          "base_uri": "https://localhost:8080/"
        },
        "outputId": "de4b3730-172d-4b83-b1e6-cca944b15a3d"
      },
      "source": [
        "val_train_ratio_cb = PrintValTrainRatioCallback()\n",
        "history = model.fit(X_train, y_train, epochs=3,\n",
        "                    validation_data=(X_valid, y_valid),\n",
        "                    callbacks=[val_train_ratio_cb])"
      ],
      "execution_count": null,
      "outputs": [
        {
          "output_type": "stream",
          "name": "stdout",
          "text": [
            "335/363 [==========================>...] - ETA: 0s - loss: 0.3284\n",
            "val/train: 1.08\n",
            "363/363 [==============================] - 1s 1ms/step - loss: 0.3302 - val_loss: 0.3561\n"
          ]
        }
      ]
    },
    {
      "cell_type": "markdown",
      "metadata": {
        "id": "VVNXNFml9lvJ"
      },
      "source": [
        "# TensorBoard"
      ]
    },
    {
      "cell_type": "markdown",
      "metadata": {
        "id": "qo2hX6mPlyxC"
      },
      "source": [
        "**Nous commencons par définir le répertoire de journalisation racine dans lequel seront placés les journaux TensorBoard (event files) :**"
      ]
    },
    {
      "cell_type": "code",
      "metadata": {
        "id": "zYAURAcg9lvJ"
      },
      "source": [
        "root_logdir = os.path.join(os.curdir, \"my_logs\")"
      ],
      "execution_count": null,
      "outputs": []
    },
    {
      "cell_type": "markdown",
      "metadata": {
        "id": "UaTfawrzmUMq"
      },
      "source": [
        "**Nous Définissons une fonction qui générera un chemin de sous-répertoire :**"
      ]
    },
    {
      "cell_type": "code",
      "metadata": {
        "id": "LWUfPpTz9lvK",
        "colab": {
          "base_uri": "https://localhost:8080/",
          "height": 35
        },
        "outputId": "28afb6ad-7d21-416f-cfde-74e88ca7dc54"
      },
      "source": [
        "def get_run_logdir():\n",
        "    import time\n",
        "    run_id = time.strftime(\"run_%Y_%m_%d-%H_%M_%S\")\n",
        "    return os.path.join(root_logdir, run_id)\n",
        "\n",
        "run_logdir = get_run_logdir()\n",
        "run_logdir"
      ],
      "execution_count": null,
      "outputs": [
        {
          "output_type": "execute_result",
          "data": {
            "application/vnd.google.colaboratory.intrinsic+json": {
              "type": "string"
            },
            "text/plain": [
              "'./my_logs/run_2021_11_16-22_17_50'"
            ]
          },
          "metadata": {},
          "execution_count": 57
        }
      ]
    },
    {
      "cell_type": "code",
      "metadata": {
        "id": "ttJqFQS99lvK"
      },
      "source": [
        "keras.backend.clear_session()\n",
        "np.random.seed(42)\n",
        "tf.random.set_seed(42)"
      ],
      "execution_count": null,
      "outputs": []
    },
    {
      "cell_type": "code",
      "metadata": {
        "id": "lGuY_VsX9lvK"
      },
      "source": [
        "model = keras.models.Sequential([\n",
        "    keras.layers.Dense(30, activation=\"relu\", input_shape=[8]),\n",
        "    keras.layers.Dense(30, activation=\"relu\"),\n",
        "    keras.layers.Dense(1)\n",
        "])    \n",
        "model.compile(loss=\"mse\", optimizer=keras.optimizers.SGD(learning_rate=1e-3))"
      ],
      "execution_count": null,
      "outputs": []
    },
    {
      "cell_type": "markdown",
      "metadata": {
        "id": "pj26uvKemewX"
      },
      "source": [
        "## 1. Créez un callback `TensorBoard`  :"
      ]
    },
    {
      "cell_type": "code",
      "metadata": {
        "id": "i1vHpPWMmdmA"
      },
      "source": [
        "tensorboard_cb = "
      ],
      "execution_count": null,
      "outputs": []
    },
    {
      "cell_type": "code",
      "metadata": {
        "id": "N7KX0fHX9lvK",
        "colab": {
          "base_uri": "https://localhost:8080/"
        },
        "outputId": "292809e3-61b6-4638-f512-d8481fa26736"
      },
      "source": [
        "history = model.fit(X_train, y_train, epochs=30,\n",
        "                    validation_data=(X_valid, y_valid),\n",
        "                    callbacks=[checkpoint_cb, tensorboard_cb])"
      ],
      "execution_count": null,
      "outputs": [
        {
          "output_type": "stream",
          "name": "stdout",
          "text": [
            "Epoch 1/30\n",
            "363/363 [==============================] - 1s 2ms/step - loss: 1.8866 - val_loss: 0.7126\n",
            "Epoch 2/30\n",
            "363/363 [==============================] - 0s 1ms/step - loss: 0.6577 - val_loss: 0.6880\n",
            "Epoch 3/30\n",
            "363/363 [==============================] - 1s 1ms/step - loss: 0.5934 - val_loss: 0.5803\n",
            "Epoch 4/30\n",
            "363/363 [==============================] - 0s 1ms/step - loss: 0.5557 - val_loss: 0.5166\n",
            "Epoch 5/30\n",
            "363/363 [==============================] - 0s 1ms/step - loss: 0.5272 - val_loss: 0.4895\n",
            "Epoch 6/30\n",
            "363/363 [==============================] - 0s 1ms/step - loss: 0.5033 - val_loss: 0.4951\n",
            "Epoch 7/30\n",
            "363/363 [==============================] - 0s 1ms/step - loss: 0.4854 - val_loss: 0.4861\n",
            "Epoch 8/30\n",
            "363/363 [==============================] - 1s 1ms/step - loss: 0.4709 - val_loss: 0.4554\n",
            "Epoch 9/30\n",
            "363/363 [==============================] - 0s 1ms/step - loss: 0.4578 - val_loss: 0.4413\n",
            "Epoch 10/30\n",
            "363/363 [==============================] - 0s 1ms/step - loss: 0.4474 - val_loss: 0.4379\n",
            "Epoch 11/30\n",
            "363/363 [==============================] - 1s 1ms/step - loss: 0.4393 - val_loss: 0.4396\n",
            "Epoch 12/30\n",
            "363/363 [==============================] - 0s 1ms/step - loss: 0.4318 - val_loss: 0.4507\n",
            "Epoch 13/30\n",
            "363/363 [==============================] - 0s 1ms/step - loss: 0.4261 - val_loss: 0.3997\n",
            "Epoch 14/30\n",
            "363/363 [==============================] - 0s 1ms/step - loss: 0.4202 - val_loss: 0.3956\n",
            "Epoch 15/30\n",
            "363/363 [==============================] - 0s 1ms/step - loss: 0.4155 - val_loss: 0.3916\n",
            "Epoch 16/30\n",
            "363/363 [==============================] - 1s 1ms/step - loss: 0.4112 - val_loss: 0.3937\n",
            "Epoch 17/30\n",
            "363/363 [==============================] - 0s 1ms/step - loss: 0.4077 - val_loss: 0.3809\n",
            "Epoch 18/30\n",
            "363/363 [==============================] - 1s 1ms/step - loss: 0.4040 - val_loss: 0.3793\n",
            "Epoch 19/30\n",
            "363/363 [==============================] - 0s 1ms/step - loss: 0.4004 - val_loss: 0.3850\n",
            "Epoch 20/30\n",
            "363/363 [==============================] - 1s 1ms/step - loss: 0.3980 - val_loss: 0.3809\n",
            "Epoch 21/30\n",
            "363/363 [==============================] - 1s 1ms/step - loss: 0.3949 - val_loss: 0.3701\n",
            "Epoch 22/30\n",
            "363/363 [==============================] - 0s 1ms/step - loss: 0.3924 - val_loss: 0.3781\n",
            "Epoch 23/30\n",
            "363/363 [==============================] - 0s 1ms/step - loss: 0.3898 - val_loss: 0.3650\n",
            "Epoch 24/30\n",
            "363/363 [==============================] - 1s 1ms/step - loss: 0.3874 - val_loss: 0.3655\n",
            "Epoch 25/30\n",
            "363/363 [==============================] - 1s 1ms/step - loss: 0.3851 - val_loss: 0.3611\n",
            "Epoch 26/30\n",
            "363/363 [==============================] - 1s 1ms/step - loss: 0.3829 - val_loss: 0.3626\n",
            "Epoch 27/30\n",
            "363/363 [==============================] - 0s 1ms/step - loss: 0.3809 - val_loss: 0.3564\n",
            "Epoch 28/30\n",
            "363/363 [==============================] - 0s 1ms/step - loss: 0.3788 - val_loss: 0.3579\n",
            "Epoch 29/30\n",
            "363/363 [==============================] - 0s 1ms/step - loss: 0.3769 - val_loss: 0.3561\n",
            "Epoch 30/30\n",
            "363/363 [==============================] - 0s 1ms/step - loss: 0.3750 - val_loss: 0.3548\n"
          ]
        }
      ]
    },
    {
      "cell_type": "markdown",
      "metadata": {
        "id": "v7QKSbPB9lvL"
      },
      "source": [
        "**Pour démarrer le serveur TensorBoard, une option consiste à ouvrir un terminal, allez dans le répertoire de ce notebook, puis tapez :**\n",
        "\n",
        "```bash\n",
        "$ tensorboard --logdir=./my_logs --port=6006\n",
        "```\n",
        "\n",
        "**Vous pouvez ensuite ouvrir votre navigateur Web sur [localhost:6006](http://localhost:6006) et utiliser TensorBoard. Une fois que vous avez terminé, appuyez sur Ctrl-C dans la fenêtre du terminal, cela arrêtera le serveur TensorBoard.**\n",
        "\n",
        "**Vous pouvez également charger l'extension Jupyter de TensorBoard et l'exécuter comme ceci :**"
      ]
    },
    {
      "cell_type": "code",
      "metadata": {
        "id": "nz5L_8OU9lvL"
      },
      "source": [
        "%load_ext tensorboard\n",
        "%tensorboard --logdir=./my_logs --port=6006"
      ],
      "execution_count": null,
      "outputs": []
    },
    {
      "cell_type": "code",
      "metadata": {
        "id": "gVqVuxMJ9lvL",
        "colab": {
          "base_uri": "https://localhost:8080/",
          "height": 35
        },
        "outputId": "ca313cbe-454e-4c4d-94df-82cd5df3605c"
      },
      "source": [
        "run_logdir2 = get_run_logdir()\n",
        "run_logdir2"
      ],
      "execution_count": null,
      "outputs": [
        {
          "output_type": "execute_result",
          "data": {
            "application/vnd.google.colaboratory.intrinsic+json": {
              "type": "string"
            },
            "text/plain": [
              "'./my_logs/run_2021_11_16-22_18_15'"
            ]
          },
          "metadata": {},
          "execution_count": 63
        }
      ]
    },
    {
      "cell_type": "code",
      "metadata": {
        "id": "zqUhSBSz9lvM"
      },
      "source": [
        "keras.backend.clear_session()\n",
        "np.random.seed(42)\n",
        "tf.random.set_seed(42)"
      ],
      "execution_count": null,
      "outputs": []
    },
    {
      "cell_type": "code",
      "metadata": {
        "id": "3JpOTRoH9lvM"
      },
      "source": [
        "model = keras.models.Sequential([\n",
        "    keras.layers.Dense(30, activation=\"relu\", input_shape=[8]),\n",
        "    keras.layers.Dense(30, activation=\"relu\"),\n",
        "    keras.layers.Dense(1)\n",
        "])    \n",
        "model.compile(loss=\"mse\", optimizer=keras.optimizers.SGD(learning_rate=0.01))"
      ],
      "execution_count": null,
      "outputs": []
    },
    {
      "cell_type": "code",
      "metadata": {
        "id": "sR8vtMCV9lvM",
        "colab": {
          "base_uri": "https://localhost:8080/"
        },
        "outputId": "5799af03-a778-4dcd-b25a-31e3f2a28daf"
      },
      "source": [
        "tensorboard_cb = keras.callbacks.TensorBoard(run_logdir2)\n",
        "history = model.fit(X_train, y_train, epochs=30,\n",
        "                    validation_data=(X_valid, y_valid),\n",
        "                    callbacks=[checkpoint_cb, tensorboard_cb])"
      ],
      "execution_count": null,
      "outputs": [
        {
          "output_type": "stream",
          "name": "stdout",
          "text": [
            "Epoch 1/30\n",
            "363/363 [==============================] - 1s 2ms/step - loss: 0.6710 - val_loss: 0.7168\n",
            "Epoch 2/30\n",
            "363/363 [==============================] - 1s 2ms/step - loss: 0.4325 - val_loss: 1.6976\n",
            "Epoch 3/30\n",
            "363/363 [==============================] - 0s 1ms/step - loss: 0.4298 - val_loss: 2.8618\n",
            "Epoch 4/30\n",
            "363/363 [==============================] - 1s 1ms/step - loss: 0.3919 - val_loss: 2.1983\n",
            "Epoch 5/30\n",
            "363/363 [==============================] - 0s 1ms/step - loss: 0.3810 - val_loss: 1.3564\n",
            "Epoch 6/30\n",
            "363/363 [==============================] - 1s 1ms/step - loss: 0.3731 - val_loss: 0.3603\n",
            "Epoch 7/30\n",
            "363/363 [==============================] - 0s 1ms/step - loss: 0.3661 - val_loss: 0.3702\n",
            "Epoch 8/30\n",
            "363/363 [==============================] - 0s 1ms/step - loss: 0.3510 - val_loss: 0.3586\n",
            "Epoch 9/30\n",
            "363/363 [==============================] - 1s 1ms/step - loss: 0.3462 - val_loss: 0.3572\n",
            "Epoch 10/30\n",
            "363/363 [==============================] - 0s 1ms/step - loss: 0.3429 - val_loss: 0.3660\n",
            "Epoch 11/30\n",
            "363/363 [==============================] - 0s 1ms/step - loss: 0.3403 - val_loss: 0.3171\n",
            "Epoch 12/30\n",
            "363/363 [==============================] - 0s 1ms/step - loss: 0.3383 - val_loss: 0.3835\n",
            "Epoch 13/30\n",
            "363/363 [==============================] - 1s 1ms/step - loss: 0.3342 - val_loss: 0.3253\n",
            "Epoch 14/30\n",
            "363/363 [==============================] - 0s 1ms/step - loss: 0.3312 - val_loss: 0.3196\n",
            "Epoch 15/30\n",
            "363/363 [==============================] - 0s 1ms/step - loss: 0.3305 - val_loss: 0.3214\n",
            "Epoch 16/30\n",
            "363/363 [==============================] - 1s 1ms/step - loss: 0.3275 - val_loss: 0.3153\n",
            "Epoch 17/30\n",
            "363/363 [==============================] - 0s 1ms/step - loss: 0.3273 - val_loss: 0.5007\n",
            "Epoch 18/30\n",
            "363/363 [==============================] - 0s 1ms/step - loss: 0.3252 - val_loss: 0.3490\n",
            "Epoch 19/30\n",
            "363/363 [==============================] - 0s 1ms/step - loss: 0.3265 - val_loss: 0.5877\n",
            "Epoch 20/30\n",
            "363/363 [==============================] - 0s 1ms/step - loss: 0.3258 - val_loss: 0.3459\n",
            "Epoch 21/30\n",
            "363/363 [==============================] - 0s 1ms/step - loss: 0.3180 - val_loss: 0.4466\n",
            "Epoch 22/30\n",
            "363/363 [==============================] - 0s 1ms/step - loss: 0.3148 - val_loss: 0.3027\n",
            "Epoch 23/30\n",
            "363/363 [==============================] - 0s 1ms/step - loss: 0.3128 - val_loss: 0.5512\n",
            "Epoch 24/30\n",
            "363/363 [==============================] - 1s 1ms/step - loss: 0.3151 - val_loss: 1.0849\n",
            "Epoch 25/30\n",
            "363/363 [==============================] - 1s 1ms/step - loss: 0.3168 - val_loss: 0.3424\n",
            "Epoch 26/30\n",
            "363/363 [==============================] - 0s 1ms/step - loss: 0.3091 - val_loss: 1.6146\n",
            "Epoch 27/30\n",
            "363/363 [==============================] - 0s 1ms/step - loss: 0.3143 - val_loss: 0.5775\n",
            "Epoch 28/30\n",
            "363/363 [==============================] - 1s 1ms/step - loss: 0.3122 - val_loss: 0.4083\n",
            "Epoch 29/30\n",
            "363/363 [==============================] - 0s 1ms/step - loss: 0.3117 - val_loss: 0.2958\n",
            "Epoch 30/30\n",
            "363/363 [==============================] - 1s 1ms/step - loss: 0.3069 - val_loss: 0.3466\n"
          ]
        }
      ]
    }
  ]
}