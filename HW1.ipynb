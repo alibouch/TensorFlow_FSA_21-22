{
  "nbformat": 4,
  "nbformat_minor": 0,
  "metadata": {
    "colab": {
      "name": "Untitled9.ipynb",
      "provenance": [],
      "include_colab_link": true
    },
    "kernelspec": {
      "name": "python3",
      "display_name": "Python 3"
    }
  },
  "cells": [
    {
      "cell_type": "markdown",
      "metadata": {
        "id": "view-in-github",
        "colab_type": "text"
      },
      "source": [
        "<a href=\"https://colab.research.google.com/github/alibouch/TensorFlow_FSA_21-22/blob/main/HW1.ipynb\" target=\"_parent\"><img src=\"https://colab.research.google.com/assets/colab-badge.svg\" alt=\"Open In Colab\"/></a>"
      ]
    },
    {
      "cell_type": "markdown",
      "metadata": {
        "id": "cvKAPHqq7JbB"
      },
      "source": [
        "###**TRAVAIL A FAIRE** : Adaptez le code suivant pour TensorFlow 2.x"
      ]
    },
    {
      "cell_type": "code",
      "metadata": {
        "id": "CXSBqqRKZJ9D",
        "colab": {
          "base_uri": "https://localhost:8080/",
          "height": 933
        },
        "outputId": "0b0a738c-d154-4ab3-d000-960d54a31f27"
      },
      "source": [
        "import numpy as np \n",
        "import tensorflow as tf \n",
        "import matplotlib.pyplot as plt \n",
        "#tf.enable_eager_execution()\n",
        "#np.random.seed(101) \n",
        "#tf.set_random_seed(101) \n",
        "\n",
        "# Genrating random linear data \n",
        "# There will be 50 data points ranging from 0 to 50 \n",
        "x = np.linspace(0, 50, 50) \n",
        "y = np.linspace(0, 50, 50) \n",
        "# Adding noise to the random linear data \n",
        "x += np.random.uniform(-4, 4, 50) \n",
        "y += np.random.uniform(-4, 4, 50) \n",
        "n = len(x) # Number of data points \n",
        "\n",
        "\n",
        "\n",
        "# Plot of Training Data \n",
        "plt.scatter(x, y) \n",
        "plt.xlabel('x') \n",
        "plt.xlabel('y') \n",
        "plt.title(\"Training Data\") \n",
        "plt.show() \n",
        "\n",
        "\n",
        "\n",
        "X = tf.placeholder(\"float\") \n",
        "Y = tf.placeholder(\"float\") \n",
        "\n",
        "\n",
        "W = tf.Variable(np.random.randn(), name = \"W\") \n",
        "b = tf.Variable(np.random.randn(), name = \"b\") \n",
        "\n",
        "\n",
        "learning_rate = 0.01\n",
        "training_epochs = 1000\n",
        "\n",
        "\n",
        "# Hypothesis \n",
        "y_pred = tf.add(tf.multiply(X, W), b) \n",
        "\n",
        "# Mean Squared Error Cost Function \n",
        "cost = tf.reduce_sum(tf.pow(y_pred-Y, 2)) / (2 * n) \n",
        "\n",
        "# Gradient Descent Optimizer \n",
        "optimizer = tf.train.GradientDescentOptimizer(learning_rate).minimize(cost) \n",
        "\n",
        "# Global Variables Initializer \n",
        "init = tf.global_variables_initializer() \n",
        "\n",
        "\n",
        "# Starting the Tensorflow Session \n",
        "with tf.Session() as sess: \n",
        "\t\n",
        "\t# Initializing the Variables \n",
        "\tsess.run(init) \n",
        "\t\n",
        "\t# Iterating through all the epochs \n",
        "\tfor epoch in range(training_epochs): \n",
        "\t\t\n",
        "\t\t# Feeding each data point into the optimizer using Feed Dictionary \n",
        "\t\tfor (_x, _y) in zip(x, y): \n",
        "\t\t\tsess.run(optimizer, feed_dict = {X : _x, Y : _y}) \n",
        "\t\t\n",
        "\t\t# Displaying the result after every 50 epochs \n",
        "\t\tif (epoch + 1) % 50 == 0: \n",
        "\t\t\t# Calculating the cost a every epoch \n",
        "\t\t\tc = sess.run(cost, feed_dict = {X : x, Y : y}) \n",
        "\t\t\tprint(\"Epoch\", (epoch + 1), \": cost =\", c, \"W =\", sess.run(W), \"b =\", sess.run(b)) \n",
        "\t\n",
        "\t# Storing necessary values to be used outside the Session \n",
        "\ttraining_cost = sess.run(cost, feed_dict ={X: x, Y: y}) \n",
        "\tweight = sess.run(W) \n",
        "\tbias = sess.run(b) \n",
        "\n",
        "  \n",
        "  # Calculating the predictions \n",
        "predictions = weight * x + bias \n",
        "print(\"Training cost =\", training_cost, \"Weight =\", weight, \"bias =\", bias, '\\n') \n",
        "\n",
        "\n",
        "# Plotting the Results \n",
        "plt.plot(x, y, 'ro', label ='Original data') \n",
        "plt.plot(x, predictions, label ='Fitted line') \n",
        "plt.title('Linear Regression Result') \n",
        "plt.legend() \n",
        "plt.show() \n",
        "\n"
      ],
      "execution_count": null,
      "outputs": [
        {
          "output_type": "display_data",
          "data": {
            "image/png": "[encoded data removed]",
            "text/plain": [
              "<Figure size 432x288 with 1 Axes>"
            ]
          },
          "metadata": {
            "tags": []
          }
        },
        {
          "output_type": "stream",
          "text": [
            "Epoch 50 : cost = 6.1328864 W = 0.96237415 b = 1.1804245\n",
            "Epoch 100 : cost = 6.13118 W = 0.96270144 b = 1.1645337\n",
            "Epoch 150 : cost = 6.129714 W = 0.9629961 b = 1.1502236\n",
            "Epoch 200 : cost = 6.1284504 W = 0.9632616 b = 1.1373332\n",
            "Epoch 250 : cost = 6.1273584 W = 0.9635007 b = 1.1257249\n",
            "Epoch 300 : cost = 6.1264133 W = 0.9637161 b = 1.1152686\n",
            "Epoch 350 : cost = 6.1255918 W = 0.96391004 b = 1.1058489\n",
            "Epoch 400 : cost = 6.1248765 W = 0.9640846 b = 1.0973737\n",
            "Epoch 450 : cost = 6.1242547 W = 0.9642419 b = 1.0897335\n",
            "Epoch 500 : cost = 6.1237097 W = 0.9643834 b = 1.082862\n",
            "Epoch 550 : cost = 6.123231 W = 0.96451086 b = 1.0766758\n",
            "Epoch 600 : cost = 6.1228113 W = 0.9646259 b = 1.0710917\n",
            "Epoch 650 : cost = 6.122442 W = 0.96472937 b = 1.0660657\n",
            "Epoch 700 : cost = 6.122116 W = 0.9648226 b = 1.0615419\n",
            "Epoch 750 : cost = 6.1218305 W = 0.96490633 b = 1.0574721\n",
            "Epoch 800 : cost = 6.121576 W = 0.9649819 b = 1.0538038\n",
            "Epoch 850 : cost = 6.121349 W = 0.96505 b = 1.0505011\n",
            "Epoch 900 : cost = 6.121149 W = 0.9651114 b = 1.0475168\n",
            "Epoch 950 : cost = 6.120972 W = 0.9651666 b = 1.0448358\n",
            "Epoch 1000 : cost = 6.1208134 W = 0.9652163 b = 1.0424232\n",
            "Training cost = 6.1208134 Weight = 0.9652163 bias = 1.0424232 \n",
            "\n"
          ],
          "name": "stdout"
        },
        {
          "output_type": "display_data",
          "data": {
            "image/png": "[encoded data removed]",
            "text/plain": [
              "<Figure size 432x288 with 1 Axes>"
            ]
          },
          "metadata": {
            "tags": []
          }
        }
      ]
    }
  ]
}