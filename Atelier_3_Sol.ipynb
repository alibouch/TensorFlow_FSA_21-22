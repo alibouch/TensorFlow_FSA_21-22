{
  "nbformat": 4,
  "nbformat_minor": 0,
  "metadata": {
    "kernelspec": {
      "display_name": "Python 3",
      "language": "python",
      "name": "python3"
    },
    "language_info": {
      "codemirror_mode": {
        "name": "ipython",
        "version": 3
      },
      "file_extension": ".py",
      "mimetype": "text/x-python",
      "name": "python",
      "nbconvert_exporter": "python",
      "pygments_lexer": "ipython3",
      "version": "3.7.10"
    },
    "colab": {
      "name": "Atelier 3_Sol.ipynb",
      "provenance": [],
      "collapsed_sections": [],
      "include_colab_link": true
    }
  },
  "cells": [
    {
      "cell_type": "markdown",
      "metadata": {
        "id": "view-in-github",
        "colab_type": "text"
      },
      "source": [
        "<a href=\"https://colab.research.google.com/github/alibouch/TensorFlow_FSA_21-22/blob/main/Atelier_3_Sol.ipynb\" target=\"_parent\"><img src=\"https://colab.research.google.com/assets/colab-badge.svg\" alt=\"Open In Colab\"/></a>"
      ]
    },
    {
      "cell_type": "markdown",
      "metadata": {
        "id": "03yDSrhGNfxD"
      },
      "source": [
        "# Atelier 3"
      ]
    },
    {
      "cell_type": "code",
      "metadata": {
        "id": "nM7nIx5mNfxO"
      },
      "source": [
        "\n",
        "import sys\n",
        "import sklearn\n",
        "import tensorflow as tf\n",
        "from tensorflow import keras\n",
        "import numpy as np\n",
        "import os\n",
        "np.random.seed(42)\n",
        "tf.random.set_seed(42)\n",
        "%matplotlib inline\n",
        "import matplotlib as mpl\n",
        "import matplotlib.pyplot as plt"
      ],
      "execution_count": 1,
      "outputs": []
    },
    {
      "cell_type": "markdown",
      "metadata": {
        "id": "epQsTAawNfxj"
      },
      "source": [
        "### Ragged tensors ((tenseurs irréguliers)\n",
        "Un ragged tensor  est un tenseur de type particulier qui représente une liste de tableaux de tailles différentes."
      ]
    },
    {
      "cell_type": "code",
      "metadata": {
        "id": "4XNaNRlgWPlX"
      },
      "source": [
        "r = tf.ragged.constant([[67, 97, 102, 233], [67, 111, 102, 102, 101, 101], [99, 97, 102, 102, 232], [21654, 21857]])"
      ],
      "execution_count": 2,
      "outputs": []
    },
    {
      "cell_type": "markdown",
      "metadata": {
        "id": "h-ffigPYX1wD"
      },
      "source": [
        "Affichez le deuxième élément du tenseur r :"
      ]
    },
    {
      "cell_type": "code",
      "metadata": {
        "id": "5fZMTA8qNfxj",
        "colab": {
          "base_uri": "https://localhost:8080/"
        },
        "outputId": "0e2c482c-31f8-4ba8-dbbc-09c8c1eadb20"
      },
      "source": [
        "print(r[1]) "
      ],
      "execution_count": 3,
      "outputs": [
        {
          "output_type": "stream",
          "name": "stdout",
          "text": [
            "tf.Tensor([ 67 111 102 102 101 101], shape=(6,), dtype=int32)\n"
          ]
        }
      ]
    },
    {
      "cell_type": "markdown",
      "metadata": {
        "id": "ix7fwYzVYWuv"
      },
      "source": [
        "Affichez le deuxième et le troisième élément du tenseur r :"
      ]
    },
    {
      "cell_type": "code",
      "metadata": {
        "id": "H54x3mrQNfxk",
        "colab": {
          "base_uri": "https://localhost:8080/"
        },
        "outputId": "5ea1b01f-7496-4c3a-e634-e01a0e261943"
      },
      "source": [
        "print(r[1:3])"
      ],
      "execution_count": 4,
      "outputs": [
        {
          "output_type": "stream",
          "name": "stdout",
          "text": [
            "<tf.RaggedTensor [[67, 111, 102, 102, 101, 101], [99, 97, 102, 102, 232]]>\n"
          ]
        }
      ]
    },
    {
      "cell_type": "code",
      "metadata": {
        "id": "NJubgsdqZVJ-"
      },
      "source": [
        "r2 = tf.ragged.constant([[65, 66], [], [67]])"
      ],
      "execution_count": null,
      "outputs": []
    },
    {
      "cell_type": "markdown",
      "metadata": {
        "id": "KAa53pqLZDMM"
      },
      "source": [
        "Concaténez le tenseur r au tenseur r2 le long de l’axe 0 :"
      ]
    },
    {
      "cell_type": "code",
      "metadata": {
        "id": "venXFZLjNfxk",
        "colab": {
          "base_uri": "https://localhost:8080/"
        },
        "outputId": "ba5854e3-bfd0-422d-871d-54e3b48bb60a"
      },
      "source": [
        "\n",
        "print(tf.concat([r, r2], axis=0))"
      ],
      "execution_count": 5,
      "outputs": [
        {
          "output_type": "stream",
          "name": "stdout",
          "text": [
            "<tf.RaggedTensor [[67, 97, 102, 233], [67, 111, 102, 102, 101, 101], [99, 97, 102, 102, 232], [21654, 21857], [65, 66], [], [67]]>\n"
          ]
        }
      ]
    },
    {
      "cell_type": "code",
      "metadata": {
        "id": "_LcoL0sJad60"
      },
      "source": [
        "r3 = tf.ragged.constant([[68, 69, 70], [71], [], [72, 73]])"
      ],
      "execution_count": 8,
      "outputs": []
    },
    {
      "cell_type": "markdown",
      "metadata": {
        "id": "asFg82YFaYzE"
      },
      "source": [
        "Concaténez le tenseur r au tenseur r3 le long de l’axe 1 :"
      ]
    },
    {
      "cell_type": "code",
      "metadata": {
        "id": "ZI-wmyc-Nfxl",
        "colab": {
          "base_uri": "https://localhost:8080/"
        },
        "outputId": "ff6d6f72-4686-48e3-db98-02cc9392caf6"
      },
      "source": [
        "print(tf.concat([r, r3], axis=1))"
      ],
      "execution_count": 9,
      "outputs": [
        {
          "output_type": "stream",
          "name": "stdout",
          "text": [
            "<tf.RaggedTensor [[67, 97, 102, 233, 68, 69, 70], [67, 111, 102, 102, 101, 101, 71], [99, 97, 102, 102, 232], [21654, 21857, 72, 73]]>\n"
          ]
        }
      ]
    },
    {
      "cell_type": "code",
      "metadata": {
        "id": "Es3KnFIcNfxl"
      },
      "source": [
        "r4 = tf.ragged.constant([[67, 97, 102, 233], [67, 111, 102, 102, 101, 101],\n",
        "[99, 97, 102, 102, 232], [21654, 21857]])"
      ],
      "execution_count": 14,
      "outputs": []
    },
    {
      "cell_type": "markdown",
      "metadata": {
        "id": "1oUcijtbfg8K"
      },
      "source": [
        "Convertissez le tenseur irrégulier r4 en tenseur normal en utilisant la méthode *to_tensor* :"
      ]
    },
    {
      "cell_type": "code",
      "metadata": {
        "id": "89FTyjcINfxl",
        "colab": {
          "base_uri": "https://localhost:8080/"
        },
        "outputId": "c9fb8a1d-1f9d-45f4-95e9-1eec701b1709"
      },
      "source": [
        "r4.to_tensor()"
      ],
      "execution_count": 15,
      "outputs": [
        {
          "output_type": "execute_result",
          "data": {
            "text/plain": [
              "<tf.Tensor: shape=(4, 6), dtype=int32, numpy=\n",
              "array([[   67,    97,   102,   233,     0,     0],\n",
              "       [   67,   111,   102,   102,   101,   101],\n",
              "       [   99,    97,   102,   102,   232,     0],\n",
              "       [21654, 21857,     0,     0,     0,     0]], dtype=int32)>"
            ]
          },
          "metadata": {},
          "execution_count": 15
        }
      ]
    },
    {
      "cell_type": "markdown",
      "metadata": {
        "id": "9EvXQG0-Nfxl"
      },
      "source": [
        "### Sparse tensors (tenseurs creux)\n",
        "\n",
        "Un sparse tensor est un tenseur contenant principalement des zéros.\n",
        "\n"
      ]
    },
    {
      "cell_type": "markdown",
      "metadata": {
        "id": "Yqo9djl7ibtM"
      },
      "source": [
        "Créez un sparse tensor de forme (3,4) et dont les valeurs des éléments d'indices (0,1), (1,0) et (2,3) sont respectivement 1, 2 et 3 :"
      ]
    },
    {
      "cell_type": "code",
      "metadata": {
        "id": "9-uOuiSaNfxl"
      },
      "source": [
        "s = tf.SparseTensor(indices=[[0, 1], [1, 0], [2, 3]],\n",
        "                    values=[1., 2., 3.],\n",
        "                    dense_shape=[3, 4])"
      ],
      "execution_count": 16,
      "outputs": []
    },
    {
      "cell_type": "code",
      "metadata": {
        "id": "eFR9ZFpBNfxm",
        "colab": {
          "base_uri": "https://localhost:8080/"
        },
        "outputId": "37bddbb2-2d93-48ff-f2e8-842af10530ff"
      },
      "source": [
        "print(s)"
      ],
      "execution_count": 17,
      "outputs": [
        {
          "output_type": "stream",
          "name": "stdout",
          "text": [
            "SparseTensor(indices=tf.Tensor(\n",
            "[[0 1]\n",
            " [1 0]\n",
            " [2 3]], shape=(3, 2), dtype=int64), values=tf.Tensor([1. 2. 3.], shape=(3,), dtype=float32), dense_shape=tf.Tensor([3 4], shape=(2,), dtype=int64))\n"
          ]
        }
      ]
    },
    {
      "cell_type": "markdown",
      "metadata": {
        "id": "ciuoOTiyjA7z"
      },
      "source": [
        "Convertissez le sparse tensor s en tesor normal en utilisant la méthode *sparse.to_dense* :"
      ]
    },
    {
      "cell_type": "code",
      "metadata": {
        "id": "BlfqT3KrNfxn",
        "outputId": "9d7200e9-cb03-4f86-d5a4-fa07b861aed6"
      },
      "source": [
        "tf.sparse.to_dense(s)"
      ],
      "execution_count": null,
      "outputs": [
        {
          "data": {
            "text/plain": [
              "<tf.Tensor: shape=(3, 4), dtype=float32, numpy=\n",
              "array([[0., 1., 0., 0.],\n",
              "       [2., 0., 0., 0.],\n",
              "       [0., 0., 0., 3.]], dtype=float32)>"
            ]
          },
          "execution_count": 38,
          "metadata": {},
          "output_type": "execute_result"
        }
      ]
    },
    {
      "cell_type": "markdown",
      "metadata": {
        "id": "vQL-nBkilGOW"
      },
      "source": [
        "Peut-on multiplier un sparse tensor par une valeur scalaire? "
      ]
    },
    {
      "cell_type": "code",
      "metadata": {
        "id": "GhkgkbOnNfxo"
      },
      "source": [
        "s2 = s * 2.0"
      ],
      "execution_count": null,
      "outputs": []
    },
    {
      "cell_type": "markdown",
      "metadata": {
        "id": "JpSXxTD8mGci"
      },
      "source": [
        "**Justifiez votre réponse :** "
      ]
    },
    {
      "cell_type": "code",
      "metadata": {
        "id": "Y419vYxtmS8o"
      },
      "source": [
        ""
      ],
      "execution_count": null,
      "outputs": []
    },
    {
      "cell_type": "markdown",
      "metadata": {
        "id": "uO1atBjSlod7"
      },
      "source": [
        "Peut-on ajouter une valeur scalaire à un sparse tensor?"
      ]
    },
    {
      "cell_type": "code",
      "metadata": {
        "id": "-0NJjNh2Nfxo",
        "outputId": "4344432b-4d5a-4478-f36c-00a0e05d48ca"
      },
      "source": [
        "try:\n",
        "    s3 = s + 1.\n",
        "except TypeError as ex:\n",
        "    print(ex)"
      ],
      "execution_count": null,
      "outputs": [
        {
          "name": "stdout",
          "output_type": "stream",
          "text": [
            "unsupported operand type(s) for +: 'SparseTensor' and 'float'\n"
          ]
        }
      ]
    },
    {
      "cell_type": "markdown",
      "metadata": {
        "id": "H5AqlR7WmMRT"
      },
      "source": [
        "**Justifiez votre réponse :** "
      ]
    },
    {
      "cell_type": "code",
      "metadata": {
        "id": "1nUKw1UxmTzA"
      },
      "source": [
        ""
      ],
      "execution_count": null,
      "outputs": []
    },
    {
      "cell_type": "markdown",
      "metadata": {
        "id": "XH9zQqUnNfxr"
      },
      "source": [
        "### Variables"
      ]
    },
    {
      "cell_type": "code",
      "metadata": {
        "id": "JeLugfDXNfxr"
      },
      "source": [
        "v = tf.Variable([[1., 2., 3.], [4., 5., 6.]])"
      ],
      "execution_count": null,
      "outputs": []
    },
    {
      "cell_type": "markdown",
      "metadata": {
        "id": "vCK_StGUm5aZ"
      },
      "source": [
        "Multipliez le tensor v par 2 en utilisant la méthde assign() :"
      ]
    },
    {
      "cell_type": "code",
      "metadata": {
        "id": "vbkTwJ5pNfxs",
        "outputId": "82d1d931-8e76-4540-84ab-d086eaddc830"
      },
      "source": [
        "v.assign(2 * v)"
      ],
      "execution_count": null,
      "outputs": [
        {
          "data": {
            "text/plain": [
              "<tf.Variable 'UnreadVariable' shape=(2, 3) dtype=float32, numpy=\n",
              "array([[ 2.,  4.,  6.],\n",
              "       [ 8., 10., 12.]], dtype=float32)>"
            ]
          },
          "execution_count": 49,
          "metadata": {},
          "output_type": "execute_result"
        }
      ]
    },
    {
      "cell_type": "markdown",
      "metadata": {
        "id": "05c4tawNncxM"
      },
      "source": [
        "Remplacez la valeur de l'élément d'indice (0,1) du tensor v par la valeur 42 :"
      ]
    },
    {
      "cell_type": "code",
      "metadata": {
        "id": "tB7psOxgNfxs",
        "outputId": "c12aec67-6a3e-4d98-e4fb-e1e68636591d"
      },
      "source": [
        "v[0, 1].assign(42)"
      ],
      "execution_count": null,
      "outputs": [
        {
          "data": {
            "text/plain": [
              "<tf.Variable 'UnreadVariable' shape=(2, 3) dtype=float32, numpy=\n",
              "array([[ 2., 42.,  6.],\n",
              "       [ 8., 10., 12.]], dtype=float32)>"
            ]
          },
          "execution_count": 50,
          "metadata": {},
          "output_type": "execute_result"
        }
      ]
    },
    {
      "cell_type": "markdown",
      "metadata": {
        "id": "kDYeU8CUn2BZ"
      },
      "source": [
        "Remplacez la troisième colonne de v par le vecteur [0., 1.] :"
      ]
    },
    {
      "cell_type": "code",
      "metadata": {
        "id": "XoQtajbMNfxs",
        "outputId": "fa35fdf9-e6b4-4e52-9643-656e0e90d7e0"
      },
      "source": [
        "v[:, 2].assign([0., 1.])"
      ],
      "execution_count": null,
      "outputs": [
        {
          "data": {
            "text/plain": [
              "<tf.Variable 'UnreadVariable' shape=(2, 3) dtype=float32, numpy=\n",
              "array([[ 2., 42.,  0.],\n",
              "       [ 8., 10.,  1.]], dtype=float32)>"
            ]
          },
          "execution_count": 51,
          "metadata": {},
          "output_type": "execute_result"
        }
      ]
    },
    {
      "cell_type": "markdown",
      "metadata": {
        "id": "Ia67zyVbNfxt"
      },
      "source": [
        "### Tensor Arrays (Tableaux de tenseurs)"
      ]
    },
    {
      "cell_type": "code",
      "metadata": {
        "id": "yIKsLnEbNfxt"
      },
      "source": [
        "array = tf.TensorArray(dtype=tf.float32, size=3)\n",
        "array = array.write(0, tf.constant([1., 2.]))\n",
        "array = array.write(1, tf.constant([3., 10.]))\n",
        "array = array.write(2, tf.constant([5., 7.]))"
      ],
      "execution_count": null,
      "outputs": []
    },
    {
      "cell_type": "code",
      "metadata": {
        "id": "8dwqYJr2Nfxt",
        "outputId": "a8e72ae1-47f4-4644-93b5-9d4fd93d27e4"
      },
      "source": [
        "array.read(1)"
      ],
      "execution_count": null,
      "outputs": [
        {
          "data": {
            "text/plain": [
              "<tf.Tensor: shape=(2,), dtype=float32, numpy=array([ 3., 10.], dtype=float32)>"
            ]
          },
          "execution_count": 56,
          "metadata": {},
          "output_type": "execute_result"
        }
      ]
    },
    {
      "cell_type": "markdown",
      "metadata": {
        "id": "r72kPbC3Zq5z"
      },
      "source": [
        "Empilez tous les éléments de array dans un tenseur normal en invoquant la\n",
        "méthode *stack()* :"
      ]
    },
    {
      "cell_type": "code",
      "metadata": {
        "id": "0TyireDvNfxu",
        "outputId": "1a38ffd1-4643-414d-c8f8-ba964a0f1e58"
      },
      "source": [
        "array.stack()"
      ],
      "execution_count": null,
      "outputs": [
        {
          "data": {
            "text/plain": [
              "<tf.Tensor: shape=(3, 2), dtype=float32, numpy=\n",
              "array([[1., 2.],\n",
              "       [0., 0.],\n",
              "       [5., 7.]], dtype=float32)>"
            ]
          },
          "execution_count": 57,
          "metadata": {},
          "output_type": "execute_result"
        }
      ]
    },
    {
      "cell_type": "markdown",
      "metadata": {
        "id": "8VFiZnnGb3Jr"
      },
      "source": [
        "Calculez la moyenne et la variance de array le long de l'axe 0 (utilisez *tf.nn.moments*) :"
      ]
    },
    {
      "cell_type": "code",
      "metadata": {
        "id": "zNUdxIExNfxu",
        "outputId": "3ec5335a-0a2d-4aa1-a6db-3133221b118a"
      },
      "source": [
        "mean, variance = tf.nn.moments(array.stack(), axes=0)\n",
        "mean"
      ],
      "execution_count": null,
      "outputs": [
        {
          "data": {
            "text/plain": [
              "<tf.Tensor: shape=(2,), dtype=float32, numpy=array([2., 3.], dtype=float32)>"
            ]
          },
          "execution_count": 58,
          "metadata": {},
          "output_type": "execute_result"
        }
      ]
    },
    {
      "cell_type": "code",
      "metadata": {
        "id": "52Ugf90pNfxu",
        "outputId": "5a91297d-8b72-441c-e813-4e6175d85d07"
      },
      "source": [
        "variance"
      ],
      "execution_count": null,
      "outputs": [
        {
          "data": {
            "text/plain": [
              "<tf.Tensor: shape=(2,), dtype=float32, numpy=array([4.6666665, 8.666667 ], dtype=float32)>"
            ]
          },
          "execution_count": 59,
          "metadata": {},
          "output_type": "execute_result"
        }
      ]
    },
    {
      "cell_type": "markdown",
      "metadata": {
        "id": "Jz4oJCbKNfxu"
      },
      "source": [
        "## Fonction de perte personnalisée"
      ]
    },
    {
      "cell_type": "markdown",
      "metadata": {
        "id": "hUxzUR9QNfxu"
      },
      "source": [
        "Commençons par charger et préparer le dataset  California housing. Nous le chargeons d'abord, puis le divisons en un ensemble d'apprentissage, un ensemble de validation et un ensemble de test, et enfin nous le normalisons :"
      ]
    },
    {
      "cell_type": "code",
      "metadata": {
        "id": "GTEK9osxNfxv"
      },
      "source": [
        "from sklearn.datasets import fetch_california_housing\n",
        "from sklearn.model_selection import train_test_split\n",
        "from sklearn.preprocessing import StandardScaler\n",
        "\n",
        "housing = fetch_california_housing()\n",
        "X_train_full, X_test, y_train_full, y_test = train_test_split(\n",
        "    housing.data, housing.target.reshape(-1, 1), random_state=42)\n",
        "X_train, X_valid, y_train, y_valid = train_test_split(\n",
        "    X_train_full, y_train_full, random_state=42)\n",
        "\n",
        "scaler = StandardScaler()\n",
        "X_train_scaled = scaler.fit_transform(X_train)\n",
        "X_valid_scaled = scaler.transform(X_valid)\n",
        "X_test_scaled = scaler.transform(X_test)"
      ],
      "execution_count": null,
      "outputs": []
    },
    {
      "cell_type": "markdown",
      "metadata": {
        "id": "jwXjZwJwehb3"
      },
      "source": [
        "Créez une fonction *my_mse()* avec deux arguments : les vraies labels `y_true` et les prédictions du modèle `y_pred`. Faites en sorte qu'il renvoie l'erreur quadratique moyenne à l'aide des opérations TensorFlow (Utlisez `tf.reduce_mean()` et `tf.square()`) :"
      ]
    },
    {
      "cell_type": "code",
      "metadata": {
        "id": "FOttOAa2fyEz"
      },
      "source": [
        "def my_mse(y_true, y_pred):\n",
        "\n",
        "  "
      ],
      "execution_count": null,
      "outputs": []
    },
    {
      "cell_type": "markdown",
      "metadata": {
        "id": "Gij6BcRcf3m6"
      },
      "source": [
        "Créez une fonction *huber_fn()* avec deux arguments : les vraies labels `y_true` et les prédictions du modèle `y_pred`. Faites en sorte qu'il renvoie la perte de huber à l'aide des opérations TensorFlow  :\n",
        "![image.png](data:image/png;base64,iVBORw0KGgoAAAANSUhEUgAAAgEAAADKCAYAAAA8VpM/AAAgAElEQVR4AeydCbyuU/X4r3v5XTKPhURCUiRzgyhDhEjmTJlSyBAhU8gcKkpkCvFPQpJ5LmWIyJQ5ZE7I7Lr2//Pd535f6zz3ed9zzr1neN9z9v583nc/z95rr7322mvvtfb4jErFFQ4UDhQOFA4UDhQOjEgOjBqRpS6FLhwoHCgcKBwoHCgcSMUIKEJQOFA4UDhQOFA4MEI5UIyAEVrxpdiFA4UDhQOFA4UDxQgoMlA4UDhQOFA4UDgwQjlQjIARWvGl2IUDhQOFA4UDhQPFCCgyUDhQOFA4UDhQODBCOVCMgBFa8aXYhQOFA4UDhQOFA8UIKDJQOFA40JEcePfddyeiuy5sIqB+CKjmU33vhywmQjEYeUyU6WQEdBq9k1HUjk5ajICOrr5CfOFA4cDFF1+cTjrppHTkkUemM844I91+++09MmVSFVQ1XfW9x4xrAG6++eZ0yy231MQ0D+qPfCP2m266KUHHf//73xhcnkcAB4oRMAIquRSxcGC4ceCll15Ku+++e5p66qnTqFGjJvp95CMfyYZBXbl7o0B7A1OHu69hlEP6X3/99b4mnwi+N3TvsMMO6c477+yWdplllsl0HHbYYak3OLolLi8dzYFiBHR09RXiCwdGBgeiYrr11lvTAgss0FCeU0wxReNZhaq/+eabDziDIm3NMmsGM5hGwNtvv53mn3/+zKt77rmnG6nLLrtswwjoFjGJL83KO4noSrIB5EAxAgaQuQV14UDhQP9y4Pnnn09zzTVXVljzzjtv+sMf/lCbwX777dcwDLbYYotamBhYp7TqwnpKE+N78zw5RkBP9FXzxwjQOKoaAVdffXXi9+STT1aT9fjeVzp6RFgABpUDxQgYVHaXzAoHCgcmhwObbLJJVmSzzTZbwiBo5X7/+983lN6ZZ56ZQXtSWMbrt8LfG5hW6YmrGgH9gbNZnq2MgGZpehM+kDT3Jv8CM3kcKEbA5PGvpC4cKBwYJA7cfffdyan/Y445ple5rrrqqtkQYM07uv333z/xY0NcnWsWj8IbP358+sUvfpF23nnntN566+Xft771rfSb3/xmIlRRQRK/zz77pLXWWisdcMAB6bLLLpvICBDBEUcckfj973//S1deeWXadNNN05ZbbplOO+00QbL/8MMPp4MOOih985vfTGuuuWb6+te/nnbZZZf0pz/9qRvcr371q3TwwQc3jCJgDj300PTvf/87w+29995pzz33TBdddFG3dL6cd955accdd8y0b7fddunoo49OGBWxfMIWv7M4UIyAzqqvQm3hwIjlAEqR6ezZZ599Ih40U0bXXXddQ/H94x//aKRjKQFcnCaoc8afcsop3aKZXZhpppkaOJ1e119ppZW6wfuy/fbb16b58Y9/nMMxbuLGwA996EM5HGNH3PjTTz+9KLPSjnHVZxS7jr0R1XjeWQLAxY2BpsFneeALX/hCbdqZZ545XXvttRG8PHcgB4oR0IGVVkguHBgqDnAyv+t0/viUEr+Kew+ge0Q1vPreHbr27Stf+UpWRp///Odr4+sCX3jhhYYCY/Sqc4Nc3egdGDceRiPg/vvvb8xErLjiiunGG2/MI3WMi6OOOirngzI/5JBDzCb7u+22W4774Ac/mJXmG2+8kY/jRcXczAhYZJFF0nLLLZfY47D66qunXXfdNY++f/SjHzXKdfLJJ6ennnoqL4/89a9/zbMBKHhwQhsGEscmo0F09tlnZ/oltJkRsMoqq+R8PvOZz6Trr78+PfPMMxknsyDkgUFG3sV1LgeKEdC5dVcoLxxoOw40G5H3B6FLLbVUVjyMqntykQ72D6Cw9tprr0ayhRdeOCvJ3/72t7VT2ihf0kQjgGl3wlhiqHMcWSQ+bkR89NFHcxjhdZsYmcInjl/dTMCMM86Ynn766Ymy4wgkaY477riJ4gj4+Mc/nuPPP//8Rvxbb73VyOvBBx9shPNQZwQwS0IebMSsc0sssUSOZ5mhuM7lQDECOrfuCuWFA5PNgagsJxtZQFA70B83LqX/PJdeuPbadP85Z6f0yispEdZL5+idZYG+uE996lNZWbFurlt00UVzGEZAnVt88cVzfDQCOFsPPKPtOnfCCSfkNCh23bHHHpvDmDmoc6y1tzICvv3tb9cly6N41vmb1d+XvvSljPeXv/xlI31fjYDVVlst42D/Qp37yU9+kn7605+myy+/vC66hHUIB4oR0CEVVcgsHBgIDtQq65hRjwARuPL81tsp/e3WlH5xYkrbbJXe+uQn08tTTZWenWaadB2jy3vuTem1VyuJmr96lp0Ncn1xHilkI5zOUSxKuM45Mj711FPronPYQw89lDf3sUlw4403TtNNN11Wmkyh61DiKHmWBOocN/S1MgKOP/74popefBgCt912W2LU/9WvfrXbGj7pdXVGgEaE5eWyIB1GF0sKzTYLClf8zuZAMQI6u/4K9YUD/c4Br+TvUhCVtf86o4Cwd8an9MyzKTH9vOfeKa28Unpl5lnSG2PGpHdHjcq/N8eMTq/MMG16c4Xl04v77JvSo4+mhKHQS4eiRWGisFo5FRsw7K5XyZ5zzjmNZBoUzWYCPve5z+V0cSaAxJyvZ2+CSwzijn40AlxTZ8TczM0wwww5r7rlgGZGCrjOPffcvF9gyimnbJQx0sFzT0aANNUZAVNNNVXGe8cddwg2kR95PVFkCegIDhQjoCOqqRBZODBYHOiu9Gs7eRT+66+ldMvNKR17THp3o43SuAUXzAp/3BSjs8JPU0yRXplqqvTGRxdMabNN03jWrv/2t5TeeGXChsKaTYU9FBGFhmJjh/yLL77YA3RXdNxdH+8VUMmjSOscm/HIKxoBHOmLSnbDDTfMmwA5MfDcc8/lkwbEo/jl2wYbbJDTxJ361fymnXbaDFNnBLCBDyc+04Iv0sKxPfYHuFt/3XXXzfFVI4CRPekeeOABUWW/zgiYY445MuwNN9zQDba8DC8OFCNgeNVnKU3hQB85oNLX7548Kx/W7R95NKVzf5vSLrukdz7z2fTa9NOn8aO6FD4j/XGjR6XXZp4lvbPqKikxyucmP3aN92HNv3vO3d+g49lnn23szo/T6ypIdsBzXj/ei+/GO0bv0XGUD2UYlXyMn3vuuSeKn2+++XJY3PgX0+y7776ZvjgT4M2FcZ+A9OLH0wt1RsDpp58es8jPjMw1AOriAXLPQ9UIMF00AqCjagQQtvzyy+d8zjrrrIloIJ6ZFe4bYN9DcZ3LgWIEdG7dFcoLB/qXA0zrc+zv5f+ldMN1KR11VHp3nbXTq/PMnV6fMij8KUbnUf74RRdN47fdJiU2n91+W0pvv53S+F6O8OuWFZqUBoWjcwc+yswz7sZxwY9Kbuutt85fFfSd43HRrbPOOhn28MMPj8H5mZ3zptNIeO211xphfG2vzn3gAx/IMNEIQFGCi3P/dQ785lVnBNTtSRAnRw6jg0/84omEaASMGzeukVdvTgewkRLa1l577ZhN45kPETGzwFHHWEcNgPLQERwoRkBHVFMhcsRxoCclabz+pDDo3fFdI/X7H0iJa3V33DG9s8Ti6dVp/i+9Pfo9pc+6/stc0LPGWikdfGBKl1ySElf2ovDf08+TQsEkpVl55ZUbyoyNbCg3XZz+V7lypr3qfvCDH2QcSy+9dLelBTbPOZVOeo0A0rvBkI2AVccdBE61s9QQnSPqAw88MAYnNhZ+7GMfy3SQtrdGAKcTLBt3F0T35ptv5psDiQcn9wlEx5FD4v7yl7/kYJV3dSaASG4jNB+vXRbXFVdckcaMGZPjr7nmGoOL34EcKEZAB1ZaIXkYcWBylHhf2fDOuJSeez6lK65K6eCD0/i11k6vzD5bVvjjp+javPfu6CnSK9NMnd5YcqmUdtgxpdNPTenuu1J6+z1F29ds+xuey3a4OEeli6LiGCA741Va0edqXy65iS6O9tlYx3LBZpttlhU9ys09A9EIYLpfvBgWjNJR7CussEIjnPg555wzZpUuvfTSxiePMQg4V89dB9WbB3trBID8s5/9bM6Tmw3BB5177LFHcjZCOpkRic77A9iMyF0D7jnACICf8XQA6b73ve81ygZ/jzzyyAROec9Vw8V1NgeKEdDZ9VeoHy4cwBgY3/dhtSO5WjYwPX/bLSmd9Iv07tbfaBzRc7c+a/pvjBmd3ph77jR+nXVTOvTwlK69OqUX/5PS+HETDfJb5lVLwMAGcgbeXf4qPX027TnaJwylhZKMjg19Cy20UEPJAbfkkkumP//5z4mNdrxHI4C03/3ud7vBA8No3ouAeOfHJkIdfOO7B8w6GI/PhUSPP/54IywaAfPMM08Or1sOAO9dd92VvvzlLzfSgm/06NFp/fXXzyN4Njyal3TgX3DBBckNf8SzvIKrmwkwHScU3CMhTm4KrM4yCK+c6Bte/PbkQDEC2rNeClWFA73nALYDO/affialC87v2pi30kp5o148oscUPxv63llm2bzBL/36bOZ8u5YEWBqIbsIMxQQvGwR9N1EiwoF7fuKJJ/KHgK666qp077335mOB5sZSAcof5cXadZ2777778mi9OrVeB0sY9+mzY54P+7CxLzoUXyvlx1cD2cHPJkcdSxD8Yrqe8JiWDX7MNNx66635w0aG4zfDAU/YNxA/GywNMX31GXiMnbjx0nyiX01X3tubA8UIaO/6KdSNMA5ERVBf9PF5lN51RO/WlI77SUqbbpbeXmjB9PqUY5JH9BjtvzrlmPT6fPOltN56KfHVvT/fyMH5lKLCV8vXZ9YxoT3xjfsCouK1YD2lE67T/ZFSzk6vp6GgvxgBQ8H1kmfhQA8c6NZpe0SPK2533yONW36F9ErjiB4b+Ebn43qvTTdjevvzy2eYdMGFKT3+ROOI3uTq+m701Jxb76E4bR9dLZ8ENws3vpXfm7S9gWmVx6TE9TXPvsJPCk0lzdBxoBgBQ8f7knPhQODAhHP649/pOqJ3fdcRPUbxb3z4w3lU71r+26OmyKN+Rv/MAiQu4rnttpRefyOP8vtj2n6kdPwjpZxB0Mpj4UA3DhQjoBs7ykvhwCByoHpEb4ed0vill06vTPO+xBW7XTv2R6c3R0+Vr+BNK62S0r7fT+mi33et/7MPoJcaH2XXUuFVpwqq74PIlsnNqq6ssezxeXLzGqj0A0HjQOAcqPIXvIPHgWIEDB6vBySneEaaDN5mR/gEV4175513cszw6gzqb7qTB73x+4sf4GmpOzmi99//pnTle0f0Xp3z/UHhj0pct8tHdt5cbLGUtuYinhO7PsIT6rU3ZSowhQOFA4UDveFAMQJ6w6U2h2Fn76uvvtrt0hQVG5eHvMInWyc4YAnD8TzsXEstHEvbN+NBfkYMzZ4bsCjuO+/sulFv620mPqI3xah8Rp+z+pzZTwcdnN7laNlzz6aEwRDdhHL1ungxbXkuHCgcKBxowoFiBDRhTKcEM9ofX7mqldmAl19+udusAAo/wvEeZw06pbyTS2dDQU9A1GelWknAa3bUARfxMFW/z75p/MpfTK/ONlu3r+iNGzMmvTr11Gn8p5bIt/Ol03/FZ+m6rtudsGP/PfR9M1Iko/iFA4UDhQN94UAxAvrCrTaEjYrd6f5IJjMEOOCi0o8Xk0T44fvM+vm4lN55O/3vmad6XEt/TxnXcASFzyY8NuOxKW/CEb3XxozudkSPI3vcu5+4e/2ww1O6+tqUXnqx64hew3qowV+CCgcKBwoHBokDxQgYJEYPdDbMCMQ9ABgEGgV8/ATH6J+RMLMEvueHYfDXUmlTPgD+92pKJ/wsXbzcMimFJZIei88RvUcf7bqIp9URvemnT28tu1xKO++S0jlnp/QgF/G8t0ejVT7VGYpMcvhwTjVtj+WtJijvhQOFA4UDNRwoRkANUzopCEVfHdW75k85GP3z7XU+cMJ94f9lY9pIc2+NS+n5/6QX99wrPTLDDOmemWdJiS/BcR9+vDgnX9s7vutCnetvSOnoY/JFO2/MO18+osemPY7pdV23Oya9Ne98adz663ddxMMHWTAsxo/v7Yb9+loo2r2eLyW0cKBwYEA4UIyAAWHr4CKN0/xO/0PB888/n7j323vIuT8dp5EQYQeX4kHKDYU6flxKjzySXl599fTC2GnyTvwHZ545pVNP7VLab7yZEl/R4wrdXXZJ45deNh/Ri1/Re3P0mHw5z7ufWz4l7p//3fkpPfFE11W9fHq3hauO8KvvLZLWRhUboZYtJbBwoHBgEjlQjIBJZFy7JEOpuAyAMeDUP99aX2yxxfIHUfgi2nTTTZfvT5dulwR8H5b+a6+mdM216b5PfSo9M/XUeRTPSP6VqaZKadllUlpttTRujlm7HdHjbD7xr350gZQ2/Xoaz5r/rbdOuIgHLvWwYW+ytXSXUdHMWJhs9MOyokuhCgcKByaVA8UImFTODWI6Pp0alQKb/Ajju+IbbLBB/qwq5LgPgM+m8qlV4nE33nhjty+KiUt/EIvS71k1ls2jdmQNHwPgjDPTv+aaM2/Wa3wqd9SET+YyrT/FqBz3ysyzpHdWXaXrwzsXcxHPk3nHfifwx30fMNZlIeiOtEeYeFzUGaF+r5SCsHCgcKBjOFCMgA6oKjt0Rvoof34nnnhiVuys9f/nP//JnX48KUCxnBUYzkbAxNU3PqUX/pPSnnulR6efIY/qvW5Xn8t4HphpppQOOSSlW27pOqLXy9v3oq0xcd6DH6JseOcDhoD7PnhWJoiPSj9+QW7wqS45Fg4UDrQLB4oR0C410YSOaidPp77jjjummWeeOd1yyy25k3c5IKLQACBsxBgBbPT738vpjaOOSo/NPkfewKfiZ9TvbMALY8em22afPaXzL0jpFU5KtF7Xz3xtN+0fKpvRvbMABmsUID9xJkC4OpkxbfELBwoHRg4HihHQ5nWNMo+juR/84Adpqqmmyt8yl3SXC+jwgcWns7fzHxlGQFirH/dONgbYD5AO2D+NW2ml9L8ZZmwYBaz555mAHx6S0svephjSy9h8spDd/r0wEkKawXzUSCRPPpdLvSMPVVcXVoUp74UDhQMjjwPFCOiQOmeK989//nMaPXp0Ouigg/JVwEzvejLAkR+K3zBHeyPDCOhekVE5Jqb6X34pbxJM+3w/vbzCCunhWWdNr39tvZRe5PKe7mk76S3O+ES677///nTSSSelNddcM6266qppp512Sv/85z+zgfjCCy9kUGUmpivPhQOFAyOLA8UI6ID6dhS38MILp2mmmWaiO/+d4qUoKH4693j8byQaAS2rFaPgxZfSc3fcOeGYX0vorsg2Xg6AQGYBdHfddVfeL7LMMsuk3//+93n/yGyzzZbmnXfefGwUOOREI9F0xS8cKBwYeRwoRkCb17mjNZYBmAU44ogj8miO0T6/uNu7WhRHw8PZCGimm98Lr5/mr/Kqp/f+xtdTfr2Np46tZzf+sVeEuyEee+yxBpojjzwycU/EWWed1c1AbACUh8KBwoERyYFiBLR5tTu1P+uss+bR3SOPPNKYCbDzF0YlQJHiPQDD2QhoWn3vae2mIN0iuC2QNFXXVzzV9AP8rgzEUf1DDz2U7r777pyzRiIzAhgBv/3tb3M46dxrMsAkFvSFA4UDbcyBYgS0ceVAGjMBZ599dt4MuOSSS2ZqY4dfXROmc497BXi+/vrr07TTTpuNCItbTWd41deweOmll3KU78NJgTjbQgHhrWXk3WeVLWE+G8c+DJZkNMbEA48Ic4Mm4ZFv1IF5x7TxmTQ40wmvT1zdPhDTKCtrr712mn766ZP1GNPnDIb4L/II/vIO7ZZbP5JpGuvBslo26ymm6bTnunJTrqqMxHef4UNs5xGXMkOYfIM3pI2biuVt5KXPxMlr0gob8bU7v5Uhy+y7dFtW3uMz73EZVvhO9IsR0AG1Rgc+atSovCEQQYwNG/LZM8DGwWaN709/+lOacsopM45qw+1N8e08bATkV6WhN3jaEcaRcrUzi3sqfPb8PeVQmZressEreCzPDJd3dBw98Y6OmM6I+gSWNNJnHfsO/vgsraS3kzrllFNy3V944YWS04hrBAzRg3wke55VYJJjeQlH7mJZgYHXwMBv0+qLo9P95557LhcBGVLRWibKTl33VGbliHTKojiayayyHevINqCcgcM6UYGCz3ozj3b1pR36oBveUA5+7LPBJxwfHuMPN1eMgDavUQRPBf73v/89U4sg2pARUH66qIDsMP7whz9kJcB0sOnoFHoj0DR20qhQ+BjRoYcempZaaqlGmHl3si8vqp0CFzHhLD/PdrjyEh9+xo7ROODhWVyeIYw6Ax68bvyUBuJxdqRPP/10+shHPpL23nvvCTHvxUV6jSSdNLIHAPlxGeCpp55qKBLxm26ofHiBrEaewRPL0Iwuy056eCce5T7WRzMc7R4e5U5aDYM/1TpUhuAfcPAAvkSHLCKTush34JFlw/RjXZi/bcN6AJ/5ky6Gm1c7+ih7yqyTp5bdcH342SxOmE7yixHQ5rXFsUBmAaaeeurGTXCQbEfHc2y0CKgNFkH997//nb773e/mLwhiBFx00UW5xJMixDfddFN63/vel5Zeeul07bXXtjnnekcenRb8qvKDMPlIpyeMnQX8t8Or5gS8cH2JIw/rz1GYeH7zm9+k+eabL62wwgp5vZ+8geWHw7dTNoy9ILPMMkvabrvtGmWJ9FTLHOMG89lOlzwpg0YR78ShsKQ1+vDAkSnhEU/EMZhlGai8KBs/5C62ffJDVqLs1NGAHKm8q/Gt4uCx+QEHn8kr4oKuqPCbtYtqvu30Ls3RWG8mQ/AAeGWxncoxKbQUI2BSuDaIaY466qg0ZsyY9OEPfzh3AgoePr842onP55xzTjYeMCDizw8JzTjjjOm+++7rsSQIO43+tttuyyPKzTbbLDd4OobY6faIqAMA7Njo7OClvHaXveVVycIbO0jC7EhiUcFlBwmMOIAhnI4mHu8jnHyBhe848+N8/0ILLZQNQp6Nl+4Ie9lll6UFFlgg7brrrhmH9cgLNMQ0GWAI/+C1ZYlkyE9lXZ4AaxzwsSxMXVtvkdcRb6c9x3Zd5RPv8MUyWzZkCtlS9giHH8oS4chm1cFXYZBt+WyYPLVNRHqII42wMa6aT7u8Q2sss3QRbjukXJQl8tgyCt/JfjEC2rz2tthii6zEufAFR8O2cdkgEWIElF+1Q1VYbfA0foW5maVbZQkjsQ9+8IPpQx/6UF63rVNc1TSd8g4v5A18ValDP6OCyCv4LCw8OO2009Liiy+eTj311NzZAuuP9KbludrRPProo/m4HssqF198cc5XGNNRd3bijvYeeOCB9NGPfjQtuuiiDTmgzpUF4JnyX3nlldMqq6ySO2SVCPn87ne/a1SNaRoBQ/AQ+R2NIXhAfcQwyYP30A5/4Bm/CCdO+Wi6TvQtFzMkyoL1icFj+6as8oPyU9fIFstByJpOGN/lEb4/8kGmkW1k3H4C2YfXvpsWeniOxpjtxHza2Ycn0O/sW7V80o7MtUObkZ7+8osR0F+cHCA8NERG8rvvvnvOgQYaGz7Cq5VqowSQMH4KtGHAKMji6Yn0TTbZJNPA9DLp6QhwdlA9pe+E+AcffDCxgY4b9pZbbrnscxxT/kWePf744zmeurnkkksaU9Lwhc5PvpKGOpBf+Hbk8IRO88wzz8yjez737Aas559/PrOMtLg4Rck7s0PIBB20Ci8DTvj76U9/muM5TfLFL34xfeUrX8m3BrKvYJdddomgbfEc5eiKK65I22+/fVprrbUyj0844YS8HEA9yEd5yLthfEvj05/+dKM8LhM0Ajr4gXsfttpqq8yPNdZYIx3Ch68mOGVEmUGGkCVmjJCtqJjhm/zCJ22Ua5U8qOEfso2M0yaQ+SjXwFAnpueZi8yoAw0A85LWdvSVk7/85S9pt912SyuuuGLaaKON0s9+9rP07LPPdptphX75zXPsb9uxbL2lqRgBveXUEMGxF4AO/+c//3k3gVRh2DAhjwYZ3yWZkSHORqnw6gtX53PenH0A3D6nA4+4DOtUn3L87W9/S3POOWdab7318tXMdAbwXAdPLS9n8D/wgQ/kzhG+2gkCE3lPZyF/9cFXV0fU5WKLLZZv9PvHP/5hthmfSt7OB1zs86CTp15w4rfDpzz8OBVy88035/0bfFb6yiuvzGkpi8ZNI7MhfmAU9p3vfCfNPffceRTKsVZkPyo868ByyhNIp76+9KUv5VJoJMi7IS7aZGXPdc9jx47NCvmCCy5Ic8wxRzrssMMyTsoXZQ7Z4VZIZMn+wcyBU1YJU2bwIx+jHAOPjGMIIPPIPo56iPlSH+ChDph9wmkI5Jc2/zvuuONyW4Kvl156aWIpdaaZZsr7qNiMjaEgvyKvDGvz4vVI3ns9XY+gBWCgOKBgKVS+0zGymY/GxU2BNjzh9CeXLhSCeYKTfMS955575vzZXR47VeLpbO1w7Zh9jzSJ2+k24yI+wwbCN19ogxbLRjmZZmUUqZEDTYxMb7311kwKsE6/ErDgggum97///TmdSkl8xAtrnoTBX/liPGlILw/oaOh4PvOZz+TwmB4c5iGfd95551wvbBikHHa6lM+8pI/0A+0ivXHmArlhNoJpaR30KhP6hx9+eC7PVVddlcuPEmPpg/JSHtLUOcNRlF/+8pczP+UV8PIAH9iq8UMY8OLBj2nq8uzvsKicwS39Bx54YObJNddc05Bbvv/ACDWmgffQjOwgQ45ukS1wVctsHpYTGH7KIvHKEzC0EWQe2de5BCCt+PRTq622WoOXxpmmzpeGmDfPGhaxnDwrL3W46sKgwTyIr6tfllqZ/cM5K0X7pzwa2uKOdPamfKZrZ78YAW1QO3ZACqudOJ3gYBgB5g8romDTEXziE5/IGxP5IA0OGmOHTxgNAxw22GeeeSbDitfy5MAm58GNGyhf2sDPposrNRIAACAASURBVDpooywcu2MH/RlnnNGt7MDBC/mBf/rpp+f6cHRqfVl+0pCPaXiPnQbvOnnkO50bhh5XQ//yl7/MweKXjwRaDtb26aSYvYgOPOZv+hjf38+Wz85Z+lA80MEokk2ojK5wyJTlQdHzzBFIN78iK+IAHryUwzJJP++GAQ8vMAIMA2+UO40ncHk8LvIHeNKaBpyRDvMdKF8+WGY23nG508c//vFu7S2O8EljGZAZrxW3LiKtlks+WDZ9YVHuGgDUrfiRefoi2oA8xo/Pk2IERHlFZihTnVPOoPf888/PSx0q7Dr4ahh0klcsr3khN9Ae+zjg2Vez/vrrZ1Qx/yruTn8vRkAb1aCNF+Gk0XI8cDCMABsyrIiN8o477siNg5MJcTQBbaahcfhM+tgw6XCMt/OR3Y6IfR8on0Zv4ydPO0PzYx2TDuDhhx9udHh2FHSAdhSkwyDiM84qcOOAs7OM5VLZmBfrttYxYVVaMK6ghelcnB1PhCNP+A1uFCdT5hplsR6kx7wHyo/yYh6Rf5dffnlekjCuzj/++OOzAnPfi3xFZmKZTEuYP8KQTfjGejmOOPlkGhWbtAmHb5g+YfC8Lm/x9ZdvHUd88BRlS5m+/e1v5yjoj7IjvOmRGeCVBeOtH8oT2ybx8NdyRhmzrRNvXSDzyD5tQNjIY3hF/n2dCYAO8+PZeuIZes2Lj2Jts802aa655sr7Ra6++mpAeu2gr8o/wsgbXNDOPhQdssBSCPugcPLBeNrXYMiH+Q2kX4yAgeRuH3HHTgghu+666wbcCFBZINAIOu/4/OyI1l133VySqOAIqCp2GywNmZ+NxI7KeNLyXG2UfWRXn8DtaOz4SMzGKTq2+eefv9H5SGssG/XCNCwdBZukdHYivkdfPIbFujWM8lfDv/rVr+Z86PR0ERfwdkisn0PTnXfemevCcNJZXnEMpK+8QJvy5JS0+RKngmI0q0KCTjYsUo6jjz46y0yVJ+KA33U/8sRYphOHp5EPpI2KRdzSSby8Mox3cER5lYb+9ikP/CBP8uMdx2kceOKsk+H48tH26FcjkZ3oKKtlM9yZhCjfljOGaeiaL+mRfWiiLchH4/GJ66sRAB75Th7WHXX2r3/9K/HhNOSD6Xr2RCBXfek3quUnD2i1zPrbbrttpn/HHXfMM4XAGWcZCdNBs7Qa1ql+MQKGuOZiA4hCh+BhhQ7GTAAsiILOMwLuBrn99tsvc8lOxw6AQBoZO4e/8Y1v5Omz73//+w2OipOR3uc///m00korpf33378RPxgPcTQu/cywuLFO/tJ5rb766ulHP/pRgyw7G8r44x//ONcF067UWewwrUP48uSTT6Z99tknsTMfvpGnnQVrq1zcww5kdiPjSCufgMUwoTOl89NJB+8+k46NcNwGyL4AyyYuaRLHQPnka57kocECL7nYiN3i3FiJgyZ5QRr4pCHzf//3f1l+2D+AMo8bJEkLvL+MbMKfskh68rQNkQ8Kj1Eepw2Y2mXJR8e+BdKy8Y44llX4yJIKFrg6BWL6/vRjXbHXg+UppvZVqvCRDXf33ntvzjbSSACyAiyyE+UAvPyQGcrCyQvujYC/J554YqMI8Ip7QDbddNP0hS98ocED6ULWeUb2aS+0BXlj3eNLb6zjRiZNHkxvfWF8cDxxiSWWyKN+TodwcgeHYRDbnW2hCeocLC3CUA5k1LIR/sc//jHLDvTzoz3hTIvBCp2kUd7ENxz8YgQMcS0qaJBhB8Yz4SgKldRAbQy0EdKgfDb/ddZZJzcKTibg7OChTVg2KS2yyCKJy2m+9rWv5enpk046qdGR0GgZqTiVvtdee2Vc3oeeXwbhj/LRiKGb9VZ2zzO9yHQ6yppjWHSSjHKqjvIy1UzH7E2JdkDgI551baYPmVVAmbhxj2cccZ/97GcbV0Bz/FB+Wu/gYge/Co104JbuSBeKgOlzOi2ucbY+wOnzYHVY0E9e8AR6+aF8x44dmzddsrFNmpAHZQ0YNgLONttsWc6RIW6lhMfCW2be/RkWffiAojQdHTc7u9nwST5saqMtUe84Ny+ee+65jTbGiQTrdbB4B73OimCwsgOfJRRmqOALz57yUHE5s6FCxPhBZpAdy69MUVbqg3sDMMioC+6ZYBnMGSSMC6bZ4SHKF4fBqpMn1AttgLYATpz54ZO+rzMB4OAeA44j0t9wSofROEuRzRz0SFMzmLpwaDYd9GIwsdzCpkfv+uAyNTYKM7DBkUajKxoBlr8un04LK0ZAG9QYAslPAYUkOqHBmAmwY8GyV7Clg1EZDZuOEuViPPSpmJiee+KJJ3KDwqJmMxOjfp1p2IELLoyGwXR0sHaWlEHFC/3LL798psl1P+kijlEktFs3wKJEmEXQGec7nYrT4CgzDAyXD5hVYYMcig5lg1PRSBNhdOTkA++hg1/VkS/h7qjfeuutM53QK07SyPtq+v5+p9yRThUI9c3Pd+QK2qNDwQHjen6MUznGsGbP4GBEL37qHIWKvMEHdtrTuR900EENA0A5n2GGGbIhi3IlPeFxBqlZnv0RTn2Rp3SjvDH+KQ8b1nTwVxh9wvghK8gMsqNTpii7P3hCfsx2oewYZWMMcQ04GzhZfkRuozMvwtyjRFsg3B9xPENzX40AZgYxeCjDDTfc0JiKjzQoW/jIkvVmeIStexYOPlgelhqQBYwnBgDIGnjZdEg5/GKr8OIFB84+xfBO9osR0Aa1p3AqYJBEYx2MmQCLH5WHjYxOFcuf0YNO4ReGcKcg6XhoQPxwjkaIZ4SMsiKdIxmnFMU9kL55koeKmql0fnQSdhTywfLRCVAudglrBMQ48EXclMmOg472Yx/7WN4ZzxQvU67ij2UHn3VPRwv/+HIkNIkr8saRCUYANDESxEWlKY0x3UA8Kw/ilheMMjleZWcqPZSHsvvOmjdKgA4ZeSFeo0GcdT5w8gYfnsEH+Wsa31FwwMTNX8DcfvvteVTMfgRlwLSxjgzrb1/6bEPgP/jggzOt0GQbIjzSp5InzK+MaqAiS/JXOA0A8KD04MUOO+yQWAtfdtllk5cNmQ44+yWeCdcIoC2At64O+moEMP2/xx575OU5DBEu7ILvyDL45Q9+pM2ZHGjryUW+gYdysRwCD+A1zvbnBkhmsbhWPebvM/C2wZ7y7oT4YgS0YS0hkDR+Gi6CSifJWjvCTMOIHYON3A4LeL8PwLM/FR5KwzCfYQE4FWzxe3SG6VSdjUUYwu34eWaXMoYDl9Tg7DzI0xF3bEyUR5zgYT2ODU5MXbK8wLp3q59r+YwkwYXD9zkHTPiLdGLYQBMjdfkKWOwwTEuYHS3KBCfNwkSfvOHlhhtumI0MLlphepNw+GH5fY9p4TX1Ag8sg/DAQYu8P+CAA/IJAZSfeE2DX1eWmJfPyg7vKqPY4QrXyo+dMvT+6le/ynLADIhO2qwH6HOGCKNBWRbOdK18YalLZMH3WD/gxfADhrZh2aCDC2KYDkYJylfyi8+8wxf4jSxCM0sPreTSOPbBkIdlsywRfzTe4B3LRsxOxJG96ao+5UVWkJnYToFTJkyj8cs7ywGzzz57nv43/yhnPMtDfQ0pDVTwyG9860B448y/zo8wLBtuueWWeUkAY407JqgjYXiWxiizdXhjWDRUScfsEHUOvcz4IYe2FeSYK7npc23rEddwfC5GwBDXKgKukEsK7wgljZhjYAgrCtHOSziVdnxnOp40KGJ8LFqVPXh4xiAwjM4mdg7gsqGxgY3OwnXwSKedmo0HnzBGduTDtKKKgXVZrH3ojY3XtHYa+NyGxxQx6/PMhPDc6kdDZRqRtVMcNIqPToM8zCd2vEyFQieXIcU0whIWy8tFLHQMsWOO8ZSLdX8c+RDHtCuj4WOPPTbzJpadjsn00kta1m7hOcoj0m7Z8OW91wezlhrpBp91CHwrF2UqpgFfpKsVDuWQ8kgH9Q1//VYBNGtggAs4+IEiYtmE0T/5RXrkT6u8hSGvZkaA6dlhDhxyQedP/izRsKFOPPKWNFFeeMeQw3jEmEXmuIWxlWwSx9IPBg744ZM8lk+Rx8Tzzq2AtN/ezIiAB1lBZpAdXcTLM3dj6FD6KHL6ANqpZScevuioixiH7NMGaAs64/GtA/M2TthmPjxBNiK/ac9clcz3SvDZO6KcgScq9mZ4CY9tTp6fd955mVZ4oEMmoBuaXQaNM6DCDUe/GAFDXKsInb8qKYRPO+20WWC5DxyHoNJRKdCEocQVdhUR4TQufwp4RjLhD/w2WBpB7IAB2WCDDXJnxNEc4oQlnbA842jA0HThhRdmepneBR4DgnU3NsLhYuONZYDO+J6BJ+EPuuxM4FMsY0S3+eabZzrpOCMMdOD0eaYczDSgrNzoRxrpjZ0T+RPOyNKz2z/84Q8zTtJgGFlXVR6SD/ipc0aSOMvCszSRnvAjjzwyl+Gb3/xmo27AQf7izkha/FHvOsvR27SmU3GSjrV06hiFi8Kg3lEslD3yjLSs2aM4+NANcTh5Ku6efNOpgHyHDzjepe9b3/pWzo9pbcKZCmaTHC6WOfIcelBQwEcY6yIn7uFPWHgtfZaTd8PAzyY9yuJdET2gztHICjKD7MRyExlpJk/qgmUpNgLSLlG2yqO0YCS4J4I00gd+2kB/bgxU5ixnNBThGxv0mB1kEERdseGWq8yjEW3annx5g3HOYAlDFTzKB+kpO0uX1AF8GgmuGAFDXMs2vOhHkjgexIgeoVWIjfdd33D92MEbhm9epnM6kHA7J9IyLUljYLc/DdIORRhwES4e3jnaRefPJ4dxzAIwOxA7VuHJz2dgwQs+w8mP+FY/0llO0pE+NupMROWPhs9uccrGkb5YHsuIDz5+wPtRHhSvdJIXTpotI4YY5WYJhxEdx8/AoQMOHOIhnGc6QGcoPJZJOM6y8Qxt4KBDpCNnRgA4+CRNwJs2I2jxBz5nbQBTAbRI0ogyD8pnXTLdygwTiqnqoEvHB5AYjbJDW7qJA0ZeCtvMFx912dNMAEdVyY/NX4zqkQFnuVBG4qrKjzIRaUBxEt5KNokDp0o2phcn5Y5lZZc6ZeE7CpEnMW31GVkhDbKDDFkn1fTUMevc1I0nSzh1JDw88Jk8SO+PcI1O2gL1TdnkGb51oBwYV6W3+k77jcYA6cAhLbYX2hWzaiwVYvhGvlVxxvdoWMB3jHKuVz7mmGMiWM6PDYOUgz08Vf51Ax5GL8UIaKPKRPj9SRbr8nT0rGUilAg+Qq1SofHY6ExDpxMbIOmAjx21sMQJa8Pz3c7FzTOkifTRoGJDsVHSiGio7Pz95Cc/mbMiTmUd8yTcxi5NvFsm82vmkyZ22qaz47Us4LTj5XZAlkRmnXXWXB7pBpcw+qSHXi8LYme0jnDLROeB0ufoI5vhhHNfhWvO0Bc7JWmXbqZ24R8b1iLt5BnLwDsjQGA5vYEDh/h4j+XKADV/TAezL4KpUWUq4qhJUhtEGsvlfguUsnUNnywjvKV++KIhSpn9A4QBq4vPhtX58gg+1BkB4oEX7FMBjhEgM2vMDOCUFZ6lkWf5kYEm/FVllfxb/cAnDaAQVvmq5g1NGNEo2t448CErlAvZwVkG65HNdhg+XIuL3LOhFEe/wvFenOUCH866jLQj0+TjZUGWBXierQPzF1dG2Mu/an8AHeKRFnjHUok0t0ItDyKMBv2+++6bcWAcgRu6uQOBJVT6vN60n4i3U5+LEdBGNWejUughTYudBoby0tEQopAixAi8DZB3fnUNhbTAxvQqM/ATR+fE5zTJl6k4XcQXn6HZTpM1Q9Ixe+H0OenND1ho04En4jJ8UnzzsPzygzKbB+vUKB8+sYur0kKYdSA++INBQ7k85ihu4FFk4GSHM8YFMwzw0bVxFTUXu7B8Q8cDTeIgPzo88HNffKQLPDrp4d2b9txwSViENU1PPsqAfCNu6IK+nhw0m07+svucaePvfe97OTnruX5yWVginI1hzRwX6ygH9OLPeoL+OiOAeOTSfKkjYBdeeOFcR2YhHurZZ+iJShrY6rvpe/LlpfWtTzrlj7AFFlggyxF7DnrjTIvMUK6oNMFHnbA5c5555sn7UzBKCQMOY5U0KHV2xXvRl/sCwC2dyDywtAH7Cngqr/CJpw5MY1yrcsAXeQNcTKM8md58eY/PxvfkyysuH+KyMPaD3HPPPY08f/3rX2e5nW+++brNjPWEt9PjixHQ5jXIMSE3+bERCUdDsYHYuVXDeadxAQcMHSEdmA0hI6o0JuGMo3NGQdCBsLEo5mtDBxa8Nl7yw3AhHTMBhMepZuDtnMxHvKQ1DtqrtAoffcsvfG86FC4jgT6mh6sOWiyLtACDcuUaZUZp7PamE9VBN9OUKH86QqZcdazxssbI9CIdD+uR1alPYFmScaMf+eAsv7zWJ461UsrAyQMuKsJBN2mkPwf28IdcQDMby+xYKY/4ekieo11Ogkek5ZIeNrdxLp8z6CiGeP6cPLlbgnyZmtZwkfexnD3lb1lVQL6Lg3fxg8td4XETHeFujlWeqvnKE/Hybl5V2PhuujrjQVlV6WI4Ug54B49645QRr/hGhqwP6UPZs0GVi4Box9KEYYahzgU93BTIfh7zVRagAVlH5pF98pGfkQfkZR3II/NvVQ4MD44csgnZExecvkBm+LG3hHtHOC2A0c7sFzNXlLOOp3V5QS+0RHoZnHCBGTRzugajkKuaMVxtT9V+qw73cAgrRsAQ1yLC2aqxXHTRRXkKD2E9++yzG4oBsu2wTB+FnEbM5zBpvF//+tfzjl5G9EwN0gHTUO0MaPjiAq/hdDAYADR+du1HFzsJw6GDzpTOxtEscbHTiO88x3x5hy7Lg9/TjzQ4G7rPdkRdse/RQMeLYmJEyJEq86LMltswYHkmXDrZsEWnGW8WJJ5bz5gGR8FLizQwDcspBjt7aJJ/duIodZQmyyg4OyBpIkw+Ul/eJ+BshvTlxBPqMKY1vOqze51RO8fMcKRROcmHaprqu+Uk3DQoNEazXnVLXNy0isJh2tXyqnyAqzNWq3n6bn4qIN+lSZ7BHzZ6cRqBaWCcdWAawii7fBMH4bHueDcNfquf9atfVVy8i4vrlTHsXEqSDvJr5ZQVeBlvuzNPjFJO2sS8yZN4lhI4xeC7+ZiWd2QdmXezIryENssNDM/WgXwjrCdn/siKpy6gx5NB9GG0HfZuCEO79VPfPeFXliOc/MK4YaADXvAhg9KubMR0w/W5GAFtXrOuY9LA3MgSR5KQr6CrCBjlMPIkDfezM4OA0thiiy1yGNeRMmXbm0bqvgCmu2kYNnzzjJ03cWzyAr/3fbcDe+1MaeBMazKzwoiwN04eqUz4vDNp6XAxpuxYgYP/wssX4u1QhbGezJ+NeFwqxI5tOkVdhLMMhrnMwGguHiUzL3FID+HQYidHPDTyLQNG44wQwW29El/FJc6++PLHTpVywEvlKt53L8/AD4xlbpWfPI3KU3hwWG8Yp4yI3aMCTH+Uz7wm1Yd+ftQLM2e0WWeorLtWuJUHYJAdZAhZqm7uBI6fOJUH0sl34iIMdYeMI+vIPLKPk6fAi49waOeCMZz1nl/KX1tzoBgBbV09XY2JTpoG5hqrDS92ADzbONn9yoiA3cI2RjoZLGBmA8DFpRy9cXQsdLDeKW4aDRE20HAfO6NdFAqjOyxrnBa3aYbCdwQnz5hNwQjgYymG9URXVIzgY/2U2QSmE5mpkRd0pvK7ihOFBh7yNF9wcfyJZQJOEzhSrn5XweldcIIHQ4bpe4ytyGPxAkd909FHpS9N4GCjIiM8PuBD/ZHWJQ7SxTKbblJ9z6hbF+Bh7Rs5jB8KknfQEmW7N/mCi2ldyga/wMV0Mo7RHoqMTXDE0U6AaxcnLcgBJ4H4tgX8j/XeE63KjCdTwIVsyXN4yg+85lfFCc80CJBpZBsZR9aReXGRTvmwzpAz2hUzShpXxlXzKe/txYFiBLRXfUxEDY2NdTumr1kLoyFHF5UADZh4OlbuqNcRZuPmYzN0mE7tCdPK5zgOaZimo7OxEwEnIw86Vzt1vh9AvAqlFd7BjEMRMWLmilTW7lW4PdGgEkUpObpS6Z911lnZOMKwsFMEHn5X66maD3xkWpPbyVifrFN6UVlJB/mw/4D64DiZjvR2voRJDyNwwqFHHKahk5YP+sZFHDFsUp6jjJKeo4EoDJaqIk3KFWGxLD3lCTztw2l04DFKyYOz5SxnOZLVIAGmpzrqKd/+jD/55JMzvXzjAFcnD3X5afjHONIiU8gWMqaBEGHis/JqXSA7yDSGPzKOU+ZpA9ImvMYKMsmaPXVHXbYTf2N5y3N3DhQjoDs/2vINJcuZa87t27DwbYQoYztNfQpi40b58UwDZkMNSpCd2RG2VcFZr2ZNkHX+2KHwzJEjGv+8886b19XsEMBnZ9EK92DE0fFzxhkaMVa80thd/j3RUC2HBhUdo4qrWl74XeUvsDFM5RhHTDxHnDEv8uCCHUbvzBzgkAHg6bjJE0ceGgE5YMIf5aiWhaioSOzspS2mn5RnZRSa2DDIBjSMWu44sNzACEcelkO/Vb6kg2Y2vnEfA2mQd9aRkUtm0Tj+SN7WN7wx71a4ByOOZTl27LMvgy9sQj9LF/h1ddiMJmQglsnnWI/UQZQtcBEW+RzlA1jlQTk0/win7FGv3LZnXeqbpvjtyYFiBLRnvXSjio6TTo6jKzRYftXGHBspnTqNmx/O9Vie2RlP58gO/t44cXDMCxo23njjfFSRBg4dKFQ3f9no6RSiYulNPgMFI7/YF8Hmn9h59TZPOmXL44jZztEyk4+OPGIHHuuKONMAH9OZHp88dXTo4MDo8qw2ey5I26w8MU/x4JM3ccqHRht5RIUBjGWM6fv6HOUSmpEXyqFcQU/kVeSNMD3lCR/AAc2Wj3pi5iouN4An8ss67Qn/QMbDEwwW93VEmuJzKxqirES4KFvwJZY9yge8i3Gmsy6UA2UfumKewgsHDYZFespze3KgGAHtWS8NqmicrLOhuPnFxgqQU9Q8a/3HBmgnTzwdIpcOcT7Wa3wbGbV4EB+7q90Uh1JFadAhaGTETjvS1QL1oETFpQn5RycYw5sRYtlivFPKdHrgASfKjp8dJ/A+Vztz3knLGiswvNMRQ08VVuVw6aWX5r0DrG0z1V3nLJtx1Ac0gds6NK7qky8wwMfOvAo3Ke+RL9JIXpRXHomX+J5oFRYfmY9yF+OoG8qOE4Z36MH1JZ+cYID/lCWyUcb6kiV1CE8pI8/wFhmjPqty5XvkP8/whh/1AD3KQh09tA35K52k0UXchhW//ThQjID2q5OJKGKdEAOATUN2XPg2smonawdggwSOxsq0I9dl+nWuiTKqCTAPcPFjSpWrRjlqFZ2dgR1IjBvKZ0e3bGzSGeZ7b3w6V8om/01jZ+o7Sgm46OCbSqiaPsL5DAzwGnUct2MJgB31OHhtJ20dAw8trfATR32SBp/3OKITJ3nEcOmaFF9eoIzcWNaMRumblHykWX6YF+Hwqw53te4mNd/JSWf7kieRpvjcLA+NINM3gyNcGGRFPglPPSlvhlXzJz1wtIXo5DVl0WioM55jmvLcPhwoRkD71EUtJXRgKF2MANbfVSYRODbKGK9ixkeBYESw0ceO2fiIqzfP5mGnIT7SGsdzO3YEcYZC+ntT5ipMHLGCh7JSdjt1eVHtbCN/Yicb6yI+g4+8dOQVcURYYciTcDt93vn5LlwzH1jy7S18MzyEg6PKZ8otffKrmldduVrlE2VQI4985DHKybzAAw+rebbCP1Bx0gDPY3uJM3i9yTvyKz5bfssccZFnlCX4wzt0WGfQF+Uvpvc55keYfBaHcMVvTw50hBGgIEeBrZueak8WTz5VXG4yduzYfCwsdnY0Yhw+PLIx6ssvbvli93TcB2BHOfnUFQyFA4UDhQOFA53KgbY3ArSUHe321zRlp1QYCp2jVMwCcC+91rqKXv5YHq1wjCTiuA+bM+Xbb799BtFgEL74hQOFA4UDhQMjlwNtbwQwwvVOdabEvTiHr7aNFGf5WdPHodxV9k7VMerXMDCOjXzs6OezpPFon3wT3vfiFw4UDhQOFA6MLA60vRFAdbCet/nmm+cRLYaAx36cDh/uVbbrrrvmPQH4OKf5MQB8hheswWEA8Mzuf64P5Yt+GgUYVBoNK6ywQmPdb7jzr5SvcKBwoHCgcKCeAx1hBKDc+PoaG9u47hWHMlO51RdteISi0FHY3Hp2xRVX5EKp+ONeCXnhsgnfJWcWAGMAeGYPXDrgOlGuAi6ucKBwoHCgcGBkc6DtjQBHruuss04eDZ900kmNYygjpeo4jodC53ieO4irU/lxJ+55552XecX3A/jKHHeor7HGGvmimY022ijHsVGwimOk8LOUs3CgcKBwoHCgiwNtbwRAJsdluPOdpQA/4eo3n4d7RXJNLHegc/Upit7Rv8YRvqN8R/rMlsArNgTiM4PCj2d+fHgGv7jCgcKBwoHCgZHNgbbXBCg5vnimMhtpo1eWQSi7SwGIK1P/8EGl77FBDQKu8b388svz97m5ppUrf9kkyOeE+aAIP77XbfqR3QRK6QsHCgcKB0YuB9reCKBqWAJAEfppUJSg0+LEu0HQdXHeUXCGW72sjVfDjIvT6YShKMmTafNWP2BYr2e07vOVV17Zp0130CTt+KzrQz83cXHDX/Ub3Sp901iG4hcODAUH3IeigY7sIptFPoeiNkqehQN940BHGAFclsP6ttemWkQ7ndjZeBTO6yuB9f51FL2jXxQpnZcKl1G0yjUqZZ5b/cBfpcM8SNeTExY4v3Jmmi222CJfF3vHHXdMdFUnuGNa0xS/cGAwORBlkOei/AeT+yWvwoHJ50BHGAF815pRNiNsHEqXzoZOB+WNY9SsMVAd1dtRER8NgZyw8inVmDYaEsJWfWck2LeAYtaQkJYqfPWdNO72J470r/JPwAAAIABJREFUN954Yz7ax9r9Nddc00jCfgANGg2PRmR5KBwYQg7QVmxnktHXq29NV/zCgcKBweNA2xsBKFOm25mSZ2+ATiWLXx1x886Nee6Ex4Bgl/xFF11k8uyrwIGPxgGdmRvwiGv1AxE0SA/vdIjgrnaK3TKf8BKNDuDXXHPNvIkPA4BNgThvSZRewqCpuMKBoeYABmzVIEX590b2h5r2kn/hQOFASm1vBDAqZmc7swGxs6HzcRYA5UgcCtWwXXbZJc0333zZGCCcqXWMgWuvvTbD+O0B1zMVBmYUVLb6xtX5KH+XFIiPH6iJ9NalNcwRk7MIf//739Nyyy2XFl544XTJJZdkMOk1jUaK78UvHBgqDii/zpwh98UIGKraKPkWDvSNA21vBHBvPrMAO+20U542R6FH5VqnDFGYO+ywQ1pyySUzLB0S6bhyOE6vO5qOBoXsu+mmm7LRgOHQ04+Zighz3XXX5WON4uqNTzmkR8Nk2223TfPPP3967LHHMgriMRQ0TjR4eoO/wBQODDQHlEvz0TjwvfiFA4UD7ceBtjcC1l9//axgzz333Mw9FLrKEsU577zzpt/97nd5+p5OiDAUJd9gn2WWWRI35+GcUie9nROjeA0K0vHTYOhLVTkCqqbB8OjJofCloQr76KOP5kuCVlxxxRwFbdH1Bn+EL8+FA/3NAdoMzg25PBfjtL+5XPAVDgwcB9reCJhjjjmyEXDXXXdlLtjpMHo/7bTT8tG8Z555Jsc5nc7LZZddlpZeeum8lLDddtvl+DhVT4BKNa7na2DE+Jy4yZ8KHB98/MAX8TRJOlFwVOqWhY8HccUvyyKUGUfcpOCfKMMSUDjQDxy455570tZbb52/6eEsFmijPPdDNgVF4UDhwABwoC2MABUe5VPJ04FwQQ7T7AsttNBEm+9++tOf5rhFF100s4V0puVDO9NOO23afffdEwYAOE4++eRGvEpfI2AA+NpvKO+///5sBLBhUPfyyy/nx2IIyJHiDzQHNHad9UL22D/D8V2utKaNcRkVTrmsLg8MNI0Ff+FA4UDfOTDkRgDKXqXsaJpiMMXPdL6fDmY07Lo7a/BTTz11PjVw/PHHN6b6SbfHHnuk6aabLp144omZG+Befvnl09ixYxvcsSPrBCMAomedddY0/fTTN/YGWBD55nvxCwcGggPV6X2Mdi7w4oIs5JJ2SZtjL4yuyKacKH7hQHtzYMiNANjDyMFOA6MgzgwYXh1V8F5V4pyhp0Ni9E+ceL7zne/kcK7K1Tmy8b2dfb4iSLlY4oAflK2T6G9n3hbaeuYAMkfbQuZ45qQNM1Mur/ktiuuvvz4joz1raPeMvUAUDhQODCUH2sIIUKlFpc4zip4pRxxrjXRATvnLNDobYFH43LPPR3NYRgAWR4d0yimn5FkDPqvbaWuWdLzMbnBM8vDDD28YNk65yofiFw4MFgdok8il7dYZOr5PYTi0xPY8WLSVfAoHCgf6xoEhNwJU8pCN0o9KOhaFDsUf4VUlSOfDJjqWCuK0JLCLLbZY+sAHPtBA54YlDYVGRBs+sBnw6KOPTlNOOWX+kmAksYy2IjfK80BwwPZI+4ryxjvthzbJld4sDVxwwQXdSKga7N0iy0vhQOFAW3BgyI0AOhEUXZzep/PgXRcNBeLogPjh7GjokPh6HqMSLgriU8McC2RzIIbBOeec0xiZVNc4zacdffhz5JFH5nItuOCCmUTCcPKgHekuNA0fDiBvGt2eUFEGMaidCeBuDZzGvGmGDydKSQoHhh8HhtwIaKWQ7Wgi26uKTyMAPDz/4Q9/yEcDOR1A5/TVr3612wVB3hcATvcMRPzt+HzIIYfksrBRkvJ3Ct3tyMtCU985EJU5J1Nsl963wWVebNxlzw0zB7ZJ4fqeY0lROFA4MFgcGHIjoFpQRhp2HnG6vqr4HJHYQdnxiI8RingMc2qT9yo+YdrRP/TQQ7MRwImIOEPiskY70lxoGh4csH1Rmmiw2/6QQY8IehtnXdsbHtwopSgcGH4caDsjYPixePJLtP/+++erk9kXoGETjYHJz2HkYoCfzK5EZSc3VHr4PhsXDVTD6vwIF2exOs2Ai+WwnJQBY4BNq84EyMdocAs/KT75RllvhTcaHxopk5JnSVM4MJI4UIyANq9tFMd6663XWHeFXDo4jYE2J7/jyGNGSQWiQouFqDMIYnzdM2liffFMHnWKtS79UIbBD+iVfpRwVRG7J+CGG25okAp83EjYiJjEhzhzR734TvtgiQKaYn3B22h0TWK2JVnhwLDnQDECOqCKl1lmmXw6gAtZcKVz679KU+GLsTriR9nUKWuUXBVWHFUfWBQU9RYVY3UJq5quHd5V/lVaCFcONQK4MdBNgXU8q+Lozbtfz4zGV7XOIh7gNBBieHkuHCgcqOdAMQLq+dJWoXxSmBMOn/70pxt00QHbCTcCy8MkcaCZUlHJR0XIMwouhvUl0zha7ZQlAWiG1jgtT/n5MQLHCGBfADMBlo+4aPD0hUetYKmraDyRB+0g0tasPlvhLXGFAyOVA8UI6ICa9+rkddZZpzFVDdl2uB1QhLYmEaWh4kB5oVTgLcoe5cfIMsY7Rd6bQqGkSBsVPsZFVFq9wTNUMPBBOYM3uqjg2Q/APQEuB3BqAB7KM9NMig+f4qyCOAmLdBEe4SLdk5JvSVM4MFI4UIyANq9p1judbt1yyy3z6MsOOHbKbV6MtiYvzqigTJwBiEQTHvmNwqmDi2niM2mjMaEyizDt+my5I588anvrrbc25NPPfUdl3F9lAqdy/9RTT+V7P/iIGLeE8oVNXTzCGOk1vviFA4UD3TlQjIDu/Gi7Nz7TihHAaIv7AnB0dLiB6Gwz4hH0h6KIfFThwQL4HNeXGV1GxdJbI+DJJ5/MHAW3MwDkGXG1K8vrZi1uv/32tP3226c11lij8QEhZJSPCXGh1frrr5/v5uiP8mEsxVmUww47LM0000xpxRVXTJyamWeeeRLfLjj77LMzC+OmRWcK2pW3ha7CgXbgQDEC2qEWWtDw+9//vjHS4suKuKioWiQtUX3kQByd88GcP/7xj+mzn/1s+uUvf9nYEY9i6wv/f/KTn6QvfvGL6ayzzupGjYZct8A2fbG8GEQ8M91/5ZVX5suB2Ax47bXXpj/96U95OQADgWu7//3vf/d7acify79WW221Bm5owQD5zGc+0zAWMLA0thqA5aFwoHCglgPFCKhly+AFOlqhc+U5KiKo4KIgPoNMR/fXv/6126YoO+c44jLM0e2//vWvtOeeeya+RLj22munY445Jv3zn//MBSQv4fHJgw7WtIRVR6zCx9EZyAiHfuD5+T5YnJTmKi28s4bPaJwPSX3pS19KX/nKV/LvH//4R7fROFPc4EGBLLfccnlUy3XTjvjhl7wmLNYVz9alZQYPfMB4m3POOTNvuQI7pgNW2oHlxw18q6yyimiGtU95ccx47bffflnJM8PAM4YEvIGvyttvf/vbfD04aTAKqA94xeZZcFk/xLt8kDNo0z9lK5JHmOUlPG6ElF/4PsdyKoPKFLKGvK+00kqJPUXf+973GllpKEX8pAOv6QHmPdIZ4SO/gTX/RiYhLOKMOICFTuL5xfYRZ+K8oZI8hYFPdXmaTrr54qX8Ij/CeY/0C0t8hOU5vtflF8vbac/FCGjzGuPbBygFFPQDDzzQoDY2KAIV0th5/P3vf0+zzjprnp7929/+lkejdJbgY4QahZvnOiOgkWFK3Tomw6GDBk2+sRERHxuY8P3tk0e1UcoL84IPCy20UPra176WLr300rTTTjvlshqPb0f67LPPJo5ichKDMtnZgNOOhTCezYd3aSAMRR/f4Q/4P/e5z+Vd9M8//3zO2jrUJy2/kWQEUHZkEyMJJcXsy4UXXpg+/vGP5zr62c9+1qgmeCOvlHPekVuWJ3TWk+/t7iMryLE/6aU9qSyBUUaJt23hwxccik7+GE/4zTffnJdQ2GDMPgqceCMc4ciy+JThnCAsQ/IOLeIwT+H0rQfrCqMD2FgOYUhDvubNu3EeExVG/PGbMhoIpI/P0mgaZvhwsdzAxLKSL7QCQzg084u08V7FbR6d5hcjoE1qDKGqc6yv0slxRFDhRjAVYnyEU2WljxAfcMABOa3piOPHFxXBef/99zcEGxzNjAAaoQoewbfxxYYjDYTZeOvKMxBh5g2N/KCBMHiKwuXz0p/61KcaWcMPZgFsxPIHAJTP7LPPnsvo+jLx4MNFWPkgYvIWDj9O+cP3Z555JuNeaqmlchI7R+ueNPxGkhEAzw466KDEtz5UEtQL4Riw3JJ5/fXXy+Is9/KL+mHm6sMf/nCeSWgAVa44juGd8Ez5YxuinMoq9EcZ5B05s91bPt/hKQ4Di/Z91VVX5Xf7D/IBNubHM3IIDPUAv/1V8WvQEv7cc88Z3c0nrW0pRmC04IgjHx3PEZ6yWw77O2FvueWW9IUvfCHvl7LMxpmGGT6fjcMHHtzygjJX+VCFj3nE5wjXac/FCGiDGrPzlxQajYpsySWXzI03fgqZRhIFkPQKuYoZ/+STT85Ht9y1rVLCOOBIV1Ru4GhmBEAXjSU2TMJIAy0qM2mwHNV3w/vThy7oqHPwYO+99058c4E1eflqoyeNfAQWGHjw4x//uFunBJxlMa18hifQoKujJXaOu+22W95A9+tf/9okmS5eSMtvJBkBlJtPgHP1cBz1wzM2wlJ3uKriI2znnXfOBu1tt92WYfhTFhsBHfCATEUlGGXIciOnlA0ZVmaBQy65URSZRYEhl1EeKT64l1122SxXssPRuHmRFtw48Qsbw4hzZA49pI+0A6sipVyxPqTLeGBtTzxDu+3KuGqfI5x92T777JPbLMtH0g9MtQzigV7LDpyOcHkrT/AjfcTzbrxpO90vRkAb1CBCpWDhI2wKNF8ORGEvvfTSDUptKML4DoB4EHrW/plmRbHZaGgcjz76aHrkkUcyPuHx64yAagMnL0bA1UYmcTR06LLBGz5QvvSDH1qr+XrHAsfKhMXnRwdqGOk/+tGP5lMYLAmIL3ZihlE+OgM7lgw8If9YF5EWYOUdfJ5//vlN1qhr6RpJRgA8gd9cNsQyzBNPPNGoE/jHhkMcvIkyd+yxx2Z5Pf/883O8I9KozGLdNpjdZg/IkgYmpDk65rkqe4bJB9KyzwV5+vnPf55Lpgzllwl/yD4wbKqE38olBgY45FPMD3lFxv0Jx7sOOnhXqUe6gKE92n+IWxhG58SBV1hg+JnGOOKhWRw5wYS9NHfccUeeBaL+Ve7mS16Rt+ZteuAjTvM1P3zSwDN5ZFrCIi8M70S/GAFDXGtR0KukIHg0XoyADTbYIEdXBQ8hjmHiQ0hxjG45usVeAAwBOwDiGG0p3OZVtzGQxiFcRjrBarfRkJf5ir+qIE03ED750xHFRs6GSD4rzQiTI2Q2djuKSAdlu+mmmxodJXHyL8JFQyqGU2bjCKdzlRb5EeGdmmUtHCfvoIPfSDICLPtpp52WjYDPf/7zedkEvjji5FnlTqf+m9/8Ji8f4OPkdX6Z8EebiO0ixrXjM7TaxpA9165pY5bPeOhHnmm/HMlEXjilgVO+4SuyRxpOb9AO2BSMo22KKypJ60KYDByMEds74dFYEU5cGgWER5yUy3xNgx/hDTfM8hAuH+AV8eDSWCHeWRNx6LtsRzrbte1SeqDTZ8ppWSP9xMf3TpIveVHnFyOgjiuDGBaFSgElewTs6aefbhgBbBDERRiFFhw0ENIovMDed999adddd804mFbdaqutMg4aq/mKAx+Do2oEkICZAzYSspb9jW98I79HOq6++uo8yuA4HfE0sNjgcqYD/Ac9lIm8uTxmo402yuXRCFh99dXzyQCmTelANVLsZBhZYiwdfPDB3SiVn/rw7tRTT827rTHMnDUgEWU+6aSTMg9ZitHRodtBUU/kxRr4kUcemUFiXVAPI8kIoL6Yldpuu+1yuZHB7373u436gR/WEcy68847c70effTRmXfUB6NKjiXCY40968s6aFdfZYQMIMPI04knnphP8qy66qpZjtnMitKjnDiUGqP6GWecsXFyaM0110x8Y4SlgQsuuKCbYv3BD36Q91ZgDJAPxjGnhTi6etlll2Wc8BneEY8c46Dnsccey8synKrhx6ZaRt846Hj44YfTt7/97XxvA6eQSAuuhx56KJEv7W7dddfNfdn3v//9tPHGG6clllii2wVP4KJ8a621Vv5pABDO6ZxNNtkkb6q1D6Q90Y7pbzbccMO8LGS9074sAzRwrwR4OUGC8b3jjjtmIxIaLad9Aflx6yXLpezFYgnlF7/4RbrrrruIys768n04+MUIaKNajB0XDZ4z1ygENkcdfvjhDUppnPy0jIlQoBFuGic7rOkkaHgctaKTYIOcdw1EeNKTrs4IoANm481xxx2XGx4wW2yxRcNqJi0bDGk0TOcypa4zD98Hwq82SspBR0pHiDKBXvYF/OUvf8ln210GibxDeWD8AIsywcVOQljKQ0cLL1jHBv473/lO7nTouOgECWPm5rzzzst1FHlgR0XHS516DJBOyzzJdyQZAexX4fIfeIfccpQN/sEjeCfv8ZH5+eabL73//e/P+wcw2KgHfPguD/NDaBO+t6uvDP+///f/EstXnEy54oor8oZIFCBlcxSPDNFPcOIFOSSOUyfXXHNNlnGU2N13352Lah9B2weOfgBYFCvLLLRXNhzfe++9GV5e8wLv6TtIx0CCeyHOOOOM/M7mWeK5P2PxxRfPJzowiIHFQOAoM6dxqEdkGWMGx8wXYVx8hhFHfsg+vv0POHg2DiMEXPRd3/zmNxv9DjMfniDRmM6ZTDBeUNzMANJe4Ss0ISvkTziOfOT9448/ng0oeILxQn/hKaJ99923YZTCe9Lh4O9wcMUIaINajIpCQ4DGgSDSiGgYRxxxRG4wkKsQ6jsNZ1Hc4EYaHDgRcvCwwRBLGvwIsTjwia+bCUBx0lhQdMDQIFVo5omRMnbs2MS0Ls4y2bHwrrIzjTC+1/lVGHAYJu5oycdnRjrQy0wGU8uW1Q7G/AhntACsm8zsHIAxHc/g4p18OEUwxxxzZN4wNU0Hc8IJJ+TRBMaTnUTkMzjosOEhxhVOvoCXX1+MAHBTnkhjRjrhTx4Bp2zF+N48O4sBLIpaJ27fm/mRl8A40mOUhRJCduABP6a4qQcMA5ZYpJk4ZgGYYeGmQDpqOnXu0SA9syvyuxkd4Ih84n2onTy8+OKLc7nZCIyDNumjXcETZwJse+wDIBwjSNgo//Ad/rGvCEWK0YnxgAMHypnZL/LGyRviNKBR/NGRH3UGr5UFnrm+mTiOI2IYMJrmJAIKFwNPx0gcOOrLfov0Z555Zg7HQEDx46ADmlDyzJxxRNq2T9mYmQCXsxmkcVlum222ye3RY9XKIEdJmRHAIYfgZz8Bl03BJ04NiQODCvy2U+sKevkNF1eMgDaoSRswpNjp8cy0dk9GgI3CtMwAzDzzzNniR8BpaPgIPBfgINRY8Ao0cTh84uqMAPPAX3nllTNNjFRoWKRD4dHoPMEgzoy45o/OTJx2ds18kgNrB1hFFxsj+cpLFBdWPbMhNOoIJ4x08q4RAM+ljbzkE/nbwRrGvQPw7JJLLsnX17Lj384m4oh5kydGAB2pI6RID/F9MQLkB+liecizmq+w0EZZzNfw3vqUn3Lig6PVD5zyBHpYS4ZOFARyyihVZQAscvrJT34yG5Tw0zJJG7RHumNaYCiXaVBS1boXDzCxrRk+FD4jdJQcRyJR0ip5aIFf8AgDk9FvjGNqnRkl0kR5gz8q6AcffDDLKHDcwaADxhMDDBCiY6YAud5hhx1yMDwE3uXJBRZYoAEu/+kXSANORt44eMwIHKUOfeDhngLKsssuu2QYDUxmEpB7+IAhIf0AcQQU4yHWF7iZFSINcmXbBB44lgqgh70+0I6skheXUoHbjaTAb7755hmWWSllB592Dd+4YAkZBs9wdMUIaJNaVfhszLxjifZkBEA+HSfpEG6m6hF+1hFjowGOdVfi3ElMwzBffOKqRoAdOOmB59gWcIx4DcNnVMz0IXj40eCN550GBJ0oQBr0l7/85WxQkF+rH50LsKQhLTjABU7o4d18VHrEsZQCndwxzzsOHxh8nwknjFEF+wc4k26HQj6x081IwiwHU7TkwU5/RrU68/PdzoNwaCYP0vWHEcBHpTBG4CFlgFf8GPXBOzbaEcetcfhMNZMvMiDvpLPOh3b4ww+a+dGJM2JDNnlu9VMGIw/IBxrBxbXYOOF43muvvXIc+1DgFzJInVTpVTbx+QErrmodEE4ZyEdaMnAb/HELIrxg/Tw6FSGzAxhMyI1lhBeEoaTY/S9vKJt9CLhQ6NRP/Aw5sBgXzDB88IMfbGzyAzftFqULPaz3y+PLL788j5apc/oWHAYAPMUx4ueER1TWtiPioQtcGCLgYHRtnbsp1/6JGVAc5aDNM1vhkgXhDDo4RQKN7C/AQbcGCTQxC0q5GQgoYxlwgqHIM0YBI38GL3EZE9wYoBhlzA5gyOjIW1fXNxjXSX4xAtqktui0aCg2cvzeGAFREBFqGgY/O0F8YWgYxMU1tAhHHIrCTpI4fnYqNC42FQHHdCxxNGwMA3Yp824j0cIXl2ym82HdnTVGRjZ0bK1+wABLGtJGB27yxFlGnqEXpUwHiULRwVPKYBppAx6FiRHAWqmdk+nwnYmgoyEdeFg6gBcoWjsgYK1DaDIP8jScMpHOacYIAxydpPsFIg11z3RidJpszqTDRGYoA/zyTn86MdZjMYzIm07czV11OKth1iWdKiM1aOeHIeBzM98yg9NnTm4ATyeLo8zwQJ+pYuJdzqrSYxrqAKeiUk4JEx9xKD188EdXfY9xg/UMzVyTzFFejB7LogwSL28Z1Uszm94I5+gwMIZDt3yhvbBpDzj3AsEX8kA2CGcDbXTsJyAc4wD55JIt3j/2sY/lDXoYHCytWZekZf0dGJdwCLMuLA9h5I0xASwzb9LJJsU99tgjL+sg+x77JA0j+gMPPJDHhqEDb9jzgzyyX8E+BxieyYf8SUdeGCfkxyyAfNVnGQNjaO655877UdhngFwzG4X82edokJEHdMf+JhPXwX/FCBjiyrPxVn0aD503jQJBRiARblwVljA6ai1qRnrC4gOP0LKJDVwaAYRHXMRVjQBw02Bs9HbgjOSw9GlsNEYaJS52SNJAOOXhnXiVSk7Qyz/SkBYcsWMxuY3a8rBRkRMRGC2EEW+nE+kiPXjZwUz5HeWQh/xBwYs3pt10003z2v7yyy/fmD0gD2HgmXmSjzSyBovBQceEE978+mIEZARBJnyPPnjpzGJnaX1GuLpneKOT79ArP4xr5ZsOH16iaCg/p03kD7yRvs022ywrFNb7kdtIK/DxnXwjLcgJaeS1dJmP78RXYYwbTB9eOvLGGNapZDDuGM3ytURgLQf7fjByt95665wEHjgbQIBlW2SRRXIfwl4L64F41vzBixLEyXv3GaCUUdhOp2egwGvo4AdNXPJE2+HEAi7WR/Udg4H+QiMXA58lOzYXc/sfeFgyoG/hy5DMgnhcMtLPPgP21bCXgHJDBy7CgAP6XQadd9558+bISB+nmciTmU2WVeC3PAYfSyA60lkvhJmn8Z3qFyNgiGtOgasKFI2YTS09GQHAmZZGSwPTuhc3wssz1j0CD17eCbdB4BNXNQLELZtQCowG55prrhzErW0c08FhLdNBq+R5Fr/po08jBabVD5hmDtxRSUW4D33oQ7k8Xj4T4ShTpAteuMzh6NMOFdrqHEYGyp9ZAPimMx99+Ud+1gcbuejA2OCGizDA9cUIIB9oFAc+MkE4uOIMhTTiS0sMa/VsefSBtZ5bpSNOGuQ5HTNGgHJDxxrxUncYcCgFnWl9jz7lrSsPdejIUHhlzfd28BmpIkPONsWyouSJYx9PdOzBIfz4449v1DXxyi11A9+BwRDgOfKIe0OIw6iHf9YRmywJR0ajo21DFz9gI43QQn1FGskLWqhbYFWe5AV+4Nlki2L2OC37RIjjWB+bkd20qExDj3KuYucYNI56BTfOPiMaBM6IsGSpA44BE3lW91VoFAFLWaA/8q9ZvyDuTvLf6706iephRKuCpU/RfEYQezICgLcDZeYAgWZ3Lg3CDo/G6BS0FriN0saMT9qqEWCnQj42QHAwCmH0T2fONGVscMJaDt7Jr9pwxEd8M1eFAYe0k8ay82wnwE2JTOmx1hdpMA/LLG7emR7HuGEKFJyECUfZwE2HQRijB04FsOGJDot84AVx8quqIMUFbo5pcRTs1ltvzSRFOoDrixFgmaJvXoT5DN+gzXfzjOmaPauc5C+45Cv4Wv2qcOShnHoLJnIuXazfMj3LUUEdOMi7juZY/9Dp9C2KiqtkOTfPyQ1lxnzALW3mM1Q+a/u0Pb50iYO//FBwyAn84Nir/KcsjLpJ4/o56TCu4iY/ptWBYYMfvOMHXpz9CrJtGD4jYtKwux8XlSGKmVG6fJPXrKeTxtsdSRf5zHusJ8oD/A9/+MPcVxFPfYGPNsjufWY+aFu4WPeUgXeMaPoejRdpgkY3HQpLGVkqY4Dk/RK2cTZXgocNwWwWpI3ID5bQmHHRqKBM5sMz+IeDK0bAENeigqTgQU5sMDbWZssBworHNbyLLrqoIaRMwXG2mgbGurAuKgWEmoZZNQKAtQOVRjfEYc2ztEC4dNgozUPftOQTn41v5gOPI018roNXAdPpYwTw6WSc6cRjWhq0fCOMzY2USaVHPGnpRJgWpC5YM6TTYD8A4Y5e6GiB534A1lubOTo68qDj10kDefHrixFAWnhj5wROwmKZCau+R3jpqPOtVzremAZ8xtWlq4YhQ5EG5JQTEvBL5caucGaYkFM2gomffOUReHmO79RDdKZDNuElykTdMS5/AAAcUUlEQVTalRHxxHRD8QxPUEwY1axh29YwADjjjpywlm2bgUbKy1IU7ZUpc3iBwlpsscXyznoVN6N62gHGUHTAk9YPWbE8w0wYjllC6oUjhcyi4ciPQQTKnmn4WB9sHgQX+wFw5k0etllpt/7ZA0AepMP4jnVJGD8GGuRvXUbc4AFG+oFjHwly5MkG6I2O2VF4XD39A//AxcyejjpgdoJ9ThgBOGiMdGoYmKaT/WIEtHntIehYsEy762gENjLCaJR2HozKUX40fo7rsOMYy5sRkedvVdQ2SnwaEA3TEZhx4CcvO1EaNPeVowiFla6h8qFdRQKdXO5B+e3YWtFFOfmxu5jRPB1FnAq1sdOpOILxulr4Ai+9j4ANXlzuQseIUzlZV9AGbtZiPaEBHLRDAx0ePrSzUbGdnPUvTcx0yDt8O3rive43duCmgxc45JQ9EfCbGQHWftlhzigQpYeLCjsHNPlT9uG3PKfe3BjGlLn12ATFkAUrt4xeaee0KZQ/fOG0RzTaI7/Z+IniRYExe4US844LCgMfkEfiWVbhXd5Tl8ATh5yxXMDsDLQgz+yLYYmCgQODAo7iIePulwG/dcNuf/oClKwyYr0DY33oUw+exGE/AmUSHgMCQ5xNktwJIb1xU55GBnyCfmbV4JcnALhAiVkCDG3Cmb3DkKKM8aNd9oGUhbsDWHrAiGIjIuXmyCLLFSPBFSOgzWuZdVMapCP02Jgh3cbIs40QAWdkwE5xpgiZCbAR0uBsXITZAGmM1RGoljy4UZJ2WDQaGirnm4faxc4devk5GxI7xWZ0yj/4wDPKiE4AgynGsbGKUUQ8qiROlB5TobHTcKpUnsFfcLKM4LEmeR8VKHVix249mc9Q+NCtUwYoE9OuXAyF0maTKMYmG0+9nIU0Ma3PduLE8ww/4SvyqvEAfuXVvFv5wEZe0Q7IDyUAL1nvxcW64D2maYV/IONi3TOVz/Q+vGDmyfZM/iot4DV6mL7GOOWEiPJmmUiLTDINHtsIdYhTnmkj8IqfaYmHV2xUpA/BqCVP4pHZSDN7CjAOHGBk5KHurUd5Tzz1wQxadMoFS2TuBVFmKAt5g8s2A6/gE/Jm2cFHmyUdmwk55w/9LA9SbvHFfH0GHzN4zEbBm8h7YYarX4yANq9ZdkgzMmQDDa4qyDYK4uwcYpFiGI03NkbgbPjE0WHSoav8xGOeWORMj7FOyf357eLsnKCHjpFysE5v2VrRSbkjHFOLjMi4QYyOg1+MBxc8lEfyEx65jEBnZacNPM8oTQwM6ELx2RmLj04QHOBlVIJyrebbqhwDFQcNduTkwRExRuzwmNEkI0iUAPfdMyIknClWy0IaZBQ8ylFUStJNPfDTAStvDavzgYvKARjemWbmCCKzQuZrW1Hh1OEb7DCUjbJE3rTXKr28q5R4jkqPNJFP4hKeeOWSZ9JHPhOGizyxvuvgJoBnj3yFJQA5V2ZjnqYBXxWn7cC6ARYc4on4LVMsb7NnYeWlvrRIb5RFcEW4SFNMN9yeixHQ5jWKNU/HyvRWFEoaCQ0EPzYsOhEaVhRoBJtGaYOjyHYW0UggH2YcdOA+/fTTGxurXG9jyq1dXFS20OR+AHYD98XRacgfRgKMItmlzhKBfLdjEa8dUOxI4LX1gQ8PmapkaYalHUdMsdMFn7hIQz1w6qCdHOWinCh9jBQuKCIMnuCzqQ1ZYRobI4FyR0f5Iv+It4MnPb/JdXFmiinnbbfdtoEyTilXN202gIb4QTmDDOXaMPkZeUib5h0Y4JU7eEkY/PU54qTtk84+oCq/wEYegTvKK/mYF7CkB1+kLcYr2xGWZ+sEOqATesGhIRTxAS8eb/uz/yMuwgIX6Qcu9nO8y1fy5RcduCK+GDccn4sR0Oa1SmPCAEAxMFVYFVAE2AanMFf9WETjCDMdDYJwRsDcLIejoeA4T0ynzjQ2HTw31OlsSL4PlW9nBs0obuhlytHwnuhy1BIbPmlZ72SdkF3WERcdDLwDPnYo5mMYHQ93r3NaI17VLBy+PASfHRVKFiUW6YlpBvMZuqLMoGi5MhqDCZ5IPzR5EQyyirFDnMqLeGWqSj9wsax04iqCKmz1Hdr4qRikFcUlP2MZIr2RtirewXqHBpUbeUI/9FadtBIX4y1PlX/yIcIq5+CO+HgnPco8yjnhMb3v4uYdF99NT5i0xXjwxXfSawx0YXuPNtObRpqF04d24sBbxR35Any1PMLjUw/g4Wee5jGc/WIEdEDtsgmGTXsHHXRQFk4bQxTgumLQEQJjwwTGhsWzDYdnYNn4xgjUTomGwHli8uZCD6Z5jXPUXJfvYIZBN2633XZLH/nIR/IGINb1euscMdhZUGaUFXyjjHYahMlP+R/zgMfNlFyEc0QFH8nTzse6RHFRD2x4ahcHnSrUSJNlsRNnDRlDkp9H1ShXlDnSwz+mtAmPcSgh6zPm09OzvIP/1Bf4lfmILz7H0W9P+Ac6HrptV5aFPJE/5TKGU0bqgzKaDnieq7JJeuBjessjr4CJeAivOuqJ/CIewqQPeGjiHZhYr8QRbp3wTn7kQz1U2w3v4hFvzJew2DYjXtLFegaXtFfrPLb9SAM46uSdfIejK0ZAB9QqH+RgcyDr1FE4eaZxVBs5DQxB1hEfGzlp6CzsMOzEbSTE20C4ntSvjMU04FYJmM9Q+tw8xujfziLe9NUTXW5Is/OQD6QzLOKAt/yEo5MxX33giTdOXtFhWTfAxs6SZQgcdWXdxHyH4lm6yRu6kSV4YqfJOw44jET2r2CM4eyclUfLnSMn/JEeORYPwfCEPCJvYpr4DEyEi/w3f+DhZ2wDMS7iG+znSLv0wSfrP5ZHnkujMPLOd+Ipn31FNQ/DxWO9kEZ5t86EiT51XaWF/kI8wPps3tAWy8K7dAMPXJUu4y0XefITd6SJZ+ENt137rg9cxGk4ZbcOCBPG+OHqFyOgQ2qW0SHTrGzMsgHSGKLg2+AsEkKMYNv4ooAbZprYMFRupOcHjA3CZ2kwr6H0NViqtDbrLCKtlBteVGEJo6z6wpFW3vEclaQ8iXyOeQkLnVEJ0fkRBt4YHtMO5XOcRoYOZUE+KIPso2DWiC9ZWifwMPJDHlley1V9N7w3vnQAK/+kKYbxTB2obJTz3uQxUDDysg4/vMNVZZOySTtlB0csr3Gkhffyx3qIsMCIQzj9nHlF3g2LdEf6yEP+xvzESTrlvQ4X/ZWGiOWPaUljfsTzTDzPwpGvciYM+QJL2XkGFt88wGt6YEwvjcPZL0ZAm9euDYnz5XSwXABSdQov4d6zzXMMr6YZfu9sRBufEnt8uu/z6aGoE9L1ADVSo+0k8ekYlUdky2fiuMyKvStcc0tnSwdbXOFA4UD7c6AYAe1fR43RJldp8i1vNmfR8dLZYvXjV9foje+A4g0oiRMZQhUj4d13WTZ5T2FNBN+EugqaJlDDIxiexNFj3IVPCdk4yabRrbbaqluBNRK6BZaXwoHCgbbiQDEC2qo6JibGqT06Ym4PY0ngqKOOmgjQaVAimPLEMCiuZw70Vun3jGn4QmgEVHnFlD+Xu7BfhdMMTOO6DKA/fLlSSlY4MDw4UIyADqlHlDwbXfjoBoaAN4ExResmOJ5dy3KTWYcUbwDInMxp/omG+hV8E8UPQBHaBCVruBoA0djkJjZmp7ihkWuAca4HtwnphYzCgcKBHjhQjIAeGDTU0W4mi3Qw7cq94ezcj46OOs4AxCncCDcSnnulowFiKeCV/6V0883p+dNOS3ccfkRKL73IduWG4hsJ/GpWRmQKw1IjIHNs/Pi8JPWJT3wiX4LkxkENBP3qzXbN8ijhhQOFA0PHgWIEDB3ve52zhgCdLRv/6JC5DtWlAS5KYSrWTpe1WJ97nclIAOQ429NPpXcvuyylo45K4zfeKKVFP5FemWpMenv0qPT4dO9LD2+4ARerc7NNd470yqronmQ4vMV1fXdtUy4+wcoX/7i3Pjpkc++9984fgInh5blwoHCgPTlQjID2rJcGVXa81WlWRvl8hIP727lMyJGan/8EAZsDh7+rTNPXFfh/r6R08A/TU/MvkF76v6nSu6NG1f4enHGm9M7xx7GpgkPHdZhGbFiUQ78575fbXIJiHwByiHHKvQ3FFQ4UDrQ/B4oR0P511E2Z0+Ey5e+0fzyK5SZCRm8xvAOKOPkkthqpv/VmSk8+lf69xZbpsemnm2AAjE7vjhqdxk8xKv8wDO6ZeRY+cdZlALz73omBySeuczE4tY+8IVNcLMVXFrkVkG++87laPkfLJ1v57gRXNhPH1ytHhhHauXVbKC8cgAPFCChyMLw5oHGAz1LKNtukJ6Z7X3p9yjETzQY8O8006Z2NN0nplFNTeuzxlN7pxSyD3JuQjzMyBncdP+xcg8LyYATwzNcCOQ3AaJ9vHPD5ab4eiOInjN+000470adi3+NHeSocKBxoJw4UI6CdaqPQMrAcYHnkpRfTf/fdJz0ygzMCEy8NvD16dHp5qrHp7WWWS+/uu39K11yf0quvNb2ESEXZRXwfDIeBLW2/YHdzqTNLfBOAa6Svu+66/C17vunONwOY/r/xxhvzVwYvu+yyPGtg2n4hpCApHCgcGBAOFCNgQNhakLY1B15+OaXDDksPzDRTemnKKdPLU03VtRRw6GEpHXF4emvtddLLs86Sxk9YLnhjqinTf+d4f0obbZTSaaen9K/HJ33PgDMTbc2g94hz2cnlgPdiuq5vxThgv0qc+jdNuSsgcqs8Fw60JweKEdCe9VKo6iMH+qRbx41P6bVXUzrjV+nhWWdNz0zzvnTD/POn9NDDKb32etcywMsvpXT5FSntsXt6ZdHFum0ofHHs2PTap5dLaZ99U7rhOr4ylNL44bmR0NMBcVSvwjcuVlVR/JEb5blwoP05UIyA9q+jQuEkcKBXRgGnAM44K12xyCLpb5tvkdJz/0mJTYRVxzLCAw+mdMIv0vi11sqzBG+M6dpUyNHCl+aYLb29SZO9BL0ipJph+707umfpw2epJAwjAd+jqWxgjYaDsMUvHCgcaC8OFCOgveqjUDNIHEA3Jz5y89ab6YVbb0n3X3Bh1+xA06OBrvWPT+mll1Ji3XuPPdLrn/hEenVK7hkYnd6aYoo8Y/D2Msum8fvtm9K116X06isp5e8TDFLBBjAbRv5RsaPomRVgSUDDwL0DA0hGQV04UDjQjxwoRkA/MrOgah8ODPQAPG8G5BghRgNX5v7s+PTmOl17CcZN0TVL8PqYqdKL7/9AShtuEvYSdN3dMND09VdNsN6v4q8qeIyAzIeQGUYB4dV7LQJIeSwcKBxoIw4UI6CNKqOQMvAc+P/tnVloFM0WxxOzCIKgERF8EUVQUYyJgvrig8uLGrdrFNxQ8UEQ9EFjFNwR3PflcxcXEAVBfPBGNF6vKyK4oLglLvdeBcUtiyYuSc7l1MypVPf0dE/mS8xM6t/QdHdtXfWrgfOf6tOn/YyvGDQ5OnsTWgmIqG8m8CuF4kuwsIAq+2RTWWZrFY+A4xCwL0HVoLAvwb+vhXwJ1GuIzjsl2pX8y+d+MRs29G5/AAkmlGh9R39AAAT8CUAE+PNBLgg0kIA8NlAhG4lePCf6ay/VjBlL5VkdVHwCfuuAVwvKO3aK9CXg1QUWFrKZIiNshCUrlqOruq4SLV0XwAkIgIAVBCACrJhmDLJZCYjFLatQvgS0qDDsS5ChxIDEJahhX4IlS4k45K47LoG0ETCQOuV/wEIEGwiAAAgEE4AICGaEEiAQPwEv481p7Evw4qXyJTDjEtS1SlGrBV87dCD6Rz7RwYNEL1+qrxrG0wnvRxvxtIQ6IAACLZEAREBLnFWMKQEIGI8FgpbxxZeg6CLRooURcQnYr6AyJ4docSHRleLQKkGscQnCIkTEgJcmSQBY6AIIgEAzEYAIaCbwuG3LINBYRlWMtKLiGZcgTX3oiH0JeJXg16R8ov37iV69JKr5TSQfPGqsDrWM6cEoQAAEAghABAQAQjYIxEQg0Pg6Vwa82mQhUEt19X6B3Cb9Jir74hmXgH0JKjPSqDo7m2qXFoZ9CSo5AIJX86604P64KuASBECgBRKACGiBk4ohJQ8BNvyOVQC/rvO//ZpfRCXPifbspB/jxqrohTouQXqaWiWg/Oi+BCGZwVLD+RKC322RBwIg0HIJQAS03LnFyBKIQJMYXfEl4G8c6LgEGfoTyWWZGWFfggKiK/8K+RIkQVyCBJo2dAUEWjwBiIAWP8UYoDUE2JegpDT8jYNQXILqNKcvwc/J7EtwgOjV69CHktQjhz9AKEIFNf/jCFmBkSNTMM9NKtHSzTI4B4FkJAARkIyzhj6DgB8BMbgcl+Aiv3FQSFW9+9K39NYqLgE/PqjMyKDq7ByqWyK+BN/9nw9ImxH3bX5jHtElJIAACMRMACIgZlQoCAJJSoANeJS4BLWpRlyCiRP/dlyCJCWEboOAtQQgAqydegy8JRGI9kfdTNdL2qYvgcQlaJ1m+BJwXILccFwCjl5YSRRrXIIkharZJGn/0W0QiJcAREC85FAPBBKcQMyGzYxLMGaUeuOgOi30JcTAuAQJzkC6d+fOHeK9IVu0OjFzbcjNUBYEmokAREAzgcdtQSDhCPCygcQl+GcRUUFB+BsHacQxCSQuQVXfvnHEJXCP9s/5Ety8eZNSUlLUXlFR4e6I53V5ebmuU1VVpcrA+HuiQmKSE4AISPIJRPdtJ+BvTM3HAV6kfA0bxyVgX4KSEvWNgx/jxnnHJWiQL0Gov0H98uprvGm3bt3SBv3viIB47496IJDIBCACEnl20DcQiJOAr3FvQJsOY236EgTFJSguJqr8nhC+BPGsBDCi4uJitTcAF4qCQNIRgAhIuilDh0EgQQgoX4LnRH/tpdq8UFyCqvT6uATlWeY3DsJxCQJCGmvxIupDjjEMWdc1ynL1G7ca/jjAaOKPnnqN4Y92ADezjgBEgHVTjgGDQCMTEEPNcQmKikJxCfr0ocq0dKpplaZiE3zLzFTfONBxCSor/OMSROtibV2D68WzElBbW0sFBQW0ePFiR082bNhAvL9794740cLu3btpxowZNGnSJFqxYgXdvXvXUd59cfHiRVq/fj1NnjyZpk+fTps2baKnT5+6izmCFl2+fJmWLl2q7pOXl0ezZ8+mjRs30ps3byLqSf++fv1KV65coWnTptHMmTPp6NGjEWWRAAJMACIAvwMQAIHGJcCioInjEvAt9Oa40Kn6JB4R4OUYyA3m5ORQamoqbd68mbp37659DcTxkI9HjhzR95YTFhVz5szxLJ+enk7Hjx+Xovr4/ft3Gjx4sGcdvk9GRgadP39el+eTbt26qfJbtmxx1GvTpo2jHC5AQAhABAgJHEEABJqGgOlLIHEJMjOIUlNVbIKyTI5LkBOOS1Ac+sZB3HEJwo6HdfXKwBQBlRVlvl9ZlOV4PxFgGnw+v3fvHl29epVGjhypDG+7du2ourrawXL06NEqr2fPnrR69Wp6+/YtlZSUqHNpj/+5m9uIESNUnSFDhijfhI8fP9Lr16+JDTy3w/X69+9vVtEioHfv3jRw4EBavnw5jRo1iubPn6/LyRh1Ak6sJgARYPX0Y/Ag0PgEAo2MGZcgLy8cl6Del+BrB9OX4CVRzW8iflPBa2NbX2/vwwbeWZZFQGpKitqD3g6QvgeJgLZt29L79+9Vj8w6/I+bjfPp06d1by9cuKDS2rdvTx8+fNDpcrJz5061ujBs2DDdHht7bodXHR48eCBFdf7t27dVPq8imFvXrl1VOvePH1lgA4EgAhABQYSQDwIgEJWAGMCoBfwylPGuJSorI/KJS1CdnW3EJQh/4yDC+DtvZPbLXAkIEgHSSpAImDdvnhR1HPnfNxvvvXv36vTx48ertEWLFuk09wnX4f3x48c6q6ioiA4dOqSvzROzf/z8XzZ5HDB37lxJijiabCIykWAdAYgA66YcAwaBBCDgZcTNuAS7d1HUuAT5+fXfOPj9w3d5n0faFCJgx44dnhDHjBmj/r2vW7dO5/PSPBv4iRMnKkfDwsJC4n3JkiV679y5sypz6tQph1OgNPLlyxe6fv06nTx5Ujks9urVS5XndmVFgsuyCODVg127dklVHEHAlwBEgC8eZIIACDQqATH+cvRr3PQliBKX4FtubuhLiK9fhT6N7PEKolME+PsESHfMf9oSMZDz+vXrp4zsgQMHpKjjOHbsWGWc16xZo9N5yZ4Ns/zb9zvy2wbmxm8c9OjRw7euWwRw++bjCLM9PsdKgJuI3dcQAXbPP0YPAklBgDUD/eLohS/CcQnqfQkeZ3UgKi0NiQBVMOwnwG8T1vFKQOj5ORvH+scBkQ6EJoiysjJteE0RwG8HcDt79uwxi+tzFgFs8NkhTzZ2FOQ6q1atIhYP5r5//346ePCg2nnp/+HDh1JNOfZxPd6HDh1K/Djh2LFj9OjRI1VG8rxEwIkTJ3Q7OAEBPwIQAX50kAcCIJB4BGQVgeMSXLpMbw4dJvrJjwW8t9BKQCtKSWmlREAs/4SDRMC2bds8byZvCPBSv9xnwIABypCfOXPGUUfyHYnhi2XLlqk6HTt2pGfPnkUUefLkicpnIeAlAg4fPhxRBwkg4EUAIsCLCtJAAAQSi4AY/lh7ZZQ3HwfwMn8sW7THAbISwEF+vLbhw4cr47xw4UKdPWXKFJU2depUnWYKADbi8q9eYgxMmDBBpS1YsEDXMU/27dun63iJgGiPK8w2cA4CTAAiAL8DEACBpCdQb1Qjl/lNEfCf//2XPn35TJ8/R98ZRpAI4Ih9stXfm4jf6WeDboqA0tJSbbC3bt0q1fRx1qxZKp8FhmwcrZDb6dSpkyTp4/379ykzM1O3ya8TSh/k7QCIAI0LJwEEIAICACEbBEAgkQiEjDz3SAyf+9zdW1MEyD/uaEcOyctbkAiIthIwaNAgZZxNEcDtrV27VhttvvfKlStVKGB2NORrjv537do13XWJA8B5HDSIHz9s376d+NU/d9/PnTunWUAEaIQ4iZEARECMoFAMBECg6QjUUS3xHrQZq/y+RU2BYH5K2G1A3dcNEQFyDzlyh3Jzcz1FAOddunQpwtOfnQj5ewD8fQD3xs59Xbp0cRj9rKwskjcP8vPzVR77IcgGESAkcIyVAERArKRQDgRAoOkJxGrlA3tSv2LARX/+/OnYf/yqJt7d6Xwtm+TJNR/Z4JtG38yLJZ/L8Dv//JniGzdu0KdPn9xNOK75Xrz8f/bsWRVm2JHp0Z+g/rnr4xoEIALwGwABEGhGAk5jHWtH3Ia40bRDrB1ownLusTXhrdA0CMAxEL8BEAABEAABELCVAFYCbJ15jBsEQAAEQMB6AhAB1v8EAAAEQAAEQMBWAhABts48xg0CIAACIGA9AYgA638CAAACIAACIGArAYgAW2ce4wYBEAABELCeAESA9T8BAAABEAABELCVAESArTOPcYMACIAACFhPACLA+p8AAIAACIAACNhKACLA1pnHuEEABEAABKwnABFg/U8AAEAABEAABGwlABFg68xj3CAAAiAAAtYTgAiw/icAACAAAiAAArYSgAiwdeYxbhAAARAAAesJQARY/xMAABAAARAAAVsJQATYOvMYNwiAAAiAgPUEIAKs/wkAAAiAAAiAgK0EIAJsnXmMGwRAAARAwHoC/wdw4nSMJuQdswAAAABJRU5ErkJggg==)"
      ]
    },
    {
      "cell_type": "code",
      "metadata": {
        "id": "kXFUNSfqNfxv"
      },
      "source": [
        "def huber_fn(y_true, y_pred):\n",
        "    error = y_true - y_pred\n",
        "    is_small_error = tf.abs(error) < 1\n",
        "    squared_loss = tf.square(error) / 2\n",
        "    linear_loss  = tf.abs(error) - 0.5\n",
        "    return tf.where(is_small_error, squared_loss, linear_loss)"
      ],
      "execution_count": null,
      "outputs": []
    },
    {
      "cell_type": "code",
      "metadata": {
        "id": "IXDj8R1qNfxv",
        "outputId": "679f57fd-ddf9-4632-ad94-aa178e4bbe3c"
      },
      "source": [
        "plt.figure(figsize=(8, 3.5))\n",
        "z = np.linspace(-4, 4, 200)\n",
        "plt.plot(z, huber_fn(0, z), \"b-\", linewidth=2, label=\"huber($z$)\")\n",
        "plt.plot(z, z**2 / 2, \"b:\", linewidth=1, label=r\"$\\frac{1}{2}z^2$\")\n",
        "plt.plot([-1, -1], [0, huber_fn(0., -1.)], \"r--\")\n",
        "plt.plot([1, 1], [0, huber_fn(0., 1.)], \"r--\")\n",
        "plt.gca().axhline(y=0, color='k')\n",
        "plt.gca().axvline(x=0, color='k')\n",
        "plt.axis([-4, 4, 0, 4])\n",
        "plt.grid(True)\n",
        "plt.xlabel(\"$z$\")\n",
        "plt.legend(fontsize=14)\n",
        "plt.title(\"Huber loss\", fontsize=14)\n",
        "plt.show()"
      ],
      "execution_count": null,
      "outputs": [
        {
          "data": {
            "image/png": "[encoded data removed]",
            "text/plain": [
              "<Figure size 576x252 with 1 Axes>"
            ]
          },
          "metadata": {
            "needs_background": "light"
          },
          "output_type": "display_data"
        }
      ]
    },
    {
      "cell_type": "code",
      "metadata": {
        "id": "5R2fZv_qNfxv"
      },
      "source": [
        "input_shape = X_train.shape[1:]\n",
        "\n",
        "model = keras.models.Sequential([\n",
        "    keras.layers.Dense(30, activation=\"selu\", kernel_initializer=\"lecun_normal\",\n",
        "                       input_shape=input_shape),\n",
        "    keras.layers.Dense(1),\n",
        "])"
      ],
      "execution_count": null,
      "outputs": []
    },
    {
      "cell_type": "markdown",
      "metadata": {
        "id": "eY1uWKU6g2WI"
      },
      "source": [
        "Compilez le modèle en utilisant la fonction de perte huber_fn, l'optimiseur nadam et la MAE comme metric :"
      ]
    },
    {
      "cell_type": "code",
      "metadata": {
        "id": "RrZAuGLHNfxw"
      },
      "source": [
        "model.compile(loss=huber_fn, optimizer=\"nadam\", metrics=[\"mae\"])"
      ],
      "execution_count": null,
      "outputs": []
    },
    {
      "cell_type": "code",
      "metadata": {
        "scrolled": true,
        "id": "5Zl5kLaJNfxw",
        "outputId": "2f7190a0-3d53-4cb1-fa84-1de6ce8a6f50"
      },
      "source": [
        "model.fit(X_train_scaled, y_train, epochs=2,\n",
        "          validation_data=(X_valid_scaled, y_valid))"
      ],
      "execution_count": null,
      "outputs": [
        {
          "name": "stdout",
          "output_type": "stream",
          "text": [
            "Epoch 1/2\n",
            "363/363 [==============================] - 1s 2ms/step - loss: 1.0443 - mae: 1.4660 - val_loss: 0.2862 - val_mae: 0.5866\n",
            "Epoch 2/2\n",
            "363/363 [==============================] - 0s 737us/step - loss: 0.2379 - mae: 0.5407 - val_loss: 0.2382 - val_mae: 0.5281\n"
          ]
        },
        {
          "data": {
            "text/plain": [
              "<tensorflow.python.keras.callbacks.History at 0x7fc000dcc850>"
            ]
          },
          "execution_count": 65,
          "metadata": {},
          "output_type": "execute_result"
        }
      ]
    },
    {
      "cell_type": "markdown",
      "metadata": {
        "id": "oaoY33dGNfxw"
      },
      "source": [
        "## Enregistrer et charger des modèles contenant des composants personnalisés"
      ]
    },
    {
      "cell_type": "code",
      "metadata": {
        "id": "ZnZaZn-kNfxw"
      },
      "source": [
        "model.save(\"my_model_with_a_custom_loss.h5\")"
      ],
      "execution_count": null,
      "outputs": []
    },
    {
      "cell_type": "code",
      "metadata": {
        "id": "mCCSyA81Nfxw"
      },
      "source": [
        "model = keras.models.load_model(\"my_model_with_a_custom_loss.h5\",\n",
        "                                custom_objects={\"huber_fn\": huber_fn})"
      ],
      "execution_count": null,
      "outputs": []
    },
    {
      "cell_type": "code",
      "metadata": {
        "id": "izjB_5xaNfxx",
        "outputId": "737ba511-67bf-4aab-defa-1df51a628455"
      },
      "source": [
        "model.fit(X_train_scaled, y_train, epochs=2,\n",
        "          validation_data=(X_valid_scaled, y_valid))"
      ],
      "execution_count": null,
      "outputs": [
        {
          "name": "stdout",
          "output_type": "stream",
          "text": [
            "Epoch 1/2\n",
            "363/363 [==============================] - 1s 970us/step - loss: 0.2054 - mae: 0.4982 - val_loss: 0.2209 - val_mae: 0.5050\n",
            "Epoch 2/2\n",
            "363/363 [==============================] - 0s 769us/step - loss: 0.1999 - mae: 0.4900 - val_loss: 0.2127 - val_mae: 0.4986\n"
          ]
        },
        {
          "data": {
            "text/plain": [
              "<tensorflow.python.keras.callbacks.History at 0x7fbfd8c09090>"
            ]
          },
          "execution_count": 68,
          "metadata": {},
          "output_type": "execute_result"
        }
      ]
    },
    {
      "cell_type": "markdown",
      "metadata": {
        "id": "xSCdt-ZljK6p"
      },
      "source": [
        "Créez  une fonction `create_huber()` avec un seul argument seuil (threshold). cette fonction configure la fonction de perte `huber_fn()` :"
      ]
    },
    {
      "cell_type": "code",
      "metadata": {
        "id": "aCcu5Yb8Nfxx"
      },
      "source": [
        "def create_huber(threshold=1.0):\n",
        "    def huber_fn(y_true, y_pred):\n",
        "        error = y_true - y_pred\n",
        "        is_small_error = tf.abs(error) < threshold\n",
        "        squared_loss = tf.square(error) / 2\n",
        "        linear_loss  = threshold * tf.abs(error) - threshold**2 / 2\n",
        "        return tf.where(is_small_error, squared_loss, linear_loss)\n",
        "    return huber_fn"
      ],
      "execution_count": null,
      "outputs": []
    },
    {
      "cell_type": "code",
      "metadata": {
        "id": "I-RJ1zGHNfxx"
      },
      "source": [
        "model.compile(loss=create_huber(2.0), optimizer=\"nadam\", metrics=[\"mae\"])"
      ],
      "execution_count": null,
      "outputs": []
    },
    {
      "cell_type": "code",
      "metadata": {
        "scrolled": true,
        "id": "U2SFwWx1Nfxx",
        "outputId": "c150efc1-c730-4e6e-9536-e139b66ba204"
      },
      "source": [
        "model.fit(X_train_scaled, y_train, epochs=2,\n",
        "          validation_data=(X_valid_scaled, y_valid))"
      ],
      "execution_count": null,
      "outputs": [
        {
          "name": "stdout",
          "output_type": "stream",
          "text": [
            "Epoch 1/2\n",
            "363/363 [==============================] - 1s 1ms/step - loss: 0.2318 - mae: 0.4979 - val_loss: 0.2540 - val_mae: 0.4907\n",
            "Epoch 2/2\n",
            "363/363 [==============================] - 0s 749us/step - loss: 0.2309 - mae: 0.4960 - val_loss: 0.2372 - val_mae: 0.4879\n"
          ]
        },
        {
          "data": {
            "text/plain": [
              "<tensorflow.python.keras.callbacks.History at 0x7fbfd8c969d0>"
            ]
          },
          "execution_count": 71,
          "metadata": {},
          "output_type": "execute_result"
        }
      ]
    },
    {
      "cell_type": "code",
      "metadata": {
        "id": "mFJAYlmiNfxx"
      },
      "source": [
        "model.save(\"my_model_with_a_custom_loss_threshold_2.h5\")"
      ],
      "execution_count": null,
      "outputs": []
    },
    {
      "cell_type": "code",
      "metadata": {
        "id": "0niZj3d_Nfxy"
      },
      "source": [
        "model = keras.models.load_model(\"my_model_with_a_custom_loss_threshold_2.h5\",\n",
        "                                custom_objects={\"huber_fn\": create_huber(2.0)})"
      ],
      "execution_count": null,
      "outputs": []
    },
    {
      "cell_type": "code",
      "metadata": {
        "id": "sIa0RGofNfxy",
        "outputId": "f4d0b034-752a-4f1d-8726-0f2c5a53aad7"
      },
      "source": [
        "model.fit(X_train_scaled, y_train, epochs=2,\n",
        "          validation_data=(X_valid_scaled, y_valid))"
      ],
      "execution_count": null,
      "outputs": [
        {
          "name": "stdout",
          "output_type": "stream",
          "text": [
            "Epoch 1/2\n",
            "363/363 [==============================] - 1s 1ms/step - loss: 0.2147 - mae: 0.4800 - val_loss: 0.2133 - val_mae: 0.4654\n",
            "Epoch 2/2\n",
            "363/363 [==============================] - 0s 763us/step - loss: 0.2119 - mae: 0.4762 - val_loss: 0.1992 - val_mae: 0.4643\n"
          ]
        },
        {
          "data": {
            "text/plain": [
              "<tensorflow.python.keras.callbacks.History at 0x7fbff7a0a590>"
            ]
          },
          "execution_count": 74,
          "metadata": {},
          "output_type": "execute_result"
        }
      ]
    },
    {
      "cell_type": "markdown",
      "metadata": {
        "id": "aSgPfaaSkPNN"
      },
      "source": [
        "Créez une sous-classe `Huberloss` de `keras.losses.Loss`, puis implémenter sa méthode get_config() :"
      ]
    },
    {
      "cell_type": "code",
      "metadata": {
        "id": "1allYaY2Nfxy"
      },
      "source": [
        "class HuberLoss(keras.losses.Loss):\n",
        "    def __init__(self, threshold=1.0, **kwargs):\n",
        "        self.threshold = threshold\n",
        "        super().__init__(**kwargs)\n",
        "    def call(self, y_true, y_pred):\n",
        "        error = y_true - y_pred\n",
        "        is_small_error = tf.abs(error) < self.threshold\n",
        "        squared_loss = tf.square(error) / 2\n",
        "        linear_loss  = self.threshold * tf.abs(error) - self.threshold**2 / 2\n",
        "        return tf.where(is_small_error, squared_loss, linear_loss)\n",
        "    def get_config(self):\n",
        "        base_config = super().get_config()\n",
        "        return {**base_config, \"threshold\": self.threshold}"
      ],
      "execution_count": null,
      "outputs": []
    },
    {
      "cell_type": "code",
      "metadata": {
        "id": "hXrYaOfSNfxy"
      },
      "source": [
        "model = keras.models.Sequential([\n",
        "    keras.layers.Dense(30, activation=\"selu\", kernel_initializer=\"lecun_normal\",\n",
        "                       input_shape=input_shape),\n",
        "    keras.layers.Dense(1),\n",
        "])"
      ],
      "execution_count": null,
      "outputs": []
    },
    {
      "cell_type": "code",
      "metadata": {
        "id": "wjCGSvd0Nfxz"
      },
      "source": [
        "model.compile(loss=HuberLoss(2.), optimizer=\"nadam\", metrics=[\"mae\"])"
      ],
      "execution_count": null,
      "outputs": []
    },
    {
      "cell_type": "code",
      "metadata": {
        "id": "l445qaYdNfxz",
        "outputId": "560239ab-fedf-42b8-e595-5bbd53e0c6af"
      },
      "source": [
        "model.fit(X_train_scaled, y_train, epochs=2,\n",
        "          validation_data=(X_valid_scaled, y_valid))"
      ],
      "execution_count": null,
      "outputs": [
        {
          "name": "stdout",
          "output_type": "stream",
          "text": [
            "Epoch 1/2\n",
            "363/363 [==============================] - 1s 1ms/step - loss: 1.3123 - mae: 1.3345 - val_loss: 0.3378 - val_mae: 0.5485\n",
            "Epoch 2/2\n",
            "363/363 [==============================] - 0s 760us/step - loss: 0.2659 - mae: 0.5270 - val_loss: 0.2660 - val_mae: 0.5089\n"
          ]
        },
        {
          "data": {
            "text/plain": [
              "<tensorflow.python.keras.callbacks.History at 0x7fbfe06dad50>"
            ]
          },
          "execution_count": 78,
          "metadata": {},
          "output_type": "execute_result"
        }
      ]
    },
    {
      "cell_type": "code",
      "metadata": {
        "id": "M3FnefceNfxz"
      },
      "source": [
        "model.save(\"my_model_with_a_custom_loss_class.h5\")"
      ],
      "execution_count": null,
      "outputs": []
    },
    {
      "cell_type": "code",
      "metadata": {
        "id": "tzMwt-1-Nfxz"
      },
      "source": [
        "model = keras.models.load_model(\"my_model_with_a_custom_loss_class.h5\",\n",
        "                                custom_objects={\"HuberLoss\": HuberLoss})"
      ],
      "execution_count": null,
      "outputs": []
    },
    {
      "cell_type": "code",
      "metadata": {
        "id": "zFuZ5NzVNfx0",
        "outputId": "d9147e8d-d9b1-45c1-cbb9-597e1055279d"
      },
      "source": [
        "model.fit(X_train_scaled, y_train, epochs=2,\n",
        "          validation_data=(X_valid_scaled, y_valid))"
      ],
      "execution_count": null,
      "outputs": [
        {
          "name": "stdout",
          "output_type": "stream",
          "text": [
            "Epoch 1/2\n",
            "363/363 [==============================] - 1s 966us/step - loss: 0.2286 - mae: 0.4970 - val_loss: 0.2120 - val_mae: 0.4723\n",
            "Epoch 2/2\n",
            "363/363 [==============================] - 0s 757us/step - loss: 0.2216 - mae: 0.4904 - val_loss: 0.2045 - val_mae: 0.4725\n"
          ]
        },
        {
          "data": {
            "text/plain": [
              "<tensorflow.python.keras.callbacks.History at 0x7fbfb0630d50>"
            ]
          },
          "execution_count": 81,
          "metadata": {},
          "output_type": "execute_result"
        }
      ]
    },
    {
      "cell_type": "code",
      "metadata": {
        "id": "bjG6qR1LNfx2",
        "outputId": "4a01aaed-55ff-4528-a304-b60396bd1afc"
      },
      "source": [
        "model.loss.threshold"
      ],
      "execution_count": null,
      "outputs": [
        {
          "data": {
            "text/plain": [
              "2.0"
            ]
          },
          "execution_count": 82,
          "metadata": {},
          "output_type": "execute_result"
        }
      ]
    },
    {
      "cell_type": "markdown",
      "metadata": {
        "id": "r2HtobZ8NfyQ"
      },
      "source": [
        "## Couches personnalisées"
      ]
    },
    {
      "cell_type": "markdown",
      "metadata": {
        "id": "126q_hyZmQGh"
      },
      "source": [
        "Construisez une couche personnalisée avec en créant une sous-classe\n",
        "de `keras.layers.Layer` :\n",
        "Le constructeur prend tous les hyperparamètres en arguments (dans cet exemple `units` et `activation`) et il prend également un argument\n",
        "`**kwargs`. Il invoque le constructeur parent, en lui passant les `kwargs` ; cela permet de prendre en charge les arguments standard, comme input_\n",
        "shape, trainable et name. Il enregistre ensuite les hyperparamètres sous\n",
        "forme d’attributs, en convertissant l’argument activation en une fonction\n",
        "d’activation appropriée grâce à la fonction `keras.activations.get()`\n",
        "\n",
        "La méthode `build()` a pour rôle de créer les variables de la couche en\n",
        "invoquant la méthode `add_weight()` pour chaque poids. `build()` est\n",
        "appelée lors de la première utilisation de la couche. À ce stade, Keras connaît la forme des entrées de la couche et la passera à la méthode `build()`. Elle est souvent indispensable à la création de certains poids. Par exemple, nous devons connaître le nombre de neurones de la couche précédente de façon à créer la matrice des poids des connexions (autrement dit, le \"kernel\") : il correspond à la taille de la dernière dimension des entrées. À la fin de la méthode `build()` (et uniquement à la fin), nous devons appeler la méthode `build()` du parent pour indiquer à Keras que la couche est construite.\n",
        "\n",
        "• La méthode `call()` réalise les opérations souhaitées. Dans ce cas, nous\n",
        "multiplions la matrice des entrées X et le noyau de la couche, nous ajoutons le vecteur de termes constants et nous appliquons la fonction d’activation au résultat. Nous obtenons alors la sortie de la couche.\n",
        "\n",
        "• La méthode` compute_output_shape()` retourne simplement la forme\n",
        "des sorties de cette couche. Dans cet exemple, elle est identique à la forme des entrées, excepté que la dernière dimension est remplacée par le nombre de neurones de la couche. Dans `tf.keras`, les formes sont des instances de la classe `tf.TensorShape`, que nous pouvons convertir en listes Python avec `as_list()`.\n",
        "\n",
        "La méthode `get_config()` retourne un dictionnaire qui associe chaque\n",
        "nom d’hyperparamètre à sa valeur. Elle commence par invoquer la méthode\n",
        "`get_config()` de la classe parent, puis ajoute les nouveaux hyperparamètres à ce dictionnaire. Nous enregistrons l’intégralité de la configuration de la fonction d’activation en invoquant `keras.activations.serialize()`."
      ]
    },
    {
      "cell_type": "code",
      "metadata": {
        "id": "RJ7f1NGaNfyR"
      },
      "source": [
        "class MyDense(keras.layers.Layer):\n",
        "    def __init__(self, units, activation=None, **kwargs):\n",
        "        super().__init__(**kwargs)\n",
        "        self.units = units\n",
        "        self.activation = keras.activations.get(activation)\n",
        "\n",
        "    def build(self, batch_input_shape):\n",
        "        self.kernel = self.add_weight(\n",
        "            name=\"kernel\", shape=[batch_input_shape[-1], self.units],\n",
        "            initializer=\"glorot_normal\")\n",
        "        self.bias = self.add_weight(\n",
        "            name=\"bias\", shape=[self.units], initializer=\"zeros\")\n",
        "        super().build(batch_input_shape) # must be at the end\n",
        "\n",
        "    def call(self, X):\n",
        "        return self.activation(X @ self.kernel + self.bias)\n",
        "\n",
        "    def compute_output_shape(self, batch_input_shape):\n",
        "        return tf.TensorShape(batch_input_shape.as_list()[:-1] + [self.units])\n",
        "\n",
        "    def get_config(self):\n",
        "        base_config = super().get_config()\n",
        "        return {**base_config, \"units\": self.units,\n",
        "                \"activation\": keras.activations.serialize(self.activation)}"
      ],
      "execution_count": null,
      "outputs": []
    },
    {
      "cell_type": "code",
      "metadata": {
        "id": "Ts4lsyE2NfyR"
      },
      "source": [
        "keras.backend.clear_session()\n",
        "np.random.seed(42)\n",
        "tf.random.set_seed(42)"
      ],
      "execution_count": null,
      "outputs": []
    },
    {
      "cell_type": "code",
      "metadata": {
        "id": "laqy5y6mNfyS"
      },
      "source": [
        "model = keras.models.Sequential([\n",
        "    MyDense(30, activation=\"relu\", input_shape=input_shape),\n",
        "    MyDense(1)\n",
        "])"
      ],
      "execution_count": null,
      "outputs": []
    },
    {
      "cell_type": "code",
      "metadata": {
        "id": "RXT71cYdNfyS",
        "outputId": "d36e1790-b253-4444-b280-368161528fca"
      },
      "source": [
        "model.compile(loss=\"mse\", optimizer=\"nadam\")\n",
        "model.fit(X_train_scaled, y_train, epochs=2,\n",
        "          validation_data=(X_valid_scaled, y_valid))\n",
        "model.evaluate(X_test_scaled, y_test)"
      ],
      "execution_count": null,
      "outputs": [
        {
          "name": "stdout",
          "output_type": "stream",
          "text": [
            "Epoch 1/2\n",
            "363/363 [==============================] - 1s 898us/step - loss: 4.1268 - val_loss: 0.9472\n",
            "Epoch 2/2\n",
            "363/363 [==============================] - 0s 707us/step - loss: 0.7086 - val_loss: 0.6219\n",
            "162/162 [==============================] - 0s 419us/step - loss: 0.5474\n"
          ]
        },
        {
          "data": {
            "text/plain": [
              "0.5473727583885193"
            ]
          },
          "execution_count": 141,
          "metadata": {},
          "output_type": "execute_result"
        }
      ]
    },
    {
      "cell_type": "code",
      "metadata": {
        "id": "_kBWl9faNfyS"
      },
      "source": [
        "model.save(\"my_model_with_a_custom_layer.h5\")"
      ],
      "execution_count": null,
      "outputs": []
    },
    {
      "cell_type": "code",
      "metadata": {
        "id": "vJVMrrZ6NfyS"
      },
      "source": [
        "model = keras.models.load_model(\"my_model_with_a_custom_layer.h5\",\n",
        "                                custom_objects={\"MyDense\": MyDense})"
      ],
      "execution_count": null,
      "outputs": []
    },
    {
      "cell_type": "markdown",
      "metadata": {
        "id": "HsgdKH6vNfyZ"
      },
      "source": [
        "## Modèles personnalisées :"
      ]
    },
    {
      "cell_type": "code",
      "metadata": {
        "id": "CtAQXfCwNfya"
      },
      "source": [
        "X_new_scaled = X_test_scaled"
      ],
      "execution_count": null,
      "outputs": []
    },
    {
      "cell_type": "markdown",
      "metadata": {
        "id": "YueW9n66s1_4"
      },
      "source": [
        "La sous-classe `ResidualBlock` de `keras.layers.Layer`, correspondant au bloc suivant :\n",
        "\n",
        "\n",
        "![image.png](data:image/png;base64,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)"
      ]
    },
    {
      "cell_type": "code",
      "metadata": {
        "id": "2iX1XuVgNfyb"
      },
      "source": [
        "class ResidualBlock(keras.layers.Layer):\n",
        "    def __init__(self, n_layers, n_neurons, **kwargs):\n",
        "        super().__init__(**kwargs)\n",
        "        self.hidden = [keras.layers.Dense(n_neurons, activation=\"elu\",\n",
        "                                          kernel_initializer=\"he_normal\")\n",
        "                       for _ in range(n_layers)]\n",
        "\n",
        "    def call(self, inputs):\n",
        "        Z = inputs\n",
        "        for layer in self.hidden:\n",
        "            Z = layer(Z)\n",
        "        return inputs + Z"
      ],
      "execution_count": null,
      "outputs": []
    },
    {
      "cell_type": "markdown",
      "metadata": {
        "id": "GaOW1Aw6t7Qe"
      },
      "source": [
        "Créez une sous-classe `ResidualRegressor` de `keras.models.Model`, correspondant au modèle suivant :\n",
        "![image.png](data:image/png;base64,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)"
      ]
    },
    {
      "cell_type": "code",
      "metadata": {
        "id": "zKsy5cfaNfyc"
      },
      "source": [
        "class ResidualRegressor(keras.models.Model):\n",
        "    def __init__(self, output_dim, **kwargs):\n",
        "        super().__init__(**kwargs)\n",
        "        self.hidden1 = keras.layers.Dense(30, activation=\"elu\",\n",
        "                                          kernel_initializer=\"he_normal\")\n",
        "        self.block1 = ResidualBlock(2, 30)\n",
        "        self.block2 = ResidualBlock(2, 30)\n",
        "        self.out = keras.layers.Dense(output_dim)\n",
        "\n",
        "    def call(self, inputs):\n",
        "        Z = self.hidden1(inputs)\n",
        "        for _ in range(1 + 3):\n",
        "            Z = self.block1(Z)\n",
        "        Z = self.block2(Z)\n",
        "        return self.out(Z)"
      ],
      "execution_count": null,
      "outputs": []
    },
    {
      "cell_type": "code",
      "metadata": {
        "id": "aaDFVHvnNfyd"
      },
      "source": [
        "keras.backend.clear_session()\n",
        "np.random.seed(42)\n",
        "tf.random.set_seed(42)"
      ],
      "execution_count": null,
      "outputs": []
    },
    {
      "cell_type": "code",
      "metadata": {
        "id": "KWrYB8gqNfyd",
        "outputId": "1bcb1820-bbe0-4b2d-e0fc-6f9938774ef2"
      },
      "source": [
        "model = ResidualRegressor(1)\n",
        "model.compile(loss=\"mse\", optimizer=\"nadam\")\n",
        "history = model.fit(X_train_scaled, y_train, epochs=5)\n",
        "score = model.evaluate(X_test_scaled, y_test)\n",
        "y_pred = model.predict(X_new_scaled)"
      ],
      "execution_count": null,
      "outputs": [
        {
          "name": "stdout",
          "output_type": "stream",
          "text": [
            "Epoch 1/5\n",
            "363/363 [==============================] - 1s 837us/step - loss: 22.7478\n",
            "Epoch 2/5\n",
            "363/363 [==============================] - 0s 739us/step - loss: 1.2735\n",
            "Epoch 3/5\n",
            "363/363 [==============================] - 0s 737us/step - loss: 0.9792\n",
            "Epoch 4/5\n",
            "363/363 [==============================] - 0s 740us/step - loss: 0.5905\n",
            "Epoch 5/5\n",
            "363/363 [==============================] - 0s 739us/step - loss: 0.5544\n",
            "162/162 [==============================] - 0s 526us/step - loss: 0.6513\n"
          ]
        }
      ]
    },
    {
      "cell_type": "code",
      "metadata": {
        "id": "-uwN5gUSNfye",
        "outputId": "cfccd28f-8ee8-4069-b4c9-b2c0aeee541d"
      },
      "source": [
        "model.save(\"my_custom_model.ckpt\")"
      ],
      "execution_count": null,
      "outputs": [
        {
          "name": "stderr",
          "output_type": "stream",
          "text": [
            "WARNING:absl:Found untraced functions such as dense_1_layer_call_and_return_conditional_losses, dense_1_layer_call_fn, dense_2_layer_call_and_return_conditional_losses, dense_2_layer_call_fn, dense_3_layer_call_and_return_conditional_losses while saving (showing 5 of 20). These functions will not be directly callable after loading.\n",
            "WARNING:absl:Found untraced functions such as dense_1_layer_call_and_return_conditional_losses, dense_1_layer_call_fn, dense_2_layer_call_and_return_conditional_losses, dense_2_layer_call_fn, dense_3_layer_call_and_return_conditional_losses while saving (showing 5 of 20). These functions will not be directly callable after loading.\n"
          ]
        },
        {
          "name": "stdout",
          "output_type": "stream",
          "text": [
            "INFO:tensorflow:Assets written to: my_custom_model.ckpt/assets\n"
          ]
        },
        {
          "name": "stderr",
          "output_type": "stream",
          "text": [
            "INFO:tensorflow:Assets written to: my_custom_model.ckpt/assets\n"
          ]
        }
      ]
    },
    {
      "cell_type": "code",
      "metadata": {
        "id": "5VVlYuFaNfye"
      },
      "source": [
        "model = keras.models.load_model(\"my_custom_model.ckpt\")"
      ],
      "execution_count": null,
      "outputs": []
    },
    {
      "cell_type": "code",
      "metadata": {
        "id": "cs_7B6iINfyf",
        "outputId": "10be4f82-73bc-4342-bf8b-ecb22979ecf8"
      },
      "source": [
        "history = model.fit(X_train_scaled, y_train, epochs=5)"
      ],
      "execution_count": null,
      "outputs": [
        {
          "name": "stdout",
          "output_type": "stream",
          "text": [
            "Epoch 1/5\n",
            "363/363 [==============================] - 1s 851us/step - loss: 0.9476\n",
            "Epoch 2/5\n",
            "363/363 [==============================] - 0s 736us/step - loss: 0.6998\n",
            "Epoch 3/5\n",
            "363/363 [==============================] - 0s 737us/step - loss: 0.4668\n",
            "Epoch 4/5\n",
            "363/363 [==============================] - 0s 758us/step - loss: 0.4818\n",
            "Epoch 5/5\n",
            "363/363 [==============================] - 0s 756us/step - loss: 0.4591\n"
          ]
        }
      ]
    }
  ]
}