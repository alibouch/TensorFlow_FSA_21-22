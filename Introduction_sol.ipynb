{
  "nbformat": 4,
  "nbformat_minor": 0,
  "metadata": {
    "colab": {
      "name": "Untitled1.ipynb",
      "provenance": [],
      "collapsed_sections": [],
      "authorship_tag": "ABX9TyN8BBwp1d3LMsHWt9m1Sa17",
      "include_colab_link": true
    },
    "kernelspec": {
      "name": "python3",
      "display_name": "Python 3"
    },
    "language_info": {
      "name": "python"
    }
  },
  "cells": [
    {
      "cell_type": "markdown",
      "metadata": {
        "id": "view-in-github",
        "colab_type": "text"
      },
      "source": [
        "<a href=\"https://colab.research.google.com/github/alibouch/TensorFlow_FSA_21-22/blob/main/Introduction_sol.ipynb\" target=\"_parent\"><img src=\"https://colab.research.google.com/assets/colab-badge.svg\" alt=\"Open In Colab\"/></a>"
      ]
    },
    {
      "cell_type": "markdown",
      "metadata": {
        "id": "dc19zyeXK2fk"
      },
      "source": [
        "# Atelier 1: Introduction à TensorFlow"
      ]
    },
    {
      "cell_type": "markdown",
      "metadata": {
        "id": "eoupNAwyV5CQ"
      },
      "source": [
        "\n",
        "\n",
        "##1.   TensorFlow 1.x\n",
        "\n",
        "\n"
      ]
    },
    {
      "cell_type": "markdown",
      "metadata": {
        "id": "pdAHqFsj3cw2"
      },
      "source": [
        "*   **Construction du graphe :**\n",
        "\n",
        "\n",
        "\n"
      ]
    },
    {
      "cell_type": "code",
      "metadata": {
        "colab": {
          "base_uri": "https://localhost:8080/"
        },
        "id": "MvU17cZ4Sq35",
        "outputId": "e12dfa73-8a74-4644-8500-3c39b8420f83"
      },
      "source": [
        "%tensorflow_version 1.x\n",
        "import tensorflow as tf\n",
        "print(\"la version selectionnée est :\",tf.__name__,tf.__version__)\n",
        "a = tf.constant(2) \n",
        "b = tf.constant(3) \n",
        "c = a + b \n",
        "print(c)"
      ],
      "execution_count": null,
      "outputs": [
        {
          "output_type": "stream",
          "name": "stdout",
          "text": [
            "TensorFlow 1.x selected.\n",
            "la version selectionnée est : tensorflow 1.15.2\n",
            "Tensor(\"add:0\", shape=(), dtype=int32)\n"
          ]
        }
      ]
    },
    {
      "cell_type": "markdown",
      "metadata": {
        "id": "_kpvHhHn39TQ"
      },
      "source": [
        "*   **Evaluation en utilisant une session :**"
      ]
    },
    {
      "cell_type": "code",
      "metadata": {
        "colab": {
          "base_uri": "https://localhost:8080/"
        },
        "id": "6-j5dyVGTfBL",
        "outputId": "37f28676-ad07-4b20-d881-95fcd2aa15e7"
      },
      "source": [
        "with tf.Session() as sess: \n",
        "  print(sess.run(c))"
      ],
      "execution_count": null,
      "outputs": [
        {
          "output_type": "stream",
          "name": "stdout",
          "text": [
            "5\n"
          ]
        }
      ]
    },
    {
      "cell_type": "markdown",
      "metadata": {
        "id": "oHWQwICgwr1n"
      },
      "source": [
        "##2.   TensorFlow 2.x"
      ]
    },
    {
      "cell_type": "markdown",
      "metadata": {
        "id": "_DoUi-k0wzzD"
      },
      "source": [
        "*   **Redémarrez l'envirennement d'exécution (Ctrl+M) puis exécutez le code suivant :**\n",
        "\n",
        "\n",
        "\n",
        "\n",
        "\n",
        "\n"
      ]
    },
    {
      "cell_type": "code",
      "metadata": {
        "colab": {
          "base_uri": "https://localhost:8080/"
        },
        "id": "0hqp826vWOhc",
        "outputId": "68c08355-b165-4baf-d8c8-62f5b24a6b60"
      },
      "source": [
        "%tensorflow_version 2.x\n",
        "import tensorflow as tf\n",
        "print(\"la version selectionnée est :\",tf.__name__,tf.__version__)\n",
        "a = tf.constant(2) \n",
        "b = tf.constant(3) \n",
        "c = a + b \n",
        "print(c)"
      ],
      "execution_count": null,
      "outputs": [
        {
          "output_type": "stream",
          "name": "stdout",
          "text": [
            "la version selectionnée est : tensorflow 2.6.0\n",
            "tf.Tensor(5, shape=(), dtype=int32)\n"
          ]
        }
      ]
    },
    {
      "cell_type": "markdown",
      "metadata": {
        "id": "wkrpMmOc4trg"
      },
      "source": [
        "*   **Tenseur multidimensionnels**"
      ]
    },
    {
      "cell_type": "code",
      "metadata": {
        "colab": {
          "base_uri": "https://localhost:8080/"
        },
        "id": "bdUzJnim4tUx",
        "outputId": "6fcfa52a-e7bf-487b-b593-5dc536593477"
      },
      "source": [
        "T = tf.ones(shape = [4, 2, 3], dtype = tf.float32)\n",
        "print('T=', T)\n",
        "print(\"Type des éléments :\", T.dtype)\n",
        "print(\"Nombre de dimensions : \", T.ndim)"
      ],
      "execution_count": null,
      "outputs": [
        {
          "output_type": "stream",
          "name": "stdout",
          "text": [
            "T= tf.Tensor(\n",
            "[[[1. 1. 1.]\n",
            "  [1. 1. 1.]]\n",
            "\n",
            " [[1. 1. 1.]\n",
            "  [1. 1. 1.]]\n",
            "\n",
            " [[1. 1. 1.]\n",
            "  [1. 1. 1.]]\n",
            "\n",
            " [[1. 1. 1.]\n",
            "  [1. 1. 1.]]], shape=(4, 2, 3), dtype=float32)\n",
            "Type des éléments : <dtype: 'float32'>\n",
            "Nombre de dimensions :  3\n"
          ]
        }
      ]
    },
    {
      "cell_type": "markdown",
      "metadata": {
        "id": "wV5nlNXJ-23W"
      },
      "source": [
        "*   **Rang d'un tenseur**"
      ]
    },
    {
      "cell_type": "code",
      "metadata": {
        "colab": {
          "base_uri": "https://localhost:8080/"
        },
        "id": "FgAQLVjBx4_n",
        "outputId": "11189032-dfcd-4687-b522-17d7c7165058"
      },
      "source": [
        "tensor_1 = tf.constant(\"Agadir\", tf.string)\n",
        "tensor_2 = tf.constant(33, tf.float64)\n",
        "tensor_3 = tf.constant([1,2,3])\n",
        "print(\"tensor_1 est un Tenseur de rang : {}\".format(tf.rank(tensor_1)))\n",
        "print(\"tensor_2 est un Tenseur de rang : \",tf.rank(tensor_2).numpy())\n",
        "print(\"tensor_3 est un Tenseur de rang : \",tf.rank(tensor_3).numpy())\n",
        "tensor_3.shape"
      ],
      "execution_count": null,
      "outputs": [
        {
          "output_type": "stream",
          "name": "stdout",
          "text": [
            "tensor_1 est un Tenseur de rang : 0\n",
            "tensor_2 est un Tenseur de rang :  0\n",
            "tensor_3 est un Tenseur de rang :  1\n"
          ]
        },
        {
          "output_type": "execute_result",
          "data": {
            "text/plain": [
              "TensorShape([3])"
            ]
          },
          "metadata": {},
          "execution_count": 3
        }
      ]
    },
    {
      "cell_type": "markdown",
      "metadata": {
        "id": "RzF_R5lL_j0N"
      },
      "source": [
        "*   **Forme (Shape) d'un tenseur**"
      ]
    },
    {
      "cell_type": "code",
      "metadata": {
        "colab": {
          "base_uri": "https://localhost:8080/"
        },
        "id": "kuBsbiYg_tQz",
        "outputId": "eef510fc-74dc-49b6-8b17-ae3b064127d2"
      },
      "source": [
        "tensor_4 = tf.constant([[10, 11, 12], [21, 22, 23]])\n",
        "print(\"tensor_4 est un Tenseur de forme : {}\".format(tensor_4.shape))\n",
        "print(\"La taille du deuxième axe est :\", tensor_4.shape[1])\n",
        "print(\"La taille du premier axe est :\", tensor_4.shape[-1])"
      ],
      "execution_count": null,
      "outputs": [
        {
          "output_type": "stream",
          "name": "stdout",
          "text": [
            "tensor_4 est un Tenseur de forme : (2, 3)\n",
            "La taille du deuxième axe est : 3\n",
            "La taille du premier axe est : 3\n"
          ]
        }
      ]
    },
    {
      "cell_type": "markdown",
      "metadata": {
        "id": "SDTvBqKhekug"
      },
      "source": [
        "*   **Changer la forme d'un tenseur**"
      ]
    },
    {
      "cell_type": "code",
      "metadata": {
        "colab": {
          "base_uri": "https://localhost:8080/"
        },
        "id": "_1W-4Necakxw",
        "outputId": "f7c4b9e3-a09d-4527-c5ed-3a07825aa1b2"
      },
      "source": [
        "tensor1 = tf.constant([[[1., 2., 3.],[4. ,5., 6.]]])  # tenseur de forme [1,2,3] \n",
        "tensor2 = tf.reshape(tensor1, [2,3,1])  # tenseur de forme [2,3,1] obtenu en changeant le forme de tensor1\n",
        "tensor3 = tf.reshape(tensor2, [3, -1])  # -1 force le tenseur à calculer la dimension à cet emplacement  \n",
        "\n",
        "print(tensor1)\n",
        "print(tensor2)\n",
        "print(tensor3)"
      ],
      "execution_count": null,
      "outputs": [
        {
          "output_type": "stream",
          "name": "stdout",
          "text": [
            "tf.Tensor(\n",
            "[[[1. 2. 3.]\n",
            "  [4. 5. 6.]]], shape=(1, 2, 3), dtype=float32)\n",
            "tf.Tensor(\n",
            "[[[1.]\n",
            "  [2.]\n",
            "  [3.]]\n",
            "\n",
            " [[4.]\n",
            "  [5.]\n",
            "  [6.]]], shape=(2, 3, 1), dtype=float32)\n",
            "tf.Tensor(\n",
            "[[1. 2.]\n",
            " [3. 4.]\n",
            " [5. 6.]], shape=(3, 2), dtype=float32)\n"
          ]
        }
      ]
    },
    {
      "cell_type": "markdown",
      "metadata": {
        "id": "1kclgmi2-76F"
      },
      "source": [
        "*   **Opérations sur les tenseurs**"
      ]
    },
    {
      "cell_type": "code",
      "metadata": {
        "colab": {
          "base_uri": "https://localhost:8080/"
        },
        "id": "AAwZjJHL9tHY",
        "outputId": "9f790124-8e0c-430a-9c11-2216aa3e3cf1"
      },
      "source": [
        "x = tf.constant([[1, 2],[3, 4]])\n",
        "y = tf.constant([[5, 6],[7, 8]])\n",
        "\n",
        "# Addition de deux tenseurs\n",
        "print(tf.add(x, y), \"\\n\")\n",
        "\n",
        "# Multiplication de deux tenseurs\n",
        "print(tf.matmul(x, y), \"\\n\")\n",
        "egaux = (x == y) #  égalité élément par élément\n",
        "print(egaux)\n",
        "y_pow_2=tf.square(y) # carré du tenseur y\n",
        "print(y_pow_2)  "
      ],
      "execution_count": null,
      "outputs": [
        {
          "output_type": "stream",
          "name": "stdout",
          "text": [
            "tf.Tensor(\n",
            "[[ 6  8]\n",
            " [10 12]], shape=(2, 2), dtype=int32) \n",
            "\n",
            "tf.Tensor(\n",
            "[[19 22]\n",
            " [43 50]], shape=(2, 2), dtype=int32) \n",
            "\n",
            "tf.Tensor(\n",
            "[[False False]\n",
            " [False False]], shape=(2, 2), dtype=bool)\n",
            "tf.Tensor(\n",
            "[[25 36]\n",
            " [49 64]], shape=(2, 2), dtype=int32)\n"
          ]
        }
      ]
    },
    {
      "cell_type": "code",
      "metadata": {
        "id": "tndqPJ1lH8ix"
      },
      "source": [
        ""
      ],
      "execution_count": null,
      "outputs": []
    },
    {
      "cell_type": "markdown",
      "metadata": {
        "id": "nD4kq74r9Fi5"
      },
      "source": [
        "*   **Découper un tenseur**"
      ]
    },
    {
      "cell_type": "code",
      "metadata": {
        "colab": {
          "base_uri": "https://localhost:8080/"
        },
        "id": "8KMgCx9b9F9N",
        "outputId": "2cb17777-9eb1-4ff9-8b44-315a007e48fa"
      },
      "source": [
        "x =[[1,2,3],\n",
        "    [4,5,6],\n",
        "    [7,8,9],\n",
        "    [10,11,12]]\n",
        "T1 = tf.Variable(x, dtype=tf.int32) \n",
        "\n",
        "deux = T1[0,1]  # Deuxième élément de la première ligne\n",
        "print(deux) \n",
        "\n",
        "ligne3 = T1[2]  # La troisième ligne\n",
        "print(ligne3)\n",
        "\n",
        "colonne2 = T1[:, 1]  # La deuxième colonne\n",
        "print(colonne2)\n",
        "\n",
        "ligne_1_ligne_3 = T1[1::2]  # La deuxième ligne et la quatrième ligne\n",
        "print(ligne_1_ligne_3)\n",
        "\n",
        "colonne2_ligne3_ligne4 = T1[0:2, 1] # deuxième colonne, première et deuxième ligne\n",
        "print(colonne2_ligne3_ligne4)"
      ],
      "execution_count": null,
      "outputs": [
        {
          "output_type": "stream",
          "name": "stdout",
          "text": [
            "tf.Tensor(2, shape=(), dtype=int32)\n",
            "tf.Tensor([7 8 9], shape=(3,), dtype=int32)\n",
            "tf.Tensor([ 2  5  8 11], shape=(4,), dtype=int32)\n",
            "tf.Tensor(\n",
            "[[ 4  5  6]\n",
            " [10 11 12]], shape=(2, 3), dtype=int32)\n",
            "tf.Tensor([2 5], shape=(2,), dtype=int32)\n"
          ]
        }
      ]
    }
  ]
}