{
  "nbformat": 4,
  "nbformat_minor": 0,
  "metadata": {
    "colab": {
      "name": "Introduction.ipynb",
      "provenance": [],
      "collapsed_sections": [],
      "authorship_tag": "ABX9TyMoXh9Gy0C0SJIW4hSEus0B",
      "include_colab_link": true
    },
    "kernelspec": {
      "name": "python3",
      "display_name": "Python 3"
    },
    "language_info": {
      "name": "python"
    }
  },
  "cells": [
    {
      "cell_type": "markdown",
      "metadata": {
        "id": "view-in-github",
        "colab_type": "text"
      },
      "source": [
        "<a href=\"https://colab.research.google.com/github/alibouch/TensorFlow_FSA_21-22/blob/main/Introduction.ipynb\" target=\"_parent\"><img src=\"https://colab.research.google.com/assets/colab-badge.svg\" alt=\"Open In Colab\"/></a>"
      ]
    },
    {
      "cell_type": "markdown",
      "metadata": {
        "id": "dc19zyeXK2fk"
      },
      "source": [
        "# Atelier 1: Introduction à TensorFlow"
      ]
    },
    {
      "cell_type": "markdown",
      "metadata": {
        "id": "Hossi71LmTl3"
      },
      "source": [
        "*   Vous pouvez consulter la documentation TensorFlow sur le lien suivant : https://www.tensorflow.org/api_docs/python/tf/all_symbols"
      ]
    },
    {
      "cell_type": "markdown",
      "metadata": {
        "id": "eoupNAwyV5CQ"
      },
      "source": [
        "\n",
        "\n",
        "##1.   TensorFlow 1.x\n",
        "\n",
        "\n"
      ]
    },
    {
      "cell_type": "markdown",
      "metadata": {
        "id": "pdAHqFsj3cw2"
      },
      "source": [
        "*   **Construction du graphe :**\n",
        "\n",
        "\n",
        "\n"
      ]
    },
    {
      "cell_type": "code",
      "metadata": {
        "id": "MvU17cZ4Sq35"
      },
      "source": [
        "%tensorflow_version 1.x\n",
        "import tensorflow as tf\n",
        "print(\"la version selectionnée est :\",tf.__name__,tf.__version__)\n",
        "a = tf.constant(2) \n",
        "b = tf.constant(3) \n",
        "c = a + b \n",
        "print(c)"
      ],
      "execution_count": null,
      "outputs": []
    },
    {
      "cell_type": "markdown",
      "metadata": {
        "id": "_kpvHhHn39TQ"
      },
      "source": [
        "*   **Evaluation en utilisant une session :**"
      ]
    },
    {
      "cell_type": "code",
      "metadata": {
        "id": "6-j5dyVGTfBL"
      },
      "source": [
        "with tf.Session() as sess: \n",
        "  print(sess.run(c))"
      ],
      "execution_count": null,
      "outputs": []
    },
    {
      "cell_type": "markdown",
      "metadata": {
        "id": "oHWQwICgwr1n"
      },
      "source": [
        "##2.   TensorFlow 2.x"
      ]
    },
    {
      "cell_type": "markdown",
      "metadata": {
        "id": "_DoUi-k0wzzD"
      },
      "source": [
        "*   **Redémarrez l'envirennement d'exécution (Ctrl+M) puis exécutez le code suivant :**\n",
        "\n",
        "\n",
        "\n",
        "\n",
        "\n",
        "\n"
      ]
    },
    {
      "cell_type": "code",
      "metadata": {
        "id": "0hqp826vWOhc"
      },
      "source": [
        "%tensorflow_version 2.x\n",
        "import tensorflow as tf\n",
        "print(\"la version selectionnée est :\",tf.__name__,tf.__version__)\n",
        "a = tf.constant(2) \n",
        "b = tf.constant(3) \n",
        "c = a + b \n",
        "print(c)"
      ],
      "execution_count": null,
      "outputs": []
    },
    {
      "cell_type": "markdown",
      "metadata": {
        "id": "wkrpMmOc4trg"
      },
      "source": [
        "*   **Tenseur multidimensionnels**"
      ]
    },
    {
      "cell_type": "code",
      "metadata": {
        "id": "bdUzJnim4tUx"
      },
      "source": [
        "T = tf.ones(shape = [4, 2, 3], dtype = tf.float32)\n",
        "print('T=', T)\n",
        "print(\"Type des éléments :\", \"\"\" A FAIRE \"\"\")\n",
        "print(\"Nombre de dimensions : \", \"\"\" A FAIRE \"\"\")"
      ],
      "execution_count": null,
      "outputs": []
    },
    {
      "cell_type": "markdown",
      "metadata": {
        "id": "wV5nlNXJ-23W"
      },
      "source": [
        "*   **Rang d'un tenseur**"
      ]
    },
    {
      "cell_type": "code",
      "metadata": {
        "id": "FgAQLVjBx4_n"
      },
      "source": [
        "tensor_1 = tf.constant(\"Agadir\", tf.string)\n",
        "tensor_2 = tf.constant(33, tf.float64)\n",
        "tensor_3 = tf.constant([1,2,3])\n",
        "print(\"tensor_1 est un Tenseur de rang : {}\".format(tf.rank(tensor_1)))\n",
        "print(\"tensor_2 est un Tenseur de rang : \",  \"\"\" A FAIRE \"\"\")\n",
        "print(\"tensor_3 est un Tenseur de rang : \",  \"\"\" A FAIRE \"\"\")"
      ],
      "execution_count": null,
      "outputs": []
    },
    {
      "cell_type": "markdown",
      "metadata": {
        "id": "RzF_R5lL_j0N"
      },
      "source": [
        "*   **Forme (Shape) d'un tenseur**"
      ]
    },
    {
      "cell_type": "code",
      "metadata": {
        "id": "kuBsbiYg_tQz"
      },
      "source": [
        "tensor_4 = tf.constant([[10, 11, 12], [21, 22, 23]])\n",
        "print(\"tensor_4 est un Tenseur de forme : {}\".format(tensor_4.shape))\n",
        "print(\"La taille du deuxième axe est :\", \"\"\" A FAIRE \"\"\")\n",
        "print(\"La taille du premier axe est :\", \"\"\" A FAIRE \"\"\")"
      ],
      "execution_count": null,
      "outputs": []
    },
    {
      "cell_type": "markdown",
      "metadata": {
        "id": "SDTvBqKhekug"
      },
      "source": [
        "*   **Changer la forme d'un tenseur**"
      ]
    },
    {
      "cell_type": "code",
      "metadata": {
        "id": "_1W-4Necakxw"
      },
      "source": [
        "tensor1 = tf.constant([[[1., 2., 3.],[4. ,5., 6.]]])  # tenseur de forme [1,2,3] \n",
        "tensor2 = \"\"\" A FAIRE \"\"\"  # tenseur de forme [2,3,1] obtenu en changeant le forme de tensor1\n",
        "tensor3 = tf.reshape(tensor2, [3, -1])  # -1 force le tenseur à calculer la dimension à cet emplacement  \n",
        "\n",
        "print(tensor1)\n",
        "print(tensor2)\n",
        "print(tensor3)"
      ],
      "execution_count": null,
      "outputs": []
    },
    {
      "cell_type": "markdown",
      "metadata": {
        "id": "1kclgmi2-76F"
      },
      "source": [
        "*   **Opérations sur les tenseurs**"
      ]
    },
    {
      "cell_type": "code",
      "metadata": {
        "id": "AAwZjJHL9tHY"
      },
      "source": [
        "x = tf.constant([[1, 2],[3, 4]])\n",
        "y = tf.constant([[5, 6],[7, 8]])\n",
        "\n",
        "# Addition de deux tenseurs\n",
        "print(tf.add(x, y), \"\\n\")\n",
        "\n",
        "# Multiplication de deux tenseurs\n",
        "print(\"\"\" A FAIRE \"\"\", \"\\n\")\n",
        "egaux = (x == y) #  égalité élément par élément\n",
        "print(egaux)\n",
        "y_pow_2=\"\"\" A FAIRE \"\"\" # carré du tenseur y\n",
        "print(y_pow_2)  "
      ],
      "execution_count": null,
      "outputs": []
    },
    {
      "cell_type": "code",
      "metadata": {
        "id": "tndqPJ1lH8ix"
      },
      "source": [
        ""
      ],
      "execution_count": null,
      "outputs": []
    },
    {
      "cell_type": "markdown",
      "metadata": {
        "id": "nD4kq74r9Fi5"
      },
      "source": [
        "*   **Découper un tenseur**"
      ]
    },
    {
      "cell_type": "code",
      "metadata": {
        "id": "8KMgCx9b9F9N"
      },
      "source": [
        "x =[[1,2,3],\n",
        "    [4,5,6],\n",
        "    [7,8,9],\n",
        "    [10,11,12]]\n",
        "T1 = tf.Variable(x, dtype=tf.int32) \n",
        "\n",
        "deux = T1[0,1]  # Deuxième élément de la première ligne\n",
        "print(deux) \n",
        "\n",
        "ligne3 = T1[2]  # La troisième ligne\n",
        "print(ligne3)\n",
        "\n",
        "colonne2 = \"\"\" A FAIRE \"\"\"  # La deuxième colonne\n",
        "print(colonne2)\n",
        "\n",
        "ligne_1_ligne_3 = \"\"\" A FAIRE \"\"\"  # La deuxième ligne et la quatrième ligne\n",
        "print(ligne_1_ligne_3)\n",
        "\n",
        "colonne2_ligne3_ligne4 = \"\"\" A FAIRE \"\"\" # deuxième colonne, première et deuxième ligne\n",
        "print(colonne2_ligne3_ligne4)"
      ],
      "execution_count": null,
      "outputs": []
    }
  ]
}