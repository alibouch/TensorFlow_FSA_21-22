{
  "nbformat": 4,
  "nbformat_minor": 0,
  "metadata": {
    "kernelspec": {
      "display_name": "Python 3",
      "language": "python",
      "name": "python3"
    },
    "language_info": {
      "codemirror_mode": {
        "name": "ipython",
        "version": 3
      },
      "file_extension": ".py",
      "mimetype": "text/x-python",
      "name": "python",
      "nbconvert_exporter": "python",
      "pygments_lexer": "ipython3",
      "version": "3.7.10"
    },
    "nav_menu": {
      "height": "264px",
      "width": "369px"
    },
    "toc": {
      "navigate_menu": true,
      "number_sections": true,
      "sideBar": true,
      "threshold": 6,
      "toc_cell": false,
      "toc_section_display": "block",
      "toc_window_display": false
    },
    "colab": {
      "name": "Atelier_4.ipynb",
      "provenance": [],
      "collapsed_sections": [],
      "include_colab_link": true
    }
  },
  "cells": [
    {
      "cell_type": "markdown",
      "metadata": {
        "id": "view-in-github",
        "colab_type": "text"
      },
      "source": [
        "<a href=\"https://colab.research.google.com/github/alibouch/TensorFlow_FSA_21-22/blob/main/Atelier_4.ipynb\" target=\"_parent\"><img src=\"https://colab.research.google.com/assets/colab-badge.svg\" alt=\"Open In Colab\"/></a>"
      ]
    },
    {
      "cell_type": "markdown",
      "metadata": {
        "id": "2NThZUE8_r5t"
      },
      "source": [
        "# Atelier 4 : L'API tf.data\n",
        "\n",
        "---\n",
        "\n"
      ]
    },
    {
      "cell_type": "markdown",
      "metadata": {
        "id": "RpHzo6ZZBZ8T"
      },
      "source": [
        "## Docummentation\n",
        "\n",
        "[tf.data Module](https://www.tensorflow.org/api_docs/python/tf/data)\n",
        "\n",
        "[tf.data.Dataset](https://www.tensorflow.org/api_docs/python/tf/data/Dataset)\n",
        "\n",
        "[tf.data: Build TensorFlow input pipelines](https://www.tensorflow.org/guide/data)\n",
        "\n",
        "[Better performance with the tf.data API](https://www.tensorflow.org/guide/data_performance)\n",
        "\n",
        "[Analyze tf.data performance with the TF Profiler](https://www.tensorflow.org/guide/data_performance_analysis)\n",
        "\n",
        "---\n",
        "\n"
      ]
    },
    {
      "cell_type": "code",
      "metadata": {
        "id": "RpTke1zI_r5v"
      },
      "source": [
        "import sys\n",
        "import sklearn\n",
        "import tensorflow as tf\n",
        "from tensorflow import keras\n",
        "import numpy as np\n",
        "import os\n",
        "np.random.seed(42)"
      ],
      "execution_count": null,
      "outputs": []
    },
    {
      "cell_type": "markdown",
      "metadata": {
        "id": "i_-lDSG9_r5x"
      },
      "source": [
        "## Introduction à tf.data"
      ]
    },
    {
      "cell_type": "markdown",
      "metadata": {
        "id": "YavXt3LQSlfq"
      },
      "source": [
        "Toute l’API Data s’articule autour du concept de *dataset*. Il s’agit de la représentation d’une suite d’éléments de données. voici une brève description des méthodes de la classe `Dataset` :"
      ]
    },
    {
      "cell_type": "code",
      "metadata": {
        "colab": {
          "base_uri": "https://localhost:8080/"
        },
        "id": "rdvUIcuqShoB",
        "outputId": "9b891a06-09c9-4db5-9217-6a765587f83e"
      },
      "source": [
        "for m in dir(tf.data.Dataset):\n",
        "    if not (m.startswith(\"_\") or m.endswith(\"_\")):\n",
        "        func = getattr(tf.data.Dataset, m)\n",
        "        if hasattr(func, \"__doc__\"):\n",
        "            print(\"● {:21s}{}\".format(m + \"()\", func.__doc__.split(\"\\n\")[0]))"
      ],
      "execution_count": null,
      "outputs": [
        {
          "output_type": "stream",
          "name": "stdout",
          "text": [
            "● apply()              Applies a transformation function to this dataset.\n",
            "● as_numpy_iterator()  Returns an iterator which converts all elements of the dataset to numpy.\n",
            "● batch()              Combines consecutive elements of this dataset into batches.\n",
            "● bucket_by_sequence_length()A transformation that buckets elements in a `Dataset` by length.\n",
            "● cache()              Caches the elements in this dataset.\n",
            "● cardinality()        Returns the cardinality of the dataset, if known.\n",
            "● choose_from_datasets()Creates a dataset that deterministically chooses elements from `datasets`.\n",
            "● concatenate()        Creates a `Dataset` by concatenating the given dataset with this dataset.\n",
            "● element_spec()       The type specification of an element of this dataset.\n",
            "● enumerate()          Enumerates the elements of this dataset.\n",
            "● filter()             Filters this dataset according to `predicate`.\n",
            "● flat_map()           Maps `map_func` across this dataset and flattens the result.\n",
            "● from_generator()     Creates a `Dataset` whose elements are generated by `generator`. (deprecated arguments)\n",
            "● from_tensor_slices() Creates a `Dataset` whose elements are slices of the given tensors.\n",
            "● from_tensors()       Creates a `Dataset` with a single element, comprising the given tensors.\n",
            "● get_single_element() Returns the single element of the `dataset`.\n",
            "● group_by_window()    Groups windows of elements by key and reduces them.\n",
            "● interleave()         Maps `map_func` across this dataset, and interleaves the results.\n",
            "● list_files()         A dataset of all files matching one or more glob patterns.\n",
            "● map()                Maps `map_func` across the elements of this dataset.\n",
            "● options()            Returns the options for this dataset and its inputs.\n",
            "● padded_batch()       Combines consecutive elements of this dataset into padded batches.\n",
            "● prefetch()           Creates a `Dataset` that prefetches elements from this dataset.\n",
            "● random()             Creates a `Dataset` of pseudorandom values.\n",
            "● range()              Creates a `Dataset` of a step-separated range of values.\n",
            "● reduce()             Reduces the input dataset to a single element.\n",
            "● rejection_resample() A transformation that resamples a dataset to a target distribution.\n",
            "● repeat()             Repeats this dataset so each original value is seen `count` times.\n",
            "● sample_from_datasets()Samples elements at random from the datasets in `datasets`.\n",
            "● scan()               A transformation that scans a function across an input dataset.\n",
            "● shard()              Creates a `Dataset` that includes only 1/`num_shards` of this dataset.\n",
            "● shuffle()            Randomly shuffles the elements of this dataset.\n",
            "● skip()               Creates a `Dataset` that skips `count` elements from this dataset.\n",
            "● snapshot()           API to persist the output of the input dataset.\n",
            "● take()               Creates a `Dataset` with at most `count` elements from this dataset.\n",
            "● take_while()         A transformation that stops dataset iteration based on a `predicate`.\n",
            "● unbatch()            Splits elements of a dataset into multiple elements.\n",
            "● unique()             A transformation that discards duplicate elements of a `Dataset`.\n",
            "● window()             Returns a dataset of \"windows\".\n",
            "● with_options()       Returns a new `tf.data.Dataset` with the given options set.\n",
            "● zip()                Creates a `Dataset` by zipping together the given datasets.\n"
          ]
        }
      ]
    },
    {
      "cell_type": "markdown",
      "metadata": {
        "id": "9GgNKsTHrNb8"
      },
      "source": [
        "La fonction `from_tensor_slices()` prend un tenseur et crée un `tf.data.Dataset` dont les éléments sont tous des tranches de X (sur la première dimension) :"
      ]
    },
    {
      "cell_type": "code",
      "metadata": {
        "id": "4nB7hLIB_r5y",
        "colab": {
          "base_uri": "https://localhost:8080/"
        },
        "outputId": "6f5c0079-6e32-4880-e73c-fe99d5af0198"
      },
      "source": [
        "X = tf.range(10)\n",
        "dataset = \n",
        "dataset"
      ],
      "execution_count": null,
      "outputs": [
        {
          "output_type": "execute_result",
          "data": {
            "text/plain": [
              "<TensorSliceDataset shapes: (), types: tf.int32>"
            ]
          },
          "metadata": {},
          "execution_count": 3
        }
      ]
    },
    {
      "cell_type": "markdown",
      "metadata": {
        "id": "9HaQThJW_r50"
      },
      "source": [
        "Nous  obtenons le même dataset avec `tf.data.Dataset.range()` :"
      ]
    },
    {
      "cell_type": "code",
      "metadata": {
        "id": "ZrDDEUZF_r51"
      },
      "source": [
        "dataset = tf.data.Dataset.range(10)"
      ],
      "execution_count": null,
      "outputs": []
    },
    {
      "cell_type": "code",
      "metadata": {
        "id": "atAA58cN_r52",
        "colab": {
          "base_uri": "https://localhost:8080/"
        },
        "outputId": "923c0d87-c8c0-40ab-d7f2-4732a1d3f27a"
      },
      "source": [
        "for item in dataset:\n",
        "    print(item)"
      ],
      "execution_count": null,
      "outputs": [
        {
          "output_type": "stream",
          "name": "stdout",
          "text": [
            "tf.Tensor(0, shape=(), dtype=int64)\n",
            "tf.Tensor(1, shape=(), dtype=int64)\n",
            "tf.Tensor(2, shape=(), dtype=int64)\n",
            "tf.Tensor(3, shape=(), dtype=int64)\n",
            "tf.Tensor(4, shape=(), dtype=int64)\n",
            "tf.Tensor(5, shape=(), dtype=int64)\n",
            "tf.Tensor(6, shape=(), dtype=int64)\n",
            "tf.Tensor(7, shape=(), dtype=int64)\n",
            "tf.Tensor(8, shape=(), dtype=int64)\n",
            "tf.Tensor(9, shape=(), dtype=int64)\n"
          ]
        }
      ]
    },
    {
      "cell_type": "markdown",
      "metadata": {
        "id": "FmwhQaBUVdbt"
      },
      "source": [
        "Le module `tf.data.TextLineDataset` permet de charger du texte à partir de fichiers texte et de créer un dataset où chaque ligne des fichiers devient un élément de ce dataset."
      ]
    },
    {
      "cell_type": "markdown",
      "metadata": {
        "id": "z4NYBUQlWUg9"
      },
      "source": [
        "Commençons par créer un fichier texte"
      ]
    },
    {
      "cell_type": "code",
      "metadata": {
        "colab": {
          "base_uri": "https://localhost:8080/"
        },
        "id": "rEfB55zAVdyT",
        "outputId": "10810e80-22f1-4854-c9cd-de80ffc040bd"
      },
      "source": [
        "%%writefile sample1.txt\n",
        "0,male,22.0,1,0,7.25,Third,unknown,Southampton,n\n",
        "1,female,38.0,1,0,71.2833,First,C,Cherbourg,n\n",
        "1,female,26.0,0,0,7.925,Third,unknown,Southampton,y\n",
        "1,female,35.0,1,0,53.1,First,C,Southampton,n\n",
        "0,male,28.0,0,0,8.4583,Third,unknown,Queenstown,y\n",
        "0,male,2.0,3,1,21.075,Third,unknown,Southampton,n"
      ],
      "execution_count": null,
      "outputs": [
        {
          "output_type": "stream",
          "name": "stdout",
          "text": [
            "Overwriting sample1.txt\n"
          ]
        }
      ]
    },
    {
      "cell_type": "markdown",
      "metadata": {
        "id": "6MXFU8zxWh-1"
      },
      "source": [
        "Création d'un tenseur avec le fichier texte :"
      ]
    },
    {
      "cell_type": "code",
      "metadata": {
        "id": "qE-AlhK2WxrU"
      },
      "source": [
        "filenames = tf.constant(value = [\"sample1.txt\"], dtype = tf.string)"
      ],
      "execution_count": null,
      "outputs": []
    },
    {
      "cell_type": "markdown",
      "metadata": {
        "id": "D4OnCkB0XAm9"
      },
      "source": [
        "Créations du dataset à partir du fichier texte :"
      ]
    },
    {
      "cell_type": "code",
      "metadata": {
        "colab": {
          "base_uri": "https://localhost:8080/"
        },
        "id": "Sg2RiS5yWm6O",
        "outputId": "5e66c8d9-6f8c-41ed-b182-9d86521fa9a4"
      },
      "source": [
        "dat1 = \n",
        "for line in dat1:\n",
        "  print(line)"
      ],
      "execution_count": null,
      "outputs": [
        {
          "output_type": "stream",
          "name": "stdout",
          "text": [
            "tf.Tensor(b'0,male,22.0,1,0,7.25,Third,unknown,Southampton,n', shape=(), dtype=string)\n",
            "tf.Tensor(b'1,female,38.0,1,0,71.2833,First,C,Cherbourg,n', shape=(), dtype=string)\n",
            "tf.Tensor(b'1,female,26.0,0,0,7.925,Third,unknown,Southampton,y', shape=(), dtype=string)\n",
            "tf.Tensor(b'1,female,35.0,1,0,53.1,First,C,Southampton,n', shape=(), dtype=string)\n",
            "tf.Tensor(b'0,male,28.0,0,0,8.4583,Third,unknown,Queenstown,y', shape=(), dtype=string)\n",
            "tf.Tensor(b'0,male,2.0,3,1,21.075,Third,unknown,Southampton,n', shape=(), dtype=string)\n"
          ]
        }
      ]
    },
    {
      "cell_type": "markdown",
      "metadata": {
        "id": "BsAFE_9mrx3A"
      },
      "source": [
        "##Transformations"
      ]
    },
    {
      "cell_type": "markdown",
      "metadata": {
        "id": "sItF7ZCSsfpn"
      },
      "source": [
        "Enchainez les transformations suivantes sur le dataset :\n",
        "\n",
        "\n",
        "![image.png](data:image/png;base64,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) "
      ]
    },
    {
      "cell_type": "code",
      "metadata": {
        "tags": [
          "raises-exception"
        ],
        "id": "_gQpIBFn_r52",
        "colab": {
          "base_uri": "https://localhost:8080/"
        },
        "outputId": "1ad0a212-6795-4586-db05-a012ef0acbd3"
      },
      "source": [
        "dataset = \n",
        "for item in dataset:\n",
        "    print(item)"
      ],
      "execution_count": null,
      "outputs": [
        {
          "output_type": "stream",
          "name": "stdout",
          "text": [
            "tf.Tensor([0 1 2 3 4 5 6], shape=(7,), dtype=int64)\n",
            "tf.Tensor([7 8 9 0 1 2 3], shape=(7,), dtype=int64)\n",
            "tf.Tensor([4 5 6 7 8 9 0], shape=(7,), dtype=int64)\n",
            "tf.Tensor([1 2 3 4 5 6 7], shape=(7,), dtype=int64)\n",
            "tf.Tensor([8 9], shape=(2,), dtype=int64)\n"
          ]
        }
      ]
    },
    {
      "cell_type": "markdown",
      "metadata": {
        "id": "WqKTTyUDs3xX"
      },
      "source": [
        "Transformez les éléments du dataset en appelant la méthode `map()`. Les valeurs des éléments du nouveau dataset sont obtenus en multipliant les valeurs de l'ancien par deux :"
      ]
    },
    {
      "cell_type": "code",
      "metadata": {
        "id": "XSV_jqU6_r53"
      },
      "source": [
        "dataset = "
      ],
      "execution_count": null,
      "outputs": []
    },
    {
      "cell_type": "code",
      "metadata": {
        "id": "nF8p5oZn_r54",
        "colab": {
          "base_uri": "https://localhost:8080/"
        },
        "outputId": "e4e67acd-6b77-4976-f1a6-93ac9bc93ad1"
      },
      "source": [
        "for item in dataset:\n",
        "    print(item)"
      ],
      "execution_count": null,
      "outputs": [
        {
          "output_type": "stream",
          "name": "stdout",
          "text": [
            "tf.Tensor([ 0  2  4  6  8 10 12], shape=(7,), dtype=int64)\n",
            "tf.Tensor([14 16 18  0  2  4  6], shape=(7,), dtype=int64)\n",
            "tf.Tensor([ 8 10 12 14 16 18  0], shape=(7,), dtype=int64)\n",
            "tf.Tensor([ 2  4  6  8 10 12 14], shape=(7,), dtype=int64)\n",
            "tf.Tensor([16 18], shape=(2,), dtype=int64)\n"
          ]
        }
      ]
    },
    {
      "cell_type": "markdown",
      "metadata": {
        "id": "Lii1KT0QwHPB"
      },
      "source": [
        "Transformez le dataset de telle façon à ce que chaque élément du nouveau dataset sera un tenseur d’un seul entier au lieu d’un lot de sept entiers :"
      ]
    },
    {
      "cell_type": "code",
      "metadata": {
        "id": "h8w0FgHF_r55",
        "colab": {
          "base_uri": "https://localhost:8080/"
        },
        "outputId": "103645c8-b9d9-4862-f217-82156217297b"
      },
      "source": [
        "dataset = \n",
        "for item in dataset:\n",
        "    print(item)"
      ],
      "execution_count": null,
      "outputs": [
        {
          "output_type": "stream",
          "name": "stdout",
          "text": [
            "tf.Tensor(0, shape=(), dtype=int64)\n",
            "tf.Tensor(2, shape=(), dtype=int64)\n",
            "tf.Tensor(4, shape=(), dtype=int64)\n",
            "tf.Tensor(6, shape=(), dtype=int64)\n",
            "tf.Tensor(8, shape=(), dtype=int64)\n",
            "tf.Tensor(10, shape=(), dtype=int64)\n",
            "tf.Tensor(12, shape=(), dtype=int64)\n",
            "tf.Tensor(14, shape=(), dtype=int64)\n",
            "tf.Tensor(16, shape=(), dtype=int64)\n",
            "tf.Tensor(18, shape=(), dtype=int64)\n",
            "tf.Tensor(0, shape=(), dtype=int64)\n",
            "tf.Tensor(2, shape=(), dtype=int64)\n",
            "tf.Tensor(4, shape=(), dtype=int64)\n",
            "tf.Tensor(6, shape=(), dtype=int64)\n",
            "tf.Tensor(8, shape=(), dtype=int64)\n",
            "tf.Tensor(10, shape=(), dtype=int64)\n",
            "tf.Tensor(12, shape=(), dtype=int64)\n",
            "tf.Tensor(14, shape=(), dtype=int64)\n",
            "tf.Tensor(16, shape=(), dtype=int64)\n",
            "tf.Tensor(18, shape=(), dtype=int64)\n",
            "tf.Tensor(0, shape=(), dtype=int64)\n",
            "tf.Tensor(2, shape=(), dtype=int64)\n",
            "tf.Tensor(4, shape=(), dtype=int64)\n",
            "tf.Tensor(6, shape=(), dtype=int64)\n",
            "tf.Tensor(8, shape=(), dtype=int64)\n",
            "tf.Tensor(10, shape=(), dtype=int64)\n",
            "tf.Tensor(12, shape=(), dtype=int64)\n",
            "tf.Tensor(14, shape=(), dtype=int64)\n",
            "tf.Tensor(16, shape=(), dtype=int64)\n",
            "tf.Tensor(18, shape=(), dtype=int64)\n"
          ]
        }
      ]
    },
    {
      "cell_type": "markdown",
      "metadata": {
        "id": "6TKIfYuLwb35"
      },
      "source": [
        "Filtrez le dataset afin de ne garder que les éléments inférieurs à 10 :"
      ]
    },
    {
      "cell_type": "code",
      "metadata": {
        "id": "re3igz6f_r55"
      },
      "source": [
        "dataset =   "
      ],
      "execution_count": null,
      "outputs": []
    },
    {
      "cell_type": "markdown",
      "metadata": {
        "id": "5lqDgFkxxHAp"
      },
      "source": [
        "Examinez 3 éléments du dataset. Utiliszez la méthode `take()` :"
      ]
    },
    {
      "cell_type": "code",
      "metadata": {
        "id": "WrRTXm4b_r56",
        "colab": {
          "base_uri": "https://localhost:8080/"
        },
        "outputId": "4679f0e3-b232-43f8-d735-3adce9574c7b"
      },
      "source": [
        "for item in              :\n",
        "    print(item)"
      ],
      "execution_count": null,
      "outputs": [
        {
          "output_type": "stream",
          "name": "stdout",
          "text": [
            "tf.Tensor(0, shape=(), dtype=int64)\n",
            "tf.Tensor(2, shape=(), dtype=int64)\n",
            "tf.Tensor(4, shape=(), dtype=int64)\n"
          ]
        }
      ]
    },
    {
      "cell_type": "markdown",
      "metadata": {
        "id": "4NdKl-ZFy6BN"
      },
      "source": [
        "##Mélanger les données"
      ]
    },
    {
      "cell_type": "code",
      "metadata": {
        "id": "BuswWOmWxf_k"
      },
      "source": [
        "dataset = tf.data.Dataset.range(10).repeat(3)"
      ],
      "execution_count": null,
      "outputs": []
    },
    {
      "cell_type": "markdown",
      "metadata": {
        "id": "vmvGRP4exsNC"
      },
      "source": [
        "Mélangez le dataset avec un tampon (buffer) de taille 5 et un germe aléatoire (seed) de 42, et regroupez ses éléments en lots (batch) de taille 7. Utilisez la méthode `suffle()` :"
      ]
    },
    {
      "cell_type": "code",
      "metadata": {
        "id": "4osv6auM_r56",
        "colab": {
          "base_uri": "https://localhost:8080/"
        },
        "outputId": "50c43b11-1a01-4cb5-d6ad-4f95bdb4aa4b"
      },
      "source": [
        "dataset = \n",
        "for item in dataset:\n",
        "    print(item)"
      ],
      "execution_count": null,
      "outputs": [
        {
          "output_type": "stream",
          "name": "stdout",
          "text": [
            "tf.Tensor([0 3 4 2 1 5 8], shape=(7,), dtype=int64)\n",
            "tf.Tensor([6 9 7 2 3 1 4], shape=(7,), dtype=int64)\n",
            "tf.Tensor([6 0 7 9 0 1 2], shape=(7,), dtype=int64)\n",
            "tf.Tensor([8 4 5 5 3 8 9], shape=(7,), dtype=int64)\n",
            "tf.Tensor([7 6], shape=(2,), dtype=int64)\n"
          ]
        }
      ]
    },
    {
      "cell_type": "markdown",
      "metadata": {
        "id": "Rin2mjk5_r57"
      },
      "source": [
        "## Découper le dataset California Housing en de nombreux fichiers CSV"
      ]
    },
    {
      "cell_type": "markdown",
      "metadata": {
        "id": "y-RlKaxG_r57"
      },
      "source": [
        "Commençons par charger et préparer le dataset California Housing. Nous le chargeons d'abord, puis le divisons en un dataset d'entraînement, un dataset de validation et un dataset de test, et enfin nous le normalisons :"
      ]
    },
    {
      "cell_type": "code",
      "metadata": {
        "id": "tmn2VNib_r57"
      },
      "source": [
        "from sklearn.datasets import fetch_california_housing\n",
        "from sklearn.model_selection import train_test_split\n",
        "from sklearn.preprocessing import StandardScaler\n",
        "\n",
        "housing = fetch_california_housing()\n",
        "X_train_full, X_test, y_train_full, y_test = train_test_split(\n",
        "    housing.data, housing.target.reshape(-1, 1), random_state=42)\n",
        "X_train, X_valid, y_train, y_valid = train_test_split(\n",
        "    X_train_full, y_train_full, random_state=42)\n",
        "\n",
        "scaler = StandardScaler()\n",
        "scaler.fit(X_train)\n",
        "X_mean = scaler.mean_\n",
        "X_std = scaler.scale_"
      ],
      "execution_count": null,
      "outputs": []
    },
    {
      "cell_type": "markdown",
      "metadata": {
        "id": "CQqOmly-_r59"
      },
      "source": [
        "Pour un dataset très volumineux qui ne tient pas en mémoire, nous le découpons généralement en plusieurs fichiers, puis nous demandons à TensorFlow de lire ces fichiers en parallèle. \n",
        "\n",
        "Pour illustrer cela, commençons par définir une fonction qui permet de découpez le dataset California Housing en plusieurs fichiers CSV et qui retourne la liste des chemins des fichiers crées :"
      ]
    },
    {
      "cell_type": "code",
      "metadata": {
        "id": "MulpreSg_r59"
      },
      "source": [
        "def save_to_multiple_csv_files(data, name_prefix, header=None, n_parts=10):\n",
        "    housing_dir = os.path.join(\"datasets\", \"housing\")\n",
        "    os.makedirs(housing_dir, exist_ok=True)\n",
        "    path_format = os.path.join(housing_dir, \"my_{}_{:02d}.csv\")\n",
        "\n",
        "    filepaths = []\n",
        "    m = len(data)\n",
        "    for file_idx, row_indices in enumerate(np.array_split(np.arange(m), n_parts)):\n",
        "        part_csv = path_format.format(name_prefix, file_idx)\n",
        "        filepaths.append(part_csv)\n",
        "        with open(part_csv, \"wt\", encoding=\"utf-8\") as f:\n",
        "            if header is not None:\n",
        "                f.write(header)\n",
        "                f.write(\"\\n\")\n",
        "            for row_idx in row_indices:\n",
        "                f.write(\",\".join([repr(col) for col in data[row_idx]]))\n",
        "                f.write(\"\\n\")\n",
        "    return filepaths"
      ],
      "execution_count": null,
      "outputs": []
    },
    {
      "cell_type": "code",
      "metadata": {
        "id": "Vh2rv4Xj_r5-"
      },
      "source": [
        "train_data = np.c_[X_train, y_train]\n",
        "valid_data = np.c_[X_valid, y_valid]\n",
        "test_data = np.c_[X_test, y_test]\n",
        "header_cols = housing.feature_names + [\"MedianHouseValue\"]\n",
        "header = \",\".join(header_cols)"
      ],
      "execution_count": null,
      "outputs": []
    },
    {
      "cell_type": "markdown",
      "metadata": {
        "id": "BdItucmL479s"
      },
      "source": [
        "Utilisez la fonction précédente pour découpez le dataset d'entraînement en 20 fichiers CSV, le dataset de validation et le dataset de test en 10 fichiers CSV chacun :"
      ]
    },
    {
      "cell_type": "code",
      "metadata": {
        "id": "LN194NbL48t_"
      },
      "source": [
        "train_filepaths = \n",
        "valid_filepaths = \n",
        "test_filepaths = "
      ],
      "execution_count": null,
      "outputs": []
    },
    {
      "cell_type": "markdown",
      "metadata": {
        "id": "Oz-gsZC6_r5_"
      },
      "source": [
        "Jetons un coup d'oeil aux premières lignes de l'un de ces fichiers CSV :"
      ]
    },
    {
      "cell_type": "code",
      "metadata": {
        "id": "QhhrN6tZ_r5_",
        "colab": {
          "base_uri": "https://localhost:8080/",
          "height": 204
        },
        "outputId": "406993f3-30a5-410a-f391-b6a4849e91e7"
      },
      "source": [
        "import pandas as pd\n",
        "\n",
        "pd.read_csv(train_filepaths[0]).head()"
      ],
      "execution_count": null,
      "outputs": [
        {
          "output_type": "execute_result",
          "data": {
            "text/html": [
              "<div>\n",
              "<style scoped>\n",
              "    .dataframe tbody tr th:only-of-type {\n",
              "        vertical-align: middle;\n",
              "    }\n",
              "\n",
              "    .dataframe tbody tr th {\n",
              "        vertical-align: top;\n",
              "    }\n",
              "\n",
              "    .dataframe thead th {\n",
              "        text-align: right;\n",
              "    }\n",
              "</style>\n",
              "<table border=\"1\" class=\"dataframe\">\n",
              "  <thead>\n",
              "    <tr style=\"text-align: right;\">\n",
              "      <th></th>\n",
              "      <th>MedInc</th>\n",
              "      <th>HouseAge</th>\n",
              "      <th>AveRooms</th>\n",
              "      <th>AveBedrms</th>\n",
              "      <th>Population</th>\n",
              "      <th>AveOccup</th>\n",
              "      <th>Latitude</th>\n",
              "      <th>Longitude</th>\n",
              "      <th>MedianHouseValue</th>\n",
              "    </tr>\n",
              "  </thead>\n",
              "  <tbody>\n",
              "    <tr>\n",
              "      <th>0</th>\n",
              "      <td>3.5214</td>\n",
              "      <td>15.0</td>\n",
              "      <td>3.049945</td>\n",
              "      <td>1.106548</td>\n",
              "      <td>1447.0</td>\n",
              "      <td>1.605993</td>\n",
              "      <td>37.63</td>\n",
              "      <td>-122.43</td>\n",
              "      <td>1.442</td>\n",
              "    </tr>\n",
              "    <tr>\n",
              "      <th>1</th>\n",
              "      <td>5.3275</td>\n",
              "      <td>5.0</td>\n",
              "      <td>6.490060</td>\n",
              "      <td>0.991054</td>\n",
              "      <td>3464.0</td>\n",
              "      <td>3.443340</td>\n",
              "      <td>33.69</td>\n",
              "      <td>-117.39</td>\n",
              "      <td>1.687</td>\n",
              "    </tr>\n",
              "    <tr>\n",
              "      <th>2</th>\n",
              "      <td>3.1000</td>\n",
              "      <td>29.0</td>\n",
              "      <td>7.542373</td>\n",
              "      <td>1.591525</td>\n",
              "      <td>1328.0</td>\n",
              "      <td>2.250847</td>\n",
              "      <td>38.44</td>\n",
              "      <td>-122.98</td>\n",
              "      <td>1.621</td>\n",
              "    </tr>\n",
              "    <tr>\n",
              "      <th>3</th>\n",
              "      <td>7.1736</td>\n",
              "      <td>12.0</td>\n",
              "      <td>6.289003</td>\n",
              "      <td>0.997442</td>\n",
              "      <td>1054.0</td>\n",
              "      <td>2.695652</td>\n",
              "      <td>33.55</td>\n",
              "      <td>-117.70</td>\n",
              "      <td>2.621</td>\n",
              "    </tr>\n",
              "    <tr>\n",
              "      <th>4</th>\n",
              "      <td>2.0549</td>\n",
              "      <td>13.0</td>\n",
              "      <td>5.312457</td>\n",
              "      <td>1.085092</td>\n",
              "      <td>3297.0</td>\n",
              "      <td>2.244384</td>\n",
              "      <td>33.93</td>\n",
              "      <td>-116.93</td>\n",
              "      <td>0.956</td>\n",
              "    </tr>\n",
              "  </tbody>\n",
              "</table>\n",
              "</div>"
            ],
            "text/plain": [
              "   MedInc  HouseAge  AveRooms  ...  Latitude  Longitude  MedianHouseValue\n",
              "0  3.5214      15.0  3.049945  ...     37.63    -122.43             1.442\n",
              "1  5.3275       5.0  6.490060  ...     33.69    -117.39             1.687\n",
              "2  3.1000      29.0  7.542373  ...     38.44    -122.98             1.621\n",
              "3  7.1736      12.0  6.289003  ...     33.55    -117.70             2.621\n",
              "4  2.0549      13.0  5.312457  ...     33.93    -116.93             0.956\n",
              "\n",
              "[5 rows x 9 columns]"
            ]
          },
          "metadata": {},
          "execution_count": 21
        }
      ]
    },
    {
      "cell_type": "markdown",
      "metadata": {
        "id": "XPp1nPVv_r6A"
      },
      "source": [
        "Ou en mode texte:"
      ]
    },
    {
      "cell_type": "code",
      "metadata": {
        "id": "81oHB82g_r6A",
        "colab": {
          "base_uri": "https://localhost:8080/"
        },
        "outputId": "682e7e12-0eae-4b4e-c62d-f6b7cc76595e"
      },
      "source": [
        "with open(train_filepaths[0]) as f:\n",
        "    for i in range(5):\n",
        "        print(f.readline(), end=\"\")"
      ],
      "execution_count": null,
      "outputs": [
        {
          "output_type": "stream",
          "name": "stdout",
          "text": [
            "MedInc,HouseAge,AveRooms,AveBedrms,Population,AveOccup,Latitude,Longitude,MedianHouseValue\n",
            "3.5214,15.0,3.0499445061043287,1.106548279689234,1447.0,1.6059933407325193,37.63,-122.43,1.442\n",
            "5.3275,5.0,6.490059642147117,0.9910536779324056,3464.0,3.4433399602385686,33.69,-117.39,1.687\n",
            "3.1,29.0,7.5423728813559325,1.5915254237288134,1328.0,2.2508474576271187,38.44,-122.98,1.621\n",
            "7.1736,12.0,6.289002557544757,0.9974424552429667,1054.0,2.6956521739130435,33.55,-117.7,2.621\n"
          ]
        }
      ]
    },
    {
      "cell_type": "code",
      "metadata": {
        "id": "rcQwXO5h_r6A",
        "colab": {
          "base_uri": "https://localhost:8080/"
        },
        "outputId": "d30d2cb6-041c-4e23-d2e8-ce4adc434b4b"
      },
      "source": [
        "train_filepaths"
      ],
      "execution_count": null,
      "outputs": [
        {
          "output_type": "execute_result",
          "data": {
            "text/plain": [
              "['datasets/housing/my_train_00.csv',\n",
              " 'datasets/housing/my_train_01.csv',\n",
              " 'datasets/housing/my_train_02.csv',\n",
              " 'datasets/housing/my_train_03.csv',\n",
              " 'datasets/housing/my_train_04.csv',\n",
              " 'datasets/housing/my_train_05.csv',\n",
              " 'datasets/housing/my_train_06.csv',\n",
              " 'datasets/housing/my_train_07.csv',\n",
              " 'datasets/housing/my_train_08.csv',\n",
              " 'datasets/housing/my_train_09.csv',\n",
              " 'datasets/housing/my_train_10.csv',\n",
              " 'datasets/housing/my_train_11.csv',\n",
              " 'datasets/housing/my_train_12.csv',\n",
              " 'datasets/housing/my_train_13.csv',\n",
              " 'datasets/housing/my_train_14.csv',\n",
              " 'datasets/housing/my_train_15.csv',\n",
              " 'datasets/housing/my_train_16.csv',\n",
              " 'datasets/housing/my_train_17.csv',\n",
              " 'datasets/housing/my_train_18.csv',\n",
              " 'datasets/housing/my_train_19.csv']"
            ]
          },
          "metadata": {},
          "execution_count": 23
        }
      ]
    },
    {
      "cell_type": "markdown",
      "metadata": {
        "id": "lrH24OHi_r6B"
      },
      "source": [
        "## construire un pipeline d’entrée"
      ]
    },
    {
      "cell_type": "markdown",
      "metadata": {
        "id": "_jQSjE5D8C2X"
      },
      "source": [
        "Créez un dataset qui ne contient que les chemins de fichiers d'entraînement. Utilisez la méthode `list_files()` avec un germe aléatoire (seed) de 42. Cette méthode retourne un dataset qui mélange les chemins de fichiers :"
      ]
    },
    {
      "cell_type": "code",
      "metadata": {
        "id": "Rjfi-2VO_r6B"
      },
      "source": [
        "filepath_dataset = "
      ],
      "execution_count": null,
      "outputs": []
    },
    {
      "cell_type": "code",
      "metadata": {
        "id": "rurtR7K9_r6B",
        "colab": {
          "base_uri": "https://localhost:8080/"
        },
        "outputId": "6a661928-1a11-4f75-cc5d-0f69dccb3f90"
      },
      "source": [
        "for filepath in filepath_dataset:\n",
        "    print(filepath)"
      ],
      "execution_count": null,
      "outputs": [
        {
          "output_type": "stream",
          "name": "stdout",
          "text": [
            "tf.Tensor(b'datasets/housing/my_train_05.csv', shape=(), dtype=string)\n",
            "tf.Tensor(b'datasets/housing/my_train_16.csv', shape=(), dtype=string)\n",
            "tf.Tensor(b'datasets/housing/my_train_01.csv', shape=(), dtype=string)\n",
            "tf.Tensor(b'datasets/housing/my_train_17.csv', shape=(), dtype=string)\n",
            "tf.Tensor(b'datasets/housing/my_train_00.csv', shape=(), dtype=string)\n",
            "tf.Tensor(b'datasets/housing/my_train_14.csv', shape=(), dtype=string)\n",
            "tf.Tensor(b'datasets/housing/my_train_10.csv', shape=(), dtype=string)\n",
            "tf.Tensor(b'datasets/housing/my_train_02.csv', shape=(), dtype=string)\n",
            "tf.Tensor(b'datasets/housing/my_train_12.csv', shape=(), dtype=string)\n",
            "tf.Tensor(b'datasets/housing/my_train_19.csv', shape=(), dtype=string)\n",
            "tf.Tensor(b'datasets/housing/my_train_07.csv', shape=(), dtype=string)\n",
            "tf.Tensor(b'datasets/housing/my_train_09.csv', shape=(), dtype=string)\n",
            "tf.Tensor(b'datasets/housing/my_train_13.csv', shape=(), dtype=string)\n",
            "tf.Tensor(b'datasets/housing/my_train_15.csv', shape=(), dtype=string)\n",
            "tf.Tensor(b'datasets/housing/my_train_11.csv', shape=(), dtype=string)\n",
            "tf.Tensor(b'datasets/housing/my_train_18.csv', shape=(), dtype=string)\n",
            "tf.Tensor(b'datasets/housing/my_train_04.csv', shape=(), dtype=string)\n",
            "tf.Tensor(b'datasets/housing/my_train_06.csv', shape=(), dtype=string)\n",
            "tf.Tensor(b'datasets/housing/my_train_03.csv', shape=(), dtype=string)\n",
            "tf.Tensor(b'datasets/housing/my_train_08.csv', shape=(), dtype=string)\n"
          ]
        }
      ]
    },
    {
      "cell_type": "markdown",
      "metadata": {
        "id": "zwr3hLfe_KOW"
      },
      "source": [
        "Nous appelons ensuite la méthode `interleave()` pour effectuer la lecture à\n",
        "partir de cinq fichiers à la fois et entrelacer leurs lignes en sautant la ligne d’en-tête de chaque fichier avec la méthode `skip()` :"
      ]
    },
    {
      "cell_type": "code",
      "metadata": {
        "id": "z7ki-__E_r6C"
      },
      "source": [
        "n_readers = 5\n",
        "dataset = filepath_dataset.interleave(\n",
        "    lambda filepath: tf.data.TextLineDataset(filepath).skip(1),\n",
        "    cycle_length=n_readers)"
      ],
      "execution_count": null,
      "outputs": []
    },
    {
      "cell_type": "code",
      "metadata": {
        "id": "_Iudqqsp_r6C",
        "colab": {
          "base_uri": "https://localhost:8080/"
        },
        "outputId": "ac0cc83c-eac7-43ac-dd90-1c9669f85cc6"
      },
      "source": [
        "for line in dataset.take(5):\n",
        "    print(line.numpy())"
      ],
      "execution_count": null,
      "outputs": [
        {
          "output_type": "stream",
          "name": "stdout",
          "text": [
            "b'4.5909,16.0,5.475877192982456,1.0964912280701755,1357.0,2.9758771929824563,33.63,-117.71,2.418'\n",
            "b'2.4792,24.0,3.4547038327526134,1.1341463414634145,2251.0,3.921602787456446,34.18,-118.38,2.0'\n",
            "b'4.2708,45.0,5.121387283236994,0.953757225433526,492.0,2.8439306358381504,37.48,-122.19,2.67'\n",
            "b'2.1856,41.0,3.7189873417721517,1.0658227848101265,803.0,2.0329113924050635,32.76,-117.12,1.205'\n",
            "b'4.1812,52.0,5.701388888888889,0.9965277777777778,692.0,2.4027777777777777,33.73,-118.31,3.215'\n"
          ]
        }
      ]
    },
    {
      "cell_type": "markdown",
      "metadata": {
        "id": "G3rF2MyWAdTP"
      },
      "source": [
        "Comme vous pouvez le constatez, il s’agit de chaînes d’octets (b*yte strings*). Nous devons donc les analyser et redimensionner les\n",
        "données."
      ]
    },
    {
      "cell_type": "code",
      "metadata": {
        "id": "SXQTKuvm_r6E"
      },
      "source": [
        "n_inputs = 8 \n",
        "\n",
        "@tf.function\n",
        "def preprocess(line):\n",
        "    defs = [0.] * n_inputs + [tf.constant([], dtype=tf.float32)]\n",
        "    fields = tf.io.decode_csv(line, record_defaults=defs)\n",
        "    x = tf.stack(fields[:-1])\n",
        "    y = tf.stack(fields[-1:])\n",
        "    return (x - X_mean) / X_std, y"
      ],
      "execution_count": null,
      "outputs": []
    },
    {
      "cell_type": "markdown",
      "metadata": {
        "id": "iTwOEuczBTk5"
      },
      "source": [
        "Parcourons ce code :\n",
        "\n",
        "*   La fonction `preprocess()` prend une ligne CSV et commence son analyse.\n",
        "Pour cela, elle se sert de la fonction `tf.io.decode_csv()`, qui attend\n",
        "deux arguments : le premier est la ligne à analyser, le second est un tableau contenant la valeur par défaut de chaque colonne du fichier CSV. Ce tableau indique à TensorFlow non seulement la valeur par défaut de chaque colonne, mais également le nombre de colonnes et leur type. Dans cet exemple, nous précisons que toutes les colonnes de caractéristiques sont des nombres à virgule flottante et que les valeurs manquantes doivent être fixées à 0. Toutefois, pour la dernière colonne (la cible), nous fournissons un tableau vide de type `tf.float32` comme valeur par défaut. Il indique à TensorFlow que cette colonne contient des nombres à virgule flottante, sans aucune valeur par défaut. Une exception sera donc lancée en cas de valeur manquante.\n",
        "*   La fonction `decode_csv()` retourne une liste de tenseurs de type scalaire (un par colonne), alors que nous devons retourner des tableaux de tenseursvà une dimension. Nous appelons donc `tf.stack()` sur tous les tenseurs à l’exception du dernier (la cible) : cette opération empile les tenseurs dans un tableau à une dimension. Nous faisons ensuite de même pour la valeur cible (elle devient un tableau de tenseurs à une dimension avec une seule valeur à la place d’un tenseur de type scalaire).\n",
        "*   Enfin, nous redimensionnons les caractéristiques d’entrée en leur soustrayant les moyennes des caractéristiques et en divisant le résultat par leur écart-type. Nous retournons un tuple qui contient les caractéristiques mises à l’échelle et la cible.\n",
        "\n",
        "\n",
        "\n"
      ]
    },
    {
      "cell_type": "markdown",
      "metadata": {
        "id": "cfKidBsbFaHR"
      },
      "source": [
        "Testons cette fonction de prétraitement :"
      ]
    },
    {
      "cell_type": "code",
      "metadata": {
        "id": "I0IWXO9j_r6F",
        "colab": {
          "base_uri": "https://localhost:8080/"
        },
        "outputId": "fff77f83-7313-4c1b-c112-c184399d69dd"
      },
      "source": [
        "preprocess(b'4.2083,44.0,5.3232,0.9171,846.0,2.3370,37.47,-122.2,2.782')"
      ],
      "execution_count": null,
      "outputs": [
        {
          "output_type": "execute_result",
          "data": {
            "text/plain": [
              "(<tf.Tensor: shape=(8,), dtype=float32, numpy=\n",
              " array([ 0.16579157,  1.216324  , -0.05204565, -0.39215982, -0.5277444 ,\n",
              "        -0.2633488 ,  0.8543046 , -1.3072058 ], dtype=float32)>,\n",
              " <tf.Tensor: shape=(1,), dtype=float32, numpy=array([2.782], dtype=float32)>)"
            ]
          },
          "metadata": {},
          "execution_count": 33
        }
      ]
    },
    {
      "cell_type": "markdown",
      "metadata": {
        "id": "ap9_l3C7K262"
      },
      "source": [
        "Le résultat semble bon ! Nous pouvons à présent l’appliquer au dataset. \n",
        "Pour cela, nous allons définir une fonction qui va créer et retourner un dataset qui chargera efficacement le jeu de données California Housing à partir de plusieurs fichiers CSV, le prétraitera, le mélangera, le répétera éventuellement et le divisera en lots (voir la figure 5.2) :\n",
        "\n",
        "![image.png](data:image/png;base64,iVBORw0KGgoAAAANSUhEUgAAAlkAAAGvCAYAAABo28DeAAAgAElEQVR4AeydhXtdx5n/93/YZ/fp9unir7vb7W7bpEmTNtCmbThpkrZpyI4pZmZmZhCDLWZmsi1LBsmSJZPMFDMlRoXp/T2fVx7l6Ppe6Uq6kgVzn+foHB2YmTNn5jvfF+advxP7szVga8DWgK0BWwO2BmwN2BrweQ38nc9TtAnaGrA1YGvA1oCtAVsDtgZsDYglWbYR2BqwNWBrwNaArQFbA7YGOqAGLMnqgEq1SdoasDVga8DWgK0BWwO2BizJsm3A1oCtAVsDtgZsDdgasDXQATVgSVYHVKpN0taArQFbA7YGbA3YGrA1YEmWbQO2BmwN2BqwNWBrwNaArYEOqAFLsjqgUm2StgZsDdgasDVga8DWgK2BLkeyTp06JfPnz5ff/OY38s///M8yZcoUuXHjxn1f6vbt27Ju3ToZNGiQ7Ny5877r3py4cuWKhISESGJionz++efePOL2nk8++UQ2bdokzz33nPzud7+TP/7xj/Laa69pul9++aU+c/DgQZkwYYLMmzdPzp071ySd69evy/r16+X3v/+9/Mu//Iv069dPTp482eSejvhn79690qdPHxk9erScPXtWs7h7964sXrxY/vSnP0lRUZF8++23HZG1TdNDDdD+AwICJDs7W7766isPdzWcpg+sWbNGXn31VcnIyJDvvvtOLxQXF8tf/vIXWbRokdC27K/31ABYSZsYNmyY7N69u00vfvnyZQkNDZXk5GT57LPP2pRGSw9dunRJVq5cKb/97W8V84YPHy4XLlxo6bEucf3WrVtadvod/dT88vPzFfeXLl0qN2/eNKftvpfXQJcjWZ9++qkcP35cIiIilKy4I1lff/21Dh406piYGI+E5IsvvhCI1JkzZ+Tq1asCgTADF2nU1NTIm2++KSNGjBAGt48//ljv+eabb7xuFqR36NAhJUbPP/+8hIWFSWpqqqSkpOh50qIcvBNkLicnRz766KMm6ZMGZaTD/vnPf5YBAwa4fScIGwBIfidOnBAGWTOwmgRJi4GV9LiXewzRM/ewr6+vV5L69NNPS1BQkEAU+VHezMxMeeaZZ5TgUm/d9UfdMEgw8Ny5c0e/AwAJwPP+5sc7802OHDkiR48e1WPTBpzPU5cMBGzUl2vd03Y//PBDqaurU9LqOkDxP8/y/ciL72TyoSx8u82bNyvBnTZtmpw/f17bJGV1JbvkjXDx+uuva3uh3OYHiR85cqSSftKzv95RA2DatWvXJC8vT+Li4uT06dNNXhwcov3TF8A6BCvaIO3O/EijqqpK/va3v8mYMWM84iLPNIdFJi/IBgIsbZh+x/+0Za6DueAkZAUMdkeywK6LFy9qn0HwpOzOfkc6YDztn35FHgbv6Fvky7uaclBu8/7UhbnX1J3BADDDtc+ZOtq+fbuW+YMPPlBcN+d5nyFDhsjLL78s27Zta1JOc4/d974a6HIky3wCQ4Dckax9+/apJDF58mRZsGCBVFRUmMca9wxQUVFRMm7cOKEzjB8/XiV7Oggdqra2VqZOnSo/+clP5Je//KWMGjVKSA8pEK2TNz864Y4dOxSMfvrTn8qjjz6q6TBApqWlKaDRiRnoZs2apekHBga6JVDkB8gg0bkjWZCA9PR01Ya99957MnDgQFmxYoVQFwYkzT3U2eDBg2Xs2LEyZ84cKSwsFAiA83f48GEhHcD0wIEDzktaDuoD0lhaWtrkWnf6hwEkISFBv/Pq1auVuNNe0NxBhmkjgPDWrVv1+/Tt21fef/99PQYkGUSoc9oJ2lW0kJAXtrVr12q9AeS0AwAWrejQoUPl3Xff1e+4ceNGJV0MCpQlPj5e2wf1Tl5z586VPXv26POkA2lCA/Gf//mfqsnl+9EmaTOQauePwWXDhg16H1oHM1hwD+WJjY2VX//617JkyZJGAu183h73vBpAM718+XJtMwsXLpTKysrGl6S9oOEEh2h306dP17YKVqGxph/woz1OnDhR/ud//kd+9atfaV+hDWI1gMTwA2fQnHKfwSLyBVPBImde9Bu0/GjqwZRly5ZpvzEEBuIElrkjWZAntGlgOPlgtaAfg8/0F4SWgoICxUT6LfdQppKSEr127Ngx8fPz0/rgfXNzc6WsrEzQNPFO1AP4xvtQB9xjMIBy0x/dCUr0/SeeeELfy2Av9cIxY86TTz6p45MRXLXS7J9eWwPdkmRBqugkmOZ+9rOf6YDplG5MY8f8htkO6QJp6X//939l1apVCgKQI8jXv/7rv8p///d/q3nlnXfeUe0Nkpw3P4ACAvP222/Lv/3bvylhw0yDCS48PFwlKAAHQII4QeZeeOEFlXLcpe+JZNHRGaBfeeUV+etf/6qEERL17LPPKgAZ8EOCfemllzQP3hktHe8MkDLIO39o1ACD2bNnNwKsuU79od16/PHHlThASrvjD5KE6Y3Bgu/88MMPa92gLURKpx1t2bJFSRHtg3MQKL4R3zArK0vrgef+4R/+QdMxYE7bA9ABciRtyAykFFMvZmHaEt8HQAbE+bYMNP3799f2SPoANUDPdQYNBkFI749+9CP9bnw/0oHcoR1z/hiAIIuUlbbs+mPAe+ONNzQ/CKD99fwagBTQ9tBOg4uQfPNDm4R2i7b8wx/+UNsm5AbXBogF5IpfeXm5thn6CwIoeEYbnDFjhmr+wSI08mAR18gPLCIdhAKwiHvQ5tMfwEUEUPoC2EX/AQ8NpngiWRAUrBkvvvii9gnyMeVFiETogBgiTICtlIEN8yN7hMj9+/crPv6///f/5P/+7/8Uk8FI+swPfvAD1TghRKG5p6/hIsE7QPgoO33VVYBHMEMQBi9cr1F/1dXVOuYwtqDVtj9bA92SZGH2o3MygNGpgoODm6hmITZIVkhjSDfY/pHsGBQxMTKgoTJGeqETo3lAwqFTki7pe/tDDU2agA4AQjpIWqityQfyxyCKtogOTAdHc+Lu54lkASgM3j/+8Y+VGKLBghwx0ANgSIrkxf7nP/+5ggWDPlIj4AQoukpVADCACwlx9wMIn3rqKdUUGinX3X1d+RxkkTqdNGmS/NM//ZOCPO8FEAKQDAhI9oAwIEud4ccEMf+P//gP1QJyL4SVtsQ1wBvCA/H5wx/+oAMBZl4I6yOPPKIknfbGt2agw0+PgYv2xn0MEBA5ABzgh2xhSuaH+YJvhakWjdiuXbu0TWL6daeJhJDxvKuWi7R4b7RiDAZt9c3pyt/Wlu3+GgC3aAu0P9ojGk7zA4cwhdFeIGEIbWAdWh3aMWY7frRT8AxcBHNou+AiRB0c4BlIDX3GaNPBItosAh3CJVpVhDo0rbRxcISyYJ2ACFLGljRZ9DGE1//6r//SvgDmQfR4r1/84hdKGMF5LBNo6xE4ID/48iJcYz2gz0Ae6WuUD4JFHfBeYGdSUpL2ZzDy3//935VMgpmMFQirnGMccWqzqAuwgjpwNcdSf5AwNG70O0NczTew+95ZA92SZJlPhRSCxOFKsujAEBkGRzoLNnIGTgYuVMlGimLApCPTQV01PSYPb/YGvOisECp3P/KkA1Oe1pIsgInBGukSsOCYDcBBOwZRglAYVT/vSz68M8QPqdJ1kEZT9dBDD6kW0F15ASQI7MyZM9Wvy9093eEcgwvaS7RGEBinWQ1JE0CEgAHOtCXqlfeGgELA8PWgDgBuTBOkxwZhQnpnkPL399dBByJm0kByf+yxx3SwQmuIdpT2yIADIWcQM8BO+zE/vjXfjYGLAc/TDzMxmirA3p3EjC8dmjlIPQOR/fWeGoA8QJycJIu3R/DDZAc5MsQc8xZtFtJlfgiJaK8QSvFncv4g/rQpJuhAVJxYhLsEfcFMIgKfKQfCC/6M7n6QNsrjai6EJNEP6SP0PZMP/RgNO+Z+tMgQLO6jTPQbiB4kEgsDP3CXdyMNCBPmR7CR58B8+jfvCgbQN00+pAGZg3AhSJsfGIsfJGMJgozrDw0zZI86pa7sz9ZAlyNZdFAaNbZyGjMDBR2RAYcOwwCHVobOD0DQebDT8z/nIVg8T2fiPI7xgA0+WXRO7O44h/IzJIsOjsmHvJFE0CygVfDmxzNoCpBuSAfwIn8DNJQZCZNBj47N4It62nkPAz/5AW4MmmjW6MzGaZ0BFdU8nZ4BPzIyUjf8DZgJiMmLd4cYIcVyHU0VAzXAgeoaQHL+oqOjlUjgg4YWzPmjjiEkEA9IhFOSc97X1Y+pe+oQPyzqHS0W7QSJnHcGENE4oSHk21Fn1B0ElHplkMCJnDrHT8r4e0C2IOa0PdoXZhi+DaSL+qRdkhbkDhMhBIvzmC1JCw0qbRIgx4TC9zWSvSFZtFMIO3UPiaJdOTWKtFG0tLQ7V1Mi3wUpm7YEEcN0aH89uwYMLuKwTdujbaHp53+Di2hEIfqYB8E++geaJ9ox7d7ggCFZ9A1M7rRB+gFtDsJOm0VLi2bJiUWQKcgRGibypB/Q7/DngtDQFxEG+XEPmAfO0Y4hWuRr7gFTERYRIjGpkw/mQ/oTmMT4AJmE6GEeROhBmKRsEDFM/eZ9GD94b8qCgMOGsE2f4714nv6N7xfWAPJCcEVzjYDkFFDRfkPKKLNTODKti7yoX/Da1dfV3GP3vasGuhTJouPhnMhgBtGg4WOCQWpAXUwnhCBBEAAAOgvaHUCC/+kgSGtIJ6iE6WxoI+jkXEfSwpfLzJhjdg2dD0kIiYU8GGwZ4HAibelnystghl8X2g/SIw/eA3CiUzLYMihTHnwU6ICYsCBFgBEmRsoJ0ABemAApP6QMaQhCBmHkec6THmSKegIgABTeif8pAxo1ANao11GXuwIC2jSkTIDFVYtHmZD6IFkQCEMAWqqPrnYdkEN7CNGk3vHFoh0AoJAQvh9kknqAjDBIUM98f74FgxUgzLchnAgkCQ0U96NRhLyRDnWL9MrAZuqetGhLOM0zMBmShamQdkb6mCTRfvE/+fCjjQPgSNQMJpSf9k9eTqLM4ImvHYMM5h3XH22KNNBcMFDaX8+uAQQGSAj9GU0N7dX0b0gDbYc9+IAJD5IPwaGNopWiXRrtFmQMXKFtQTTAAto3AgLtirYMNqAld2IR2IcAiVAAeQOf6XcIHwjLtGHM75AfBEPaL3gG3oF79AnuQSgBk+hD5GMc3uknCMuUBXw1JIuxAjzkGtp5fBpp94bkIMRC+Hh3fLHo3wbzwGjqjb6LwEJ/AwPot+AmQhT3mB/jD9hN3SIsQW6dP3CVfsd34JvYn62BLkeykEZo3EgLzs04XtJwmW3FQOS8TkeDTKGJgmjhD4DPCtow7OOokhlgAQkjTSGhoN2gowMI3Ee6POvO3u7aXBik8WXgeWdZIF1o0kgfLQUaJed1jnlHnoXQ4PAM2LneA1CYqcBISBAnzJtOcyDkjXuQAAHRt956SwkD78LGAI005tSC8B7UE+kDyEiFTiLFQE99Un+Uv7v+8AEBUJ31yntBXowfFOQU0m7aAPVBWwDwmSGKhhOSBZFnxhEDDs/zfSHpgCwgzkwu8qK9me+DVI1GDE0TZcEfC+da0uc7URYIN+kZ53Ske4gt10iH+ykbgxZlMT8GKu5jcGAw4vubH4MCfcFMXDDt3Vy3+55XA2Aemm1XXOR/THhorsAHfLI4h0CKXyIkiv6BkGkEMTCJtg+JMrjIc6QDAXOHRbRTsAgsATtpf7RhZ9+DBDFJg7aLgAmRc17n2NxDv0JYpr+BQ/QFBBz6F4IM6VAOyBXCE9fpb6RBn0LgdE5g4l76IjhrMNW0AvoV/QsNFO8LBoCdWADATnDe/ND+Qdhw1aBsTpM+FgsIGkIdAprTNcE8b/e9rwa6FMmi+tHa0CHoYM4NSZ/Bgw6KNIFk5rzOMQSMTsA9DJ6QBUgVkj570uC68wegMAgilaBC5tjZcZz3ujumvEiAzrLwP5oGgMKYIJ3XOTb3kCadE/ByvYdzTnLEAIyGDX8DTFaAJH4BpjNjXkJzhsmJd0ZapC6dIGHegYGX8AZoZHDiNr5klJdQBGjNAAxn/ubZ7rKnvUAmXesVUDV1xrtAhhlg+P7UG86+kB7Ocy9SKeCL9Mz3pg25SrCQVDRGpu4hznwrzJNc4xlIGZIu1yCvtGEcaWmXzm9E++NZvjHfkPLTTl1/PI+UjwCBtsyUiWchcWwc21/PrwGDee5wESykv9PHES64B00O/YP2Tfti72yD9Hvw0+AiuAJOmR+knrblDoto62Cxa79Dw2XwhOfpY+7uMW2d9gyOIqDQF9gwI0IoeR+u824QLsqBloz00GCBeyYvykyZwErX8+Z9uBfsp2+CAaRJeY3bh7mPPYQVwQftt3OGIaQOwgchJS37szVADXhFsm786MdiN1sHtg30njbghEf73XvPd7ff2n7r3toGnJjny2NLsiyBtATatoH72oATZHor6Nr3toTDtoHe0wacmOfLY0uy7AB73wBrgaX3AIunb+0EGU/32PO2ndg2YNtAT2kDTszz5XGrSZYvM++qaeHzhQMnzs2eNhz08Ulw+jF01fex5bI14E0NOMHSeb+n88577LGtAVsDtga6Ww10BrZZktXdWoUtr62BDqoBT4Dj6XwHFcMma2vA1oCtgU6pgc7ANkuyOuVT2kxsDXT9GvAEOJ7Od/03siW0NWBrwNaA5xroDGzrdJLFtFumzzNNlynBdusZdcAUaBNiw3OTbv8Vpm7bttO6NsO3cYas8PQVPAGOp/Ou6TBNnjZAfrZft+4b2fqy9WXbgG/bgDdjkrfY5op1rfm/U0gWxIoGRHwW4lXl5GRJZkaaZGXarWfVQboUFhZIVdX3sWxa0xg93Uv7Id4Uy8MUFOTZdtPKfpOZmSa5uTlSWVmhsbyIqeTu5wlwPJ0nDeIIEeeLYKwFBfmSlZVuv08rv0/PwgCL6fZ7dqU2kK64BD6BU65xz5rDNncY2ZZzHU6y0DwQAC4nO0viYsIlOT5YslJCpCh7o2zJj7BbD6mDzXkRkp8ZLmmJQRIfEyyJCTEa1NMEOW1L4+QZtCMELczISJPoyCBJTwqWQtt2WtVvinM2SWZKiMRGBUhSYqwGQEXj5PrzBDjuzkPUCPRaXFwk8XGRkhgXot+mICtcNudFtqp8FgcsDto2YNuAr9tA45iUFCwJsSGKUyUlxXLhwkUNWA7+ucM2V1xs7/8dSrIAcrQPcbERkhwXKFXlSXLl9Bb5/KNK+fb2Hvnujt16Uh18fata7lzeIScP5klJXqREb/KXrMyGRZady/a0ptES9T4pMU4SYwPkYHWGpv/N7WrbdlrRd+hrn1zbJScO5Ep2aohER4Yq0XLVaHkCHNfzmB6JaA2Rjo/2l7KSGPnwSKHUX9kptIHv7tTY79OK79OTMMC+ix3TulIbAI/uXtkpZw4XSFkxeBUgiQmxupoBkQFcsa01Y5O393YYyUIDQYiDyE1oHjbJtQ9LFXylvlbkbo3denId1NfKFzd2y7F9OToIp6Ul61IY3jZKcx9Lb2RnZ0pCjL9cOF7c0H56cr11wrvdurhdstNCVKPlunC0J8Bxnqdfs9xKdFS4ZKWGyPljRfL17Wqx/dpimsV12wa6bBuorxWE8/PHihW3oiJCVNB0YpsZd3y97zCShQYCMwLmA4Bd6m0D7LINsIMG92/v7JFTh/IlNtJPiooK3a6/11yDZjCPiQqV2l0pQlq9rf466n1P1eWp6XDXrl2N6x3yHTwBjvM8i//GxkRIbnqYfHy+zH6TDuo7HfXtbbp2HOrtbQDcyssIk7iYCI+Y19y41NprHUayCvLz1MSDebC3f9Te/P5ID1XliUqWWGQWJ3ZvfpgXt2zeLCkJIfLxOTuY+7INfXa9QjJTgnUCinPWoZNMOb+R83xuTrbER/vJpZObrfbKEiyL7bYNdL82UF8rl09tURxzYpsT83x53GEkKz4uQnZuibMaCNsJ5eaFcklNDJL8vFyvI+RjlmJGXEZysPrw+ZJk9Pa0vrm9RyeeZGakNtEuegIc5/nY6DDZsyNZvrGaxe43uFgsst/MtgFtA+BX1fak7q3JYrbR2aOFVtq1jVqJ9tbCKElOihWWLPLmB8nKyclWjcsXH1dacPRhOwJgSnI3SVZmqsa0Mt/DSabMOfbO8ykJQXLjQpk1//vwe/R20m/f35owO70N1NfIjfNlTbDNiXm+PO4wTVZKfKDcubTDDo4WjLUN7KtMk+TESDlx4oRX7deSrI4D3vaQLEKvoAnrdFC0/cjWuW0Dtg34sA2Ag04B0quBqQ03dRzJivMXfD98AcaEfLhxoVwdbXFas1vb64B6pD598V1akwYzDZMTN8mBAwe8aqaWZHVNkrVra5zVTvsQ6FvTh+y9HdcnbN32wrr9pLZ7k6zk2A0+IVnEuajZlSqJsf6Slhwm6XZrVx1Qj/jUfHWzqlOJ1vH9uZIYHy61e/dakvWAB+n2aLJoOzZcQy8ckB5wm7UkyLY5n7eBekuylAR8/vFuSU0IkLVr10hBQYEUFRXZrY11wJI369aulZR4f/nUR1pGbxu+JVldByTbQ7JqdqZYkmUJR6cKaN5ijL2v62BMt/gWlmQ1NJjPPqqUtMRASU5OEpZouXnzpt3aWAes/5eakqKklQjgndkRLMnqOgBoSZaPvwUBlu1m68C0AUvCO3VsafM4ZknW/STr+vXrlmC1kWBBTi3J8vHg2k3B1JIs37QDXBmuntkq+ypSpbw4RkoLo+zWi+uAZVtqdiTLpRMl8uUN3DHs6iZtJkCdga2WZFmS5WutnSVZvhlcuzRweAFOlmS1sx3U1+p6aNXbkyQpLlBio0I0enRcTKTYrffWASshEEcuISZAykti5cb5cmta9wKPHhieWpJlSZYlWTZOVkcAkCVZ7SNZn12vlB1b4yU8dIOkp6fJnj17NDQJSw7ZrffWAeFp9u3bJ7k5ORIW4icleZFy+9L27mE668pkqKPKZkmWJVmWZFmSZUlW+wiRr+vvuzs1UledKZvCNkhBfr4ufO7rfmrT675+t7du3dKAy+Xl5RIe5ie7yxLlm1vVlmh1FFFqT7qWZFmS5WuwtebCrjVg+5oAeJue1WS1vR0wKzc7LVTiYqPl7NmzwqDq635q0+u+JMt8u8uXL0tqarIuJ3brotVmeYtNnXqfJVmWZJkO66u9JVltH1w7tfO3Rzrz4llLstrYDupr1dE9OT5YCgsLLblqxyQcX2FaV04HbVZiXKicPpRvNVle4FKnY6wlWW0nWUiXV69elVOnTsm5c+cEqQJfCY67axgICBLl5z14n/Pnz+v7XblyxWuwtySrjYNrVwSIdpTJkqw2toP6Wjl3tEhSE8OFAdRqsbq/xqkjSVpNTY2kJEbI4T2ZlmS1A686jHxZktU+krV7925ZtGiRREVFKSAuXbpUNm7cqCr+juxYHZX2hQsXJCYmRpYsWSKlpaUSHx8vCxYskJ07d3oN9pZktXFw7YoA0Y4yWZLVxnZQXytnjxRKWtJG2bFjh9f9rqMwwabbtUne3r17JTUpUg5VZ1iS1Q68siTLwyIpvlpWxxmM1Ns4WUiYqPOfffZZmThxouTk5Mirr74qY8aMUU2QASfuY7t9+7ZubZVMTTque5MPe9d8nHm5PufufzRXU6ZMkRdeeEFSU1Nl1qxZ+n5ZWVladmdeno4tyWrj4NoVAaIdZeqVJMsEimTf1rqzJMtrrbknDOpN5y3J6uJ4azVZDR+oLSSLjlxZWSl9+/aVhQsXSm1trQwZMkTmzJmjpjbT0U+ePCmbN2+WlJQUSUxMVOkUU5yTAJl7Pe1v3Lih07dZ7ic5OVlyc3NVc8Z0Xq7xHCa9qqoqSU9P17zy8/N12jfaqUuXLmlZea6srEzOnDmj2rbt27drWhUVFXLx4kWBYKLF6t+/v6a/atUqPeYZb8trSVYX7/RtHfxb+VxvI1nf3K6WY/sypKI0Wq6f3WpJlvWl6hSyaElWF8dbS7LaR7KOHTsmy5Ytk8jISCUtq1evltDQUI16bggTMU3QCmF6wxSHOREzgLne0h5yc+jQISVOmCUTEhI0LUyTEC5IDfdg0gsLC5Po6Gi9JygoSIKDgwWbPUSLNRkhUJQV4offVVxcnJ5DC4cWi3R4fsWKFXL06FHNB6JF/pZkdfHO3EoS1GZNi5f59D6StUf2VSZLXOQy2b87+YGTLPor2vM7d+543Ljubb9uCafMdZOvp3Tbq9E3+bAnD3fv5ylv57M95diSrC6Oy5ZktY9kGe3RgQMH1Nm9urpaaPTODowj+eHDh3U7cuSIRERESFJSUhMi5rzf9RgShblu06ZNAqnjfwhRbGyspKWl6f8AF5oySB5lIE+CF+bl5UldXZ1qu9BekTfatGvXrml50XpB+o4fP673AE68C2ng1M+zpGMd37t4R/aS+HQ0sXKm31tI1p3L2+VIbboc2J0kxw7kSFFuqOzZEf/ASRb9d8uWLRIQECB+fn73bf7+/qphBwtcMac1/6OVJ8wE+aFV37Vrlwp04I1rOmjKceZH4Pvwww/vu+56f3P/g1XgE4Ki8/0QLMFFrrVmAhLl5z14n+by9dU1MJz8wPP2pGlJVhfHZkuy2keyWuocdFxMcgABJAhSg6M82iJvAQBTH6QMbZOR0NgDYmijADb+hxiRDxoziBT7rVu3qhnQlLOkpETJGVoqnucezIrG5Gjua88e0LALRHfxjt8JpKzHkywNtbBZSgvDJCtlvRRmBUpy3CoJCZjbJUgW5n+EKkz/77//vjz33HPys5/9TJ5//nnp16+fnuc6+NLW/g5uZGdnqwCIoAamrVy5UoYOHaruCa7pIqyh6V+8eLEcPHiwzfmSLoJlZmamvPzyy/LHP/5R34n3fPfdd+Uvf/mLjB8/XvHPWxKDKwYCZ3vL5frO7v7HsoCQjFWCMcLdPd6esySri2OtJVkdR7IgPsw+RAOFWQ+/JsyEa9euVbOhK8lCokSyARydHYz/IU1OkvgrlXgAACAASURBVMV1Q7gAOoCEZzFNbtu2Tf2sIFyAKJoocy/hJjiPJImfGMcQLnPdmW9bjy3J6uKdvhMIFhqtnk6yvrtbIzu3REhyzAo5vj9LLp0qkfwMf1m3aqpUlcc+cE0W+AJhQNBiYxLLb37zG5k9e7bOHOac0fbQ/7kfwoUmxwhuYIDBFycemHNg1ty5c+WDDz5QDT6aKvL585//rBor5zMckwd+rMxcRpNDOmaDgJE3+OHEI445R9nYzHVIFsIn5HHy5Mn6jmju0N7j7vDiiy/K2LFjZf/+/ZqeSRNSQ97OtEiTZwYNGqQYTZlc73ctG9d5H/CZjWPzDO/Ksbtycw2LxogRI2TatGnqyuFaT63535KsLo63lmR1LMlC0jL+WnQ6pD1MekhMrrMYAR6c5iFGECbT0ei8aMEga6jYTefF0R4/LOPYjkYKkOE5/BTwu+IZnN0BJM4DHpC18PBw9d/CDMk5k5cv9gCL1WR18Y7fCUSrp5Osr25VSWFWgGzJC2lYoLe+Vs4fL5TUxDVdgmQ5+zKYQZ9n1jDYY/DA3AMZAysgTPPnz1cNi9FMIRyiece3k/sR1MAjNFgQmj/96U/y+OOPq/AIoYHEeSJZYB4YBe6ghSdtBFCESDT88+bN07zBLspMfviDgqGUjetGMDQkC00Wpk9zP3swEY3aSy+9pGUnHVwowEJ8aKdPn67pocnnPRF+//a3v8ljjz2m5QBbwVrKie8r95M3pI5ykx4uIJQLzOadMVPynMFTrlNvptxoriBXkDU0WE899ZTO3ObYnWmVPLzZLMnq4lhrSVbHkixm++GsTmcGTCBQdEqADN8FCInpSHRgQAFJkFmD5jyggYYKcMFxHid6QIm0MP8hRQEqXANY8EfALMn/bHRCJwAhvQKoqO2d10x+7d1bkuXDTl9f0ziAi2tYgOaudQKJcvpfuTvu6STr6zvVUpwTJPkZfvL5jd36neqqU2VT6IJuQ7LABQgWs6P79eunZAKtEMf4OUF2ICZ9+vTRewyx4P+QkBA112F+fPjhh3UCDUSsOZIFwYBMDR8+XGdCI3D+/ve/V03YhAkTNF8IGtiGloz8MC1iBkTrQ3gZyoY1AGICprqSLPCL98L898Ybb2icPzCSezGdjhw5UonP4MGD5fXXX9e80OpzzHvMnDlTSRekiHwJyQNRGjhwoBIxsBwCtmHDBr0OAaNsb731ltYRpA0yBZnj+alTpzaWm/fF5xVyBqF7+umnFYshrm3FXUuyfIi3HYGblmR1HMmi0wAUmAwhPpAotE04fqJNgoA5SRYSG+SI6652eqQjyBHSI2DBhhQIuQJQkBDpvEiWpIGkmZGRoSQKTZizA/M/EhdmRMrnvOaLY0uy2t/pISifXK+Qqx9ulRMHcmVvRapUbkuQHZtjpaw4WsqLY2TX1jip3p4kh2uy5MKJErl7Zad8fbvrLBLb00mW1NfIkdo0SY1bKblpfrI5N0QSIpfJskXjJDt5ndy93Ma15DogThYY4U6TRV9lwMeHaf369UpcIAlobd577z2NA4hWHcLw17/+VWbMmKHEASIGOYO8TJo0Sf2gEBohUc2ZCzHRQWIgH4SNgUA9+uijsmbNGiUmaLkgK+PGjVONGUQH0gU5QYOE8AlJw+8KLPVEssAxcPedd97R8kFi0CrxLOZK8JW8XnvtNYHcQSYhUtyP4Mo7o/FjNjZYiSmTmIiUBVJFGphIIXzgKGUjfYgnxBDtFHWKCZK8SR+NGOlj3YAYQfgwZ3LNOQ60FoMRwCM3BUtZUbR88TFkv/34405o4twXN3ZL/dVd8tXNqrabwzuCyHTlNC3J6liSZToMJMmokQE8s5nr7N2dc73O/850XK+TRnP3mPtbysvc15a9JVltALn6WvnqZrVc/7BU6qoypDh3o8RFrZWADYtkyaLpMnP6eJk8cbSMHztCxo1p2CaMGynTJo+VBXOnyLrV8yRq4yrJzwxTQnbl9BYFRE9g2RnnezzJulsjX96olCM1aarRKs4OksrSaNm5JVJqdibI3cs7Wj8Q1dfKt3dq5MjebImPCZEdO7xfaaG5vkp/d0eyIEVonn71q1/pgE+4FjZ8k/DfIgwMz0I08CH6yU9+onEB8ecChxDYIFUDBgxQ36eWfLLckSyIC5ok8oHc4LA+bNgwTQ+NP2UbNWqUlouyEYvwiSee0FmTCK6eNFmQPggbmiRMhQihCLdYBJhxCdnDzIlWzZAgSBPP8V4QIYRa7sccCbl68sknlQBSHxBRtHiUbd26dWphMOFyII+Umzozdco7UafcCxFjcgCaOeqkuW/X0jVI1qpVK2TxgulSWhQlH58vE/wFfd3Hr53ZKqWFUZIS7ycV2+LlzqUdDVr2DsjL12V/oOlZktU5JKuljtKTrluS1TqAQ/r88HChlORGSGjgMpk/Z7KMHjVURgwfLJMmjJaF86fK+jXzJSRgiWwKWSHR4askMmylhAcvk4D1i2T5kpkyfeo4GTliiG6zZ0yQQL/FkpseIsf25cin1ys6BHRbAq7eQLK0DiBG9xz95W6tyCd7GzZX824LgxE+XpdPb5FdW+NlY8hyWbd2RauWs2oOQzyRLDThrFbxyCOPKCGASLChnUJbhbbIkB9MYv/4j/+ohIqBnfO+IFkQIbTypAfhgHhAQNAQkSeaLgiKa9nQ2jdHsvCnYgUONEg4uuNmASGCVPF+aJEw2ZE2GjLuMySLcqCNgiSxmfshdzyHdgptFs8QjBpTI5oroymDeFJuCKEpN/VJXUPcsFr4kmStXLFcBg3sL5MnjZaEqHVyqi6vQdvkC61WfY3UX9slJXmbtF0mxK6XiLAVqlm3Gi0vsN6SLEuymgPntlyzJMuLjsegfLtazh0rkoLMMFmzYo6MHTNcxoweLksWTpeIsJVSkBUmlWWJcnRvtlw8USIfndsmty9tV7Pgncs75ObFcrl6eqsCas2uFCnJ3SSxEWuUdI0fN0JGjRwqSxdNl8zkIDlxIK/DTQmupKvXkKwWyJNrvTT5v75GWG3i9KF8HcSC/BbL1MljZPqUsbK+E0gWZjB8RCEJmLEgG2yY0jB/ERaG/sw1THT4jGI2DAwMbJxR506TBeEgdA3Eybm502R5IlkQOdZNxaSH+4MpG1o0UzanuRBHeJMXGjGefeWVV/RZtFiQKfKCbKGJIp0333zTLcmC4KGdw2QKWUOrhbYN53hIFs9jVoQcci+uGaNHj9YZjfiTQb6YEAAJNOVmYhPlhpzhswXJQsvmC03Wpo1B4rd2gcybM1n7/dqVc6WyLEHAiSbtrQ1t9du7e+RAVbpEb1otu8sT5faVHdpWE6LXKX61N/0e/7wlWZZktYVINfeMJVktkKz6GgU//KkC1i+UsaOHy8TxI/W4KGejHNubLTcvlMs3t/d87/TeHDjec4DHzISJ6uSBPFXrhwUv1wEbsrVy2Ww9B1FzmhKQRL/Eabu59Nt4zZIsz+3g2zt75PalHVK3J1NJ8Krls2X0qGHSt08fGTVyiGotG8yFvlkgGvLhzlyIyQ9zGA7i+CThJwoJwISIgzj+oRAttD+QFMxtmNnefvttdYjHPAhJI1wCDuEES4Z04dCNmQxCYzaIG2Yyrjt9sjyRLLQ9kBTKRp74WFE2yol2iVA1kCxiZFFW/F7JCz8u7sGMiBaJEDUQITROOK8zk5D/cZ7H0R2ygx8a/lOQSCYEQSopF5oo8qVemFSExg8yBbkibUgSM7zxT+N5yCr5Uw7MoGji8D3jeUyf1CFkjXoiX/KgXtAoNoepzV1Tx/fkSKkqT5TaXSnqYgCmzJw+QTKSA+X8sWIV6Nrax+9e3SlZqUGa1m1Im86iLZH46HWytTBKvr7VdfxA2/qOHfqcJVmWZDXXgdtyzZIsz4MrnfnGhTIpyA6XWdMnyOiRQ2XdqnnqS3Hp5GafOZRC0K6d3Sa7SuMlOGCpjBs3Qk2PSbHr5cLxYvnuTo2SrXNHi+Ts0UL57s4enxMtS7Jc2kF9rRJn/O6qtidKfNRa9acbMniQakzQFKE5Wb1ijmwrjpK0pIbltyBIbemHzmdIAxICOWFijAnhwHlICI7lmMogEBAWCAmzCyFFaGYgG2iTIFWQG+7BGR6zGaQCzRW+VGhrcGKHZEEyeB+zQTJMnEBMZ2iD0Ijh5A6RoSxo1pYvX64kDw0Q5AcfJkgZpj42ZjZyjrwxGaKNIjQF58kLAkhd4jMFwYFIotnCrwrHc9KAtOHEz/0QMuqA+uE65AfyRp3wP5oriCHPcD/vAbHBMZ46o04xA+LHhi8WYSwou5l96Cw3dcM1SBUkD20Xz6Bpc36v1hwryUqKlEPVGUp40I6nJwbI9GnjZczoYRK4YZH6aeI2cN8M5ZYEqPpaOXkwX9BaVW1Pku/umcC/vFklhTkb1T8LH7COdLbvUALU0vv74rolWd+TrNSEAAkNDdF4MKiq7da2OgA8w8PCJCXeXz65tsvng3dzne74/lxJjA+X2r17xZvf119/LTk52ZKZEixffFzZ4WVlgM1MCVLfiSmTxkhy3AY5c6jgnv9ErW/zvzeoXz61RXLSQ2TqlLHqsxUVvkql2xsXyqUwe6NUbEtoot1qrn5bc82SrKYkC63h+ePFDVrGoGUyb/Zk9buDHEAK2EYMH6KTF47vz/EpyWLQxkSFiYy9K3Fj4Ed7AzFgw28IEoNjPFqb4uJiJSqGCKHhIkQCoQxwGud+SBgaHbRNhK2BnDk3tGBocLhOOXBGR0uGZsfE/8PHC8dz8iRvyk05MNmZslFO8qQsvAumOmc+kD5MeTwHwTKEBcIGkYI8EsIGwgcJY4/PFiEhCNJMeByIC2lDtsiX96HcaK0wgzKrkvsheaQH6cOHixngJk/yp164zsxNykk9Ux7uoa5In3rhXlPO1u6dJMv0T9wKELDWrJyr5sP5c6dIYXa4XDm9VdCimvta2qP1ZiZzYsx6dVlwkrSDVel6/lBNpiVZzZExS7IagBCWnxS7QebPm6cd0Nlp7XFTsGypPgCwBQvmS1LMBkuyHJ0PVTvO6MwKnDFtvPo14FfVEtD54jp5YzrAOX74sMHqu5WbHiob1iyQnVvjWi/hOt7LU/ksybqfZF06tVlNhLUVqZKRHCTTpo6Tvn0bNDB9+rwnmA1PHypQ7aIvNVneDtwM/oYkePsMZMeVtHn7bGvuc5atLfmZZ5zv5yy789hZLnO/ed55jWNnuVyvuV73lIa757w9545k0Sch9ScP5qnGdNLE0TJu7AjZFLpCjtRm3/PPbFmoY1zMSgmU7NRg+fyjpkLo9bOlqsnakh/Z4NrgBSZ4wooefd6SrHuarOuVkhLnLxvWr1cbOSpxu7WtDpBS/fw2SHKcnyVZ94AHvyfIzIxp42TalLGyOS9CHdg7E1zwzQjasEj6939fZy9C9ubNniS1O1MsyeqMAQJTC9rFO3vkw6OFsilspYwePUzGjRneODM0PzNUPv94t5w9UuhzTZa3g7a9z7tI612lnjyRLLAFtwDMeVsLIzUUDLOWly2eKdu8CfVQXyu4MCTH+2l8PqcvJ2l/datata6YJonR15lY1q3ysiTrHsn6qFLSEgMlJSW5cQ0qI9nYfdMZQi3VB5JdGg6vCQGWZDF43wsuSSyrsaOHSWZyoM4SbLcfw71BW/0k7h03Bz74adXsTJY5syaqbwnmqYXzpmowU6cZoLk0WnPNarKaarKoO0w1pw7lS2jgUnV0X7pohiREr5d5c6aoFgvTsWkvD0KT1VWIgy2H90SvOZKl/bW+Vl0hDtdmaQgGZjGj2UqIWaezWr++5SGwaH2tHKzKUAsP2q/7MKK+Vk2SWIAQ4FqDDb3qXkuympKs5OSk+9YUtB3e+w5PXVnH96aDK7Nv0FwBbpjnvAKk+lp1Yq2/ulM+ub6rwY/intMpAPXNrWo5VZejixOvWzFZwvxny/aSTXLjwrZmwY70ctNCVJMFyVp5zzzVEaBnSdb97eDE/lwhTAMahVXLZsv+yjSdHk/Q2byM0IYAsh0Q8d1iWOswrDvVV4sk656WFoKPfybaUkI90AbXrpqrPpnMdHXFADRX24qi1SRIIFJ3JOvovmxJitsgB3an33+9M7TD3SEPS7IsyfI1oFiS1XRw/fhcmWwMWaEzfQjRgJrdFdCc/wNuF04USkrsCpk/e4Qsnjda0uJXyrljBUq2vr5ZJVVlMTJ+VB/5zWM/l4d+/t/yy4f+R15+4SkJWj9DLp0s8gx4mABObJaQgKUyYEA/8V+3UC6d3NJseZxla82xJVnftwO0BcQ781uzQE2DzCCsq85QvxnO52aEyqm6/IbvplPkiyUlIUxKS7d1ir+TrzHAptd5pI7wEMkJG+VobVbL/bi+Vj69tktqd6VqIGPChuAfmpEUqJMyNGzMPeJCkGR8sdg8TQq6emarpMT5SXlxtGfM6Q5EqCPLaEmWJVm+BkRLsr4fXDEJEggUPwikx4PVzMRpxuG0vlYuniiSlUvGyzNPPyJP/eYhefqJX8rvnn5Epk4cINU74qRia6QM7PuaPPnrh2TS2PclMnSBrF0xWV58/kl54vFfSELUUvnypufYVwDpvso0WTBvqpoPbpzvGOd7S7Ia2gEOyHV7MjRUB9oDovez3iTnIa2E1KCNEJRUSWx9Q5iP5PggnfFH2ARf91GbXueRoI6sa1wzmOWZEBPUMPvPS7KAdp3wLfhTQbKIq4WGlTVSdUZ4fY3culAuqfH+qoX3JFxB2EgjPyPUOr97qntLsizJ8jUIWJLVlGQhNRIYEJ+s88dLmiVZBBRNT1gtz/z2Uen33quSGrdKFyAePfxteeSXP5W33nxe3vzzs/LYoz+TFYvGKSGDtH32caUkRC2TX//qZzJudB+5crqkWan202sVOrsRzRoLvnoC0factySLtQ13y/7d6bJq+RydSk/wWZY6Itq/qdsvPqq8b+YWBIxAjxGbQnSqv6/7qE2vZ5AswlJER22SvMxw+Yw4WJ4Geg/nmXVcUZqgsdkIWowgSKgHNFTnjhU3rFNYmuARsyBrrJfKzGWW3mlt/r3ifkuyLMnyNeBakuUgWXdrZPe2BCEmVtCGxaK+DR4AD8BBMlw0Z6Q89cTDkhK3Sr650+AsfeJAlkwY01f++Uc/kB/98B9Vg/Xh4bzvQa2+Vg7vSZV33nxB3n3rJTlSm/79Nbf51cpHZ7fp7CGjUfE14PVqklVfo9PkCdWwfMksdXIPDliiU+rxp/OmrpnZlRQXKNFRERqskhhSBBG1m60DMJZAsQnxcRIb5a8O7K6z/7xpYwho9H9nqAdmHbOsV0ZKkMRFrWtW+06e5SUxkpLgr8Ss3ZN53GJVUzz16r26UjqWZHUcyXLOwvM1kenK6VmS5QCF+hqd0YdKHqf3iyfRZDmuu4DB3Ss7ZPa0IfK7px+VvHS/BgmyvlZY2mL1sgnyw3/6B/nhD/5BVi+bKDixOwHnTF2ODHz/NXnnrZfkUE1ak2vO+5zHTPF2/u/L495MsjD9Ve9IFmYPEnU7PHi5nD7c4FPnbR3jqHz8QK4kxQVI5KYQyczM0MCdpdu2yYPaPIW1eVDl6Y35sgxPdnaWREWGS1yUnxzakykeZwi64IuntgdZ+vjctoZQDwuny6gRQ2XcmBGybnWDadsjgauvFQQJwjywKHWzrhBelsVTGbvteUuy2k6yIFFE/mWNLSIQEzWYKMEc40fBUg5ELmbJiKtXr3YLvwqkZaIPIyXxPqdPn9b3a83aWpZkOYhLfY06PC9aME0Wzp8qh/dmNUuyUL/jvP7oIz+VebOGycm6bDl5IFsiQxfKc3/8tfzyoZ/o9vqrz8i2wjD5yjH9uqI0Sl596bcy9IO/ytmj+R1GnrwFu15JsjDdflSpM7bwecPXJSJ8pZw9WtSqSNumjvGfI4BpWXGMJMcHSnxMkMTHBj+wzW/9MpkyeZwMGjhABvTvJ9OmTpDAgJUPrDwPsi4eXN5BkhwXKAQBPX+syKdrB37+caUQwX1j8HIZM2qYamBjNq2W03X5DT6Erv6k9bUqCOD8vn93miVZ7oikJVntI1ksAcGaVmFhzAQq1XWwWI+LZSJYdoElGliAFeLVlbVPpmyQKdbkYoFYlruIjIzUhVAhi5BKc19ze0uyHCTrbo2wlE5owFIN4bAlP6KJP44ZTBv3SIY74+X9916Rxx/7mfTv+5r0e+9P8utf/VxefO5J2Rg0TwLXTZc//O5X8t5bL0pu2gY5dTBb9uyIk6kT+isBW7l4nKARa0zTXcfvhHO9jmTV16p/244tcTJ/zhTVYDFAsZROa5Yyue+73QvnwaLhpPXhkcIHsx0tktz0ABnY7y/yyMP/J7/4+U9l6OC3ZUtBuAZXfWDlelD18YDyPXe8SAOMdpSZn7aKqRrz9qCB/dWXkFAPldsSdGH7Ju3zXsBSHOR3ddDKEU3y6wTc8nl+lmS1j2Qxs+PZZ5+VSZMmSX5+vrz66qu6yCoaIGZ+sM4VK7Kb9cLaY0J0Pus8dhIe53l3x8afw1xz/R+SxcryL774oi4kC9l67rnndO0w7nXm5enYkqymJIuQDQVZ4QpWzOC5cmpLsxIf06XLisLVgf3ll34rr736e/XHKswKlDuXt8v1D7dKWMAc+eMzj8kzTz8q77/3qrz2yu/k4V/8RAb1e11qdsRppGefg0UrAa63kSwmEBBXaNaMCbqECYvqXjpZ4tt1ITE1P7CNCODFsmjuSPnVIz+VPz7zuARvmCUfnSWG0oMsVy/Mu5V9sbVYAIEjaPLKZbPVzYFZsbg8cO7CiRL59vb36x/eurRdZxhuztvUPmGig9+ptXXgs/styWo7yYJkYApkJXZWUmdB6WHDhunq76wmz3UWIGURUBYSZXFStFosdoqJERLmiai4noe48AyLiSYlJenUbhZtdaaD6ZLFTsmPe1iQlAVNMftxjWPOsewNJBBNG9o3zvEcBAsz57Jly2TgwIF6PyvFs7o8ZBFi5loud/9bktWUZOGngGMpwScnjB+pizKzJlhzvlnEwjp3NF8qt8VI9fY4jX2FKbHB56FWPjpXKpmJa2TcqPfkrTdfkH59XpWlC0YrwWJGm88Aoh3A12tIVn2NMEtrS0GkEqzx40forKyrp7f6lmC141v4qj18e7dGYjctlj7vvCwhfrPl3JF8+a4VCw77qhw2HReM8XHb+OTqLslICtC1Vs8cLpQ0DfUwTrXxwf6LZV9Fqk7S4Tt8cWO3ZKcESU5acGNYEvt9HN/Hkqz2kSym0EJEIE+sKu/v768mNkOgIFkrVqzQDdMbK8SHhoZKfHy8+j15Q1y4Z//+/brKO6vBs9o728KFCzUdSA33YNILCgqSmJgYvR4QECBse/bsUQLFCvM8gzkQ8yVEi/Q4B3mDjEGaSJtV43m3lJQUXYUeTZw7QuXunCVZjg52D/wI7Le1IFImThglc2dPlt3liQ3RvdsKjvdMSIRqOFyTJqfqsuXOle1dalDvFSSLeEKXtktR7kaZNmWcfl+ms7N4bk8caJjtihZ13qzhcv54YbMa2Z74/r3lnXCCJ/5VWVG0YgoR4XeVxmsoEhaZnz9nshRlh+tsafwG8zPClJR99lHrw0j0+Dq1JKt9JAuHdjRYOIrjNA4ZqqurayQkkCxIDGTGOI8fO3ZMwsPDVaPljqS4noO0pKenK3kzZsjLly+rGTI7O1uXscGUh1ly9erVgp8Yzusst4BflSFIkChIHpqua9eu6XNosSgbWi3yhazxLrwT9xw9elTfqTWO+5Zk3U+yAJLrZ7dJYux6GTN6uCxZOF2qtidJSxotXwEQs4M8zhBqK9Fr4bneQLJunC/T5XCmTh6rYTpy0kKECP+++m5dLR1iIfmvmSYBa6frck9drXy2PO6xp7X1QoDctAR/2V2W2Khx//JGlQbNjYtaK5MnjRYT6oE1EbPTgiUt0b9L+IK29l07/H5LstpHsgwxMRop9uaYa5AsNFiYFc159miI0BhBzFxJlev/mPow/+Xm5jZJA80ZMxhNGSBV3IeWDId7CBXTfXne3IN5kPNmRiQaOPzKnHk638F57LynuWNLsjwDHf4MkeGrdOYOgf9K8jbJR+e2dSgBunN5pwbEPLY/t1PV+T2dZPHdWHJk0oRRAskqyAoTnNN78jR2NBW7y2JkX0WS9b9pQcjo8MG7o/KvrxXW2PQ0Y/Dj82WqlV+8YLouEbV08QxZvnSWxEauUSzrtu/dgfV540c/FrNJB/3+zpt0TSHYe/tLjt3Qpki3rg2BaddpiYHi6wWiIVnMPMTnyZAsCAokCyLkJFn4cWGiM8TJEBlIEoQMrZUzDa5DaDBNkg7aKLRoEDr8tXgG02BlZWXjc9wDCcNHDHLFMaZD13RN3m3ZW5LlmWQxc4dIygnR69W0NGnCaIkKX6Uk6O6VnQ1kq5k4Wq7t1tP/aK1YHoN18VLi/WXe7MmyKXSFXD7dvNO9p/Tacr4nkywiYuOngvl3+tRxQuT8Wxe391gNVuP3r6+Vb+7usQSrowbkrpBufa0u+AxuEKfNndDAeEl8ro0hy2X8uBEyYEB/WbJohuKYhpXxAYY1trmuUCftKYPVZLVfk+WJiEA28JNihh5+WIR1gAxhigsJCdHZiE5yU1JSorMUg4OD9V6TLungNI+JEVMj/1+6dEnNguXl5WqGhIhlZmaqtgvTHsQLMyEki1mPzpmB/E/++G/hi2Xy8dXekizPJAvggAARbb0kd5MsnD9NRgwfostZJMVukNpdKerP8+XNqtYRrvqGdJnJiKS5vzJN1f2YJfGhmDl9vDqxkq870OwIQOuJJItvx+xQhLvxY0doveJrd+fygw+Z0RHf0Jkmvjen6nLk5MHs5sOQtGdAss8+eKJeX6uuDERxRyD0hBcEMr5yeovkZ4bKnFmTZPjwwbJm5Vz1N73TBULIONvuAz22JKtj1opXFQAAIABJREFUSBbkCf8ptFVLly5VQoNmCXNeRESEzug7ceJEEw0SPlVvvPGGzJ8/v0lcLdI6ePCgPotTOz5VpIUZEp8rCJfRdq1Zs0Z9s0grOjpa7+NZQ+bY42dFOpTjwIEDjdcsybq3QG8nAT3+WAerMyQ2Yo3Mmj6hkQyFBCxRM1TFtgQ5ti9bgYxBHOmRWYese8eeUA9ov9CqMHsRH6/c9FAJD14mc2ZN1PTQsiBtVm9PktuXOtcxvqeRLAYV4gcRmmHcmOEyd9YkKS+O1m/QKSBOIMgHuDFwbgyeL3ERSxqC4D7AsjzIeugyeXcUTtXXyo4tsTpDFhLliWSZNo/GfHN+hEydMlYGDuivWJaZEqQLn+sanb1dq2VJVseRLMx+aJow3+EQX1hYqBopQiig1XIlNWipuKeqqkpDKbhex5SIiQ+tFlor0sUBHuKEhgzyRNpop3CUR2OFE7uZ6WjSQ9OETxbki5AN5ryv9laT1bwmy4ATewZu/HhqdiTr4I1/w7ixw5Ugsd7h4oXTJHDDIoneuEqSYtZLRmKAZCUH6j45boPERKwWYm8tXzJTZ7eNGjFExo4eJkSYx0eCWYzMdEML0VzICGeZfHXck0gWGqzzx4qF4KLjxo6Q+XMna/DFT693/KK45A0hZ3FxnIzrqjMeyLatKFKmTBwsSxdOkP1V6Q+kDA/q3btSvodrMuXs0UJdVqsjwmfQ3licPDXBX7XiLeIBUd8P5klY0DJZtnimxtMaO2a4aKiHytSGyT0dRQi7Q7qWZHUMyYKwQH5cN+d5V1LjvNf1mrvnuN95n+vz5n/nPea4uWvmnrbuLcnynmQZAAMs0UqdOJAr24qiJCl2vQRsWKQkC6dqQAsCNWLYYBk+9AMZPmywmhlZFw8ytmDuFFm/Zr7ER61Vp1R8sdBcaaTxByRJ9hSSpX50R4t00dzRo4bJovnTlLzqdPUOrtuvbjQs3pufGa5L6iTGb5SUxIgHskVHBsvqVcsk0H+tpCRGPpAyPKh370r5JsVvlITYIMlKDZVDezIafJJdl7tpB/n49k6NFOdukvSkQLlzpen6qAavXPdnjhRKcry/xorbtS1BVq+Yo8GX58+donEB0bYjULo+1yv+tySr40hWW0lKd3/Okqx2gEl9rRIjNBeo6o/uy9EBHcmyMCtcA/5lEfgvNVjyM8Nkc36kVJQlyKGaLLlwolil2wZiVfvAAa0nkCz1QzqUL+FBy3RGKD5uLPzMGm/3aQabmM/a0QbuDZBE3T5QlSExEX4SEx2pk1mqqqtl7759D2TDl9RsD6oMvT1f6p+4h1gsEuJjJSJ8g+wuS5LPrvvO1eFr4l5lhQsmPw0x4wVhY9Y0jvJg0Ze3qlVYjItcK5MnEuphlAooR2qzhXiBvYJYOevMkixLsnxN6izJav8A2whE9wZuVPiQJ/XHulUt37Dd2SNE4P6ucXD3Yb5OkGjjcXcnWRCsEwfzJMh/sUrly5fMkr0VqQ0DhYsGi29z9cxmOViVIkf3psvNi9vaPZicOVwgsZF+kpSUqD6amP2NBtru77cS9KY6AbNxR8E1JCLcT+qqM30245PJM9lpIYIwRzT3RixqBgfQVEGytm+JFflkr07aIaApk0JMqAdMiWXF0XKDMCfNpNXjrlmSZUnWAyFZ9bXy1c1q+fzG7nsmLd9oXo7vz5XE+HCp3bvXqyggX3/9teTkZEtmSrA6kve4Dv4Awaw7kyyWMDq6N0f81y0UTISrl8/R6ekEZLyvjeiySdmSn+EvBVkBsqUgVM4czr3/vlZ8C5ZGKsrdJFFRG3VGMQTC1/3UpnezW9cpbYJYifHxsZKZEqJa7PvaZivanHkWYsWqBSyTo47rXqQBoWKR6NKiKCVZmlZ9jXz+UaX67oUHE+phpEyZPEYSY9bL6br8hph9LsKKKUOP2luSZUmWr8G2JU0WGoKTB7IlPzNEctJDpTgnVPZWJMrNi+Xy7d17M6i86NjuOqIlWV1Hm9VdSRZmOhzM16+eLyOHD5F1q+bJ4Zost4Fc0TB+cXO35KX766y74wey5cyRPLl5oX2aLEJtJMcHaUgW+pOv+6hNr3sTLOf3I+A0Plrnjha1i9gbPMXXkBhwuCN85yUJIkYcJItFol1nI6LlJexJXgahHibKqBFDtU/tLk+Qu1d33m92B/vJ18u8Tbm77N6SrO9JVkp8gAQGBujCyATwtFvb6oBlfYKDgiQlzl8DYprGj0PlpRPFsrUwQhLjAiUlOU4iI8LFf8MqSUoIk8LcGCnJj5Cq8ni5eKJIvkBroA6d3mu5LMmyJMu0t7bsiU92oCpdHXeZVIAmi0kEuji3G+JPGI3DtWmyYvF4WbV0gmzJD5WD1Sny6TXvHIbdlrG+Vs4fLZKUhDCNs2e1WD2HEDnJka+Oq/fskeTETXKkJssnJIuQDCnxflKQHS7yiXfYy6QdiFlxzkaPZai/ulNqdqZIwPpFQt+aNWOCZKYEyvnjxfdpzCiD+oMp/ncdTHPbX93gQpP7LMlq+IB80KRYP1m4cIHGl2LpGbu1rQ6IwbV40SJJitnQQLLqa+XWpXKp3BYribF+kpgQIZWVFRrGgns3bNighHb37kopLMiRvJwkKciJlcKcTVJWHCGn63IbHI1basx3a8SSrK4DSN1Nk/Xlx7tlX2WqLhGCtB3kv0Tjj2n4Cw9tD7MewTk3rJoifmumSUVplBzfnymffdSO0A71tXL2SKGkJW28b6UIXw3MNp2eQ9xYTi01KVIOVWd4JDhNBn0PbdncA2EifENx7kavSRakKCMpUIqyNzYEUfaQB33p3NFiJWTE8Bs9aqiGoCF4ciOpIiTE/lydzINW2ZSr2+4tyWoYlAj0iCYLDQzxp5jBYbe21QFxvogojyaL9d0O12ZIdnqIMP1865YSKSvbpsv5EEiVKPcsAYRTL7+vvvpKg7impaVKXGyUJCdGSnjwSslK8pOLxwvvU0W7djxLsizJcm0TLf5fX6OBXvfsSJali6Yr8IcFLpNTdfkN8cU8DBgmXUyGm3ODVYuF029DsMp2fAdLsqx59Kb3JNDXJIvAxywOTYBRbzVZkKz0xACdAU1/MH3D3Z7rty5tl51b41RjDNEiBA0EDQd6JvPU7krVVRVOHshtlrS5S7/LnbMk63uSZdYuJLBnb5qp4ut3hTClpCTL+tXzJDstSNKSN0lhYa4GS/3000+VxK5atUqnIX/zzTeNDurfffedfPvtt6rVIko+5IsgrgsWLJDJ44fJ7tJoS7JaALCuBDDdRZPVsOhxosa/GjNqmK7x+OGRQq9nazFolECy8kIanH7ba+KwJMuSrAdIsvCvgmRtKYj0imQR/8posvDj8tZZHi0VK1Ww4gWLrE8YN1Iiw1fqhJP9VRmybvU8iYtYIx+fKxPBV7cbYV+TslqSdT/J6ogo6L1JPY+jbkTEJhk0oK8EBayTQ3V1Gl+HdRSJ78Laikw/vnPnTiPBYpYfEllWVpZOS2ZZIBbVRtO1adMmCQ5YJRVbLclq0nm7OOh0eZJVX6uDw67SOJWkCfgavWm1rtemsca8qN/PP6rQ9fwC18+U4A2zpGZXgpw7VqDLHrX5W/mIZBnhiXVLPW3mHl/ik0mTvbt0W7ru7hlP50jL3bt5yttTOt35vK81WTculCnJKi2MalGopY1jAkQoYQZhzKY1cvnUZo8+jK59AoJ2/ew2JXTEoBs9cqiuXpEYu0EWzp8qEyeM1DAQzFJ0fbbb/G9JliVZvgYYSBaLXA8fPlzi4uKkurpatVKrV6/WPSZB5w/t1WeffSbZ2dnCPXV1dUrAcKDPy8vT9RU3F2ZIdVlci53emgubV9V3JjB1dZLFzKbykhhdg5ClcuKj1snFkyWtMk98em2X1FWlSnL0CkmOWSFbC8Lk+L5M+cptfCEvZ876iGQhLOL6kJKSouudsuapc+M819srVNLfr127pkt7ocVG+0zfvXDhwn0kCytBbW2tTi5yd701WASRYv1XliIz78U7seTYzp07VZCjPN6myXsgALa3PrzNjzojv9aU0V3aviZZuHiwZJe3JIsJTTW7UoTo7osXTJO9lalea7MUj+prG0I97MlUokZfxDGehe379u2jq17U7cm8P2K8iQ/ohTDUmbh3X16WZFmS5a7jtuccYBUeHi7r1q3TdRjRXkGgCJx38uRJMSZCyNWRI0d0sWyAmfUcWZ+R9RgrKip0nUbiwNy9e1d2lhXIgcpkS7K6OqA4yteZJAsTx4XjJYI/CaDvOo28CfDV1+p9WwsjdYYTZorkOD+5fHpLqwgWaX57e49AtG5fLG/cPr9eIa5ryhHp+vKpLXL1TOm9+EDNmD98RLJYOJ5F4Pv37y/vv/++vPbaa/Lb3/5W9/369dPzXOe+tvZ3CAL9G83zqVOnlGgFBQXJ1KlTpaam5r50r1y5Imi0ly1bpsJUW/PlOTRYEKy+ffvKq6++KrwT79mnTx/dL168WAU8b/PYvn27ElIwydtn2nofGIfWPjc3VwlqW9PhOV+TLNY6JZYVgUSb7UemrxMnri5Pli+dqVooAvh6G35B++2JEg1QeuvSDqmtTJMNaxfIkMED5d1339Vt4MD+usj9ldNbVZuFlvn2pR1y9liREGkeU2VLfmBN+r8pdzv3aOEwZV44zkob98rgzlXAkixLstrTwd09C8kCSDHzYRIExJlEgOkPUETKRIr9/PPPpbS0VPDPIlwGpAvghGBxHwQLPy1IVm3VVjm5P7vFzms1Wb1Tk3XjfLns2BKnQRTRTmG++ORaRQP4usTbAaBZm43ZTfiC4LB77cPSDjVHQLKO7M2WnLQQjT90sDpDF991GxrCRyQLTQl9KT4+XrdRo0bJww8/LKNHj5aEhAQ9x3U0N8a8Rt911axwzWymv5v/uR//yZEjR6rGGU3VrFmz5M9//rOUl5ffR1bIiz6PwHXmzJkm6ZKva94mP/au18GKpKQk+cMf/iBDhgzR90FzDvZMmjRJnnvuOZkzZ06TYK6Um3QoJ2U36XOOWc4jRozQOuM+rpn73dWLeZZrJi3znLnG3rXcnEMDN2HCBC1fe0guaT1wknW3RuNdEcKBvgTh8JbUYJrcsTVOMA9GbVwtARsWy5xZk+SDQQMaSRZka8zo4ZKXGSbXzpbKgd3pwpI9a1bO1fVa05MC5FRdntcmSm/L1tJ9kKyrp7cqGSV4667SeA1HwSQ6JX0GdyzJsiTLCQi+OAZw0GQBdocOHVIgZMYhZOngwYONZKusrEzNFUiOXAOgMDPg8H7+/HklWJgVIWpHDuyUiyeKW+y8lmT1TpKFdMtswPDgZTJ7xgSdtUSsn6ryRPURIf4VUvnNC+VSkBkuU6eMlYnjR+nSIUSrbglQfXEdqR1yh6/J/DmT1cF+c16EnNifq9G6G4HZRySLvkyfYoOQ0B9feOEF3dOnzDX2EB60Kn5+fhIYGKh9lD4IGUEAghTRT7mX88wMZkOL9dZbb8kzzzyj6R4+fLhZkkV6EDsCaCJE4UpgZhmHhoY25o0QZsqHhjs/P1/8/f0lICCgUcNtSNbLL7+s1/jfPAOJmTlzpmq4MCFSF2jRyJt6wC2B9AzWoHUbMGCA/O53v1OyBW6hbcIvFCzjfvKmrBcvXtR8TJ1BztjS09NVE2/qnXIXFBQ0lhvBEV9UTIRosZ599lnVKlLv1EVbsbcrkCz6H07spw7mt0qrZPptSMASGTrkA3n33fcaydV7770nbJAs9pAvfCbx3ULTNWhgf91GjhisYSBOHyrolH7sxAKc9w/tyRS/dQtk5vQJSvogXLW7UpQQqhD1Sa3c+NGPGzenq4wvj//Om8TaUpDk2A0Nq5C3U/UH+zSzCzvLJt/WTtXVnzMkC3ACoCdPnqwxx0wbgFDhdwXQAjyo6fmffVFRkYK4uZf9rVu3pXbPNqmtSBXWc2tuKyuOkZCgtVJQWKgDB0DY3Ib5Mjo6SiLCV8nx/TnNpt1cvvba/d/l1KF8NTtERoYLg6/5Ds5+bs6xd54vyAqXM0cKW/U9TtblqwPtvDmT5f33+yoAT5syVgLWL9QlQirLEtShd9KE0TJs6AcKzHt2prQqj/Z+572VaRIauFSGDhmkZWTJnmWLZ0h81FrZsTVWzh0tlE8/qpQPjxT4NE4W5IP+aEgWhMTgCIQEwjF48GDVrowdO1aGDRum8QIhBRCCDz74QAkY/2dkZOh1/C4xE0IWHnroIVm0aJGSpuY0WRAdCAuYgG8WxAWtFxoktGEMppj80tLSlOCdPn1aMD9StvHjxwtlQ2uFmROygybLkCze0bwTx7go/OlPf5IlS5YowYLwoMXDVxRzJmZUTIu8A1p27uU9pk2bptp2nkf7R7mmTJmi5Ro4cKASTkhgZGRkY7koG+Vev359Yzunfij3uHHjdKPcELyjR4+qlv/RRx+VJ598Ur8LOGTK3tq9IVnV5Uly6eTmdrdn1ucMCVgqKXF+reqDCLhsZw63vt8SLmLe7Mnyft++TUgWPln9+70vAwf0l8EfDJTBgweqlotjtF3Dh36gG/5b+FRC9NrbR1v7/PEDuZKbESpgDe2JshFoFeJYkBWmq0c4sc2Jea7HEHs0n4yRrf31SJJFRzbSGJIPFYZEBGFAVd/aztIV7odgMiBi3gPgkF6RNpHKvC2fk2QBRki7rB7v+quvr9e6QpqMjo5WsEOTdezYMSHUg/mRXlpakixdNENWLZ/d7Ibz5YTxY2T27DlqhsQU2dy2cuVKBfxJE0fLiqWzmk27pbzt9abfZuWy2Qo8kydPVB8c8x2cgGPOsXeenz1zoqxaPqfV34NvOHniaPXTMT4dDNxIvpMnjVZn2ob/B8nc2ZNanb4vvvHc2ZNlyJBBjYMJ5ezX732ZOH6krF01V7LTgqW8JFqS48N8FozUE8kC0HEa/9vf/qahUiA+aJ0hQWh2tm3bpv1x+vTp8vbbbyuJgIBBVBCg8KGEIEGUjKamOZKFaQwNE4QErRJ+UxAbzHrklZiYqNod8gdz0A6hKeM62ErZIEiUDbMjZfdEskifMpMWWBYWFqZEDc0RRAcH+VdeeUXTA78hUm+88YYSPN4LAjhx4kQV/MBBNGJcnzt3ruLj0KFD1Q8MbRf1tmbNGt3AT4gpefOuYCkYOmPGDL2fesJlgveCvPIs2i1v8dX1PkOyslKCJXrTmna3aTRFE8aPVHN6W/pgW/qI6beuJAvSAskaMniQjBg2WAb073ePZA1QQs41zkNscJhnEfe25N/eZ1j8evzYEdKnz/eaOI6HD/tAFsyb0gTbnJjneow2lz5AW2/tr8eSLLQv2NaRBJGG6Khr165VwuXaGbrD/5gCMBfg0wAY8NGRxCBKTkmxuXdxkqxPPvlEHd3xt3L+vvzySwUa/DYAXqRJJE0aGA0PwsqPmYiXLl2WhIRYYeDFzNLc1hBFeIR+h/nz50tL27x581Q6Zvo+g25zadtrzde9a/2gUWJR2LFjx+ggab6Fk0yZc+yd56dMGqOzlVzTbOl/viEzkwBnJ8kaMKCf4ECLZAzJApwxF1LGltL06fW5U4R3oyymfEqy3u8rtEEGm6zUYNleEtMpJAvNEnX/1FNP6Tcyq1ygmcEECDGhr9NP0eL88pe/1HKj5cH0xwapgvQweQUhrbUkCw0SWIN2DWJlNGkHDhxQLRRlg6yYsoFNv//97zXgcXOaLEigIVmkC0FjtjJCHZoyNGpPP/20kkSc9nHGx3keQc/4s3E/uA4+rVixQuuEuoE0Qd7QDFJ/lIN34DyCN2lRbsipKTdjA3XKWAERg6RBGH3lk4U/VEjg0na3Z3B27Ojh2j8QWr1u/9zbmvsdfc99v31XSUv//u+rtmrUiCFCPx78wQDVBENi6M8IUGi1Ro0cqjOFvS6vI//2PkOdoU0DW0y/pnwIU1xzYpsT88wx4xBaVrSdtC/M86399ViSRYd9/vnntcPRyZjBA0hAElyJCOSDjfMQFm9Ji0mH+5E8ATb2ntIgD+5x5mPuBcicvgucd/6P5gl1+UsvvaSSHhIkQMJH5z5Tlub2hmQB0IAuqk9XkgX5QosEICNlGv8ONFrLly9XoIJgISWmpKTKlpJM2VkaJ0zlbW4rytko/n4rtexoFFvaGBjCw8MkNHCZoCZvLm17rfm6d62fA9UZEr1xtYSFBqk0b76FE3DMOfbO8/g11NVktep7kF9+Vpiq6iFZaIeYObh25VxJjF0vyfF+EhywRKZMGq3mB6TPrYVRrcrD9R1b+3/FtgRdD5FBARDGbEm068iwlcJsRxx4P7le4fNldejn7syF9HeERMgT2in6PtuYMWOUBEBGeBbhC03M3//93yuh4ntx3hckC40O/pmkhwkQ8gIBQZqnLJjVGHxM2cBXrkN8EMrcabLAKoPHBDMmXbCad8AEiIYKM+Ajjzyipk9MpjjwG5KFZgk/MEiQuR+N3eOPP674zv2QL+ru9ddfV9xHO4eAitYeUki5MRc6y83/EDI0Z7wDxMtXJKtyW4L6Jba2TbreX1mWqOZCzG+HvOyDrPe5tShatpXEtLo/0W9xasfE5ioc9e3TR7VXECtMhYMGYTZsIFn0nRHDG7RYHEeErZT9Vemtzt/1/Vv7//7d6ZKWFCBYQyBZaNvAGPy0slKDZN/utCbY5sQ8c8w4hOaUdk77tiTLEY0XyQUJD7s/khcdF3aKhGhIDn4MaILoXGz4NKAaR3pqjqw4rwFmdF7U5wALAIM0yTkIF/ciQZEPM4e4B1U6KnWkOEAGaZT8ARvyhghCbjhHeQBc8oHkAAao2wnDABig3gYEnWXydAzJgmCx4WPF+oSUwfmDQOGTRV0AMhxTPnwTkPK++OILwZxIWQD88tJMdSRsWLLkXrwhEyfFsT9+IE8SE8Kldu9eZ3YejwmCmpOTLZkpwfIFsY0cadljz/XsTd18QyT0vAjJykzVb2k+gpNMmXPsneeJu/P9EjUtl4OlOPDhigxfpQ6oS42f0+Y4OXu0SOqv7VLycuXMFsHZfPaMiUrAEmLWy4WTm3UpD2/eqc33fNIQNmJLfoQsmj9VZs/83mcDx9kbF8rl69vVDbNnfej4bvoofdcdyaLvQTwQquinaHHYMHfhc4T2hzTon/gwPfHEE/LXv/5V49+h7WmJZJGvcyM/V3Ohk2RxHeIB5mAGQ8ijbMxUNmUD90zZwC5DspzCIviL+Y5nEdwgNWgIMGtChNCakw7vgvnTlWQx6IHlXEebD45hXnzzzTd1EGQCD5oycJO08BsjlARaOWZzLly4UPOmzk25GTgpN7hqNFm+JFm0oza3Twfu3by0XdKTAqW0KNrrPsjEku1bYgW/x4YJHC33Wcpq+u3GkOUybBiO7w1hG9hDWJzbzOnjdWILQglCypAPBqoZcfiwweK3doGcYAkeZvQ53qWjj+mzR/flSJD/YpkxbbyaKokxRj1cPFHSsOauF7MLGQ9py5ZkOciVAS/ICh0MQoO0R4ekkxniA2ggUdHZqETs+jhEoqqGVJh0mtsDUkh1gCAbaZAWZI7/ITUADECIKpppzNwDmPA/QAmBohyoJSkj5UaDhAMp5wAAyk9eEDjKCOEBWLgfH4Xmyui8ZkgWz1E+1PsAjesPIkUYBzbKjunV+eM8+UP0tpdmyPVzLU+zt7MLe+fsQuLVELqBeFeQKJxR66/u/B7wzcSY+holXNs3x6qjLWYRJGCcXYl55Zw55Mvjzz+ulMM1WbqIbmZyoNTsTNGwETr7iEHBlI99J5IsSBLCEOSAGXJgAv2eWYYQADTJEBT6MFoeSAKSNuZB8IvnZ8+erb5KkA0EPbTThE+IiopqJBj0f4gLaXtLssgXckXZwEswiw1co2xov8BdLAmkCXkhHwRN7uE5tE8IogRdZeBGWwfBQfClfI899pgSOkgWJj58rsA/sBKCxbtyDYGUevr1r3/dIPSVlyuRwrUBbESIBWvx8aLM4B5WDUyMvDP1CqaipaN8+HgxoCKg+8ony1cLRDMLlgWit+R7t6wObZeJY7RrHL2ZMdikPTvbtsvxjfMN/TYuco1OCFm9Yo5MmzpOJ604CRemwqyUII01V7MjWSJCV2hMLnypCP9wbH9OQ/w5l/S9LUdb7iMW3pXTDUIbkwTKiqMVRz67XtHw/qZfW5LVvhAOxlGcjgi5oAPjuA3pgLDQuenMaIK4znnAAykKh0gnOfF0DJDR8em4hgiRLw6cAJshWWiFACM6MeVAEgQITXmYuYCWC2BCCuU5nsFngHRNmQENnicPAILj1jjyky6ABOhQBoAakuf8Ef8K9k5gUvaU2ZVkcc/Zsx9KSXGO7KvKFtaYa6kzWJLVO0kWoRnQWH18vqwhXo6JUeMOdOtr5NPrFVJV3jCZggVqg/2X6MwoJT3unmnnOZYFIXAi0u33cXRcyJXJo4NIFsIXAxdCoNP0Tx+FGHEN8gIRQLuEEMc18AstDYIiQiO4A+GClEB6WAwelwJMcBAftPqYytD6DBo0qHHDHAcW4OwO+cEKgLYJ52+jKQejEPpIC9zCOoA265133tFymbLhfA6OIoShrYLUkQ75YbYjb3xc0ECBn5ST2Y9osiCMuh7qPZ8qTH5gHPgKMYOIgZPky/2YDKkL8n7xxRd1D66DtdQTz0M0IUzUH9cwA/GMKTfn8Q+jnnknSB5lgCBCxNCMecL/ls7zjVKTIsVXJIuAvpAstNDeLhBNf8LEX5gd3qoQDhA6+u31D0uFSPNosAlGiiO7IVn9+/eTYL8l2n/Af/ooQhUhW4iH1xCA2Hti19IY4u11SBZlPnukUHgPlhdSzZnpx2ZvSVb7SJYhJhAqd8eQKTosko7pLJAQSAeAYs6ZPemYtMw5nkVzhROmucae86TDffxPR8WcCIhiLoQ84TfgJFCQLs7T0ZlhA/BiMjTpmrTM/+zNsSlPS3veLzoqSubPnSnJIvRVAAAgAElEQVSbi/Pl/PlzglnO+cPnAYKIFIcTvDuSVU+ohwPVsnd3jhC0zm0DNg353t6SrN5JshrNAi7twSNg1tcKAUL3VabJqhVzBKK1fs189ef48kZVi2TeY7rN5W/MGM3dw7UOIln0NXys2Dv7NFp3BmoEIwgOG4QKjACjICpoxhG+eA7MgWiBNWh4uA/tDc8jONKXIU/4XDo3sAaM4jq4yLPgEekgzJE2gh14hD8U+EbZGvwmwxvLRj5op8Ah8kYb78yHiUfkxT2kx32kw3ujTYL8oIHCJIoGn7xwZzBEC98YNGKQQI65n/cBfyk3ezR2kDw0e1yHkKH94zmTJ+9KvZg6RbNPPVMWMBLNG+lTViMIt4St7q77mmQRTDQ13l/wb/WWZKE1xvG+qJUky/Rbs1g0oUyYBTxqxFD1V8RHi8kp+MvepyHztj+11N/ac92YJ5tLw5Ks9pMsdw2fc4AGYEQnQnIx9xkwoTNybM4DKoAGgENHNOeRHiFqSG3O+7mHNOiwRlpDDU3nRiuE9gtAMlIi6VEOSBgAA1iQLmDnTNfk29Y95UlJTpZ1q+ZJYU6EFBemStXunfLRR9cbA4wCKkh3mFoJ14DvmFOTxbkTxw7Iob2FcuvSdq8IFgOfJVm9lGQ1B3LNXAPcD9dmqZPqqJFDdHYfgQQx73m7NEibCFczZeoIkmX6shNXzDmzB0MgVWwcm/M84+455zmO6fc8Y47537mZ+9m7O24uP09lc5efSdsdppEO/lqeNPM8a96DtMFX6sMQJ1NGs+deroPRrveQv7nuWqfO5535mfOt2fuaZKGVSkvw15UJvjMmr+ba690a1SbxTEnuRq+xuqHf1MqdSzuECSFrVs7VGYLz50zRhaYXzpuqsxwxQbJ0js/7WQvv5LP8LMnqWJKFFIa63Ug/dEaIFFocOodTbY9EhRqdgHbY8E1Ho+NDipCEeJYOCzFCIoScIFlC0DADInGiuUJTZCRA/AtMPqSFZAq5wZxHniYfX+0BjdSUFElNCJTr57bJ4dpMKS2Kl9ItOVJXd0BnG1IOCCjmBbO8DlItJkIWi647uFf2VuXJ7cs7WtVpO4pk4czpunnqhK73qSOomw7t7X3k4+293t7nqey+PN+Zaxe2p9zf3K4W1lsjSCjBQVnktqIs4cEBewdosnzVt206N32Ol+2tU1+TLAQMTH956aH3a4/c4Bh9D3M92i+v1zu8W6OLSJ8/Vqx+iji14x8ZuGGx7K1Ik/1VGbJ+9fwmaxa2p48/0Gctyeo4kkXnQbpBQ8MMF0x4aI6w/UOG0Dg5pS38o7BD49OANst0Pu5BQ4VanWdJB20U5A2iZSQpSBYEjbQ5NgE+UYM788F/jDRIi2smH1/tvydZAY2Ld96+tF32706TLUVJUl5WJKdOndAZZ5gKMSUyS4d6whn+yJEDsr00TS6d2twqgkVH8inJqq9VX4E925M0btH2kmhp3DbHyL6KVMFxE83D17eq5cyhAtmxOfb7e8z9m2N05ouZvYj9nvW3tm+Ocbk3RpeBuXJqS6PUdu3MVvGU//7KNAU3NC5oZPBRcJc/507X5Xe6Y2h3IVm0G0wR+IawftrYMSNkzuxJ6sh698rOztdoWZLlc0zyFbZ1xXR8TbKYKZiZEiTZKcHy1S3vTOfXz27TCPHbiu/NSPRAxpTs1NfqKi2Y6oP8FmtcO+IbsgYhpAvc4BqmQ2ZM6oLvzaXX1a9ZktWxJItOiWoa/wC0Rmik0N6giXLtsGiv0OZwr1Ndb+7jGcgIaaAJQ1NF2kYtjXMn04rRXOE7wIw9CBVaI5MGe/6HxOFj4S4f571tOXYlWUaKwDGQKfRVO5Jla0mqVOwqk4sXLiixok4gjKdOHZOqXbly8WSJsACnedbbvU9J1qd7Zff2JAnyXymx0eGSkhTTuMVEhUlk+HohPgwkC3V2Xka4BPitabzH3M+51KQg+fieXxkLBUeGr5OIjUGSmhzbeH9SQpSEBq6RnVtiFVjQShH7Jix4rSTGRzbexzNRESESEQYIZWj+kNiMlBC3+Qf6r5WctDC5i1awEwGpO5Es6oX2xrIkSbEbNLzDzGnj1S/lJt+tE+utI82FbenP9pmup71yfhNfk6yvbldLTnqIEq3P/z977+Ecx3nli+4fsVWv6l5X3buv/HbreuvZ+zY873V579v1rr22rmxLtmQrUpEiKYlBFKOYEYmccx4MwiDnnHMa5MSARABEThxmSvq9+n3DHvQMZogZAAMi9FR1dU/36S+cL/36nPOdQ7c2VvR97rJLSQgQwZ6F6xUL79BYfHq4XIwrumKgA1FP90siuDLnMJGXTovBjhzwI5IbRqzJf0fTKCDL/iBLGhAEQ9Ih3ZOfX/TMHB3p5fd5LaVh7pmcVqKT39uqa0sgSz+A2sTXEWOzVZcloLQoHc1N9cJ+LClRhfaWYkwNr++qwdKg2mqQVVYYi4jwYGE0S5ArHTTwVasihT8ULorc4ZKeHCqkiBKNdE5NS0N8XACmhssFIKLNT2xUsJDc0eBWoqOdmloVI4xHCUgpXSnJjYJaFS0kmRId36GBbUxUMFqqk0Sa3OWSoAqERpNiSE+ip7FzalKoXuplYfKzxM/N3N9tIEuq68xIBbI0wSI8Dx0MMswN+Ss9t/tZp8XYQBFSEsPFR9d6Y3mrxq2Szs4GU5bap7W1DSlJUehry9ySPkrfT3TqS2nWAyt2dHM8UAKVkuiPJs5H983smtVpwQ0lBE8xEe4iBM7Jr75AfIy3iDdISbx8XOmm6sDjpdlFbuU8qYCs7QNZlgbJXrv/QpAldd7n0p+B9ixUFiciJNANCXG+mB6t2pAESxqg9gBZsTGRRupbthcBkSYpzghkZaSECzszU8lhfkEBEuKDjECWOi5c2OTJF1Aa5KZqEk1AViRSNQlGXqH5DlXNalWEEchKig9CTk7uGuBNqWe6JlwBWVLfs+JM56Dcjn7u7AlwMaD/LUq5KF2U+prdzjqtcLybrA4Wtpym/WmvzRdKfTYH7srLK5AUHyJcCWxFn+THEXcWpiUHYYVAx4o+T1MFgqz2+tQ1IItjZnGiGjUl8WJjyRdffCbsHumYlx8vG9FYWFOmHUOjgCwFZG31JGcVyJIGrk6LpYlqtNYk4EZn1qb17wrIUkDWlkyuz6WTlUVxuPTNSRz94hBUUZ7ii33NVnKpL2/h+dF8E/IzIxAXGyUAvhyMb/V4VdLbHMh5Wfxjn6AricSEeGRoQiDsB7egDxIUVRTGIjUpUPidW3c86bTo12YjNdFf2FBRsi+98+1Si/BlxY+UM6eO4eiXhxEW7CrohCpQRiu9s+fOCshSQNZWTxI2gSwxKchCMGxyklBAlgKytnKSpq1dfbka+u3khxAR7CrUG9yRuJX5mKbFhe5mVx7iov2RlpZq2G3MhVU5FB5wzibAop+v6Ag/dLdkWL0T0LSvrfmv0wobKTokpfRWDprW0HK+1mmF/RRBFnfpSio+qvtaazUi5A0/Ui598zVy0kIxwTBWNniFN5vnJteJbU1TAVkKyHr5IGvrVDAKyFJA1pZOoLo24TOLdnTXnb/B50cOIsDXAdy8YGpHsqX53msTNiza+lRER/hCHR8n3LXQyFkKKquc1w8Avxd5xI1R3CCVlJSAyDBfNFQmiSgCW9b/dFrheZ0gizum1wVZ97VoqdEgJTFA7NAlgLp7uxS56aG4eOEkqB6ko9+WmmTQ0em66e0mAGVNWRWQpV/gH8w1QpMQAF9fH+FxmP6nlGNjPOCuRn8/P2HHst1O5BSQpYCsLVtspAlU1wZua+9qzoC3xxXhS8vL7ZJwSSLcckh0djjTZxEBXXZaGBJUIUhOjEJKcqxdDk1SDAIDvBHg743kxGi75LHRsrM8Pt7uOH/+nDh4vdPKuNG62foe652oCkWGJlTsbn4w07C1wEWnFeo8+r1i31sXFN1vR115ggBZt3sLRNSEiBBXYdx+5vQxJKv9REw/e3+UbPm436rxrICs5yBrtkFs3WY8Kfqfog8p5dgYD+ify9HRQfBTAVmLUAzfU4VPNCms0sIPfgjpkO7xLN3jmQGU153ct2oStDId+kJjIFr69uHWc1en82ipTRY+f+w5wVN1SHubod58sagyxIg9DkrrctOCkZPGANYau+Sx0XLnpQfj04/+hJ/8+Ef48f/9I3GdlxGyo8q40brZ+l5nU7pQWdPlgV3UbjotbnXlITXBX/irWncc3m8XNlzhQS7CjYOTwzkxPij5ZdB2Gr3bc3zs+LQVkLWqLkxNDEREhD4u1l4UM29XneiVPioyUgw4BWQpICsrc2+ALE7mdK0x1FuAqDA3YcRLXz+1ZfFg7DbJFsVuk74UJ02K2WaHM6UNTxaf+0ayQ/piwd5Aum01anzw7m/xf/7Vf8Vf/bf/ig/f+x209Yl6IL6B9DZajp3z3taZWJjrr+M3ikVoneYqvYsYczTink6Lp0styEoJxtdffSE2iHx1/HPERHhgoD0begfM9i2rxbJZ+fFk9/cVkLUKstKSgqDRJK+JQbXVNkt7PT3bDd+3bhAq6kJFXWjvSZPSAy5C6hhvoRK5cP4kSgtiYHCmuFMmdxvLMTNciombRXa3NbO5fXRtGO3Px6VzB/E3/9d/x//4m7/ClW8OYWwgf8dJO22um41ttF3pz49ViYDPlUWxL3RbwrBnjDvoeO0sPv7oA1y9fFq4oKHD0T3vmsHatlNAlgKythr0KSDL2MO+oi7cO5IsaZGjCo9ertMSA4UfLdqe5GeGG8IsSXS75UxVaGayNxJjXXFvansjA1jDI5avtiQKb/7hl/jovd+hvT4Rz6wM+WJN+gqN8Ycu7bwyk4OQnxEmQoaZ8ocSXX5oMMbh+bPH8cknH8Lj+iURd5ABpk3p9/V/BWQpIEsBWdnITAnB43mTEA4P2kGP7+FhQaCHd4Yiko6mpiYwtE5jlV5lQY/vacmhSE5ONtBItIwlaerxPSYySIRIYigkiY5xJFVx0SbOSKMQHxcldpRJdHyHcR6jI4OMnJEmxAUgKWlt/qmpqYrHd2u/Om2kozNF7qIiyKK6JD05SIQNIQjbTQvL0mQ1XK5+CU/Xk3hoOg52SF3mRsrgcPEIgn3Ov1C6spv4vlPLSlBLdwsEUfTZJi/ng5l6tDemCtvEY0cP4/jRw7hw/isRnYLvyWmVa72LC7m9qdwOVbp++vSpWDsOHjyIY8eOCdcc0jNrz39hDeF6BTGXhibeb0sMTx/ONUJRF26NU769JslydLiMwMBAREVFGY6AgAB4uDmioSJBqCyWJ2uhjvWFg4ODgUaid3R0RESYp5HHdy8PR3h7exvRhoeHw9npGgqzIoTtD9VSDKvj6uKAsLAwI1ofHx94uDkYgazoCC9cu7Y2fycnJ6iifUAVwHZOers1rI6tPFqarEFpXjQY6/D4sSNIjPPBxM2SbeW1rWU2pb/VlY3L5w8hLsIR39PGaYcAK3k5pm+XwOny54gIvKSoCe3cPt/r2oTXd8YjXLmr9/rODweGnCrKicDVy6eEOxNPt0ugq4eoMHfDB6e8zZRrBWQZJhMFZG0NwKJUbK+BLHc3ZyQkJIjA3AzOzUOtVsPf1x0NlasgK1EVIICTRCOdCYiiI7yNQFaArxuio6NFIG+JjjEGvb3cTUBWJHx9PERsR4mOwb9jYmLg53PdCGTFRvnAy8vLqJx8x9fXFwmx/npVlp0nZ/mkul9AFo2hufuvujRe2KQc+/IwYsLdMdJXCHs7LZXzezPXYwMFyNL4CDWcMO7exn5ibbmXJ6qQm+qLmuJIBWTZu33ua1FVHCfc8BBYPZ5vEobsNGj/6sTnIq4nbRLpfLS7NQOaBH+x83Wn9h1r+5hd6BR1oaIuVNSFL1YXxsVGgio6uaftGzduQJNsPnYh+SmnLSgoRGJ8sBHIUqv0u1iXl5cNtNPT00hNMRO7MCURd+/eNdDxHUuxC3Nzcw10UhkKCwuV2IX2XpR0WuEQsqk6GU7X9FvY6erhRlfurgBaTxeasHK3Bo+sDAhsl8VonTb6brlFlPE+d3KuQ6s836S6WjgYTUay2h/tjWmoKVUZnPHSyL28IEZIxinxohuTlAR/4QtLAVlm+K6ArO0FWdLCJy2uWw1wdkJ6e02SpQSINjNxWLHI7RtJlsSL597hOxrTQDUKfWn5eV8Vjh2fLBjbtdgKAuiUlIb2N7ty0a/NUo59zIMbnTki3A21L3az/XsejzAi5Do8rl8UNodUhdPJKEP4MG/24e9W2lBWECNUhvN3ttccwdYx9NLoFZC1cZBFwDQ0NCRCHGi1Wty8eRO1tbVoa2vD1NQUzAGeyclJYfCcn58v6M3RvMx7MzMzYOgOGlZTWsMQDlVVVQZJjjVlU0CWsruQE9q+A1nPwRaNf/u0WfDzviZCiri7XEB7ferajRUSOHvBmWmNDhShKCcKifGBSFCFIkFF7+/KsX95EIpEVRDyMiOEpHTNhp0X9CdrgQbD3zBI9LmzJ/Dhhwdw8fxJ5KSH4u7tMiMHqE8WmpGdGoKs1BC9T6wtyNvaMu4aOgVkbQ5kEYAcPnwYnp6eKCoqwtGjR3H9+nVDQFdTUEKQRfWNn5+fAFumz1/2/zt37oA2RJ9//jny8vJAA+/PPvsMJSUloPTNmvIpIEsBWfsZZLHuBEe0VwkLchFheKhCbKxMxH0bQqAwjd62TKhjA0BpKscjP34aGhqUYx/zgB/yXEPU8bGIifRDS61GxNfcCtDBzTYMCs0ds5cunMQHHxyA49WzaKpKEnaHpnlwVzXD7xTlRNpPqrbbgZsCsjYOsgg4SktL8Zvf/AanT58WQOT111/H8ePHMTIyYgRIZmdnMT4+LmxrKP3itv7i4mIjGmsADCVNExMToP3OwoLxYs73CXAoRSMN8zRN09w78nt87/z583j11VeFUfaVK1fwyiuviAleAVmrmwMGBwehSTJvkyXnJ/mv+Mnae36yTBcbc/+5YI32FyI2wgPc6n754teoKlZhZco6m6KxwSIBsNTxKgwMDIjxTum56ZhW/q+Oy/3AC6kPcB1JT0sTQIve1Tfl/PO5TWFvayYigl1Ffz196ii+OfcVklS+FvssAZlG7Y+6MrWyGcESGFRA1uZAFv0nffrpp3B1dRW+jCjJYvxDgiAOeC64VLkRVHGHWlJSEjIyMsTOMkqHrJ0UCK6am5uh0WiQmJgofGrwuqWlxTD5Dg8P679w1GqRD/PjFw8HIwEeA17Hx8eDqkoacvM+pW+8x6DOlGLNzc3B3d0dhw4dAn1BUeJGSV19fb0wqLamvIokyxj8KiBrf4IsAq/vn0sGkuN9ceL45zh/9oT46l8crzaE4aFdDXdvye22GJC6JC8aMdHh6O/vt3qesGZ8KjR7B5Rxzler45CTFoaNhjBj/5sbqxK2VU7XzhriDlaVqIQqkEbtU8Pla0HU80DSDADd15a59rkl0LHf7isga3Mgi0CF/pAyMzMFkGFwaQIqSZrR29srwJW0XZ8Ai/6RLl26ZLUki18uBDzctk+AxS383O5/+fJlcY/AiFImAiZu12f+OTk5wreSv7+/AGcEWXzOfIODgwXI4gCNjIwU6XBXGkEW8+K2f5aXdeN91omOMK2dnBWQpYAsAoz9YJPFBcoa42Nug8/UBImt76e/PorstBDMjlY8Nx5uxe2efBETUaSl04JGxJqEYDHWOZ6sHXsK3d4BUNa2JT/WuXt5fLDY5l2XtKm62ZUnQkSdOvkljOMONgt1dXK8n9i8Ybpz8Pt7dPOgEjsQp4bKbc7bnPR3T95TQNbmQBYBDg3eCVgIrAhGCE44QPifIEWlUol7BDC8R9sKquEoZbJmIFHtR6kVfTNJW/k58VJVSQkUrwmyCI5oG0ZJFSVsNMCn/QbLx3woXWM6PHjN99LT0wVwo60YaVhG1oXvsG5Ue7JOvLamrKRhuqkpKWDA7Y1+XW10sCmxC5XYhRvtO7a+p5uqgbYuAV3NGjx6vtvqRWks3KkSPtDOnTkufA0JCcHtMgFGa8vUyM8Ix9JEjZAI3BksRkpiuLDb5Ji0duwpdPsPZFGboUmMwoA2yyagQ3sqOlOWdsJeu3zKOO6gTis+BGhzVVEQY2Twzn5O6WtOWggyU4LxcNYkWsZ+k1a9qL4KyNocyOKkxklQmgjl1wQbBDQMayKf/Hp6eoQEiZIl+X3pXSkt6RmlUAzXQnAmPeOZtlcEXVIZqFaglEtSSxLcEchJ9mF8h2o/qge5g5BSNgK3yspKQ7pSWvJ8pGupPOudFZClSLI4Ce91Sda9qRoUZgYiM8UXDK8jvvTX8ZbOhY27tmhUzC3xqigvsXuwoigOPp5X0FKTLPhGW6605EixW9nW8bfe+FSe7y0gxrk8NTkGvS0ZVoEsOsi9M1iEjORAEaWA9oL06dbRkAqGzJF/KFBtTSN4htcx+mDWtYnwUSlqPzCINF05yN9TrmX8UEDW5kGWpUmLUiuCI4IeyQidEyalTAzTYgqyxsbGhGqPMewIVKR0CaSoJqSqUT7hkoYSKabNgy4XeNDeinkQcIWGhgoXE5LROgGblBYlX7weHR01SlfKd6PnvQayLDojtWD4Tr6xnaSjoKAACfFBBrsGbX0K1HHhAuiyXSQ6tqXijPSHYHittrqUXWHj0dWUgqLcMPS0pqOzMQkD7RnQ0VmmJbCl04rFqr4iAQ5Xzgj7l8iQ64iP8QYNjaPD3DA7VonRAQVkbXT+2W/vWQ2ydFoweDP9uAX7O+LLLz4TNoIEUHduFItQXmvAkU6LunI1ElU+GBsoMvRrqrW1DakihBSN7i329xdJePbLMwVk2Q9kcbBzyzVj0lG1RzUiPXXTDurrr78WxumSmo60BEUffPAB3NzcBFCSJgtJxUjARNEwJVOUWnHxLi8vF7ZgBE+USsXFxQlVnwTYmLep+wWWha4Z6KrBWpWlVBZrznsNZDGsDaWI1dXVhoM2b6HBvmio1AeIZuzCZHWgALV06yGnZdzBmChfI5AVEuglbOfYPyRaqn6Dg/xRmC2PXRiJkGB/0X8kOr5DNW9woJdRWB1VjC9CQkIM6Un07ANJqkAlrI4dJvXuJg0igq8iIcYVhVmByErxQWleKKZul1heeJ47LW2t0+C6ywUwDM+JE5/j008+Au216isSMdSbr0iyFveWxMmauXMjNNaALO50nR6uEHPL1cunBcDycr8Egv3lu7WWpVA6LUb6C5EQ54Pa0niDypDOSOk3Kz05EJTOrgFndhhruzYPBWTZF2QRRBHk0HicOwupquM1DdIJimj7JEmnuHB/9NFH8PDwMAJZfE46gjC+z3QoHaM6kAs61YbMhwsvwRNVlJSgEXBR+kV3A1IeHMQEe1RhUorFZxsZ2C96Z6+BLAZo5uYG8l06CJS9vVyNQFZCnJ/wkSbRSGeC5shwLyOQ5evlIjYgsJ0kOvYHDzcXk9iFUfD0cDW0O2n5TmhYGLw9nY1AVkykN1yvXzekJ6XL3aLx0b4KyLLDxN/VpEGA1zlkabxxd6hESLJiwxxQWRhu1iCeOwhnRyow3JuPntZMEY6ExsbvvPOOOA68/x7Cg1zRXJ2kgCwFZFk1N78QZOnaxK5VSptiwj1w4tjnOHniC2HofrsnD08Xmw27XC2BGEYbyM8MR2qCv9iQAV0bbvfmQxXtiZK8KCxOVAs/XUJlSAmuJSmuHcafpTLvqPsKyLIvyCIYIQjiQKB6kKCIgIngprOzU0ihJABE6RPVfJRSEaiYAhnu/mtsbBQSLLpjoO8cySCd9Hyf7iIo3aKUq66uzmCPJU+LkjGqCCkRM5ePnHYj13sNZIUEBwhbNqpxpYMOAWOjQw2R54VTvqQQAZxp6ybR8Uwwq4pd3QZNdWFUeIAA32xriZZtFxsdIYxPv11uFV+NJblRiI2JEP1HouM75RUViAwPMAJZ6rgAxMerDelJ9Mw/JSEEwm3ANk50e90mixM5QVamxhdDvbliceGOq6KsQOSl++PZcsuaL3yCLEoGSnIjERrojGuXT+PI4YMCYL399tvg8fVXX0AV5YlkddimbLJoQkDJNz++uBvZ9OB9PpdMGTYy1vkOxztdzHAu4txCaT13Q1O6bpomaTkXckMOffKZPrflP+dNbsqhv0GpbqwTP1Y5T3K+tCU9ll2qhy3vbZSWfGd+zHejafA9SyCLKr2F8WpUl+jjDjLMk7PDORF3cG600uxHgCVwQpAWH+0l0pq4WYKs1GCkJPiJoNCMY6hR+6EgKwJ15Qnobs4QIaAEgNvG+cZS2V/6fQVk2R9kbWYA7cZ39xrI2vOxC3Vtlr9mrXlGGjOT6Z4HWTo9yFJFO6OzSSMWLRoKE2AVZgVZNAamcfGt7lwU50YiJNAZZ08fE6FLKM0iyHr//fdw/sxxBPp7ora2zkgKbct8QBBDCeyBAwfw3nvv4fe//z3+7d/+TZzff/99cZ/P5SYLtqRPWgIEbpyhxJwScgItqse/+eYbMNSYaXq0O6T62tnZWfgVNH1uy3/aM/LDlfX77W9/C9aJ9SQfJbMLc2WwlAc/SgnS+PFqiWar7tPOlmCQO8EJtDaT7lqQpRURB4b7CqGJ9xMqaBq3hwe7CunpRsLw0JaLBu6MZRgd5o64SE90t6QLVWFZfowIu0MJ2dVLp+DmckFs7pDiG5qbG/bVPQVkKSBrMwPc3LsKyDL+Mt2pzkjpIXp6qAw9zem4e7vUYG8hTYBL49UiEPFIXwGezBsHOH4424ChnnwMdmRbtMnY6yDr/nStsMO67nQCqkgnVBSEoyAzEMkqN/S0pK6rNuGX/vRwOZqrk4VXbRfH8zhy+FO8++67+ODA+7hy+ZKQRkuSbnNj7UX3uHjTfo/mCTzoVPjv/u7vcOTIEWFKwHt8TjrmIeVjek0wI23QYH58Lt0jyGIYsS+//FJIsAiyLly4ABgNgCYAACAASURBVEa+oE2gafn4nLaH3HRDVzFSWlKe0ln+nvye/JploOqcwPHjjz8WdaQvQdolnjhxAr/85S+FqxxuBuJ7UtnNXfMZTS2++OILIQUzRyPP2zSt9f7L3+U1JXC0y6UrH8ktD9PYyGEKsnRT9WKXqp/XVRz98pDYyZqbHobJ26XmjdvNfCBJc4D8TKkYw+sUZkeK2JyS2xK6HcnLCBMRDU4cPyI2c6hjvLFIdyRWpr2n6RSQpYCsjQzsF72jgKzdAbIYG6+6WAU3p2+ECsFYvK9FX2sm/L2uIkXtj8U7VUYTJsFZQow3QvydcbOLqrK10qy9DrJ0U7Vor0tAdXEkqkuihPQqPzNQqBBpx2LVwqHTOzNlQN7BjhwUZIUj0M9RqAwvXDgvgIq04L9ozFl6Ji3uBCS0I/z1r38tpFsrKysCeEhp03SAUiFuromIiBDRIajuIyhipAmaH0j2m7xP6RVNH3hQ+vaLX/xCgByqsl8Esjg3UEVJcMd0KGliWjwIkJg3r+WqRJo2UCVICRmf0xyCqkAJZDHsF3dr879UX5b13LlzQsJFVSL5Qyka60JbVgIqStSkjUMEKp988okAbEFBQUKaRTMPqh1p2yrRs76S5I/lknhGYEfJFMGT1BY03+AmI5abeRFc8h7LQdr//M//FGCUm4/MqValdNY7SyCrqzl9Ne7gNyeFcbu/9zW01mrA/rVpWymdVoTuMdheSQBKpxUfC5SanT97HE4O5xAZeh05aaGg30IJjFk1HqQ099JZAVkKyFpvENv6XAFZuwNk0e6rszFNGMHSToyga3Ui1GKkt0AEf6Vfp3smO4joWLM4NwqZmmCM3yjelyCLvJK8vZOXBFaPF5o2FUOOHrgpceAOUx8vF2G3t1mbHY5fgg8CFC7sBFsEJNJ9unwhsDh48CCOHTsmgtxT6sWNGAQFlDrxGWmk/5SGEZBxA81//Md/4Cc/+QkcHBwEiHkRyCJwYcSLs2fPClsigpM333xTSJAYlJ6A7cMPPxTqRwI8SruYj7xsDFhPKRzBDiVZBFkEQRJglOrFjUJUI7q4uAi7WAIixpVlyLBTp04JlSJVjFQRcnMSaVmPM2fOCAkidxQzTBrrSqkTaQnE6GCaIJBgjWkxTfKNaktuaGKZCVoJrKRy8znLzUgaBIBsg3/8x3/Ez372M0EnB2e2zrcEWWpVuLCLokqQ/teogqYPq5G+QpNxvfZjaHXMb/wZpeJ08VCcE4nGqiS01aeITR30A1eaGy280Yv5ZT8axSsgSwFZtg7q9egVkLU7QBYnV9pNcHcQ1X+mky2NtKkKoN+n75ZbjZ5/u9SCe1N1oOsKYwnY6kS91yVZpvzasv86rfCTlRQfIiQt6403a55bAlkEcJT0/OlPfxIht+ismGq+r776SqjgeE3pFIEHbZ0IZgg6CBhIS/slAo3f/e53ws0JAcaLQBaBEe21CFho/O7k5CRUmHyHUh/unmZazI9AhQDvz3/+swhaz/woASPgIRCjxIs7qS2BLNKzXqdPnxb2YgRrVGsSVHHTEXff/uY3vxGAj8b6J0+eFHkzTdaLdSU4IqjiphSWjUCM4cwYTYNAlPWghIp1odqUO3m54YSSqrfeekukTVsvbpRhOWgrRrBHvr7xxhuiHpSuEXxa047maFg2P18vEdSZxu10C0Jjd47rLeuTVkiW6CbiwUyDkFzxmrtoGckgIdYHibE+wt/W7GjlmrlkO8v4UvJSQJZ+UaBIk2FgAgMDhIiYXwfS4KBIm7v+OMA5cPmMYmQOHIq+TWl5j89Iw2ccgPzPNJgWr5k2n3GAMV2JlunzOQexRCvlyR07pOWZ78ppSc/3JFqmR1qmL6XD57yWxPUsl1Q+0srLR1qpfJwQ5OWTaJknr6W6sFykZboqVRyy08LFoNvOjq2E1VHC6mxnf7NLXgRZW+zx3RLI4uLOgPb/8i//Is6UDPEgkKGtE6VfXNgJaAhsKH0heGCsVkqaeBAg8VlXV5fhvyWbLHMg69VXXxX++ihdI7AisCFwI/ChFIplY8xVqWwEYFRPEjS9SJLFOYsAjVIrpsv5iYbmVBFSyuXl5YWf//znAjRSmufq6ipAEOcv2qnxTHru5CbYI4D613/9V2HvxXmVQJSSQQJFSvQoDePcSmkf3baw3OSNVG6qL8lTqjYJxAhUWRdJ/WgOQFlzjyCLGwmOHz2M2AgPDHRkC4mqORW+XfrrCwAYpVcMEUWpd1yUpzA9aG9IFR9o212Wl5afArL0IIudoa0+E5kZKQJQsONycPErhWCDg4fXBBF8RhDC/xxsEi0HrwRM+Iw0fEYgwv9Mg89Jx7T5jBMBnxGo8D91/vwvAR7ScoLjMw56PuOZ/3mf/wl2SM9rvs9nTI//JXDEax7Mn5MNvxpZLtKyTvwvlY90Ul34Pp9JdWGe/M/8mC8nFqkuLBefMe/0tFSUFaq3PaaVArIUkPXSJtMXLDY2lWkbQRZtgSjB+fu//3sBbLjo86ABOI3JGWyeAI3AgSDhL//yL4UvP4YG4305yKJ0iG4JbJVkUdrEeYvpUQ1HUEQAwvmFasV/+Id/wKeffirKxbJRGkV/gpI/QEuSLNo6cUclQSTT5bxGsEYVIOvMOhI0EtDRrQ4BHVV+/FAlyKLEiXWR6KnO/OlPfypAII3pmT4BIfMgqKQqkfZX5APfY9q8J/GU5SYYpY9DunlhHSnd2gqQFRLsJ9RzM8Pl+H7FWOpsU9/bqj4sT0enFRLzgY4cERhdFe0l7LUGO3Nst9fSafFsuVWk92CucUtVoU+XWsBDMgHYMr4pIGtVvbEy0467E7eF3xcOeBoo8uDXBMXqvOYkwmc88z9VY6a0vGeOVrKt4DMefE+i5WTF/xzcfCanlXb/kIbPTGnl5TOlZfp8zi9Wvstr3uN/qS58h//leVpDS3opXZad5ZLSbWttREdTLmhjsmWdVT5wLVwrIEsBWdvZ3+yS1zaCLC7wBE+SQTw/mHhQhUi7IX5kcc7gxxWBDUEG1VxUtXHe4JgnoCB42AqQxfIQeBCA8IOQoIhlI3iRykZ1n1Q2S5Iszl++vr5CHUiDekqOKHkiIPLz8xOSLLqd+OMf/2gWZFGKRhD2hz/8QdiiUWVIntB+jMCKIJMf2CwTVYO0xaI6lVI5gigCO0q5aHMmLzclg/wIlSRZWwGyyKeUpGh0N6dv61xra98neKGJQXtjmrD1pGSLEi7adDKe4gslbzoGpG5Ed3MKYsMd4OJwDM5XjyIm7Br6WtMsmixYW0baU1YWRaI4Oxgrk1usZlVA1qoka6CzGF2drQawwclFOTbGg8nxIcyP6x1qWtvRt4JOAVkKyNqKfvRS09hGkMUPLqrdaAdFGyT6uqIRNo3cKUWitJuAgNIY2h/RmFuSJPEZQdbFixcFGOEOQO76I+j61a9+JQzDKTWXDgIXquVMbbLkkiw5yCKQIZhi2Wgsz3d5ELiwbJTAU5rFvFgGgh7mRakYQRkBFe2mCEL4jEb1BG9MlzsDabj+z//8z+IeJVlUF1IiRRDHuhCAsa6UWtHWjD7FaKhOyRbrTjUhVY58l5I+gjpK1UhHw3yWm9E7yE/ylWUiHwm6aPNFo3hKuqhNIGDd6FrD+tkSIPql9u17bcJVDJ2hipiIcT4iLiKvZ0cr1riRkcqqm65Fbpofvjj0Fj754DWcPH4Ax754B2//6dc4/vk7qCuNxrOljX/Q0/b06oUjOHXsfdwZKNhasKqALD3IoiHvYFcxurvaFJC1BeByeXEKj5f6t7azWpBeSQORZ3uArOiocGH8y4lQOijuT0qMMfL4nqEJE7Yb/IqW6HjOyc1dEyA6PjZMqGcpTZRouUBpktQmHt8joUmKF4uCRMd3OLHGx4WhpSZJbM2eG6tEYnwQMjOzDOlJ9PwKT08OUzy+W9F/5H3ppV3bCWQRVFASQwNu+e5C2mlSmsVnVNVRlUYJDqVINAsg0OEzgjGq3SRjdEprJEBGGylKeAggrl69ir/9278VUh06B5UO0hOc0DcUwQUBEY3F+Zz3KQ0nyCIII7ghEKF0jP8pPaOdGA+WjfcIlihdop0T7Z+kfAimXnvtNSGhousJAkGWk+Wi4TolWiwDz9wZSdDE8UxgRKkZy8adlefPnxf05AmN3ckX0tMHFyV8tNEiEON/AkuqGpkmzSZon0bgJ5WbaZCWfGadCPLIX9p40Z6K9PsFZEnjiiY69B7P0DyUalUUxWLJnBRJp0VNSRTe+dNv8NnHf0RZXiju3CjESH8+NCo3vP77X+Cro+/hdnc27k3Vio063O0o5UMJ2L2pGhFeiG4suFFnbrQck7eK9bTPPeOf/fpjfH7wTYz25RnefTBbj6nbxYJebPDZyO5IBWStNsaT5V6sLE5uuLNvdJDstfeoRqREsK+9CM8YG2sbFzd7gCwXZwex0DA8jXRQ7O/t5YKGygQBcpYna8DYhfwalmik8/UXxC6k2kWi4+Ln7uZsErswEh7uLuKrW6LjO1zw1sYu9IKLmfxphBsf7aPELtzGfripPm8nkEUbJ0p+eCagkeYdSrN4Lzg4WIAJAgr2LwJ5gioCFfY9gh6+w48BGr7TXosSGkpiSE/pF+06aafJcUBJj/yg2o4Ag88pLeK7BGVMh9IglokfELSFomE68+ZcQhBI6RXLxYPXvMdnzJsSInk+7O/MiwCRHxosM2n5n9I6AixKmFgG1oMfITSMJ9CiFIoSKdqgEkhRtUh6SqwILvkO1YMESZTMEYDyOcvl4+MjwCLzZH7kH8smPSd/WAbym8CPefAdgjuJt1Kb2HLebZIs07HBHc6ct3tbM9e4iiEtgY7L1aN49Tf/C0XZjKTQqvf5pdNCN1OHFLU7gnzOCwfAWcneUEc7Y2akTNCQtqowAvFRTgKU3RksQHykEy6f+wzfnP4EHs4n0FgRi7vDZZCDrCcLTWitUcPX/RQunv0Ul89/htiwaxjuzbXdZksBWXqQxcaYu9OE8bEbhsnHlo6u0K6qFTnBdHa0oFdbuGlduemAXO+/vUAWJ1+CG+ng5KoPEG0MsvhlLtFIZ0sBorlY0KZEotODLNMA0ZHwdHdZGyDaAsiyGCA6RgkQvV7f2THP7QCyOD8RxEiH6XzF+5KtpmSfKdFS6sWD/6V05PckOvlZem56lmik9PhfupbKZHqP/82VzbQs8rykfKQ0JVqmQ0kzQY5EIz9LdNK99eg515Ff9NoupSnlyTSk56RhWrwnfy7lI78vPbf2vNtBlhh3lgJL67QYG8jHZx/9AYc+fQN3BguNP9p1Wty7W4P5sQqsTNXC3/MM3n37FVQVRQiQtTBeiUvnPsOJL99FV3MKQv0v4s9v/KcAWJ6uJ/H+O6/ixJfvoKYsBmdPfWKQZHU0JOHk0ffw8QevgXSOlz/H+2+/Cj+PM0KqZdNcoYAsPcii6LKvvQAd7U1iYFjbwRW6VXAl58XSwl08WuwzHhDbIEmwB8iKiY4QX5r8ypYO2qkkJ8YaqwtTwsXXLr9kJTqe+aWcEB+EqeFyMfDp+JPqQn7VcmKWaLnTy5K6kDYfEh3f4cQaHxduFCA6KT5I5C/RSWc6VUzXhCvqwm3ofzZNvpbKYyeQJR+fyrX5eWs38mVPgKwXjIXellQcePt/49ypT7A0+eJQPVQrHnj3t/D3OouH841oqlLh0CdvIMTvGzRVx+OTD17HxXMHMTVUikcLTUL1SGBWXhRpAFk3u7KEZOz13/0CiXHXMT1ahtHBAjhc/gLvvvWKUF3a5D1fAVnPJVnLrZgcrsPwUL8CsrbAJmvizhDmFMN38dW6U2MXbgkgsDQ53muD4ox01RTBJl4rIMsg7dmNoGe7y7zXQdaANh0fvvtbnP7qIyyMG4f34riio2QKSWiHRVur86c+xpeH38JAZybCgy7hs0/+iPryGBG4/a03fy3ijAqQpNMKVeTsaBnu3Cw2qAu7mjU4/dWH+If/50c4/sU7cLj8uTgIsH7x//0TkuOuA/fbrRcgKCBrdSJ8dq8fuuWNe97d7sG1U/OjiFzb1oSulvw9oS6MjYkUhrNyfjM0hiYpbo0ki1Ir1l9Oq4CsVOh0Oki/hR/8ENIh3eNZusdzW12K3u7iBSDOJuCym9JRQJbR+JGPJeV6rQRur4OsmeFSAXY+OvAabnVnG7t60GnR1ZiMNLU7bnZm4rt7bVBHOePAO68iPPgKTn31IS6dO4i5sXJkabxBkJUkQJJWgKTHC42Yv1OBscEiA8hqb0jC8S/fxf/86U+E1MvD5SvwcHU4JtSFHY36zUZWzz8KyNKDLPrpGOqvwEBfx5pFUhnYawf2ejy5eaMXo4PV4K5NqzvjFiyE9lAXKiBr9UPElrZUJFkb4xu/shkHLiUpQrgp2Iy9znrjVHlu+9y203jGTQspiVEioLst43O30D5dakaQ73lh+K6Jd3vuzZ4gSYvZ0XI4XDqC9956BXVl0eLDrKtJg8Ofvonfv/pv+Oj93yMx1kWAL9ppvfPn3whVImOMcpz1tqYiPPAScjMCDerCPm06rl08gj+/8Ws0VKrweLEZDxcaUV8Rh2TVddzuIdDTgzSreKiALP1EqLfJKkSHtlkBWVugLry3PINn9wa3FWCxwysgS/GTZdXEtwWA3m756NowM1KO5IRgEdbFVDK60xZ5pTwvF6jRUWxSfChG+rbYv9NOGSM6LTobk3Hokz8KSRSdkRJQleeHwfXaMfzvX/8vYZhOVwsck3Tj4Op4DH/z1/8dBz96Hd0teqk4dxZyRyGN3VPV7qgqihRSro8/+D0yNL4GkMUdhNkaH7zx+n8I1WNlYTgKMgJw5OCbOHrkLQHMFJC1gc5Bb7S62Q7MTY8qoupNgiwuCgP9XRjqq9zSsAfWLGoKyFJAljX9ZKfTMJZqXkY4VHExwtWBIs16uUBmJwJJ9glulklOSkCGJgQrd2u3/aN2u8YRfV1VF0Xg9IkP8MF7vxU7DWnETrWg67Wj6GtLM4QT+l7XhrRET/zbv/6/cLn2pQBdLCcFKU2VcWK34dHDb+Hksfdx7PO3haRrdLAQ4YGX4ed+CtNDpaCKMi78GuR03KGYl+6H+zN1tvFZkWStivQfzHdhYfaOArK2AGQpNlmri4Jik6XYZNm6GPGjb7AjBzGRfsKXE3eXKkBrdUztRNCznWViX6DjVsZPjAr3Q2djmjAAt7Wf7SZ6gqSR/jwUZgVCFeko/GFVF0UKn1iGeIOMbbjShsRYV3z84WuC1vDsOdAa7stDSU4wslN80FabIFxAMG1KsG51ZeHxXKOw+6ID0/b6ROSk+iI/w18AuUdzDbYBLAp8FJBlrC7sbFfUhVsxWUzdHcXSVLvh62K7BrMiyVIkWdvV1+ydz+P5JjTXJCMqwg/JyYmorasTDjDpNFM59i8P6OmejlLTUlMQGeaL2lI1HszU2774b0DjY+8+v276kj+t+1qAh4lt1O3uHKginIRKkAbvE7eK1tCId6R05O9L9+R8ke5JZ/kza68VkKUHWTTQvtVTir4evSfhrQAa+zqN+Uk8XOjd9oGvgCwFZK07UVs7Oe4AuoezDehuyUBacghUscFQx0UgfgNHgL8PfLw9EB0VsqH3N5LnVr4TFhIgys/zVqa7kbQiwgJx3dVZhMWhp3d3t+uIDA/atnKpVewDoUhJCEJbnQa6KRvVVzugX9tljOq0aK1NEHZXJ4+9h+riSIuxEO2SvyW+KiBrVV2ouHDYGnE8bbI62lvQ07Y3PL7HxUaJwLQU0UsHg8amJKvWuHCg40+Ca4mO54LCQiTGBxs5I1WrwkVIEMnbNenoiTotJWlN7MK0lEThUVpKk+/wazZBFbHGGWlubp5R3nyHKoUMxRnptgP+rZrI6QdoYbwa/e3ZaK5OQn1Fgk1HVYkKF859jtMnD6IkL9Kmd23Nyx70DRWJiAhyxFfHPkZkiDP43x75WJMm844OdcGf33gVP/nx3+Jvf/Q/8Paffgd1tPu2laupKkmEoGGQ5e3evb1Vfdou6ei0WJqoEobpQz05oB2XXfKxBKYs3VdAlh5kcSKbGmnA6PDAS9tdSH8njLnFRZFhGkwlYQzLwAjz4eHhqK+vN1tO6unpq4nxsBhbi4usaTr2/k+Q1dXZhv724j0Ru9DP11PEb2OsMekgmAoL8UNDZaIQRy/frYUmIUjEKmOwW4mO5/DwCMRG+RqBrNAgLxHctq6uzkDLOG4hwQEozI7At8ut4iusJDcKocEBKC8vN9DxHcZcCwnyNgJZqmhfhIaGGeikMkRGRiA5PlCJXWhpEtwt9yWVhY3nhYkqOF39Ej7up8R29DXqEhvT2/b377cLz9zXLh1BXXmM3hHkyyrz/XZhm3Pk0zfwV//tv+AH/+X/wOef/Um/rZ8OKrezXLul3253OaU22O58LeWngKxVm6ze9kJ0tDdjft7YmaS9QYmUPoOw/vu//zvOnDkjAqZK96Uzw7Uw8vtPf/pT+Pv7i5As0jPpzHAvx44dw69+9StkZGS8FJDFsiwvTuHxUv+2f0nYQ13o5HhFBMAlcJUOBtP1dHdCQ8Vq7EJ1rK8IVCvRSGcnJ2dEhnkagSxvTycRfDYuLs6QJuMjuro4mgSIjoKbq5MIRCulx3cY6NbL3dEIZMVEeMHR0cmQnkTv4uKiDxA9ttZbsj2/9BQ/WatScnvyeb206QU7IdoFxTnBa+1TLC0MO+m+TovCzEBcvXgYTdWql16H+9N1yEvzw6kTB/DLf/+fuHz+EBbuVG77XLdeuyvPd8b4I/CWO1qWO2CWrp8+fSri2B48eFCs3wxCbuvvL6x5Yb2CmEtDE+8H2i1stkMxQPTMWCPGRm9gYWFr1GYS8LH2TAkFo8MzaDAj3Zu+x5h1lKAw4jwj1VOyZUrDaPJqtVpEjW9qanppIOvOyE1MjzZt+44Xe4CsoEBf0BeNVqs1HGVlZYiKCELjc0kWt0+nJAYLSaScjtcERXExfkYgKyLUD3l5+SIGoUTP9oqMCFmjLuS9hoYGQ96UeFLaGR7qZwSy1LH+ZvNXqVTQqIOxeKd60+PElnGmgKydMclTbTJ5q1gPBPiVv5MAlDVloa1NjVrsGNN7/H75dSBPGayY0sHzpz9BT0vqSwd/u65drWn7vUCjgKzVifDZSh/uLa1V05kCGXv9J2hitHZKrCzlQaBFGp4t0fB9Keq7JRp73qe6sL2tCd2teyOsTlxspFmbLE2y+bA65K1kP8VzQUHBmgDR6rhwtLd3wNQmKzUlcQ3I4j2qj6U0+Q5VwTSAbanWh3iYG6NDwiChKpbopDMBmRIgenWc77fFiIBA8nC9K+uu02JlshpTQyX6D+qdAhR1WnQ3a3Dh7EERyoWeyXclf/cCkNnJdVBAln7ypQHhze4S9Ha3mbV1sico2YtpD98ewMTtejBc0XZOPPaQZClhdTYGUBRJ1sb4tpXj5cFsPcryw1BbGi0Cdm9l2tuZFudn+jKS+zzazvwt5fWQ/M0LBUO2PF1UQJYlPu3r+wrI0k+EHMD9HYXo7FD8ZG0F6FtZmsbTlYFtBVgcyArIUlw47OsJXf5Fr9NiuC8Xjpe/QFyE4+4FWToteppTUVMSLXaP7bT2fbLQhCeL+lh4wvBd3gbK9bavATutfyg2WbJB8HChG4vz4xbVcFsBPvZDGlQX9vV04GZ3mRJWZ3ERisd3xeP7S5n4dVrUFEfi0vnPUJobuntthu63Iyn2OtycTuDOwA6Mz0dJxXiliJE3cdOM80vZGvNS+oGS/8sFeookSy/Johj63kw7ZqdGFJC1BWF1hE1Wy96wyVLUhRtTe21GXdhaq9m9oGCnLGo6LSryQxHmfxE3u7J2LT85N0eHXoXTlS8wcaPw5S6Y5tpWp8XYQAF8PU5Do7quqA3N8Wg/39vtICslIWBLdhcKdWF7IRhWh0bllMZIUideW/pv+ozuHyRa02cv+s9nctcR+v+ruwfl78qvWUbT/9aWgbsoraddrZe5POVl4PXM1CjuzXTi+5WNLdAb/eIb6MiBJikKXV1d5jajrrn37Nkz5ORkIzMlZK3zugftKCuMhQKyNtaGmwFZdeXqXQsKNtp37fEeQcnNzkzQNsse6W9Hmtz5nRzriiCf85gdLd+R9dBN14nyUWq4U3ZAbkfbKHlYMTfudpBFB5DLk5uPPk4D7ZH+ctwcaEN/Xxc62lsxMzWGpYUpdHW0obtTi+XFadwZvSWeDQ8N4t7yLPp6O9GubcHczDjmZibEs96eTqwszWBk6Ib4z3doo9Tb3YHOjlYszE1idnpcPGNe95ZmcPtWPzq0LZgcHxK03V1a8Xxx/i6mJkfE9c0bvSLPG4O9Is+pyVHwOR1/dne1i/JN3BlCe3srbt8aEGUY6OtCZ3uryI/5Mv+e7nbxbHTkFtq1rRgdviHK0NvTIfKZnzUp3/IMhm8PCi/u42O3RT4sX2dHm8h/+u6YeG9woEekc+tGH7o7GrB0t3XbJ8T2hlRokmKFn7E1iMrMDQVkWTFJbPArdDMgqyBL75BVmcQ32T6SY0bdJtPZYB/YivajJOtGRwa6mzR4xOC9L7EsFvPWadFSHQ/nK1/uXn9kO5Gve6BMdCy9nnuqHe0nK1EdiuG+gi356v3+XgcYWmd4oAp92iKsTHfi0VIf+jtKMNhZisfLA5gZa0ZvexEmhxvw9N4N3O6rQK+2CLrZLtyf60ZfezFu9VbgycoA7g43oq+9SLzD/zd7ytHXUYwH8724N9slng31VeLpyiDGb9WJPOcnWsW7g12lIq2Hi31YvNsu8hy9USPyHLlRI/LkfT7v7yzBYFcZHi/3Y268VdCO364X6Q71V4p0mN+DhV6R/43uMpHH9Ki+LlMjTYL2FsvXXoz78z3G5bs3iMmhBpHn7J0WkQ/LR74w/+XpDpHnyECVSOfOzVr0txdi5e72fj3Ta39Zfgw0yWrMbJAX4QAAIABJREFUzs6agVRrbykgy36L72ZAliYhGHRLoRgSb7B9aPTek4OGilhMD5XsTGBiywIqgUVb3tlm2nt3a4Q/r8H2jN3P723mnUXwutvLodNidrRyd4OsBHU0qktUW7pzRmwXXmzG9yt6ScyzpWbwYEeg6JrX3z13TSDR4h5pW0UYGd4TtMvcdtxsCFKp34asT+d70i41G2JPUZL2zChP/X+mw3IIWinPNbQsnz5PQbtoUr6lZjA/psV0JNrVuuifrZavVdDLy8f6snx8R5+Ovm4Wy8c8n9OSZjuO+bFKEdqmoCAfjx8/XouozNwhyMrNzUGGJgQP50yc2irqwk2127PlVhEiKDMjFffv3zdw39JXnfw+fYAxRhu/Arej7+y5PO5rkZ7gAeerX2K3L/r8eGIsuqHunG13CWNzv9BphZsJlnm7TSVsLus2zcv7uVycvxqrEnc3yCoqKkSCKhDjN/fA15rS6Te8oNJHTX15AlRx4RgYGMD3339vWNRfdPHdd9+hrLwcmsQQ8cUBuVrlOciKidanSSev0tHb24ukxJg1AaKzsrJEoGeJjuec3Nw1zkjjY8PQ0tIiJG4SLb38a5LUa5yRapLiMTY2ZsibUjp6fY+PDV/jjDQzM8tAJ6XLWJbpyWFYHN9ej++6mXqka4KRm5sNisOlnxxMSfd4lt8vKMhDfIw/7gwWb7hP7OfJnY4xAzzPwOHSEcyOlO1qHj6ab4Iq0gmqCEc82ilBfy3N1TotbnVmobIwXG+kL59PLL2j3N/V/fNF88zYYBHiY/yM5jb5nCdd72h1IRefxIQ4ZKeFYf7O9sZmexFzlWfbI70inykF7G/PRkykH0pLS/Hw4UOp71p1ZrzH+LhwtNRqjL+UH7SjujQeXp4uUKlikZaaYjjiYmMQHOgJaRccDV9Tk4Lh7e2J1FSNgY7v+Hh7QRXji5lRvfqrqzkdIYHuiIwIQ1raaprJyYnw83FHWX60kBjyS7iyKBb+fh5ISkpcTTMtBVGRkQjyd0d7fYpQqS2MVyMhzg9eXp6rdM/L6+vjjRR1IJYnarZtMqMdDdskNjoQTU2NRu0gB1PyB/L7o6OjSFDHIVMTiunh8h3nhHKnj+/lyWr4e55BROAl0I/TTi/vi8qnm2nAdacT8HQ5uStAVlutWrjNyEz2wnfPNQgvqp/ybPvWiu3iNeduzlsZmlCBT+Rzm3zOk653NMiiuoc7yWJjwpCbHo6JmyX6hXKnhF5QvlLsN8HrtHgw24DOpjSoYvyRnZ2J6ekZqd9afV5ZWUF+Xi4Y+4/2fRT1i8HIrdmDRSjJi0ZuRjjyMiIMB/taZVEc7t4qFSCHkrTulgzkpIcZaCR6fgC0NaSKstLGaGakAjWl8cg1Q1ucG42h3gIDqBjtL0RJXgxyZXkzXeZfXazC1FCZyJ9f+B2NachJW5s/y9TZlI7H89uz2BJgTQ2VIyUxCKmpyWvs4yxNOPL73377Lfr7+6GOj0ZaUjBu9eThyUKzYqNl5XzC3YTt9YkY0KYb+tJ2LTBbnc/KVB2uO56An8dp7IbQNfSZ5e58Ag6XPhcxIxW7wr0Hoiz2cZ1WzFM3u/LEvJWgjhGaFfncZm5h2tEgiwWm/Q2BVqI6FgmqANSWxQs1A6ULTxabxcDk4FSOPcCDxWYBFhbuVKFfm438rAjERPoLkMR4jdaqCU07OlV1qSlJAmhp61PA9PWenJvxcL4RD+Ya1hy8L+9fjA/3YM4cbSMeLTSt9r/FZlAFYinNx7I+y/Qt5U9gtaH87TQWWBYGyu5tyxIAKyE+GoODa1W3liYc0/v8gBocHESKJhHxsYEozY/Bza5cLE1Uiz6gjOcXjecWPF1uwdMlHi+i2/nP7k3VIj8jQISvebwoG0c7tF4cB6V5ofD3PIuOxuTn7bDz+bzb+8lLK//zNWlxolpEHOFHuSomQKwnN27cAOcx07nNdP3Z8SCLBWZFqGKg0TON4ZMTQpGeHIKctFDkZoQpx17hQXoYslJDkZoUgoT4MGg0CWhsbBQ+zUw7ri3/KTlh/6H9UHxcGFITg5GdqvQdW8YOx1pacgji40KQkZ4KTjBPnjxZ0wyWJhxz92kzR/BcWVmJ5KR4JKnDkZYcqrTNC8ZzTloI1NHuSIjxQG767u/DOemh0CT4ISXRf9fM4wmx3gjwvoK4SI9dU2ZbxrpCK8MUhjUpFInqMCQnqVBVWSnmLc5f/Jmb2+QT464AWVKBHzx4gOHhYdTX16MgP18smrm5WVCOPcKDnCzk5eYI2ysaf9O4mwBpq37Ly8vo7u5GSUmx0ndsHjfZ4EaUtrY2zM/PW5QqWppwLN1n2xKs3b17V6RdUlKCvLwcZUxbaB91fBw+O/gJTp86iZyczF3Pp6zMdMSrYpGYGL+L6pKN3JwsJCWqkZgQvyfaQVlDLayhz9ckzkuc+zhPmX5cvmhu4/y2q0CWtNhSbcTFlxIuVkA59g4P2KbSF4LU3lt9ZvpK37Gtz5Bf1gBeSxOOpfumbau0zYvbpaOjAxcvXkRSUtKemPemp6eRmpqK8vLyXVUfmrFwI45GoxELr7IGvbjf7mb+rLcmrTe3se7Jyck4ePAgjh07hpycHNNpb93/f7EuhRUiNWvSUGgUDigc2NkcsDThWLq/s2uz80pHMOLs7CzU6DuvdLaXiDvIHRwcEBsba/vLL/ENfgwUFxfj7NmzoJTD3h+GL7GqStbrcGC9uU0BWeswUHmscEDhgPUcsDThWLpvfcoKJTlAP3FVVVVClb4XODI0NISrV69CpVLtuurQnIGA9/r160KFvusqoBR4Sziw3tz2UkCWvFDK9Q+NDOcUfij82Ct9QD6Dyeskv69c28YBqmw5aW90p61tudmfemJiQkixqHrbbT+2AQFvWlraGlcmu60uSnk3zoH15jYFZP1AWdTlnUS5VvrDVvUB+bQlT1N+X7m2ngNLS0sYGRkBN3DslR+dC3PnL6VCu/HHzVj0xUe7HeW3Pzmw3tymgCwFZCmSNKUP2KUPyKfc9SYiOa1ybcwBaTNAXV0doqPpn2zQmGAX/qMUSKfTYWFhQYDGe/fuCZ+Iu1FCR+kibctu3rwJ+uRjnZTf/uHAenPbtoGs/cNypaYKBxQOmHJgvYnIlF75v8oBLtyMm3nkyBEcPnwYDQ0Na7aRr1LvjisuPFQR0ujd0dERLi4uwpCckqHd9qOEMSwsTOweu3TpEqqrq3dbFZTyboID681tCsjaBHOVVxUOKBywjgPrTUTWpbI/qei2gdu/f/SjH+HnP/+5MLamwfhu/lG9RmN31ufHP/4x/umf/gkBAQHYbSCL5c3Ozsarr76Kv/7rv8bPfvYzUS9lt+Fu7p22lX29uU0BWbbxU6FWOKBwYAMckE9EyrVi96f0AaUP7MU+YG5qVECWOa4o9xQOKBzYUg7sxQlVqZMCFJQ+oPQBeR8wN2kqIMscV5R7CgcUDmwpB+QTkXKtLExKH1D6wF7sA+YmTQVkmeOKck/hgMIBhQNWcoA74yYmxnHnzphdjlu3buLq1SvCLququkrkNTV1F8vLSy/ddQBdMExPT2243mlpqXBxcUZZWalVaZDPk5MTmJubFbsRrWwiu5AxtM7M7Iyh3D093fDy8oS3txd6e3sM97eqX7DuPGZnZ/Do0aM94yvNLo2zgxJVQNYOagylKAoHFA7sLg4QYDW3NCErOwM5uZnrHrl5WVh7ZCM3z/TIEmll52aKtD293OHucR1pGSlIS09BanoK8gpy0KptBQGXadDa7eAiF4/evh5RH2vqLtHI65+QGI/o6AikpWtkPGDdV+ufnZMBHpnZ6cjITEVKWjIystJR11CHsbFREOht9+/b777FjZuDosxZ2emGdlcnxCEqOhypacmGe1Jd1tbftM2l/7K652aKujMP9jHyKSMzDVU1lbh1+xbu37+vgK3tbnwb81NAlo0MU8gVDigcUDggcWB0bBRZORnIzctEQ2ONmaMWjU21aGquQ3NLPVpaG9Da1ojWtia0aZuh1bagvb1NHB0dWnR06g/eI01TSz0ammpRXVuByuoylFeWIDU9Gf5BvnD1dIFfkC9S0zVo72gXTjGlcm3HmQt8RWUZ0jI0ZupNXpjWfbX+bdomaLXNaG9vNal7Ozo62tDW1ozmlgZR97r6atTUVqCiqhTZuRkICQ+Ci4czvPw8oU5UoaGhHvPzc9sKNp48fSKATkxcFMrKi8zUX1930fYt9att39qAtrbG520vq7to+3bR/tr2VrS0NaGxuQ71jTWoratCVXU5SsuLoE6Mg5evBzx83BEdF4XqmipMTU8psRO3o8NvMA8FZG2QccprCgcUDigcoCovJy8L7R2tWFycM38szWN5eQErK4u4d28J9++v4MGDe3j48D4ePXqAx48f4enTx3j27Am+/fYZvvvuW+jD5zzBg4f3sXJvCQuLc5iZu4vJqTtoa29GQpJKgA1vP084ujogKCQQNbXVAmxsl/sAOhOtqq4QIMCquuuWoLu//Lzuuud1f4gnT1brznqz/k+fPsHDRw9wT7eMxaV5zM5Nibr3D/YgNUODoLAAATSdXB3h7eeFgsJ83Bm/I0IObUevpOSwqroS6ZkpGBq+aaHd57DEtl9ZxMq9RdzTmba9vu6s67NnT0Wb69v+meDJ/Qc68e78wgymZyYxPjkqgHZUbARCwgPh7nUdHt7uSM9MA/sh1ZfKb+dxQAFZO69NlBIpHFA4sEs4sAqy2rC4OG/xWFpaAI/lZQKtZeh0K7h//x4ePJCDDYItabH9Tkgn6E+Ki+f9+1xwFzC/OIP+gR5kZqcJCRKlWN4BPrjqdBXevp4oKMzDxOTEtkh1jEHWxupOoPn4McEG6y6BTH3dCbgIwB48uC8AKus+emcIeQXZSE5JQGZOOgJDA3HN2QGu7i7QpCQJsLEdIW6MQdYti+2+uLja7isrSy9oewJNedt/K+ztHj16KPrK4vI8ZuenhXQrJS0JWbkZUCXGwc3LDY4uDqBEjapbBWjtvIlDAVk7r02UEikcUDiwSzhgLciSAJgEtKQFVwJaxmBDWnAp1dIDDk7UlOzodMu4PXRTqM1y87NQWVOO5NQk+AT44orDZVx3dxa2Owy8bG+JlrUgy5q6G0v0CDb0Ej1KdgiaHj1+CN39FUxNT6KwOE9IkKprK5GRlYag0CA4OF+Dg/NV0Mbr5s0bArDZswtZD7L04FMOstn25kH24+dA8ym++07f9nqJ5mM8eKgTEs229hakZaagpLxIHHFqAi13XHW8gsjoCPT09gijeHvWXUnbNg4oIMs2finUCgcUDigcMHDAVpBFwGEKtKQFd1V9aEmyo1cjjY2PCmNzSnRq66uQW5AFdXK8UJtddrgEVzdn5BfkYW5uzlBOe1zYCrLkdV9foqcHmgRZ33//nQBdVKkuLM6juLRQgKy6hmoBuDSpSQgI9sdVpysCaCUmJ2B0dMSu0jxbQZYloMm2pzRT3varqmOqTgmyCTSfCqDZ1d2BjKxUYZ9VWVMmJFrRqmhc97yOq46XERUTiYHBfkFvjzZX0rSdAwrIsp1nyhsKBxQOKBwQHNgIyJLAhinYkku19JKdh89ttYwlO3fvTiC/IAf5hTmob6xGcVk+snPTEaeOhYePh5Bo+fh5ob6hzq5hajYCsuR1Z/0liZ45sKG31TKu+z3dCsrKiwXQoFE4jcEp0UtIjodvgA+uOF2Bi7seZC4szNutl24UZMnrT6BpKtUylmhKtlqrdnp9fb1CVVxWUYyaugoUluQhPSsVETERcHF3ERI97r6cvDtht7orCdvGgX0Fsr4NfQ0GB2gny/GtbbxSqBUOKBxQOGDEgY2CLLlkQwJbprZaxgvuqmTn7t1J5BfmoqAoFy1tjahtqERldSlyC7IRq46Bu5cbrjlfRawqGkNDt+0m0dkoyJLqLgEOCWxI9ZckO6u2WpL69FvodPdQVlEigEZLWwMozaqqKUNhca4AWjSCZ939AnzQ2toC7gK0x28zIEuqv9TucqBJoC2XatFWTb4hoq+/F3TnwJ2mTS11qKmvRFllsbBPC48KhYubMzx93FFTV2MX1xbKGmp7b9o/IGsoAis/kLzsnoF9hp7tDaC8oXBA4cDu5YAEsjo628ROMu4m29ihN4rXSzaWV3cgPrqPR48f4MkTSrX0C+6d8THhM4rSG6oMs3PSkZ6pQVJKPKJiw+Hj7wWn647w8HJDZVWF3aRZBpBVX7XBOku8Yt2l3ZcvrvvS0iKKSgoQFx+NvIIsYZuWkZUCTWoCYlVRCAjyhYu7E5xcHYQ/KTrutMdPgKyaSqRnpWB45NYm6i+vO221lnH/wT1hg/XoETcFPMCTp6u7T7t7upCYrBabHnLzMwXYTM1IQkJSHMIjQ+Dp7Q6n6w6IT4zH2J2xra26soZuiJ/7BGQN49ErMoC1uwPYb6ihzb30bakceP4QulJzVMo9hQP7gwOPHz3BxPAk+rUD6LPyKM0tR3RIDPLTC6Ctb9/00V7fgc7GTnQ2daGruRvdLT3oaelFb2svbnQOYm5qFnenJlFZVS4cc9KxZ15eFvILsoX6kP66UlKThHsHNw8XJCUngEbw6/2ePfsW0+MzGOgYtLru2voOaOI0SFOnbbre5B3r3tHQic7GLnQ1daO7Wap7H/q1/Zi6Myl28TU21SM9I0U4+2T9DXXPzxbOWiOiw+Dh7YaIyDAMDPSvV3Vh9zQ/s4Ab3besrntXcw+SYzWICIxAVVH1puuvr7vU9t3Gbd/Wh6H+ISwtLOLW7ZsoKMwV0iw6N83Lz9arjgtyhNNSAm//YF8EBPuhvUO7bt2tJ9iHa+jQMJ6EnsHKKzINGAU1r7wGXaj1mrB9AbJWRZyv4dELAZa8I+1l0DGMRydNOs4P9nJ9rZ9KFMr9y4E7tyaQ6JsK9y994HXcf/3jhD+cD7vj0gcOcDrkvj69PM0T/vA6EbDm8D4RAOnw+SoQ0uF9wh8+XweiOrcWS4sLmJqaxNjYCMbH74A2WrOz05ifn8XMzDRGR4fR0tqE+IQ4REaHo98KoLE4t4TsmAK4ibr7WVUXj2O+uPqxMxw+dbWK3oin69TdW1Z3n68CRJvkq4swNz2Lmdmp53UfE3WfmZnC3PysCDdDKV9Xd7uQ9AQE+aG5pXndDv3wwUOUZlbC7bgPPI76WlUXz+N+uPKREy4euAa3L7ytesdQfzNtL7W5OBvVPRDMK/xaDLoau8WmiYmJO8LT/fjEHUxP38Xc3Ixo+6npu7g1dBOV1eWIjosUNnncnbgVv323hpaeWTUtMmjAJEHN8/Mr1mnE9gXIsr6T7X2Q9W3pGZna1LjTKJIs63uKQrn3ONDT3A+vo/648oYDPD7whPsBD5sPt/c9YM1hS9osi8u7rjj5yjkkBaRiZWnpuW8p/ZZ/vX+lVXcPdHmgu69DTV0VgkID0dTctK5d1uTIFEIvRuH87y7Zve7kjy31dzvgjpO/PovQK1GYHJt8rj7V+9UyrTtdP9DdA9W3BFnlFWXrurJYWVpBtEc8jv7yJFzeuQ73A7a3vdsB69rd1rp7fuCJK2864MJbDijPqBL2WnRey00Bq37FVnchPn32FDOz08gryEVFZTkePtrukEN7Yw1dBZXGa6TBplsCXifL150IFZBlxKK90UGMqmT0R16/1/BIURcacUf5s785QJAVfCYM/of8EHI0EN4HPW0+vD71wFYfAUd8EX4sBFf+5IBE/1Qszi+YcWIqOfLUL7iUYDA8i1+ALyqrKtcFGgRZUQ4qeHzogYjjITbX2/tTTxvrTfr13/H9zAuRJ0Lh+GdnhF6JxvjwuMHlwaphPHfh6Xfg0d0D3R4wriBBFl1ZrCfNkUDWhT9eRtixEJDftra9bW1uXd2ZZujRIAQc8ofTh24oTa8UDmyNDePlYEtfd4Y7Kq8oRUlZEe7p7m3zoJavMbtYO0JJFtWCpcOyDXLGddMDrvWlWXscZEk6VTkafQ0rJyPwxERt+OSknGbttZGUZ6hcqNtWDHZeenrqbtkopj9KjyQErE9nGE9OviaTKLFML9LxWl8P07yN/+s7CesvhMhGhoy7eEAYV1L5p3BgQxyQQJb3J15w/cAZp18/vfHjtVM4bTjMpCOembkvz/M5zZW3LyPgkC+u/MkRCX4pmJ+bE84spV14lhx50ibHL9B6kBXtoILbATd4feqOM6+f2aK6n1qbjtV1P4Xzb5yH/2EfOP7JGaGXozE2NGZw5GkKNuRSrZu3biAw2N9mkOV/2BeX3768tszydnnR9WunZe3+grqTzlI6Uhqvn4brhy7w+cRbgKyS1HLhMX6tqw9jqd6DBw9QUVWGkrLiLQBZ1q89+2INNVkzF36wr0FWOXQmIEgCOvozAdHqXLxeB1kJfQ6eZIDJOL1VYEbAJP/JRY80mLNYrleegx/5y3gBvRBZGtfD6NX1/ph0GDk/1ntVea5wYK9xQA6yXD5wwqnXTonjzB/PwPFjBwSeD0SMSwxiXGMQcikELodccPaNs8/p9IvmpXcvwedrX0Q5RSH2eiyiHKMQcCYAjp864uyb53D5/cvwOO4Jn1M+8DnpA4ePHXD6D6cNeZ167TSuHLgCzxN6Gu+vvOFx2B0Bh/0EyFL7ajA3M7smPIs5dw/tHW3wD/RFlZWSrOhrKri97wbPT9xwWrbQszx+p/0Q5ayvU/jVcLh/6Y5v/vyNAVCw3PzvcdQDEQ4RiLseh2jnaAR9EwSXw644/9Y3uPD2BVz/wk1f96994HzQWcY/8vo0Lr5zEe5fusGX/PnaB9cPXUfg5/4CZIVcjsLo7VGDby1TsKEPzfNYOC69eWtwQyDL75AvLr11ydAe5988h+tHriP0cihiXWNFnQLOBuDah9dk7XZaXF/76BoCzweJ/sG2J5+8T/rgygdXceaNs7j2sQO8T3qLunke8xR9QepjPJ/5wxk4fuIo6s36exzzgM/n3vD+xBuOH7ihOKXMbFgm47Z/IkIwbQ3Ism3t2RdrqMmauY9Bljmx3ioIWgVHqyh0vQ4iARA5YFpNxzRtYwN76955Lg2TwJxYwWyvh00Ln0mHkepoUxoKscKBPcIBAbJOh4GSLAlkXT5wWSyadfm1uNl1E5PDE5gcmcRQ3xCaS5uh9laDi+vp18/A7Qt35MbmorelD+O3x3F39C7Gb41jsH0QjcWNiHGNFSCtqbQZfa196GnuQXpougBV+sX2NM6+cQ4qj3h01neir60PXQ2dSA9IQ9AXAQJkxfskY3Z6Riy26/lX0ra3wD/AepAVdS1OSLI8P3UXUpZv3voGIReDUZ5WLnb3jQ+NY3J0EqODI2ivaUdGeAauH3HF6ddPweFjR6QEatBR14Gxm2OYGr2LidsTuNV1C22VbUgOSEb4tXBUZFSIerH+hQmFcD3iKgOpZxB6KRRNpU3ob+tDb3MvciKzEXkqXA+yLkVi5NaIwWO+5FdLAltyB643bvSLHXZWqwvdVbjwh8uQQBalTATRqUEpaK1oxXD/sGj3iaFx3GgfRHV2NUKvhII8OvfGOQScC0BlZoW+j4xMirYfHRwVdajIqETIpVAk+SeLNmfd2mu0ol8RwEttT+CWFZWFvpZeUf+G4gYkuSXC+2M9yCpKKRObHkz9ipn61iJfyiupLtyMJMv2tWdfrKGmQhYTgYq5qXBvqgtNGLEi225p6rbAIKES3DHuWGZBh0j7+RZOmcrRNF35u2tAFnclPH/X9L0FuTRrw/Uw19Rm7ikgywxTlFv7lQOmIItSJ02gBqM3RvHs6bM1bPnu2+9wq+cWQi+FwOEjBxQlFmFpfmkNHW98/933aCxqREZ4JiaHJwXN999/j76WPvie8hNSHEpyKO2oL2wQ9CS6t3QPxaoiIc2hupAga2Zq2gA05AuuBDYkNVprWzP8A3yslmTJQdY3b10Qkiu6Tnj88PGaOrHsM+MzSPBJwMV3LyIlMAVTd6YsGtgTVKWFpqO/ddWlwsTQBKJdYgwgg9KuAnUhHj14JPJ7+vgparJqEHEqzACyhm8OCzcO5hx5SupT2moNDPbZZpP1HGT5H/LF5bcuCfBYklKCuak5s/ZsLBuBs+thF3if8BZA7NFDfblNmfVA9wAF8QUoTCjCw/t6Q3TakBGoXf3gqqH+AecDcaPzhuF1gtUM3zSDJKtIU4rFBcthmaT60+cYveJvCmRteO3Zy2uocd0WfmAsTDE0nMnFngRZRojaDNI0Aj1yUANjJsqBkgnfzPw1flcO3ozyM6PDNSqv7LnRfZvqYaZ45m4pIMscV5R7+5QDcpDl9omrkDqNDI6aXWQlFhFYxLmrEHEtQoAx6f6a8/dAS3krolyi0dXQZQAjBCpqrwQhCaNEg+omSsykHwFegpsaXPwJsmI81BgdGcHk5Lhw48Dt+wRaPEwlOy2tjcLzudWG7zJJVsDZQPQ09+Lpk7XgUirb/ZX7yIrMgu/Xvuhu7H4hnwgeol1jUJ1Tg2+f6d0KEHzkxOQaVIauh13RUtFq4M3izAIyQtIRcMRPGL4HfBOG/u5+UXfJbYUcbMljQPYP9AhVqa2SLPLZ9VMXZEdnY2FmQaqq2XNPY49Qo1Kit2wBXPNFgi+Cx3gvNSZGVn2W9bcOiPfZ7qf/cEZIuuam9KGACMq1VW2IPB8uQJbDgevIUeeLurPt6bphYWHOrERzcXEOpWVFKCnduOH7xtce43VwL62hxuv4D7FgZk0211H2IMgybmRh5F5ajifyQx5eZ0MgSzIGXOtrSlIhWgRZRvk9bxKjrwYJHW+mHuaa2sw9BWSZYYpya79yQA6yQk4HoaGwHk+fPDWwY2luSUieWspahEpwfnpeLJrxnvHIDM+EblknaJ89eYqxwVG0lDZDW60VqsWVhRUh+fD6ygtlqaV48kgfc4JSoqLEYlByRNVRcoAGTJc/LrRUVfl/5SdA1uU3HRDGNHcOAAAgAElEQVR0LRzatjZ0dXWgr68H4+NjQqolBxsS2GpuaYCfv4/1uwsJst53Q8BRP6HKe3DvgaHuBFQEfwSKXfVdmBqbwtLcIjLDM6ByV4n/oszffy9UZVQRsuwEV4uzi4JvAecDkBaahpXFFUP9KA2ivRqBBm2YqGKTfswv7GIo/A/5wPHPLvD42g/1VXWi7j09XcIfmLnQPJTo9fV3bxBk+SDGIUqUm9I6/rg7cfrONDpqO0SdbnXfgm5JJ8By2NUw1ObVGnYwkk83OgaFKpkqX6oXWf98VT58TvkKdaqU7szELNTeCcKe69J7l1GWVo4nj/X9ghIvqlO9D3kKkHXlPWckhmhE3dn2N24MCKDFdjdte/pLKykt3ATI2szaY/yuZZC1u9bQNQDL3DoudVyT8x4EWeXQST4srDkbMcuKDmICTCRQZXrePMjaTD1MWtnSX5O6WB4QlhJQ7isc2DscWAVZ3sjwTcXYjdUFn8CgMrNSGKs7HXQWZ9pTFWuKEXwxGIXqAgNworqrsagBQReC4HXCU9gZUeKjco8Txs6JfomYuzsnGMcFV1ulxfXP3cSz8nTjhbZAXQDnD530IOsNB/hcCERNdTUaGurQ2tqMkZEhschKYEO+4DY119suyXrfDQmO8aCUBnqMgSePHgtwwfrQWN3jmCcSvBPAskY6RAh7KwIJ/ug+gVKtSMcIUXduFkgLTkOyXzIcDzoh5HIIhvpXd2Df7rmN4IshQppFwCYBMKpi6wvq4XLQxQCyXI95obSgRNS9qakBt27dENIc07oTZPb0dsE/0Mf63YXP1YU0si9SFQo1rdSzaYNHaZXbl+5wPuSCoG+CUZRQhOyobNH2lL5JvGK7FiYUwO+0rzByj3GJRk5UtjCcv3zgCko0JXj8XK1IgF2cVCw2BHgd9zSScBLEqtzjxe5CGr5ffscRMb4qUXe2PYEWJVryOIhS29MxbfGmQNZm1p69t4bKvQOIdd4IM0i9xPJ5D4Is40Y2BT9r/huJ/IzfXQs6jJ9L7vX/f/beOyquJMvzn393t2fOmTNmd2b7N/ub3Z7Z6TE97auru7pcV1eXl6pUKqlU8t4g5JCEhAwyCAQSQnjvSTzCCAQI4UESAnmPvPe+nMp893wvitTLJDNJIPHxznm85OV78SJuREZ83r03brRpyWIsZg12H7KsntURMFqUw36FW3yjIctCHPqfoS0BBVlbpm1BZVoFHtx9IAKhQuN48wkELwl+5j/TNuuQ2ifOBls9YTW2JxWZ/W1oDqPf1d6KPShJK0HixkQEuPtjxRgvcSjfuiQYJ1pOmIVN35vYdbHi20O4UZoOOs4nbUzC6k9Xt5kLR65D5Po4HD50CCdOHMPp0ydloOXgqgZbBRw0H+7eU4+gkE5qssZvRHFkkTitqwyyLIm+CVj8UVu5qXWigz5nRq4at1Kc/43QyM8ttS0CFKYtJpktR/82aup8pvuIYzshihvhLDs8G+unrkf99jqJd8Xz9EXLj8mH12gvbH2myQpcHIKmhr1Sdpb/0qULFuU2lv3wkQMCmJ01F0YvjMTeHXuh8kdfvLrt9VJWltvjQ84EXYzV41ZL3fvO9sXu8t1mHzpqoDgpor64XiCM2rkN032wbPQyMQnSh+3W1bb1FFnP+2v2Y+OcjTIT9dr5a0rkOLLnMDbP5wQMH9FkeY/dgMyYXJw4fkzKf/ZsKxjp3ljvqvw8z/Udu24u7M7YY3nvgB9DLaxMXFLHVgQAc7XZ/DDoIcsIOzYlYHGygwZiASXKrKcSsLzX+FxLVePzGY3qTgv7t9kny3566r5uHy3Ko+NkdVueAziBL7/8EqdOnUJZWRny8/NRXV2Nq1evOvSz6aviUlvC/HKRXlduCrKCZ27F7sIG8aVh+jQX0STEWYQy0D4L7aA+c3Zd6qYU3Lx8wyI7ks/PvxTzWX1JvYSAIJx4T1iDWoNvkgBFbL74Zl2/cN2cxuHGw9g0f7M4YiufrOTAdFy7clWWUqE/Fv1yrAdaNdg27q5DUHBgp8yF/hP8UZVagbvPTJbMDDVTm+Ztsll2j+GLELY8FDShGTcCBE1fAlw1LYjbECcam+WfLJMZmDSrcaM5lhrC+PXxMgtTpUGzIf3cOHNPQVb4yhi0nmg1l51mMXtl59I6W0M6p8la/tFKJHol4HDdYZUNiN9ZTL4Aoqpv49FrjJeY9b54bBlZnW2G93JWIkGbIMUZi1s9gmTmoHrA5dZLEu5ie9J2qDQIdpW5u2RCgYIshnAoSS/D7Vs3zcvo2Co7z9Ffa0dZMcrok/WoK8FIuzP2WN7bDrIsxpx+Poa6ALCkjT99ioyMDEybNg3u7u4oLCxU1e/08c+cvrKXLrSEGuuorQDUwo/t1uuzbCB0bGtz0XwW9dWigRBKlNq7LbioUUtmH7JIw8bZhc8Dlcr9Bo1U18vhpKDblcfJ+/Rlg0oCly9fRlJSEubPn49Zs2ZhxowZmDRpElasWIHdu3eDb2L9ZZO3//37paO6ePGiS7OlICtkdjCaSvaa/WNYfprGVnz2PH6ScaDl542z/cS8pQZK64zRhLinfA/83QKwdIQnciNy8eBOm6aMmi+GdagrrseXT57NrPv6KSqyK+SZnO3G0ALK8f3i+QsykNqDDDX4NjR2DbJqM6stZkk2Vzc/C7VgjOf1XKvFGXI0a6ryWJed0HC8+TjCl4eJNofxsxjiQm2cYcmZdkobRjilPxfDO3iOeA5ZoV5ROHHkhDj8Oyo7NXsHD+1HUEhgp8yFhKxU72Qc33NMZU3KxJmTHh8+L6+x7hnjLGJFhGgmbc1AZUKccUqfrNXjvEUDVlNQbXb+f/LgMWqL6tBc3WJ+oaHDfUZwhkCZgiw6vhelluDa1Ss2NViqznm8fuNqNyEL6PrYM0jGUKuxsSsaLNWIBqEmi0Vz3qZsTdqWWqXn8a/aoMn5dB1ClgPTn2V+nH+e5X2qetsf7ZXPCIjWsNc+FX1msEjg7t27CA8Px0cffYTly5cjLy8PO3bskHMjRozA7NmzcfTo0X5TXGoIoqKiMHfuXBw4cMCl+VKQFTxrK/YUNZpDF3zL6faFNWIWNA6wxs9LRywVcyJh4cq5q233PnOcVpm8dfWW+DJRo8HglmePPo8Bc/3yDYsQCHR+NwWli3nKCFnha6Kxv7lFTIXUWBgHV+vPXYWsalOlxcy6g/UHJMgozWTGMqvPLI//HH/R6Jw7cR50mKfTvnF78ugJticWYdmo5XLtgdr9wDP5ECrog2R2+n78hYQ8YHBTI2Rt9ghGQ02DmMuM/kjW5e4SZAUwTtZKJK9MxNGGI+asU8uYF5VrCDzaHrYYZDV+QzxaavYLKH5jPSPzewiE0dzMWYQ0j3ISBTcCNmeosm2ojZMFQjxDRdYKsmguNEVm4fDhgzh37owsCG1dbvW/KyBrqI+hTo+THMsNihFVh8bjIIUsaqtiDMvWPIclS5iwVlcCsFYRPgMiBU2WhG8v3R9BXU9hW9zzznBYL8djzpOtyupqOYy1bP5s9ZbhAPY6ajjmJPWHASsBaoVoFvzkk0/g6emJS5cumf2BuDRHamoq5syZg4qKCjx8+BBNTU0CXAQdbjdu3BBN17lz58R8x+937tyJoqIipKen4+DBg3IPzxUUFCAzMxNnz56VtBoaGhAXF4fIyEiUlJSIaZL5uXPnDvbu3YuamhrRVvF7qtppymRsoePHj4va/bXXXkNISAguXHjunN7dilCQFTQtEDUZlXh8v83Uwnwx7AJ9ZBRY8Mho74xQvuyTZVg5dqXEuPKdtVFiPzEuErUxt67cMsuU2iyChtk3qXw3vnsmSw623NV2cv9zHzAFWZxdGPTM8d3a8VkNsMZjVyCLy+rsiCmB0T+IwUej18Q8i+XVBhmMTs6yMxgnIcN70hpxCo9aHSW+SI07doNxsJR2h2WrLWyLC+U1erk4fKsZlvR/Um2K5acvWuLGJAFMI2T5zWtzfG9p2YeLF8/bBcwuQ9aIlYj1iMK+nfvMWiWCX2VuZbvo7IRFlt9zpKcEk+UMSZp26YO2M6tCgpA+vNM2i9JcJt9EeAxbJM7yjK+mNqn7Z+3gm6ffikaTwV3ZxhRkrRqz3uz4Tn80moqNdW387BrIGtpjqIYs1To7PKppolYwxDUGI9uvX6iS42wCCxB6Zwm+fP7SCQYQtVgaR9LbBeMsBPuQRcc5K/OinTUPVX7A6yOt8kRA6qAcz+9//snZxmPM//O79afBJAG+YYWGhuK9994TCCJMGDdC1L59+wS+zpw5Ay8vL9FwffVVW3DKxsZGLFq0CDk5Obh9+za8vb3xzjvviKnRzc1NQGvVqlVybvz48WKOLC0tRXZ2tpglaZ5csmQJpk+fLsB05coVHDlyBAsXLhTwU+ZLatmYNgGNz+T/P//5z0XzxutdtSnIYsT3wrB8ie6u0r5z4674EtHRfdmoZVg7Za1E7OaMOC6PE7M2FuVZO8WvSmYKjl+FzfMDsXdnk9mZ++uvnopZjXDGwbkooRCfP2rzTVLP4fHbp9+gtqjW7AOmIIvmwsh1sTh08CDsOT4bB9suQda4jcjYmI4Tzc+DhlIzRQ3dxtkbRRPFZXa4rBBjSYV7RYDLzOwwlSI7PKfNh2z8avjO9JNI8cr3iiBFvzQGbeWajqmbUy20N8byH6Iv2jwC7WILTRYd3/fW7xEtHuNkGctq/NwdyGJk/Yr0CjCGFzf+Js4dPy+x0FaNXSVQ6TfbD5mhWcjYmg7/uf6icSzLKEf02hism7YOqyd6I3Z9HE4fPK2Udbh55SZSAlIEsujk31jaaAHVqvwM9cGAtVyCyQhZ4vgenYPjx45K6ApH5lKXQZZkqmtjz0AfQ50dJ52x+gxeTZZqtf3gaKnJ6vzshH5QBJ2FQSiBL774QuBl5MiRonFyVMRjx44JPK1duxa8jxs1VKNGjUJMTAyuX78uWq/f//73Ys6jpooaKQLUK6+8IlorAhK1XFOnThU4o6aL4ETQGzt2rJgqqQ2jmZIgRbMlr+Ezea64uFhgjuBG7Rs1YF1z7LVdUiNkxSyPxr6qZrOG5bvvvheTFkMz0FeKS55car0oYR6SA5JREFeIB3ceyjVcMoXLx1ADwgFazVQjUOXHbDObnsQ36exz3ySVKwa2zIvMFadvDrSELOX4nrTZhKuXr4gmw57TuwKOrkJW+IJQ8UEzR3r/HmI+ZKgJlr1ue61Eur959SbyovKQFmjC9Ys3cOf6HRzecxjV+dWoyN4lJjKVxjdPn4pMCCosU9CiLbJ8jAp9oMpO7dau7ApwDUhryApbEY3Tx093WPbuQBblnLoxFedPnldZEjPm2WPnBDS5xBBjn9G8d7BuvywVVF/SIE7uvIdLAlFGjNrP2Fpqu9R6ScJasOyen3gKoKq4auoaHi+cOI/o1VFmrWGbJmuLrF1YbCrFrZs3HJoKWfeuhSxj7vru80AeQzVk9UK7GcgNpBfEox/RRxKgSZDAMnr0aIEZR9lwBrKoveIMGuWQTs0UnejpTH/t2jXRCqSlpeH1118XnyqaFGkK9PPzA81/69atQ21treSHnzmDkBvhihBmMplEKxQUFCSg1lM+WdRkbZy6Eelb03HjEmf7Pdfwff/dd2LiU1o/+tMwGGlhXKF5dhivJ1hxNyoHGZgy3ifObHJk3CWuAajSUvJnCACu4cdFmq0hSy2ro0DK0bGrkMW1C7nO4NmjZ8xmM+aN+aR5kzLg9uThYwlGSsi6dbUt7hfP03H9Wyn7c7k9uH0fuZE55uju1IZxViGXpzFut6/eRnpQuiyWLEBicHyPWBULtayOo3J3GbI+aptg4D/TX8JPPH7YFlxW5U/VqWoOR3YfksWwG3c0mkGaFU4ZKbBW8qBf26Z5AW11/6GHhOwgeBk3ypeBbhnygWXnrsyFnF2oltVxVHZ+pyHLKNW+/6whqxfqQENWLwhZP6LTEmAIhE2bNomWiL5Z1tuDBw8EvqhtolluypQpWL9+vRl+rDVZdEafN28ebt5siwNEyCJg0fxHB3v63URERODFF1/EuHHjBPBWrlyJpUuXYubMmUhJSRFfLAJVQECA2czG50ycOFF8xOiX1RuQ5TNhvUQiL0kplrhGBAfrjYMiY1zFrY+TgJv2ZtfxPjp+EyrWT19vHkA5/Z/BKNVafbyOae7duQfrpz2/zqjJ6h3IaguMykWdWT6jr5hRBvdu3UVmSIaYTS+fvdIOFtW19Guidi9wYaC57EtHLEF2WDbu3WwLYqquZfyw4KXP45EZfbJ6B7K2YNWnqxC4YItE6H/8wHYIBEJUS9U+CV9Rva3a7LSvyqGOrE9qvXIiciROmoInmhw5o5Dfq+2LJ5+jOHk7ln3SZipsg6z1smC5hizD6ipdiFWlZNwXRw1ZvSB1DVm9IGT9iE5LgOCQm5uL4cOHi4lP+VoxIXb+1CoRmqhtOnz4sGiPfHx8zJBFDdOHH35oNhd2BFl8XmJiIt59910EBwcLuHHmYl1dHajhojmRISOsIYuO9wwpQUf83oQsBp5khHPOBjvceEjMP4/uPZIlVRhugECQH5ePDTMYAT5QtB8MVUAzEX1rOD2fs8i4/iDNh1sWBVnEW+L0f5oM1T28j1CTHZYFz5FLzUDSF5DFGYOMUM4lc+jAf/XcFTy8+0CWDrp78x7OHD2DnVnlEtXdb/YG5Mdtk8kBDFxKcyfLThnw/91le2Q2Jc1kCjJ4DF68VdKmtpBlZ2R1LiXjPVEtmuxh4ZPVW5C1cvRKLBmxFIELAlFq2oHTB0+JKZRL6Ty890hMwlxih2biNZO9Ee0dJcFHGb2e7YIzEmkK5AzRUwdOyfqODMJKmaryc8IATa3UZrHs3I/uPSJLCzHumrpuwwQNWeyPBvIYqiGr00NTF24wzlgcYBTehdLqWwaQBOjQzgB5NBnSX4q+VZzhR4d3nh82bJj4RnEGoTL9nT59WpzhfX198dvf/tZpyKJYCFRjxoyR2YxMh1qvrKws0XbRx4p+XB1B1tatW/Hxxx+LDxe1ba7ajD5Z1GRxoKOTNmfDccDloMqldDg4mgJNErKBa85xUFwyYrHMMtu6eKuASU54tqxnyBhLDKpJZ+clHz0HJzWIrpm4RpzICTPJG5MRuy4OG2ZsMA+yvK6vIIvPpoM+A2lyeRjC5raoPInhxNhQDM665KPFEgme0ew5+zJhQwKywrKk7FxOh//7zdooEeJVmdWR9wQvDRF5seyJvokSKoKzL9U1faHJImTx+YSi1eNXIWxZKNKDTFLvORG5EoWfwVk5w5DxsziRgbMLw73CpV2oNkKzZ6hnKFaNW20BWCptLohNLSjLzvrn/TSjqrLzqCHr2a97AI+hGrJc1UPrdLQEBqAE2AHs2rVLAIrws3jxYixbtkzMc3RqZ5gFQhcdzBlPi5orarcYqHTy5MkyczA5OVlgifdxBiJnGnKjHxbTo9/X/fttcYHu3bsnUEZzIc2ITIczD2kypEmSju40MYaFhZmdzqlRI/BxFiO1YYxIT8iiiZHaL1dtRsji4GYc7NRnDrxGjYS92FEcfKmpeh7EklqM55oMc3oqevwwD3hwF7BbLP5Y9Mnivnr0KgTP2CrBSHvHXOhvVcZnmpV2ZX+ucVHlkeOzsj+Xk6OyL24rt52yLxuxTAKxcoHo3tRkWZTnWR1Z1r3tMkn9tZNT+3qX65yoe+2T5apfd9+loyGr72Svn6wl0C8kQAfz/fv3S8wq+kgRljZu3ChL7NCXihvNh4xJRbMe/bKoTSLscIkImhLpRE8YoqZKzT588uSJxOGqr6+H0RR569YtcWYPDAwUp/eEhATQsZ6mQH5HHyw6tSt/FUakJwgyVhY3atsYd4umR8bNctWmIItAEzYnGP6T/Xp3n+QHfxt70IxARLlHYPWodUgJysCtGzdlUWg6eHO35wjdFcf3TRMCEOUeDv/JG/tF2TdPDUDMvEisG90GWedPn++w7N1xfI+aG46gGZv7RdnZFtgOg2cEy+zC0qwK3L/XVueO6n4wOr676jfeF+loyOoLqetnagn0QwnQEZ4aJ2quCE0KcoxZJQg9fvxY/LKoVaIzO4+d3Zg2wYvPYZqd3Xi/rfx1Nh3j9YSsQPcQrB3lg8DJgQiYsKnDfdPETejWPmkzNnGfyN12WpsnBWLjhAAsem8ZYjcm4UxrqwTj5ALJthYJVtDVWciKXBmPFcNXY8vkLQiYsLnnyy7ldVx2yoblX/zucgR5huHw/sNSdgYjvX79qk3A7DRkPXiI+IAUzPuTBzaO88fmSR2XnW2jrb7s15u9+jSf76DeeV3g5C1YO9oHy0d5Y1tSIS5eOC/lv3Llkt2ApBqyjL/qvv+sIavv60DnQEtAS6AfSODSmStI25KFjbO3YLN7CDbPdbwHzg3BhukBWDl2LdZO9IXfjM3YMNUfaydugPd4H+f2CT7wdmJfOW4dlo9dg8TgFDTt3YPm5iYcONAigSkVVFkfOwNZ928/QH5cMfxmBXZYbiWXTW5BWMO8j18vZfedFoB1k3ydK7eSjxNlXz1+PTxHrULE+hjU19RJ2Rn1/cyZ0zYXyO4sZH35xZcoz9kF3zmb4T9nq1N1v9ktGN4TN8BrzBr4TPGH3/TN8Jmy8Zk8XFv3Xp+twbqZfshNyZOys+6PHj0Me0sLacjqB52JIQsasgzC0B+1BLQEhq4Evvrya1xsvYxDu486tR/efRSlueWIDopFbso21Jc1YOe2CuQlb0NWfLbL99zkPOws2Yk9expl37dvr6xjZw1X6v/OQBbDNFy7cB1H9h5zquyU0d6qZqRGm5AWky5lryysREFagcvLTVlmJ+SgtKAMuxsbpOx79+6WyO+2ArJ2FrKoEb117TaONZ9wuuz76w4iNSYdYZsiUJpbhvrSepTmlCInMacHyp+DgvRCVFdUYe+zuueyStRmqbo2HjVk9a8+TENW/6oPnRstAS2BASSB1tbTKNxegAMHW8RXiIs2nz9/FmfOnOqB/TRaW0+Zdy6t42h5mc5AVldETrNxdU0V6htqpOy3b9/AxYvneqDclCXLbll+e5DRWcjqStlpWq+urUJufjbOnT+D+/fv4Nq1yzh79nQPlJ9pWpadbcyeqVhDVldqtOfu0ZDVc7LVKWsJaAkMcAlwVuXVq1fBUBG2fM8EsooK0LK/RXzZ6M/G2ZW9tfN59vb6hnps2boFVdXVNvPe3appg6xK1NbVmPPQW+Xmc+yVm5M1OHFiS3AQthcXm2epdre8xvsFsmqqkJOXjdYzrea89IfyX712FSU7SlBaXubSZaeM5defnZeAhiznZaWv1BIYdBLgbD7GwHLlGoCOhERHee7cOEvwxIkT5vAOju5z9B3NPUyTDvSu3jl7kcv5cAkgzpzkDEvOnlRO96dOtWLLlhp4rbiAgIAn/Wr38DiDSZN3oaDgNLj2oqs3QlZBYQPWrd/Xr8q9adPnWL78MkZ+UomATUdx65bry07IqqyqhfeaUqxZe6tfld/X7wHmuB3Fau/jOHasbTF3V9e9Ts95CWjIcl5W+kotgUElAWpmuAgzl7BhGIae3rjMTmVlJRiElFtpaalLnk3wKS8vl3ASDCnhyp3LADH2F+N4Md4XQ1cwfMT58+cF6E6cOItp047i7/7uC/zt337fr/a/+qun+PGPP0dCwlN0YQJoh82BkJWQ2IIXXjjZr8rNevjrv/4Gf/EXn+Ozz77CsWMdFqXTFxCyKioa8O57e/A3f/NtPyv/d/jLv/wav/3t1ygs5CzcThdP3+BCCWjIcqEwdVJaAgNJAtT+REZGSgR2wo9xo6ZGaWuM59XnrnxPEGIAUoIdt+bmZlnWh8Bi3DpKm9ca80ZNHJf44RJBrt5DQ0PNkMX4Yf7+/hIUles5UmtGyJo8+Tj+8i+/wl/8xff9av9vP/gWP/qnrxEfzzAbRgm75jMhKz6+BT/7+al+VW7Www9+8B3+y3/5GqNGfYMjR1xTXmMqhKydFQ3401tN+MGf9696//M//x7/9b99g1/96hvk5/O3Ysy5/tzbEtCQ1dsS18/TEugnErAFWQ8fPpQldTIzMwUmGIGdQUXVxsClDBy6bds28BquNaiiubMzaW1tFeBh0NK8vDyJ4s57uHwOA5z+8Y9/BJfjIRhxSR8uo0OTJTf60jQ0NMhaiUyfz+G93Ahihw4dkvS2b98uafN/xtliOXgdzXiu3ll+Bj3l4tUqICplpPyzTp06g4BNdVi46BLWrPm8X+1z3M7js3G12LbtbI+ZC/PzG7FiZUu/KveaNV9gwcKr+GB4HXz9TuDGDddThjIXeq0ox1LPO/2q/CtXPsSUqSfguewUDh/+Wn4/+k/fSUBDVt/JXj9ZS6BPJWANWXQkJkxwoedFixbJ8jn8TO0QfbYYPJTR2Pkdl7nhcc6cObJwM+/lEjc0rc2fP1+ixk+dOlXSoC8TgYn3/PSnP5XleHguOztbltWhRovO5dSqzZ49Gx4eHpIHpkOtFwGKi1QzPT6T57lgNJffoXasK8FMnRU8AZLmSJaP8rLe6PheUFSAfc0tuHXrbr/aa+vqERgU1MOO71Woqa3pV+W+ffseWvYfQODWIBQVl9isN+t67Oz/hCzOrMzOzcbp1jP9qvxXrlzD9pIS7Cgrx8OHjztbNH29iyWgIcvFAtXJaQkMFAlYQ1ZZWRk++eQTAaQ9e/agqqpKYIdAQ40Vl7Uh4BB2CDe8hsvwEHz4OSYmRkCKPkv08UpNTcUHH3wgS+fQHysoKAjvvvsutmzZAv5PfycuTM3nErhGjBghS/Y0NTXJOT6HIMU1DekL9bOf/UzWQuSzqSkbPny4QJ1a+qcv5N4WwiEf+w8024xZZIxf1NufeyeEQyXq6qv7Vdl7LYRDTRVyt2Xh7LnWflV+HcKhL3oC+8/UkGVfNvobLYFBLQEjZNEJnf5GXKxuhZgAACAASURBVHiZWiZu9HsqKSkBF4qOioqStQo//fRTcK1BpT0ieFVUVIgzOzVSNKnRjEetVmxsLN544w0BI2qECFITJ04EzX1Mm5orQhbNinQqnzBhgtzLZzNvnNE3cuRI0WIRzAhozCc3ghWd0alJu3jxopzriz8asjRkacjqi1/ewHmmhqyBU1c6p1oCLpWAEbKofaJjNyFILcTMhxGcCD9+fn4CTYSioqIii3wQmNiR7Nu3T66juc/T01NMhS+88II4uxOK7EEWtVILFiyQ669du2ZOm874n332mcDY5s2bBcgIb9zoi+Xt7S3mRfp39dWmIUtDloasvvr1DYznasgaGPWkc6kl4HIJGCGLs/MILYQaaqLUVlNTA2qvaOqj+Y+QlZOTo74GoYjgU1tbK2BFc2NISIiEUaAvF02AnFHoCLLoQL9kyRIxDRqBiTBHLRodz6nJ4rMVZNHBfc2aNX0OWefOnUV+YR52VZbj2PEj/WovKd2OkLBgkZlxNqa58rr54cmTx6isqkBxSWG/KvfxE0dRVV2BoJBA7KwoN09S6GZxLW5/+vRr1NRWIy09GXubGvtV+Q8eakFOXhYqKnfKy4hFxvU/vS4BDVm9LnL9QC2B/iEBI2TR5Ecz4Pvvv4/k5GTpnGnioy/URx99JLMJ6+vrMW7cOKxbt04imhN0aNIjRBGCaNojLN27d0/uz8/Px8svv2yGLMIZQYnpc8aiMhcS8PicDz/8UEySdHTnjMO1a9cKZNE3jN/3R8i6d+8uKqt3ISUtCWnpKf1qT0yOR15+rjju90SL+/rrr2TBYlM/K7cpIwUse6opBcdPHO+Joos5+9ixo0jPTENyakK/qvdUUxLSM004fOSQ2azfI0LQiTolAQ1ZTolJX6QlMPgkQMiKi4uTmXrUWDH6Ok2GNA9u2LBBNFtjxowRZ3T6PXGGXVhYmIAWHd4ZioFO8YQh3s+ZhfTp4vnAwEDxmXr99dfleOPGDbmG6VFbRuf18PBweVZ1dTVaWlrMswZpmlyxYoVAFeGN4R/UtQz5wI2Ax+fQzMjZf321MZTD9evX0LK/Gbv3NParvbllHy5fviSm3J6QD7Vj1FByMO9vZd/btAdnzrRKO+mJsjNNviicPHWy35WddUG47K1VHHpKvoMlXQ1Zg6UmdTm0BDopAQ6S9KOiholmOkLX0aNHBWgIOdyjo6PFqV2Zmy5fviwz++ioTqgidDE8A8M7yHpxW7bIjEM60dOhnSZDOqtTK0btFJ9FOKK/FWNi0U+Lz2ZHRNAiVC1fvlwc4anxUk7tnN3Ia/l8bryecEYneqatNy0BLQEtgf4oAQ1Z/bFWdJ60BHpJAuwAaJ4jYHEjTNGpnEDExW75nfVGoKJWi9fwWgVgPPLtnvfxLZppchYiYwqp4J18Hq/hOVvP5nfUXDF9Pkdt6lqVDs8zDV6jnq+u1UctAS0BLYH+IgH2XYzzN23aNAlxw2W/Orv9WWdv0NdrCWgJaAloCWgJaAloCQx2CWjIGuw1rMunJaAloCWgJaAloCXQJxLQkNUnYtcP1RLQEhisEhiq5kuWe6iUfaiUc7D+RnuzXBqyelPa+llaAloCg1YC9D87efKkOPqfPn16yAAHJx5wWSVOQuDOCQnGoLKDqcLpA8iJHlwK6uzZs4OpaLosPSQBDVk9JFidrJaAlsDQkgAhiwMww1fQudXopD9YJSELJVdXy7qVnE3K2GgMz6FmgQ62chOyuJYm69h65YPBVlZdHtdIQEOWa+SoU9ES0BIYohIgXHE2JWdGcjYmQ00QOLoKWQQXztpkuvY2ps3rHF1j715XnucsUC6LROAggDA/zJeardrZZ3FAYtl5tLfRVMfvufeF2Y5lZBBe1jPL+fjxY9m7WmZVTt7P+G8dzZjl8/uq7Cqv+ui8BFhXenah8/LSV2oJaAloCYgEOCi2traK1opLA3GnFoeR7LsCWTS7MXZYVlaWdMqMKUaNGLVjCqZ4pCmS59lx85l8FrUr/I5mOkbQT0pKkrxcv34dDx8+lHR5jvcwz93dCHnHjx+X9Sznz58vAWmZb2qymL/OboQLxlljmZlHpsX1NPfv328OqkmgooaMpjqWm9cxDhtjvbGMXGmApkrGV9u2bZvEXyOwMF0uCZWSkiJLRilZdjaP6nrWOyGLy0dxpQSVlx07dnRJg8f8cL1Qlpfpslz8zLbAIL5qY2gULl+l2gfLziDAvIblpBxYx0yDbYaDO9Nl/igTmnT5IqC33pWAhqzelbd+mpaAlsAgkQBhhQMaB++SkhIZGBm81d3dXbQ7ndFkUXvD5YNiYmJEQ6Igigttx8bGmgfHS5cuySDM6zjIcsBdvXq1eamiq1evSn641BHvU5DF/BGGGMm/KxBkXWUsGwdylnfevHmyOgBlwTwZFxi3vs/W/4SWpqYmxMfHCxCw7IQtriTANTNVRH+CFDVmERER8j01SQEBARI8lwFtCVkEHS5QzmC49JkifHCVALVoOYHLFZBF+c+aNUughn5ozBdlQTgiDDm7ERwpR5PJJG2G9xOaGZR3/fr1knemxTwzgC/LznJTzoR5lp/wxHLyuGjRIgnme/jwYYEsgjBXZ+B5ApqGLGdrxnXXachynSx1SloCWgJDRAIc9Kgx4uCoBlWCByPmE4wIDJ2BLC7KTS0EtREKAmh65DM4iFPTw40aK0bZ5zk+l6YqQoQaaHkNzxN4CBwEGG68htoMDrquMrExHUIfn0WNCsvLvbPpEwyZBlcGUMFvmW9qcqiRUk70DFLLZaAItYRHmmhZHq6pye+4EVYJaIQQJbPz589L2VUe5cJu/GHeuMwTl6Ai3LG83M+cOSMaM+bbWRkQeghVBKcHDx5Irngvl7hiOVjf3AhRbGuELEIny06tHsFJQTPzRS0fr1PyIHjSnEtw5WCvt96XgIas3pe5fqKWgJbAAJcAtSocBGkeNG6EBMIMTT6dgSxlKiIkGDcOvFwfUKVFHyjCCIGMIMHBWZno1MDOa2nGIrjQlMQ0qfHi9RysXblduXJFylpXV9flZKnForwILMaN+WZ5FXjxyOdQvpQ9dwLKwYMHLcrF5ZkIFgQVBR6UhYJh4zO68plpMg+sA35WG+GY9cjdeF59b+tI+bFuGhsbLb7mwMyyE6a4sU6bm5sF4pQmi+XnfQrOeJ2CXsqJ7UHdQ1norW8koCGrb+Sun6oloCUwgCXAgY2DnTVkUXviCLI4+NoagDkwEzSU9sWeaAge1OxQY0bNDDVa1O4QtIz+O1zzkRoNDrYcYOmTRC2Zq7fOQBYhxFbZqWUjaCizoL08ErIISgyTwXJRU8dyEaiMJkqCCeuG2htqeygH1pMCVXvpO3ueZSBgJSQkmLWOvJeDKevBFmTxHqWhND6H+SMsURPpaONkAmqlaALlOp4sD32taBImVKqNz2CboDzZHgihRq2euk4fe08CGrJ6T9b6SVoCWgKDRAIc9OiHQw0JNU3cqDmgfw3NSNbmQn5H0xaBiHBATZhx40CZmJgoWhkFIoQCQgzT5ADLjUBCE5HSSDFdwhPvVaYlXsfBlqZG5o87B2RXL6TNZ1NzQogh8DHf9kCG0EcY4uCvzH+q/AQNfkftG+XKjWlTk0OYVNfTz4iO7UrevI7pUqY7d+5UycmRJkSmybIzfzQZumpjOUNDQ7F06VKz9o35JQDRlKm0SOp5zC/Bi1CmTHvqOwWEBCGjvxTNwKxPlW8CKGVsBFGCPtMkSPH5amM7Y5lZdsrACGHqGn3sPQloyOo9WesnaQloCQwiCXDAVBBDzQKdywk7dHxfs2aNQJXSXhA+OPD94he/EIdpa9MYoYvwRYdqwtGuXbtEI0GtGNNWYMEB1dvbW3yVeA2/4zOpDaGfknGjxofO2HR2J5gZB2LjdV35zIGD8EeooGP15s2bRYvDPNHHynqj0/abb76JYcOGiSbG+D3TIphQK0MYIWxRFpQXNUOEMG5Mw9fXV8CBUKVm9jEP1uYwanF4v5eXl9SLgjfjc7vymXBL/zmmO3v2bCk//aCYX9YDwZsLpxs3Qs+ECRPw4osvtgMitgs646s6ZJnU7EnmX5WLwLV161Zxduf3lDP91SgzmluNG7WdlBshkO3CaE40Xqc/944ENGT1jpz1U7QEtAQGmQSo0aCZigMrBzPunCFIGCAMEUIUZBFwqHEiJHDwpJbGeuPgTE0NtRrcafIiTFCbpQCJzyOIKDMQr+PzOdNRXaPSpXmNmi8OyK7yR1Jpc+CglokDPctDTRk/ExKYX+uN+Q4ODhbHbWvA5LXU3BAWWB7KkWWn2YvlUpo9as0Ilcay8zOhxxqieA/BhP5r1Ha5aqNM6QPG57JuuKu6IvzYAkzCL82LnPHIe63riXmnlo5gpMpPWfIcn8eN9UcQNZadcmL9UnbWG53wCf0EbevnWV+r/+9ZCWjI6ln56tS1BLQEBrkEOEhSE8XBjlBF7QQ7VgUHqvj8nyYhNXCq88ajuoamPV5rnQYHTJ5jGtRQ8LnWgGFMj3nh3hMb02V5jTvzZmtQ57XUsHC39T3zx2vok8ayK1ka8837eA21SSw3y0852EtPXW/ve2PanfnMMrJ+mRceafLjzs+2Nj6f5bJVn+p6XsNyOapTXqOeRxkxTebB1sZr+R2PeutbCbDO6G85bdo00XLTV7Cz25919gZ9vZaAloCWgJaAloCWgJbAYJeAhqzBXsO6fFoCWgJaAloCWgJaAn0iAQ1ZfSJ2/VAtAS0BLQEtAS0BLYHBLgENWYO9hnX5tAS0BLQEtAS0BLQE+kQCGrL6ROz6oVoCWgJaAloCWgJaAoNdAhqyBnsN6/JpCWgJaAloCWgJaAn0iQQ0ZPWJ2PVDtQS0BLQEtAS0BLQEBrsENGQN9hrW5dMS0BLQEtAS0BLQEugTCWjI6hOx64dqCWgJaAloCWgJaAkMdgloyBrsNazLpyWgJaAloCWgJaAl0CcS0JDVJ2LXD9US0BLQEtAS0BLQEhjsEtCQNdhrWJdPS0BLQEtAS0BLQEugTySgIatPxK4fqiWgJaAloCWgJaAlMNgloCFrsNewLp+WgJaAloCWgJaAlkCfSEBDVp+IXT9US0BLQEtAS0BLQEtgsEtgwEHWt99+i7Nnz2LXrl0oKyvTu5aBbgO6Deg2oNuAbgO6DfTLNlBSUgJfX19MmzYN7u7uKCws7DRX/lmn7+jGDU+ePEFubi7mzJmD6dOn613LQLcB3QZ0G9BtQLcB3Qb6bRuYOHEi3NzcsGLFChQXF3eagHoVsu7fv4/4+HihQn9/f5hMJr1rGeg2oNuAbgO6Deg2oNtAv2wD6enpAld1dXU4ffr0wICsefPmicnwq6++wtdff613LQPdBnQb0G1AtwHdBnQb6Jdt4JtvvsF3330ne2cpq080WfPnz8fdH/5I7wNMBqpx6brTbXcgtQHVbm0dB1I5dF77/ndnqw3pc1oCjiSgIWuAgU5fdrSqIfVlHvSz+36gGWh1oNqtreNAK4vOb9+2f1ttSJ/TEnAkAQ1ZGrKc1iiqhqQ7+r7t6LX8Oyd/1W5tHbUsOyfLoS4vW21In9MScCSBfgFZjjKov+tbCRg7VZUTW+fUd/qoJdAfJOBsG3X2uv5QJp2HvpGAbiN9I/fB8lQNWYOlJnuoHLY6GFvneujxOlktgS5JwNk26ux1XcqEvmlQSEC3kUFRjX1WCA1ZfSb6gfFgWx2MrXMDozQ6l0NFAs62UWevGypy0+VsLwHdRtrLRJ9xXgIaspyX1ZC80lYHY+vckBSOLnS/lYCzbdTZ6/ptQXXGelwCuo30uIgH9QM0ZA3q6u1+4Wx1MLbOdf9JOgUtAddJwNk26ux1rsuZTmmgSUC3kYFWY/0rvwMesr7//nvo3TkZdKXp2epgbJ1j2roenKsHLaeelRPbor02av0bcPY6dZ+uu56tu76Wr6pn47GzbcR4r/Xnvi5fbz3futxD+f8BCVlcaPrWrVvYf+AAKisrUV5ervcOZLBz505wWYCTJ0/i0aNHTrd5Wx2M8Rzr4ubNm2hpadF10UEd6Hba87/TmpoaHDt2zKWQxUjPd+7cwaFDh1BVVaX7mkHazisqKrB7925cuHABX375pbmPNPZ35pOd+PDFF1/g3LlzaGhowM6dFYO+/bCMLCvLzLIP9W3AQRaX4Tl69Ciys9KRmhyFTFMEMk3heu9QBhHITItEWkoMiouLcPnyZdE8dfQDsNXBGM8dPnRI6iItORKZaboudFvs299iRlokUpOjXQZZT58+lReTvNwspLG/0W18EPe1EUhPjYQpNQGE9Xv37kn3aOzvOuovrb8nnFdVVSItJV7SHhLtJ61Njmmp8ais3IXbt29bi2VI/T+gIItvlHxLTUmORW5mBI415+Pm+UrcvVyt9w5kcOdSNa62lmNvTTqS47eiID9PNFAdtXZbHYzxXHJiNPKzI3F8f4Guiw7qQLfTnv+dXjtTgZaGLJdAFk0rp06dkkE32xSGw015uHFul+5rBmk7v32pCueP70DljiQkxIagqnIXnjx54nRbsu5LHz9+jIqKnYiP2Yqa8mRcPFkG9sODvR9gGS+eLJUyx0UHYefOclAWQ3UbUJB19+5d5OZkIScjXBorHjVD752TwXcP9uHUoSIkJ4TK2xoXvnS0GYFKXWc8ty0rQjoNXQ+dqwctr56T1/ePmi0GRqPpR7VhdTS2ZXVOHR88eID8/DxkpYUKXDFdXW+DXAaPW/D13b1oqExDcmJUp0zPqt2o45EjR5AUH4HdVSZ8fW8v8Lhl6LQfyvHeXil7cmKkWJ+UXIbacUBBFhttWko0Du3NHTqNtQc6djb+kvwYMfPdv3/fYZu3NQgZzx1r3gY9+AzygacH2mBPw4qxjV6/ft1uGzdeZ33RqVOnkZ4ah+a6TN3GB2Ab6E4bu32xChmpoSgrK7UAdus2Yu9/vryWlBQjIyUUdy/VDNnxilq7zLRw7NixAx290NuT5UA/P6Agi8502RnRuHqmYsg22u50HOZ7H7egsTIN2ZkpuHr1qsM2bGsQMp67eW6XroshNgCZ21E/Lrexjba2ttpt48brrC9qbm5BTma8mJAGQpl1Hl33ssMX0cKcSHGrcNRGrNuM+p/a09zcbFDTL1qsfvxb6cl2w7LTnSQ3J3vIOsEPKMiqq6tFXlYMbl2o0gN7d360j1vQVJOOvOxUcYBXHYOto60Oxnju7sVqXRfdqQt9b4+0H2MbpV+Vvc14nfU1TU1NyMtOwOXT5T2Sx54c3HTa3QOubx7sE21/QX5ulzRZn3/+OXKyMwUwnt5vGrLth2UvyI5Edlam+LdZ/8aGwv8asobiIKcha8h2ekNl8DXCk4as7gHHUGkzxnJqyHJNm9GQBWjI0pDl8GXCOFipC43ntCbLNZ2RsYPXn7svU2Mb1ZDVfXkOtTapIcs1bUZDloasoanR0JqsoVnvQ+iFQkOWawbJoQZXqrwaslzTfjRkacgamoOthqyhWe8aspQy1nw0wpj55LMP2ifLNQOtApeBdNSQ5Zq615ClIWtoDrYasoZmvWvIsuYoh07NGrJcM9AOJLhSedWQ5Zq615ClIWtoDrYasoZmvWvI0pA1hNqAAqauHDVkachq11l08YR2fB+KnY6GLA1Zg7zdG82A2vHdNQNmV2BloN6jIcs1bUZrsrQma2gOtgMJsh43A3ofOjJwEfxpyHLNIDlQIam7+daQ5Zr2oyFLQ5aGrMuXHSpBjYOVutB4rqdCOHz3cB8eXavD1TM7cflUmd6HgAy4uPPjGw0uWcLG2Ea1Jss1A2Z3wWUg3a8hyzVtRkOWhiwNWf0Qsr6+uwfHW/KRlxmJ1JQopKXF6n0IyCA1JRL52dE4fagI33QzSraGLNcMkgMJjFyZVw1Zrmk/GrI0ZGnI6m+Q9bgFZ48WIykhFKGxSTAVVSK7tE7vg14G9TAV7kJwVDxMKeFtS9k8buny71NDlmsGSVeCy0BKS0OWa9qPhqwhCllPbjbg4olSnNxfMGj2SyfL8MWtRsCZgakf+2R9/6gFVaVJCI+Jxa6WVhy8/ETvQ0IGn0s9lzQcQVhUJBqr0pxry3Z8uPorZH11Zw+utpbj5IHB0/f01370zOHtuHe5BnQ96Czg9XfIYpnuXKpG66GiHhnDzh4pxv0rtd023WvIGoKQ9fBaHWrKUxAfHYjgLT4ID/GDKTkS6anRA3dPiUJKQggaq0xtoGVn4DF3NP0Ysr572IwdBbGIScnA3tbbOHDpsd6HkAxqj1xCeGwiKorjBx1kEbBa6rOQmhiMkKANCAnyQWpi+MDtd/pxn5mRGo2UxDAU5caAL6Dmvq+jvvHZ9/0dslimwtwYGb+2Bq5HfMxWsMyuGseS40NQWhiHm+d3dVp2RllryBpikPXdg31oqstEbHQI8vLyEBUVBX9/f2zfvh27d+9GY2PjgN1zcnIQHxOMI015+P5hB6reAQFZmdh75o4GrCEEWARqBVk7tw8yyHrcIr5mHLwyMtKRnJwMX19fZGVlDfi+pz/2m+zPKyoqEBMdjuJtsXh8vb5TsNCfIYtlKc6PQXxcNNjvb/T3R0xMDBoaGlw2fpWWliImKhSVO5LAlwMjOHXms4asIQZZdy9VI8sUjry8XNy+fRsHDx5EXFwcKisrce/evQG7379/H5cvX0a6KRV5mREddygasjS89VN4G6yQ9eWdPSjJj0VqahIuXryICxcuCGht27YNt27dGrB9T3/uN+/evYuqqiokxoXKRBoJBTPQNVmPW3Bif4H4rNbX18k4xjaUmpqK8+fPu6wdcXwsLt6O1MTQNk2gM24oNmSrIWuIQdbhvblITYrEvn378OTJE+nc+CaZmZmJ69evu6yB9lXHww6FKvLWw9sdm1o0ZGnI0pAlEUmMvlsqRIk6umxZncct4sifnhKOnTt34tGjR3j8+DGoLUhKSgJDTPRVnzGYn8uXz7NnzyI1JQFlhXH45v5epzUy/VWTRXeKiuIEKRNB/fPPPwfbaWJiIvbu3QuW2bpOec6Z3fq+Q4cOISkxGrurTI7HExtwpbRdGrKGEGR9+6AJ5dvjkGFKFq0PIYs7tVhU3R8/ftxmA7VueP35f5YhJSkWtTtTHP8oNGRpyNKQ1WuQ9T1/b3WZSEuJxdGjR2Vg5OB44MABgaz6+voB3/f0137xzp07KCjIR2ZaGO5erh7wkMU4crkZEeLuQnBiO6JmlJqs4uJiUHtnrAte09raiqKiImlrhHrrPT09HS0tLRb3MY2rV68iPT0NRXnR+Pqe84CqAIvH3oQsjucEzazsbJt7dna2WK+ePn2q3qN65ThkltV5dL0eORnhKMjfhocPHwpgsYEeOXIEKSkpqKurG/Ad3bVr15BuSkNhbjSe3muy36FoyNKQpSGr1yCLWhFO5shMTxONuXrBu3TpkgyOHAA5GBoHR/3ZNe4blGttbS3SUiI71vAbNDL9UpP1uEVMdxlpkaiurpYxjG2JZczNzUVGRkY7i8yDBw9Eezpz7gKMnuqOqQtXY8qCVeZ9kvtyjBgzEdHR0e0AjcDGtplpCpeZjJ0xtyrQ6k3IImyuWeeDj8ZOw3SPNZhm3Bd544NRE7B5S5CM/71CV88eMmQg68rpcqSnhovminClOjr6MplMJmlM1m8BA62jY/4LCwqQbYrAvcu1GrL6KUjoGZP2Z4wORp+sJzcbRfuQv+35Cx77H/YvfLumu8LNmzc1ZPWAXywB5PDhI0hNicXe2gzHGv4BAFkH9+QgPS0Whw8fFi2WGsfKysoE2M+cOWPRjghZ9NmaNMcD8wNSEZCzD/7ZTeZ9fUo1Ppo8X5znqfUzjnmUXU1NDUwpkThzpNhp2SnA6m1NFs3uCz1XYrzHxnbl3Ji1ByNmLMNK7/UCkxqy7Eigrq4WeVkxuHWhyj5AGH4o5sp+3ILjLQVIT41Bc3OzReNko+IMDXZ0N27csGhkxgY3ED7zR0HzZ3pqJC4c39G23p0deTTVpCMvO1VMp3bELadt+awYz7l6WZ3nIRz07MKhCGODEbJunq9ElilSNApqUOSRflklJSVIS0tzqdPyQOirejOP9F1KS00CZ6x+b6s/tHGuP2qymPea8iRkmJJk4oRSFvDI2ZQ0GXIyl1G2CrJmLFqJNYkVSGi8iYSGG+Y9suIsxrqvsgtZNGmbUmOxvzF7QEDW4hVr4eYTh0SrcsbXXcPEJQFYvc5XQ5ajAb87kNVUk4GMtAScPHnSrMVSHR5VouzoqL43NtCB9pmQRSdIU2oMjuzL05ClNVkDziw6GCGLKxhkmWJker3qc3jk4EhTFgdH+mrx9zvQ+pyBkF9OaspIN6EoN8rp5Zr6I2S15SkaWZlpMmlLtSW2I2q2OIYxjIOxTroDWUzn9OnTSE9LQB39fG3AaEfnetNcSE2Whqz79xEfH4/58+fDqA1xBFbG77oDWVU7EpFuShaQUo2Txy+++ELeMNnRsUEZG+hA/Hzs2DGY0uKxpyZdQ5aGLA1ZP/yRzN4z9iPGz476IZfMLnzcgkN7c5FhihMtg7Hv4eBIh2P2PXyWgiya/Wm64TR6W3tn3Bp4ra00eI7P6ExajvJkbWpy1Hc6SofhLLjbyrOj71R5bD2X3+Vk58haqLIqhhOw0B8h68u7e5CXGY7c3GyzXzHbE9sRzYSELM5eNcqgu5BFd5oMU4rMzmScyY6gyvp7DVkDfXYhY3c4Eb+DatayglhkZKSJ74OxoyNk0emdHR2d4I0NdCB+PnfuHExpiagqTbSvGu8Lx/fHzfahz9DpaXOhfX+lvjYftlx4iN2nblpE4t937h4aT95E09l7LgG6AaPJcrLvYf/EF54MU4LAnrHv4eDIGcH0CaVGi5BFIGAQTf+AAPhs8G23r/fxQUJCIvgypaDMXj/FWWVpaSasX+/TLh2m7evnB/ry8Jn20uB5ghh9czYHCsVHdAAAIABJREFUBtpMZ73PBsTEtvkJOcoTv9uzZw+CQ0LAe6zLx3Pea9Zg7dp17b7jtWvWrpXv7d0bEhpqAauqTMx/YWERsk2RslSMNQjY+r8/QhZnFmabwlBUWGDh8sI2deXKFXCWIANrq3Lz2F3IogtNVmY6ijiZqguLtmvIGuCQxXWprp2pwBe3d7fBlh3g+v7hPhRvi0FmZoa8vVl3dHyL5FsA3yoddRLGxttfP8uPzZSC0oIYfGtvza5ehqy2dbaqZIkGmQpsp57Y2WnI6r+QlbtrH1b6BSMuewf2X3goUJVT0YSVG0MQl1OG5vMPug1aAwGy+EZ/+2IVbpzb1Ta13UF7xpMW1FakIN2UJH5X1n0PNRCELIIV+x6atjb4+uHVdz7CJzOWYtSs5Rb7mx9PxOhxk8SXq6O+ii+PU2e64Y0Px2H0bMt0Ppnpid//aRjWrlvfbkaadd9GDdLmzZvx2tvDMWKqh0V+mL93Pp2BkZ9NFAdrDurW96v/+R2DP7/5/gh8MN6tXTrvjpmJn7zwMn735oft8jtq1jK88No7+M/fvIJhE93b3fv+uNn40wcjkJCQIFoe9Ux1JExmm6Jw85xzy8T0FmRRs3bjbAUeqHUCHbQlriXIYNr046NywNiWCEOcXVhQUGAhfwVZdHxfsCkVAbn7EJDTZN59UmvsOr5Tdqz7rKxM5GdH4qu7nY/87gxk8WWD7Z7t+bvvvjMqmjv12cLx3aqc/ll78DEd39dox3eHQrU2F9KhtKosCYU5EfK2eLV15/MlAAyN9Zt7TSjIjkJ2dpZUpLFxsoIZdI2QRefBjjou9aPtr8e2Nw8Ttm+LxtMHdsI49AFkXWktR0VJAoq3ReNAYw5una/EUxuxV7oKWcaFpDvS+Ni7lucPXXmCg9wvP7EJDPbutfVMe9eq8/IsJ55jMy/PFo1Wadi85tJji8W1O8qjvTR4X92xq1jgtR6/feUN+IcnY//FRyKf1MJqvPXBxxg1cTq21x+xKzdbz7Z1bqBA1qVTZRJ3b3ve8/YswS6psTVoZqnJ2lWSIK4KfAEy9j38rGY3Kw0Ew7CsXe+DMXNXIbjkOMLLWy32RVsyMHHWQuTn53fYVzE48exFy+G+MQkRO89YpBNaegJj3L2xeu168JmO+jPOfPTx8cHIaYuwedt+i3SYvxXRxZg011MG+Y4gKzw8HCOnzMO6lKp26ayM3YE3R03HhCUB7fIbVnYKo+aswlufzsQGU327e+nUPXKyOyIjI21CFicEZZmicdnJdQx7C7I+v9UIBsnenheFyh2JEmaC4YZkUWvDGMY2RbDnBIry8vJ2miyaYDl5i6EcjCZgBVnDRo7Bax+Ox/CpizF8yvP9/Qnz8MKrb8HPz08UENbtgOkyzbyMCDCvFm3b2M7tfHYGsvg7oIN9YWGhTNyiBpYBezsLXISsmXPc8cIfhrUr57Api/DTl97E0mVe2vHdEWVZQxYr8GjzNoQGrcXK5QsRsmUtCnIiwGmuXKH8W9qQH7cIeOVnRWHbtjwLW7bq8MSPyaCyt25oA+l/efPITEdBTiS+thcrq5chiz9MLivSVJ+Jzf6r4L3SA9HhG1BaGIMTLfngot2y3uLjFqc1WfvO3sOu/WexveEIdra0orjhKNK212BbVQsaTlw3AxK1K1UHz6Oo/jAqWs6g/vg1FDccQfbOPag+fFGuI1zsOX0b+dX7EZNZjPjcMuzYc0I0MzSRVR+6gO31h7GzuRWle08gvaQOWeW7UXP4Eg5caoONAxcfofbIZclP6d6T8pzyfaeRVbZb7mM6hIrmc/cl7ficMsRmlaCw7hCazty1gBPmmc9K216LlMIquaby4HnsPn3LfF3t0SvI2FGP6IwiKTfzaA0tvCZn514kF1Qir7IZO1vOiLlPwRTztGv/OWTsaEBqUTUKag+i+tBFyY8xLV6flL8LL7/xNoaPGo+iusPmfNQdvYI5Hivx81//Fr4h8Wi50D1t1kCALLZnaiD2VKcjwHcFVq9ge/aV9nx8v2V7pqtCeVEssjJN7VwV2P8oDQShiYNjG2RtwPhFPoipuWyeBaZmhC2PKMRktyVOQ5bb4pVYvDUbiY23LNKKq7uKCR5+8F7r4zRkfTp7GcLLTlukw3wxDMDU+SuchqzRMzxEo6LKpI4+abV4Z6wbpq0MaT87rP46xi7cgPfGz0Ng/sF2eeAU/dHTF9mELL440xybaYrGuaMMRWAFwjYAobcgi22JizDnpIdi9UoPbPTxQnryFjRUpuHyqfLnSoNHzbh+tgKZpkjs2rWrHWSxjAwHwhVMjOZfBVkjx03Bh9OWYOrKEExdEWzeJy4NwKvvfgK/jRttQhbHPrbNbFO49NM9AVkc89nuCYmrV68W4KN2l078fAn5+uuvHWGB+TtC1pz5i/DGx1OkDRnLOcVrK156ZzSWea0aGpDl5uZm4fjOIGLO7KzshNggHNqbh4sny3DxVBnOHC1BSUEMli2dj3HjxmL6tMlY6bUIMRF+4qx3Yn8hrp6pEDUrVamcNq3gSh0545D2bPodDHRNFn9gmZnpSIzbLLIROVFWxv1UOUryo5EQFyFLDDmSvdExWF1nPHekaZtl2sbnGD+fKsOpw9uRmxGGhfPnSF3NnjUN67yXIil2E6pLk8BZWA+vN8jipzEp9kM4cNAnNLgtWYUPRo7BJ+On4cNPJ+AP7wzDeyNGw2OVrwATQaFk93EsXu2H90Z8ikmzF2Lu0tUYMWYS/vT+CCxdG4CyplMCNGs3R2LYJ2Px6pvv4rU/vYfRk2YiNDkP+TUH4LVhC97/eAw+GTcVH4+djD++9yH+NOxjzFiwTACH4FR39CrWbYnGByM/w2dTZmPuUm85vvneh5gx3xM5FXsF/kISczB6wgy8/qf38cqb7+CjMRPhH5GM6sOXBFwaT95AWPI2ufeNd4bj9bc+kGdPmDkPsVk7BKRoonNfukY0SK+++Q7++O5wzFjgCVNJndlkl1vRJHl4e9hISeOdD0fh08mzEJ6aL6Y++lIR9CbMmIc33/sIf3ibsvsUMxcuR3pJvWjzFGgRxpb7bMG//+yXWOEXjGYrkIo0FeI3L72GcdPngjCo7uvKkZAVGh2PrLQQXDxV7lzbMrazZ5+NbZQDrGq71kfjddbf0SyTEBeCffVZNvNx8mARstKCMd99Vvv2XMb2XCIDU3FeNLKz0mXwU32OOraZY7JkINOQ1XOQxQE7MT4M9btSZdyw6A9ttJ9zx0thSg5CclJCl8YqDvhxcTFIigvE2eM7bLYfYx6a6rMQtNkbUyZPxKSJ4+Gx0A1Bm7yRlxGGloYsMU2fO7YDmaYoCURKC4xqQzwywLYKSGqMuaYgqyshHJRygRqm+JhAHG3O77AcxjLx87njO5AcH4i42BjxSbT+jan/GWaD0doDAwMxadIkTJw4ER4eHggKChIzNF15+ELiCLgo8yE/u5AVTps5hWjs3ChYZ3YvLy8s9pgHP5/lCAxYbd79/VZg4YI5+Oyzz/Dpp5/Kzs+zZk7D+jWeiI7ww0bf1WKvtgVZrBySM9XrAx2y2FHT98xz6QJs2rjKLCOjvAI3rcbKFYuw2GOhmAEcyd5WPRnP+W3wsv0MQ/0Yn+3r4wX3uTMxZswYc12NGztWzvn7rkBmajBCgtYhKikde8/csTlgE7KodZri5oEf/sM/4q/++m8FWvj/B5+MxS9e+J0ARuWB86I1WrLGH//2k5/jL//qr/FP//Jv4rsx4rNJmO2xUrQ467ZE4Te/fw3vDB8Jd09vAZbfvfZH/OHtD7AxLAnL1gfin3787/jBD/4CL7z0KibOWoBRE2fgF795CaMnzpC80JzmG5qAX734Mv7qb/4W//CP/0eAbeTYKQIycdmliMksEZh56bU3MWuhF9yWegsA/e7VPyIwJh3UzvE6whXzM3HmfEydu0RMdH////0Dlq7dhPJ9rZg+zxO/5LMnTcf85esEyH754ksYO81NTHbN5+6BZf7xv/+ngNhUt8UgZP34P36Kxas3ijaNWraxU+fgX3/ycwHHyXMW4fd/eAu/evH32BKbgUNXPzfLvubIZYyf7o7fvPwaYrN3mLVYCqJ27D4hGi7CaUZpY7vv1XXOHAlZm0KjsMxzPthOjW2nM5+NbXTt2rV2+xfjdda/g5UrV2Gxx3z4rF9mNx8b1i/HXLcZ7drzvLkzEeC3AhkpW7F18xpZvJ0vQMaBkZ8JWXyDz8vLE02C1mT1jCaLDvcB/r5Yu3qJ3bo0ti9q3JcumYclSxZ3aawKCAiAhwf7WHds8rfTD1v1kVQOELLUGMbj5MkTsdxzASJDfWBK3IKYyCCZqGUPsjiOEUYUILkCsrhcz+pVy9DZvp7ypByXLHYXWVAm1r8x6/9XrFghfGApg8lYvnw5IiIiZPYkfyPff/+9WYOlPmjIAvDll1+Kg+e6dessGu6qVavgzL5gwQK4uc2UDnjVikVQ+4rlC+E2Z4YFZI1hA500AUsXu8sbwob1Kx1CFn2yaLcfHJCViQXz3bDCa6FZRkpW6rhowRy4uc2Gp6enQ9kbByFVR8Zzyz3n232GepbxyMFz5owpFoMSgWva1Eli8k2MDcDWwLUOIYuDNc1SiXk78dLrf8LLb7wlcELQKag5gE8nzcSrf3xXzlELU97cKgDyv/73j0CNUEZpA0r2HEdRPc2Ge/Hh6AkgxLw9fKRop6bM9RDI+e9/9z/hvtQb26r3Y9iocfj3n/4CG8OTQOggpLgtWY1fvvh7+IUmCFg0nLyBBV4++Mcf/TPeH/kZ4nJKQdNhYe0hlDQew5zFK/Hiy6+L5oomTZr/ItIK8cobb2PctLnYXn8Ucz3X4NcvvQqfrTFizqR5MyQpF2Mmz0JQXAai0rfj5y/8Dv/043/DqInTRPPE7378H/8pELUlNh3N5+9j0Upf/POP/x1vDfsYbotXYeaCZZg616NNG3bxkeSLciJ40ZTgvmytQKu75xrk7dpnAUo0xVLLRw0e5WUNS/XHrgl4UhZR6UU4dOU5oFlf29H/hKyA4EjMc5/VqXZlbGP8bGyjixcvttvGjdep9q2OixYtgpvbLHgutd/Gl3kuwMwZU9u352ca9YSYABnUTaZUu5os5UtD/xcNWT0DWdSS+Pn6YLHHXKfaFYGHL4Nz51paXVTb6OhIWKDFZq7bTLGsWLdPW/8vWuiGSRMnWEAWrTPubm3AnhjjL5DFtS5tQRaDanMcoxO5KyGrpLgYy5YtFtizlW9H5yhHysDNbQ4ok47kxt8ctVhGyBo3bhzc3d1BSCPwcU1FDVkKLW0c2ZFw2rKxc6PjuTO7yZSGiDB/1FakismQZsMDe3JRmBOJ5UvnC2SNHz9O1Peb/FYgKzVYHOJPH96O9JRQh5BFcyHXgxrokCXmwowMRIb5obkx2ywnysq8N+Uh2xSCiLAgse87kr2tejKeo/rdnK7xGTY+NzdkIS1pC+a5t2myqBZfvGguggPXID8rXKIK3zhfKQuSOjIXcqCmNou+RK+//YForwhMPN948jpme6wQjVNwQracI6hMc18iMEZ/K9574NmeVb5HNFb//e9/iF//7lXR5lCjQ23Ti6/8AV4bgrC94aiYJPl/4rYKSZMg4x0Qjv/8xQsy445gQWfw5RuC8MLvXsXGsMRnzuFtDvQ0oxFqOAOKs/QkD5ceo6zpJEaOmyqmOvo9URtFUyZNguqa+uPXRVtGH7SAyBSBJ4Ic88i8vvyHt0FtGCEoJJFlfiSAOW6am5x75Y9vy7U0ZdIESlMhIW9zdJqYK2mSJKgSWAl7NDsaYYg+WDSXqrwbv+NnpkVNGOEvIq2g25AVHBWHxNhNONRkaLM22pOjdmdsozT72Wvjxuusr6GPS0TYJuwqTbLZxlsassWkRCDki8JEY3vOjpAJHtfP7RL/yKwOzIVc+kSbC3vOXNjY2Ii46GDsKIhxql3t35OLuCh/REWGd2ms4oz18LBQRIb7Yv/uHJvtx9h+OQN1y2Zv0VzRCsMX0TWrFiMh2l8mTrQe3o6TBwvFXEi3FluQ1VPmwqKiQkSG+aOh0tRhOYxl4meWPSrcF2GhIRJew/o3ZvxfwoRs3ozJkydj7NixmDlzJtasWSPWL/qh0SGelihbgEXU0JosK+Aydm5WX9n9Vxzfs2Nx62K1OLRzJtr5YzsQH7URnkvmwWetJ5LjNqGmPBnnj5Xg85uNEivqyzu7sS0rUmy7nLVgrbK3jlWj3gIG4lE5vufnROIrxjXhDBXr/cl+NNVmuGZZnUttddHuGVbPZOgG/ujoZ7DEw10chjNTt2J3lQlcV/KrO3ukrpydXaggiyaq//PP/4Jp7kvhF5YoGpwXX/4Dho8aJ6BCAKCT+sefTRaz28bwZIEcaqL20Ql993Hx0frR//1X0eQQPGguWx0QJlol+jCVNp0SyKJma9SE6dgQEoeVG4MFzugMHp1RLKZN+n/RlEdzpee6zfIcnqNTPfNB8+SvfvcKvDeFix/YrgPnsCkqRfJFuKET/KyFywUQqR0jmPE+OtuHpWwT5/PQpFyBQT6DJsGt8ZnYFJkqz/NY7SdO+YQx5n/e8rUIjE2XZ9CU+q//8VOMn+EOmlHpEL9ola/ctzU+S8pEv7Z/+befiHnU6MDO9GgWJcgRMhX8KdiipvDjsVME0lKKqnGwm5qs8NhEWQIFT/a3b7tW7cpeuzP2L+x87W3G66yvMQcjbd3ZLh+cdHNk3zZ5QWB7pqmbpsHd1W3tmRM96PTOCR1lhdrxnX0pTVecXdgXju8MZ/Hc8d1Gn2jVrr552IySglgU5OdaQJZ1G7H3PyEoJzsT7IefPpuAZa+tPrhah7KiOHivWgxaZSJCfGQW9tF928AwRd8+myUuju9pke3W3+V4RuUANVl0fOcYoMYuZS6c6bEK65IrkbTnDpJ23zbv0ZUXMG6et81ldVQaBQUGx3crOdkrkzrPsnMSVnZWpoy79uTFZ/FliI7v1Hhxlij/50oI/O7bb7+1d6v5PH/nS1asw1zfBCRblTOx4SYmLd0M78G+rI5ZGkCXGq717MLbF6rASO7s3NhIT+wvwIOrte2mvzJUQEF2pMMQDgxGSudIV2iymAYbOp35ODuCb6iuSFc1ekdH2uMZPI5TyzkQ2JwN0suzCxlXiE6QdADOSN6KKjq5HynGk5sNbQFT+cN9NsOns5BFv6n//3//k4AK4erXv30Fwz4Zh/CUfOw5fQvxOeUCCP/8r/+BH/6vfxSNzrsfjTY7ve9tvSMhCQgQL73+Jqj9mTDDXRzY6RtFoCrb1wZZf/fDf8Cvf/eKaLh+9duXRUu0ISReZhVSOzVrkRd+8vNfg9fxe/pB0UxHExu1XPG55Xh7+CcCUYSWMVNm47evvoFX/vgOghNz0HT2LuhEzucyP59NnQOaLmnOY96WePuL6ZEmvV+88JL4W02aNV98shhGgSBJZ/bcXU3ynP/7bz8RfysCFrVYP/vlb8TESXMnn0fzHv3K+JzJbovEX4y+Xhu2xkLNhiRIMV8LV/jgP376S/hsjbXQchG4Ere1mW05AYHwag1hCsacOQ6E2YVsz5z5xckjmSlsz4l22zMHm4rieAnhQDOH9QsewzrQj4ZLe/F3rc2FPWMupL8tIevSyVJzX6P6HFvH3ppdyFmqR5rykJsRim1ZYWiuzxQndwlvY+gXmUcVwoFR3a01WSqEA0GLn9UYoSCLv82PZy7HTO8IzDDsU5YH4fX3R9udXcixi/6CeZkRorSwJStH55wJ4cCycM1Fao6p0VVO7k+fPjUiQ4efCVlu8z3w5qgZmLkm0qKc01eH45X3P8PyFYN8dqFRSo7eII3XGT9bQ9bdS9XSubHxfWMPKORtcp8M8FmZGQI8xo6OFbxv3z6J+M7Fo1Xj7M6RlV1aWipvFlThcucPg+eZLht+d9J3dC878oz0FOzIj2kLYWFjejI7/t5cIJqhNPgWxtlWfGuT0Bq28tWJYKRKk/Xm+x8JVAVEpGDNpgjxmaKprc1p/pGEQaAz+4SZ7uZ94qx5WB8ULSEdOPAzFMOWmHSMneqGdz78BG8NGyF+WnROpwmP4RTYSdHsRid57vSZSimsFk0T81JYexDL1m82P0M9z3NtgJj6eA01WnRsnz5vqZjf+KyJs+aLCY/+ZLyGmquwlHxMnL0QhEHmhf5Qsxd5STgHat8YtmKFb7BAFX2u6EvG/NFBnz5p1JCt3xqDMZNmiSmV19CnjHGuFPBxdiahjbD33kejwVmIdNKnCbR0zwkLUGK+CH8vvPQaPpsyBzubz5i/333qlqTz01/+RsymdN53BqbsXTNQIOvG2V0SDoAvdY7aM4OR1uxMlmCkfOmy7ntkhQaTSWIf8UVMQda4BesQuescYmsuW+yeoXmYNGex8yEcPFZgUWA64mqvWqQTXXUB4xb6dCqEw6iZSxFSfNwiHeaPMaqmzPNyOoTDqGkL4Ze5u106a5Mq8faY2eDAH1d7xeL7mOpLGDN/Hd4dOxcBOfssvmMeGDtr1LQFNkM4sL9kbKksU5T0Q46gQH3Xm5B18WSpaPNpcaH2U+XB+njvWTDSHTt2tAtGyhmFDEbKGfjG8UFB1rCRn+G1DydYxMhivKz3J8x3GCeL7ifZ1Mhl9WwwUv42+MJBv2175kAjC9j6zPFV4mS9MRzDpy6xKOuwKR742Ut/GvxxsoyCcQVkmRthB3FP2HBLC2KRmWESDZOxo2PkXGqwqMniIpvGBtrZz5yOyuniJH++mdKh1dfXF1u2bJEQEWoWEX/wfJaKcutKLdf58+eRnpaIXSUOVpzvZch6Xk/PNVbmc1adirOaLC7vEpyQJQ7qnFHIOE+M2UQg4K4GcfpONZy4htqjlyz23advmgNq8nr6KTGOFLVAjKFFPyz6cu1tvY30HfWitfr962+KzxPNbUzf+BxqfnafumHxDD6TIRmMprf9Fx+i5sglAS9qvwhE/F6lxSPjZNFUSBCiqZMAx7KpAKB8NuGmZPcxySuhkqEo9rTelnzxOsqnouWsxL7KZhp1h6Q8Zrmco1yui+ZpW2WzpEPTKUHwoNWaj8wT42lxpiO1hVvjMs15ySxtFK0ZgZD+bSr9rh4HAmSZ224H/Y5c97hFTIgZpkTxKTH2PXzBO3HihDgrq/AxEvF9gy9ee/djfDpnBcbMXW2xvzVqqkR8pwNwR/2Givj+5oiJ+MzdMp1P3Vbi5bc+xJq16ywcpW31edTK0+n41bc/BCPFW+fp/XFzMPKzSdLvOXqB5HexsbH44/sfY/ik+TbSccN//uZVvPT2iHb5ZXDW3/zhffz0xdfx0ZSF7e4dNnEe3vzgY1kbl+EMrMvBYK/Z6ZG4e7nGLsSY6/VRM3oLsszPtNJamc8b+kcGKc3isjpFhe0giy/XjpbVYcT3+QEp8M9ugn/2XvPOGGcfTZ5v11xIywhDAnFxbbuWEUMerfPtjCbLyAXd+UzIWui5EuM9/OCfY1nOjZm7MWIoRHw3CtClkOWgkqXSn0VdzjAlCy0bOzpCFp3qCFlK02T9A3X0Pzs6NkRqw/gWwZ2dGxs9Zytu2LBBZlTSbMiI8ow5QrUogYv2c8bu4swXXu/oOc5+J/5lafForEqzH3SvryCro3pyUpPFQZ8amVHjp+Fv/8ffS7gEamoYIqGrg7vc9wzQmD53nqP5i7G1aGr8H3//P/HKG2/BPyJFwi1051nmZ1y2v4yOukblxfp5Ft8bwNJ4ncU1VvCkrnPmGoIbA6MyNhn9wwiLvJ8zNTkzkTMf7YXcUM9x5jigIMuJ9kyt8cHdOchIi5MXK2PfQ8hipGvOCGMfwL6EmgNqwblO33KvFe335V6ireE6qx1BFvszhsxZ7uXVPh2vtplehA8+01H/QpMRl/3hGog28+TlhdDQMCmLozzxO77Q+vsH2M7Tci8sXboUnsuW2XyOp+cyLPX0tH2vl5eAIB3crfNA8xmtCXmZkU5HLe91yHKiLVHTxTiDebk5EhFdtSW2I6NG1FiXSpPV1ThZ1C5xgWhZpk0vEG1EGKc//5nTV7r4wt6GLDqkcpHW06dPW6js2VD5VkjIoibK2EAdfeYPWc2U5LpYhCXOTty/f7/4WFB1y6m2PMeGqjY63hPq4uPj5bqwsDAwjg/zwM7M0TM7+o55osnTlBqLQ3tzBzVkUdO02j9MHM3pbO6xyk9mGzozkHfmmqqDFxAQmSyhHfgcRjdnUFAGIO1MOoPhWkIUtX3UxKnyNJ66KeeoFbMHg+paZ46DD7KaZamUTFOMLI6sBkYeOTiyjyBkUbOt4IDQw5cuvpjZ2qntcqav4DV8AWT/YysdPsPoJO2of3FVnthn0iRqKz88d+nSJbvf2btHnWe6Rn8kVR7KICMjHYWd0Mb0R8j65kGTLJdGn1uWU7UltiM6iLMd8QVflZvH7kKWrK2ZmoCasiSHpkxrDZb6v7c1WUM+GKkCDR57G7KO7MtDelqsvG2xUaoGykbItxyqWo3xRYwN1fozO0O+OVBTRbMgoYmOe7SL07bMt0c2eHZgxo1rMbET4cwJLpRKrRM1WpyyGhMTY7ODsH62o/+ZL5od0lOjJHq63eUjBrgmSw3WXKSYpjXuRkdt9b2rjtTamJ9z/oHZVOaq9HU6z7V5gw6yuByKrDgRJdog1e/wyOnofEFjX3H27FmLwdHR71x/d69TsuLLc1pqkkyO+s4JjREBoT9CFt1eKksTkZGeLOOIGsd4ZLBVKgr4km9sH92FLIZY4Et7c12mU2ZWBVfqqCELGCKarGbQuTA9NQI1NdUWMzP49kPAoibK1luQscGqz3wD5D30t+KbA9+kqLkiXBGy2LCt43nwjYA/AvprEcqoNqeWizOLuMI9Qc/Z56t8WB/55kr1f6YpQmaiqIbe7jhIIEvDyXM4GSyyGIyQRV+anPQIcCo8/YUUaPGliL979h3OvuBP81ZLAAAgAElEQVRZ/+b1/46BizLm2rSpKbForDK1heJwArT6I2TR9MwldtLT4kRzZYQsmnM5vtBSY2wT3YEsyk40rSmROHWw0L5lxIE8NWQNFch61IwH1+pk/UI6DaqlddhIqU1i4+xMIFL6OjDEf3BwsLydUqNFzRTBi9os48ZpqNzpe0EHeM4MYcPn/wQ7dgD8gdBc2F3IYkdNtXh+dhS+urvH/puHhiyzuWuwwMlgKcdghCzOfC7eFoMsq4k3fFmjFov9gHFg1J8dg1Nn5ENQ4AttWkokThwosN8nWoFCf4Usxn/MSIsS+FGQpUCK4w/blFE+6rsp7kuxNCQHwSXHEVx8zLxzpuYn0xfbdXxntPeM1HDcPF85ICBr0bLVMjs1xKqcW4uOYPRcb6xa6yOmduMY3dOfh4Ym61GzzIzYITMM25YdUG+TnA2YnJxs4RNhbKS2PnNGEDtGaqTo8M7ZgjQbkvrpu6CmoNIXgpoqAhQBiL4B/J6AxeuZzjfffCOA5wrI4ltMSnK8xKFyNBW4t0M4tNOkWXVoxu+dnV04WKBCl8NSGzcYIYu/RWpRTKnxOHnqlGjSOUDSeZ19j5pZaKuv0ee6B1xt2v0iZKSG4daFyoENWVQWXK1DdnoECgsLRCvKdqTGGU6qsvbVI2TRJD1ttjs+meKOKYvWYPLC5/sE9xUYNmo8IiIi291LK09mRjoKsqNAp3tjP+3s597UZNGKtNJ7LYaPmYppi9dhqodxX4t3Px4H/02bRW49DVbG9IcMZLWpWrORmhwt/lOELHZgyh+LDdXZDo1wRLMcnVUJTdSGceYgZwVxZ6Ronif00LGdAeKoPeNMRgIW7z158qQAFiuDgfJ4rjuaLKXaTUkMx/GWfMdqca3J0posOzMN+xr6BiNkcUDiyhRpKRHyQqVe8KjBTkpKkv7D2b5HX9c56BJ/rLRkiaD+tSPtvtWLX7/UZD1qxrcP92FHYZz4mHHMImRxTGE7osaO44CxjfB/jjUcgxht39bOSVgcs4z38fOx48eRnBiD2vKULjm9s933JmRxjKX7TmJiot2d5exskFMjMHXl85CCrBvnd8kbTdH2ImmMhCX6UZH0rd8ArBuc8X/eR00UK4z+FKxU3k+w4jmCFtOkCVJNtSZg0SmR99HcaFwmgBoxnu8qZPGHRE1ZdnYWsk1huH+lg1gwGrI0ZGnIkv7S0QQc/pbzshNw+XR5l97ijW/7XOKrICcKGRlpMruOWgJquRnORftjdQ6cjH1xR58Z0iExPgwH9+Q4fvEcIJBFZQGXJ0tKCJexhn0/x46UlBTQ79casozy4Rhlazdeoz7zuvKdO5GcECoBv/lcY3t29nNvQhZ/0LQicYKZvV1ZmboCS129Z+hAFmeM3G9CXUUq4mLCJAI7fbG2bt0qswTpG+XsTvU+4YqxbUJDQyUEA23hqpIJSwylQNAicNGMSG0VTYJGDZaqNJobmRcCmbN5sL6Oz4qLDsG+ugxw2Q+HPwINWRqyNGTJz6+3IIu/Ry6fEh8bLIMi4+nRR5MmHuvfsv7f+b7YnqxoXaArR2JCHPKyIttePDsBCv1Vk8V2dP9KrazFm5KcKK4qHMOUy4s9eXT2PC0zcbFRsn4jl/5xOJ5YAarx2t6GLDWm9qfjkIIsVj6X4CktjEdUeCD8fL0R4L8OyYlRSEuJc3oPDw1EWOhWcHoroYkaKpoAjNtXX30lb6z8odO5lRoz+n+x8fKNw7hxIUw/3/VISY5xOg/G/KYmxyIuJhi7SpLw8Gptxz+IAQFZrglu2dfmL/18S5+rjuQxWM2F7Hue3GiQl7z46CAEbFwHvw3eiI8Nx/9r7zy8pDiuLi7/DfZxlDPOOeecccI555wtLCPbsuUkS7ZsKxNEWjLsArtLEghYEIgMiyVQwCBAyJKQkJC0WlsIC3/vO79aaqeqp2emesJOh9fnzJmZ7urqqlu33rv1qrp77pxw2+P2e/1dBbc502TG9InSOXeC7N+zTP5voMbAMyIU0iyy/jewU/bfsMzU7dKLL5QLzj9PJoy/pKk8mj51vHR3XWXuyndFU9LfKrIKdHehJQeLUI/fvkH2bO82i1FZkMrT0ZN8VvRMkjmzJpo1Wa5Ycn/z3CzWex04cMDME7PmimlB3jDOSzDZTp48aZ7c29vbLROvvFA2rp2TqBylMs+TvTt75IEQgYUxSbHIon3WruiQCVM7ZMOe28wDLt0nkuvvoafR5xWH1Tv2yfjJk+W6tbMTTe/Y/m2/3QgV0/OVNjddNE0zpwttuQaPbjIvst9q7E5y21Pq88lsVhHP23ldp5nqZQbD4h/6nWaRRR0evX+7edn1jo0L6vZj1Tixa1OX3HXrmurv5YwI0zhsVWQVUGQZIhA2buBz7Mg66VvdZcLRrKdgHjy6MU141llnDS+E5wXRLMrjsQ+s1WJjepDbbi+5+G+yvHeqnHxgZ0Plqvjw0WhnSLHIog437+6VyZMvl6tmL5Ql1+6Sqzfv1U8BMOhdt1PGT58rHdOvkEM3XZ1LkTVkf4YGOo3YID031IZXfuFynCiw+9IuskaGR/VhZzHkW0VWUUVWVHQk/H/8jmtlw7rF5jZanpdFlIpHMbgbd7WwTorpRKYMuZOIh5baV/eQlgWLCLFzxp0ty3qmyMk6RlwuoYN/p1lkPbRLWAPASGrOrAnSMXOqzJwzQz8FwKBj5hTzwGBeCZXkTrA43rsRqjRFsuLKqvsad+bNxjATIiuh32o2RiH5qchSkZU4jAyxHrxzg2y6tse8Df3888837yFk6i+6cYcDdzP09/ebqUKeWeJuvG+K1+own963qsPcnhtC3IbTpFxkUb//3r9djh7sM4+j2LOjW/STfwxu2b3EPMvoVK0bNwKci4qs9AmXhu1WQLs36xoqsprDHxVZKrLqElkDR6+Tvmvmy7XXrjfP3CJahaByN/ssHEQWC+N5Knx0WpFXbGzatEGuWTFb7jhwTV1lqcuoZEBkmXo1MKWr0ymh0ylpS9cc464iqzk41mVfRlAMtap8KrKawx8VWSqy6hI2TGXs2bVE1q3plptu/Id5iJv7/A0edsaaLJ6Bw3NHeFhcVGQR+erv3yE9i6bLgb3LG1p/ktjQZEVk5cBYJ24brXNdfTKKs4qs5jjJKK5F+a8iqzn8UZGlIqtug85rBm7bt0r6ty2RHdv65MD+W4Yf44CAYq3WueeeKwcPHjTRLkQWgouN43v3Xi9Le2bJ3l3d8t8HttddjrqMnoqskcVbhdOI460iqzlOsi77kgO+q8hqDn9UZKnIasz4D/bLv+/ZZCJRO7csk107NsqRI4flxIkT5hlaPLSUJ+fyPC0eRspvnvS+b9/NsnL5PLl59xJ59MHktxc3bPhUZDXW7jlwIg1zKOUYqMhqjpPMO08q1U9FVnP4oyJLRVbjznZwl3mv0/13bJCbdy+TbZuWS//OLeZt6HYxPO845LENx44dk/3/3CdrVi2Uf96wzCzurtTJW7pfRVbj7Z5ykdFS/mSg7iqymuMki8ojFVnN4Y+KLBVZzXO2g/3yfwO7zAPc+rf2yLbNq2Tvnt3ywP33y549e00ka9u2rbKkZ678Y9ti84qfthkwFVnNa/cMCI628ayN2KjIao6TLCJ3qLOKrObwR0WWiqzmO9vBfjl5/3Y5fMtK2bmlV3ZsWSs93Ytk8uSrZNbMibJ1wwIZvHtT86+bxKGpyGov/knaStPW1VYqsprjJFVkLRaXS+4d5NV+/+c//5FFCzuld+Ek80DOouKoIktFVl0GPKjDmPVam+Wf1y+Tpd1TZNpVF8mGNTOHBFaCF5UGXSupI1aR1bp2T9oWmr4lbeE6Rn0YqQqupHZUI1nN4YyKLBVZLTHwbofmXXz3HlknR/Zd3f4IlnXoKrJa3u4uB/R3cwx2EhxVZI085knaJ+1pVWQ1hz8qsjIoshZ3TZFjt61XJ2kFUz3fKrKUP/XwJkPnqMhqjpNMuxhqVfkQWSt6p8iS3ganCxfpdOGShZNkYVfn8COOqk2z5vHYGe2qlGsEQ8uwbdt26Zo/RY7cskqdZCMOb7BfNq6eJQs758jdd99dFf64dnL33bl/tbZFI22h57aEPy5HDx0+XJHjbrpoouuvv14WLpgu+/csk+CXr2t7tqQ9WyWmKuX78L1bpbtroixd2lvXmizuLO/t6ZbFnRPkxH3bcoFJJayq7afuPV2TpKe72zzaKNrHivA/UyLr1lsPypzZ02RT31w51Y7nS+XBgA72y4N3XSeLFkyQ3t7umqOLOCfk7tt27XxpxrvmqnVUPaZRiaQccDlqHwIcZ9DddNHjt99+u8yfO0PWr5rRvset5MHmZK0Og/1y6KaVMqvjCtm4cWNdIos3gPBsxNkzrpAj+64Z2Td6pAjvI/tWydxZ480jjKKvnov2t7z+z5TI4n2AK1eulBnTLhNeJnvy+PYh8uo77gJx2CUDRzdJ38oO6Zg+QXh+Vy3ixzkhd9/M6ZcOPfOLp9ZrOygGKeDAv+/Z7DlGHgBcaXO5HE3DQ4X71q6VjqmXyp7t3fIIEYkU1E/L0Lr3bf5vYJccPdRnBqHz582SO+64w+NSlCPV/t92220yd84M6V00Se49st48T7Eobfe/h3bJPYfXSU/XRJk/b6b861//qgZVro9lSmTREnfeeZcsXdIjM6dfLiuXTJXtG+bL7i1d+qmFweYu2bxujvR0TpSOaeNl8+ZNwm3GtbY4J+Tu6+1ZZEZ8q5ZOlR0bF2g71GoHPd46jmzuki3r5wlrQFyOVuN4rXT33HOPXL1imXRMvVxW9ExRe5Nj/u7a1CnrV82U+bOulDmzO2Tv3r3y6KOPBnMpyjPeYcuU86yZU6Vz7njZsGaW9G/ubB3/U9I21PHa1TNlwZwrZfbMqeaNJ+BY1C1zIoswLIaPJ6h3LpgrC+Z1SOe86foJwWD+DPPMLl5YTVQwZItzQu4+1nStX79OOhfM0bYIaQNN09K+umDeDPN8Ipej1Xgeku6+++4z00ZdnfOkc77am7za2wXzpsuCeTNlxfLlcuuttwoiiS2EI5U4xtqsffv2ydKlS0zeXCOv+A3Xa/4QjsuWLREen2LffFIJo7zvz5zIsg1CB7j33nvl0KFDsn//fv3UxOCAsMbkoYceqjlFaDHmO87ARPfZtuBl2NoWysV2cuDIkSPy4IMPxvLW5bX9HeWy3R/9huO8e/Tw4cPK8Zq2Jpt94MCBA3LXXXfJww8/LAzm7RbKEZs++k1eDGqZeuQa7ewfI3Ft6njnnXeamRIXxyguRfmfWZFVlAZqdz3jDEzcvnaXU6+vCLgIhHI0NJ2bt/4uFgLKkWK1d7NrqyKr2YjmLL84AxO3L2fV1upkHIFQjoamyzgcWvwGEFCONACenioqspQEVRGIMzBx+6pmogcVgRFGIJSjoelGuPh6uRQhoBxJUWNksCgqsjLYaCNZ5DgDE7dvJMuk11IEaiEQytHQdLWup8fzi4ByJL9tOxI1K4TI4u4GFsmz8JCF383Y7GJG7q47evSoDAwMSPR5PPxnES6LKbkjksWPPJeKzwMPPGDKw/NDeFhi9Nx6yshzfaife7ssj2lIutjdvXacgYnb556jv0cGAThD27JQ124s0GbfI488YncV8juUo6Hp0gaiebTA8ePm+UPYknYuMHbtGTcHuPanGm6UeXBw0Hxs+ckL/oY8XqZa3s08liWOWPzwOfgm8GXfSGzYI3wZfjaJT7M8cO94j7NtI1GHVlyjECKLRxb8/ve/l+9///uyYsWKhgUNpOAZKpdccon88Ic/NPn+8Y9/lK1btw4bGATPddddJ3/4wx/ke9/7nvz4xz+WK664wtzOSwe46qqr5Fvf+pZ8+9vfljlz5hjR1UgDIyRXrVolkyZNMnevkBfGjn0TJ040t9LWk3+cgYnbV0/eek5jCNx0000yYcIEWbt27TCn2Ud7sw/BVdQtlKOh6dKGI48YuPjii40N6ezs9IR2PWVlMMijBhgwJt1cezZlyhQzoAzJg/OmTZsmCxcuNGKAc7j+rFmzzD7KlIYtKxzBB2zbtk3+9Kc/GZ+Eb8JH3XjjjcEwIpLhwbFjx4LPsQm5s/fKK680Po02rPamBXsO35wHb5YsWTLMY+6Ehxu9vb2pEtxuuUN/F0ZkIXSe85znGAI2+twOolKIqre97W3ymc98Rr74xS/K17/+dUMS69gQYd/97nflne98p3zpS1+Sz3/+8/Kzn/1Mtm/fbiJbiKxPfvKT8rznPU9+8IMfmFteQxstLh0d6Stf+Yq5Fk9yZ0NkdXR0mDJcfvnlw4Ys7vxK++IMTNy+Sufr/tYgQOT0b3/7m7zrXe8yIt1GQvv7++Vzn/uccb4Yy6JuoRwNTZc2HBFZv/nNb+RZz3qWjB071kTMGynjrl275Ne//rX09PQkjoohli699FJ54QtfKF/4wheGB3nVyoOd7OrqMvy98MILh20TeVGfD33oQ+a1NNXyGKljWeEIz6RiMP/2t7/dtAM+h/8M9kO3TZs2GV5dffXViSNgiCXa8gUveIHxfSFPeSfiPmPGDOOjLrvssmGRxeOA8Nmf+tSnjM+0kc7QeqQpXW5EFo3AlODu3bsFoiByCFsSgkRULV++XN7znvfIWWedJRs2bJBrrrnGpLFhadLxDBye8UH4HYHCqOqWW24xz5eyUzI4Nwj4wQ9+UD760Y/K3LlzZdmyZdLX12euh7OjHESU3vSmN8l3vvMdI75Is2XLFqPubXidB6oitCqJLEZy1IdoFO/Qoj7WmbokImpmr8folnC73RBcn/3sZ+UTn/iEycvuD/2OMzBx+0Lzy1M6HAVOAc5g4GgrnB+fnTt3Gt7QXnCTB1oSUV2zZo1pT0Sx5R7txfPeyIcRHNyFK+RjeRfFjREr/Pvyl79sOGqPwxkM3Zvf/GaZPn16YR8EGMrR0HQW37R8Y582b95s7BDOiCj66tWrzUOacW7WTvANR+ELdoQIJ7yyg0HqA2dwdG95y1vkF7/4hRANxe5xnpsOLvKcJewr+fGbiAf74S6DyTFjxkh3d7cpC2mwhXEbr5xhZuH973+/KZN1opQXm/qGN7xBfve73zUsHuOunXRfPRyxfRqsbZ+mjfiPvbYbNgAsGBAxeMdO3HDDDaYNmOpjs76NATqvlcM2kNZOA3KcCJRtw69+9atGLC9dutQILPJk47q0GTaID9d0y4LfIzL+1re+Vc477zxjh0jDtKPlE/ngK+EH4m3Hjh2m7WlneMAT7vE3iG18Ln6WNJWiWthNyvuRj3zE1MsU9HRZiW7hQy+66CLPp9k0WfnOhciCbDgwOuWnP/1p43xoaMQLhocNkfK+971PXvaylxlD8IEPfMBEfhi5IZx4mSeqn46/bt064/T++te/GsLgtDAiGBxCmh/72MfkaU97mrzoRS8yIgnjQniUjgXZIAdRric/+cnyute9zuTBtCBGzhoTygSBcZJxIgvyEamgHozqMF5EwhCI0fU2dFLyJx2G190gPsILo0X41e0sbrpKv+MMTNy+SufneT+c+POf/2ycC+3IqIuIJh/ai0gDYgoDiOChLTEmCHRrCOEeHIV35MEUMgaK87/xjW/I7NmzjZFzcYSHiGralPC8ywf4BZdxXkwXIMyLuIVyNDRdGjFkAMUg7RWveIWJqNP/P/zhDxs7gR1gcElE4C9/+YsZZNnj2DmEEraANDhjjj3pSU8yecFToqE4N85nQ3DhxL/2ta8Z+4oNxO4R0cex4oiJ3BNZg3ujR4+Wj3/840J0IhrRgKMMVInCjhs3rmxqCttHVJ7zibC1e0vKEXBFXCB+bZ8mqgRm3/zmN03kGZHERjv89Kc/NX0ee4G4YXYEbBctWmR8Cviy3AX7QjuBC1FHBnJcC3GE/3n3u99tfM6rXvUqY2uwQ7QtafBLCxYsMPYFjpAPx+fPn2/wR2zZyCJ+69WvfrUpB+V22xDBOHnyZFMvBnkM3ikrXEF4wRc48vznP99wAD8LR5m5gSPuBg+oI+L+t7/9bdmSGQabYAEfk0x5utdIw+9ciCzEDc4OcmEcfvnLX5qGeeUrXynjx483OCOyICHTczgfBBmdHELQgBglCIUIQ4wgXJhie+1rX2scI6MynBtCiY7D1ONrXvMaE6mik9gOwaiBkRgkfsYznmGu+aMf/UjOOecc4/xCRBZ5YBghH+Vjjp0QOmFgOgadzt3oqETpqFfcXDojCs4999xzjaB0z631O87AxO2rlU8ejxN9ou0xSnbqeNSoUYYXCCnaj+la2gSxhJi2Qv71r3+9cSREDYhoYkAf97jHGeOEIf7Vr35lhBYcxRC6U9yINvjEMTuIcPHlacuIbhwdo98ibqEcDU2XRgwRWTg5eMM3g8Gf//znpq8TQYdbRE5wkoh4uIftwoHizIlgwSsEAY7s6U9/uuEs9ooPUQ2i+zhgnDhLH+zgAXEEh8mLyJUVWY9//OPNQPf888833+9973tNpN/FD6fP4IAB6NSpU4cjMjYN0R3OJxqL43dtpk0zkt9JOUL96NO0yWMf+1jTpxk82T6NrUbwgD39E7uNP3niE59o8Kf/kx4xg9DAnxFdog0vuOACY0fABp+ADaIdWdeGiMPnYIvI8+yzzzZty3UIJiB+aT98H6KGAR+BB9oPH4ogQzjBg3e84x0mDzhDG2FTiKwhlsgfe0UezAzhd9mHLUJkMYB8ylOeYoQj5aVc2CKiqO4Gr/BzDBbxmTYyZ9PAA3zWG9/4RhMVs/uz9p0bkUVjMqJDZKH6UfqQ2s5HI7JQ1YwuICZCBvJCKgQWAoqRGo4LkUWDYzggKp0FkcVG1ICpQc6zJMfpQQiMAR/CqUQuEHUYOEYRhEvdiAN5VYpk0fFw0nQ8CEs9IDtGjREC5WO6wG50Dhted52xPU6YmvyoO50lyRZnYOL2JckzL2nhCM6HkDbGgign/MHwwCWMGgtPaXtG7vCF9Xs4tJe85CXGwBH6hxcYMgYFiDYiZBhOjBJiHXHmRqRY+4ARxmCyBiu6wUW4jXHiukXcQjkami6NGFqRhZAh+k67EyFhwInTQ9jznxtr6PsMIrFbz372s40It7YA/jFIREQRmWJQgH3EqSIYEFqWb4gHoq8cZwCBfYTDVmTBf3iLDeT6CAoi+65QwkZxHewZzj+6cU0itYgwbuJwbV007Uj8r4cjYIogefnLX27sAeIj2qfBH7/DIJnoEgN6hBX+ifQM9Flmgn3BXhApRHTwTTCA9CwMxw4xY8FgDLxpf9odu4OQwT8hvhE+XIcpYQZp2BYGiMyQ4KOsmKYNiUzRprQzbck1br75ZjMwJLqET4EfLKmhrfBRzCZRbgIB1q/CSdoQ0QYP3Y3yUQ54h9CP25iFAUPsaVa3XIgsOi1zzDgopgtR6HY6kDlsOikiC4IRFSI9pOTOP8hghRh36WCwEDFsqHtCuK7IYj9zzCh5CE/HiW4YFEZglIG8XAPjpq0ksoiW0bGIiuCoKTcfRgOMCuhMdE67YagwWNTH3W+PIxDpUEQ3oqF7m6bSd5yBidtX6fy876ct4Ayimqlc2gsHgnFE2GIk2E9IndEnjo6pEIwm5yHw4YddhwI/4R37iLAiyEhPRMJuOD0MGVxgHVh0g9twE05QjiJuoRwNTZdGDK3IImrFdJ7dGHTh1HC22AZ4yH+iWNgtpvQQTa5wx04S1fj73/9eFlHAeTJFxSCBqSm74YRxvDhxK7Lche+LFy82NhCxgZO2G/aXaAoiCpEQ3UiL2EBEMBORRZFF/2UARh2JMFqhYqfAaAvbp5mZQLgQPXTbEVzmzZsnL37xi81ictrR9QVgzSDK+hf6Oj6Cu9gRqnZjio+lB094whNMRMzmgU+gzeGJvS5RLWwYuEd9CbYKf0kAA6FtN8QiPMAXIrK4FqLe+hoEEgEH8HA3K/4QdfjvuI0bKhCU2NesbrkQWZCI0DbRBIwKYokR1ktf+lKjlFHb7GfKDNWOQYBURBwwPkQg6PgII9LgGBkJMMLAyeEMiV7R2dlPqJd9GCqIR1iekQAb+VAe1lPhVImq0YmITuA82SAXpOS6EJ5rMPqzaViHgAMlFE+EDkOEwWJEwDoxRKHbiRjFUg/qw+gguiHaOM5ohmsn2eKcUNy+JHnmJS2jVZwBESMiVtZRgTPiC2OFSMfIMrXMqA2xT2ifY/ADh4goQmQhvOAfeREFwKkRoYQDrpiHgwwoGLXS9tGN40wtcNwOIKJp8v4/lKOh6dKGF3bGinramUgANggBDl+IZMEjohY4epwV9oxpOqZ3GIyywNoKGGwE+SB+yAcHCXcYoGGPiKhjk4hkcRw7gt3DrjLotAMC7BnnYOuIYMFx+O/yl2tiY7FvRMOsSLAYR6eRosdtupH6rocjVmRxxyWRGvBHZGCjsRe0EbaavmrFKAMnMLf+hDwQH9hu7AKzIvgM/BRLWfjPIAsxhGCmbVmiQBSb/axtA3eEMTx47nOfa6Li+Ed8CthTDq5v24f2hAcIL/wkUXN4xvovolcMEpktwu8R5YIHiH3KRVSdWRiCEvg0+AUP4CEDPjCwi/lpO6JcDEjBgzJF2xkeMK2N2Eb8ZXXLhcjCCDBCw3ggfBBYkAEHRdgTI4DDeuYznzksqqzoYh9OEYGDA0Spo+5/8pOfmNEbxwmvI5owYHQUDAn7UNgs6sMAQQLIThrSYuSY24ZAkJLOhZFjlIZjpUORD8SnI2LAKCNp6HyIRjoWU0Kcy3Qh+RARYY2VK7K4Y4SREaPNaGQDY0xekJzv6OikFnHjDEzcvlr55PE4uLP2gXYm2oSRI3rJaBLjwAjNtiu/aR94BVeJUnLzBO2KkUJkwV+mDMmDkR88xDgi0l0DhLjDYMHv6NQxOGMM4RZrO+BjEbdQjoamSxuGcI+IAjxiyofoPXYC+4dTJyoCDxiUIXSwG0w7wy2mjbNbZZ8AABI7SURBVLA52Ck7ZWgf/QFPsUNEIuArkVUGhDhkBpbwmeswWGXqG3vJdBEDQAa1LGfA+TMoJaJB34CL3IxhN7iMY0cQ2LVh9hjfcJZ6EGnBmbd7q4cj1BFfwRIW26fBlj7N1Bp9HsFBvwdD2hH88Cesw2UghsggGGBFM8IY3GlHbAjThvgsBBbRK9qdNVmIakQOtgnc8TmIcHwJZWAARhvit7g2USsrssAbkYT9IQ3XoM3hCqINH0IelBOeUB78EmVjyQPp4BbRNyKYDALxxU996lNNGjhpN8rFYBI7ZqN99hjfcBzecv2oX3PTpf13LkQWJMMI4MBwdoReETGMlhgVEMLEECC+GKnR8Hz4zT7IQMdGmROexTlBDMgMiciXyASqnhEAjo/z7IdOw6I/O6IgtIlws8f5hkQYMojFtZnOcY/zm9EDaeig1IlOShnoMHyYFiCczwiBfOxGKJr9GFPqQue0G+IRLOo1WHEGJm6fvV6RvuEMkSzampElD7rF2dDWGE/2YXQQxbQLxhODhPHjHBwhHMWJkR7jhePEAcFn8oNzrqC2+MIhomE4Q9Zu2A0ucF3EPaKPKFkRt1COhqZLG4ZMNdG+cAjbAafgFoMthBF2BDHO9BROGkHE9BIRULiHuIdjRPnZcLIMFHHA2BrsKFzEOXOMdNhGrsd1sLEsP4BrDGI5F7tItJb1XThTjlE2ohV2TavFkaUS9AccP2ntIIJvbCy2jMX1dobAnteO73o4YkUWUahon2amA/tN32SKL86fEFmk/cjH+i/wBnfwp52wNQgR2gaxEvU54G5vfCGihI/iWvAAUWTX+zKLYu0EkSlmavA18IA0LHDH3iAKKTvTf65fQojhX+EB59JufGhH2hbfBA+YaYqKJXwZdeLDb7vhS/G5LPjHT8fN0Ni0af/OhciCsDgXyIbaprEwQhALktrjiChCp5CXCA/Gg32Qx4oW8uFcwt+EzOnkhE1tGgQMDc559sN/8mTjeuQBWe1xvpnDtlEkrk053OM2jQ3fkxfXgtSMevjgTMmba7gb/yE4oxs6BU6bjbxYbEhEDMNbD1HjDEzcPrc8RflteUVbwzXai3aGV7QT37bd+cYg4vQQ0LQ3fKVN+I/AZgSKQcYBEUqvtrE4GePH6JXpAyvE4D5GFAMZNWjV8svbsVCOhqZLGz70bWwIHLLTe3AL7sApayP4hmvYBD6kt9yDs9buUT/4i6jH1mBH4bXlFcexcXCV68AzBhnWHuGkuS7n8JvyYTO5Fv3A2j6LI9diMErEn4EI+bAxfWYXQyNAbD3see34rocj1ANxy1QXSwbA0woZtw7gAG7gZD/8Z7+7gQ94g7v1TeQHPnywF1GfE8WdNsFuwAPyYQDOtdw25prkxbXgATYLnkV54volOMM5lIMyUQ6XB/CMullbGK0XgwV4gGi09SZPBg6sQyMq6l7fPT8Lv3MhsrIAdKvLCMlxtowWiN6x0akYTSCwcLj1GKw4AxO3r9X1y2v+GDicCWKJW/EJsxPlxFlW22hL1klwqzvnW0OJYUSwEQ2zBqtaPnk9FsrR0HR5xamd9eIuOgQWkREcMRvTY0xJEflFqKRhS8oR+qK9+YBHOLDW0gqtNNQnbWXA1uG3iFzhx9gQeazlghuIvCxvKrKy3HqRshPpYpqAUQMbjpiRCHcHMaqsZ4szMHH76slbzxEzwmc9BQ+CPOOMM8yHhacha1EYGdLetLEV0EQ1ENSMNIu8hXI0NF2RsWxV3YnoE1FhYGAjXThZ1iDieNMSvUjKEerFujSee0WffsxjHmPWYvGoC93KEWAwSJsTHLCDRWwbdszegVl+Vnb2qMjKTltVLSlGijAyC+cJCbNhpHgKL4sjGSFaR1w1o8jBOAMTty9ymv4NRIA2YiqBERujORahEh6vtRaFtmTRMnf+cL51SExtc4cSUwJEMou6hXI0NF1RcWxlvZmqYjDBINAutyCixdIHbmayU4itLENI3kk5Ql9EJNo+TWSONU128BtyzSKlwdbht5iGtmKb6BXrueBG1iPyKrKKxOY66hpnYOL21ZG1nqIItAyBUI6GpmtZQTXj1COgHEl9E6W6gCqyUt087S9cnIGJ29f+kmoJFIESAqEcDU1Xyll/FQ0B5UjRWry59VWR1Vw8c5dbnIGJ25e7imuFMo1AKEdD02UaDC18QwgoRxqCr/Anq8gqPAWqAxBnYOL2Vc9FjyoCI4tAKEdD041s6fVqaUJAOZKm1sheWVIhslwS6+9RklYMLL3d8tl9+q0IpAmBUI6GpktT3bQsI4uAcmRk8c7b1VRknZleUeN27jT8tuR3y2L36bcikCYEQjkami5NddOyjCwCypGRxTtvV1ORpSIrOHJmye8aHf2tIj3tHLC8jft2yx53XPcpAsoR5UAjCLRNZDVSaD23vQi4Rkd/q8hKOweq9Za0l13Ll67+VY1LekwRiENARVYcKrqvKgJq+NNl+LU9qrdHNTIrdtWxU3x8fKpxSY8pAnEIqMiKQ0X3KQKKQCEQUBHhiwjFozoehegUWsmmIqAiq6lwamaKgCKgCCgCioAioAgMIaAiS5mgCCgCioAioAgoAopACxBQkdUCUDVLRUARUAQUAUVAEVAEVGQpBxQBRUARUAQUAUVAEWgBAiqyWgCqZqkIKAKKgCKgCCgCioCKLOWAIqAIKAKKgCKgCCgCLUBARVYLQNUsFQFFQBFQBBQBRUARyKTIOjVpTOlVMGP75JS2oyKgCCgCioAioAgoAilDIHsi6+AUGRh+3+A4OZkyQLU4ioAioAgoAoqAIqAIgEDGRNYhOTHaPpF3nJw8WOBGPNgnJ8aOk4HRTlQP8Tl6jAxO0uhegZmhVVcEFAFFQBFICQKZElmlacIxcqKqwHLF2CgZXJMStJtVjDXjStOlw1E9Kz7tt0b5mgW35qMIKAKKgCKgCNSDQKZEVngF8y2ySmLTCqoK32P7wiErSEoPO13PV5BW12oqAoqAItAeBFRktQf3hq5qhALTgmsOeYv+PQFhIlwazfKA1vV8Hhz6RxFQBBQBRaC1CGREZB2Sk5NYf+RGbMbIwNgpZeuyTo5105T/9qYOzbqmMZF8R5l1TgiY6HbKmaYbyueQnBw7xlmIT5mqrYcKr0f02mH//Qje8TNVZJVwc7Ep+Hq+EijmFxw+7k0715qOj2Sgf4MQ8AZBVe1EUHaaSBFQBDKAQAZEVp8MeuIqKpyI6JSQriWyBiadFk+OYPIdTCl/BJO7uUaSxeUVyzV6ihdhGsqjSnrj4Px6uNcN/+0KCRbBx5UjPLc8pSy1XS0B4WPocitPeAzXJbYf1MJo+Gz9EYqARlFDkdJ0ikCuEEi5yPIdXiUx5EZsaoks6zRLTrckqsrz951N2DlD+Q2LOUOX5PVIzDKichExauuaOK9Cn+C3Vb4x7JNBL4Jl+4LP+0LToSmVdzlV5ChqJb5Z3sXZzqY0gGaiCLQNgXSLrMgoe8B5NMGpNe7zskZJNVET6yhN3qcfd+DcqRjN1z23TGSNLhnM6HleFKnuelThhTcy9o3U8TOpV/l0Z5Xc9NAwAq5DzOGdqcP1FHEHJAOTpjiCS0WWA1PDP0t2oxaueedemMg6HplBaLgBNANFoI0IpFpkuU4gruOVjFd0aqwRY+Wf64o373ox65288jrHvf0xBsTLN3SKr4rIGhg9Tk7ErClrI8/aeOnwdXBeO8VEeFzBLVlfz+fxh7V7rgOsJQba2Jy5vrRvezy+5aLeLseiA8PSf9fm5qLaWolCI5BikeUbHLPIfU2fnHQ/7ut1PHHin1vZWFkHHF34G9/ha4ohL2JlHZVflmT1qMJNz0mWyutNeXqYVMkrt4eSrYOrJbKGjb/XzvHYp3s9n8/Jof7hOkDL3dwSI6UVi2uXlBa1rmK5HNObcuqCUE/KHAIpFlluh4x3ZJUFRYCxChEpZ/rTkPWJrEbqkYRPh4S7H0uvHBrCbFgYJMkqF2l9Dnhc8aJUJWNfS2RZse7xwMvL5akvVMLOiWuz5PWo1XxeWYYjqy5P/bLXyk+PV0LADuJ8XhT3rmiXY6V+Vwk93a8I5AGBFIusUOdy2oANOwuaxT/XOsdSg/nH7atohqJkU7y7Bl2R4jmnuCiRF+GwjipyrYpOOa4epRIH//LKEJ1GDc4l+wkjOOh6vtNN6g0uLEc55jpAd3/2qdCeGmgUtRx3l2Mqssrx0T15RCAzIssVO7Ubwhc2ZSKroqMhZ/9c97qeyHLWXNny+JEQa0Qq52fPa+p3RFx4C/CbeqF0Z+a1hSfAh8rttaUnmP32KuNO1Wr75zbOHX9xerJ1ifEFdXFxy6ciKx6v+vb6PNAoqkXRFVludI/f8c89tGfqtyKQVQRSLLJEPEfIHXORJ5zLwdPh+DOjd4FFjNzwg/9OPyHdE1mca+/EG3q4qGsUXUfkl4cokXt3YeR9go5j989LUo84Wg3VbWjKwZZ7KN2pg34Ujnq45Y/LLZ/7/PZPtg7OP7eyyLJTQRlaz+fy3hOWsMB1gBrJaqhfRAY6GkW1aLoci4qs0v/Kfc7mo9+KQHYQSLXI8g1/qRO6Isj+jnZMd8Ru05RER1hnL6UfalBfLCUpT/j1ovUop5IvAty6lf+20bTyXPK9Jxxvg5knOHx8Y9vDFStVpn9dgetxx7ve6ZbwHLMVOY3Uo7yFvTJUKXeJR7Yc5XnpnsoIeLbHGWzZM7x28LgQwD2bSdm3f25F7gVH4JsfRQ2358q7subVHZlFIOUiS0SCHFpMp/ScVkkQWePjGboqDsemp4W9c0aXv45n2DnFGNa66xFDLc+IVyx7DCYxeeVzl+9whtulElZee/nnloss/3iW1vN5/K2Ehbe/yByqt2f4/NAoahRH/32rHNUIfBQj/Z8nBNIvsgzadmqmJJaGIhA8dLP8/YW2gczddu5T0Hl+VOTBo96rcXjpMg88dQRaZZHFK2si04unX9psr1/+XV894vLh4aeDCD3PKfLexaFnZJ0qP6lAeyKOLtGDWf1zy0SWJ/qjIsQ/tyJ3gqMJlfOrqzEdXtcUnoZX0frVddWCndRI9NFv7zLugaTHv4g9dGxBRe55kbPTTePxwrZ5I/Woo8mj9fIGPnXkp6coAilBICMiKx1oeZGAOGOVjmJqKaJRR13PF8AJ16laRxtwmiaJIOALpZpi1hMT/rnlIss/nqUoagSkmL8u/0ZJ3E0eMSfpLkUg9QioyErQRCqyEoDV9qQRo+2M8qOOL+rMKk3HDkUHwvOtGE2oUhbK5pcn/Hr+eUkbwL2Oiqyk6JXS+0LI5UApTaVf/rll7elFe6Jt5J/rXtezW+2Kolaqst3v1a2oN+xYMPQ7TwioyErQmp6x0khWAuTalDRiuKPiauh/1FmJiDd9UpqSsY7L40EVwWTTU3vvnDau56vcEiqyKmOT7IjX1hpFHQaPwUvsXdGR99DyOAd3WcdwBvpDEcggAiqyEjSaZzxVZCVArp1J61sHl9/1fJXaQkVWJWSS73exLIn0OJEfjVblOYpaqW5luHhTqMnR1zMUgTQhoCIrSWu4EQ4VWUmQK3xaFegFo4BGUcsaPERk8c7PYt+0Uwab7sg4AiqyMt6AWvxsIKAiKxvt1NxSahQ1imf8XdH2ae/+w5Wj5+p/RSCLCKjIymKraZkzh4CKrMw1WW4KrNzLTVNqRTKIgIqsDDaaFjl7CKijy16b5aXEyr28tKTWI4sIqMjKYqtpmbOHgK7ny16b5aTEKrJy0pBajUwioCIrk82mhVYEFAFFIAwBFVlhOGkqRaAVCKjIagWqmqcioAgoAmlBQKOoaWkJLUcBEVCRVcBG1yorAoqAIqAIKAKKQOsRUJHVeoz1CoqAIqAIKAKKgCJQQARUZBWw0bXKioAioAgoAoqAItB6BFRktR5jvYIioAgoAoqAIqAIFBABFVkFbHStsiKgCCgCioAioAi0HgEVWa3HWK+gCCgCioAioAgoAgVEQEVWARtdq6wIKAKKgCKgCCgCrUdARVbrMdYrKAKKgCKgCCgCikABEVCRVcBG1yorAoqAIqAIKAKKQOsRUJHVeoz1CoqAIqAIKAKKgCJQQARUZBWw0bXKioAioAgoAoqAItB6BFRktR5jvYIioAgoAoqAIqAIFBABFVkFbHStsiKgCCgCioAioAi0HgEVWa3HWK+gCCgCioAioAgoAgVEQEVWARtdq6wIKAKKgCKgCCgCrUfg/wF30xiJaLN8fgAAAABJRU5ErkJggg==)"
      ]
    },
    {
      "cell_type": "code",
      "metadata": {
        "id": "i_52XYrS_r6F"
      },
      "source": [
        "def csv_reader_dataset(filepaths, repeat=1, n_readers=5,\n",
        "                       n_read_threads=None, shuffle_buffer_size=10000,\n",
        "                       n_parse_threads=5, batch_size=32):\n",
        "    dataset =                            # étape1 \n",
        "    dataset =                                      # étape 2\n",
        "        \n",
        "        \n",
        "    dataset =                                     # étape 3\n",
        "    dataset =                                        # étape 4\n",
        "    dataset =                                # étape 5\n",
        "    return dataset.prefetch(1)"
      ],
      "execution_count": null,
      "outputs": []
    },
    {
      "cell_type": "code",
      "metadata": {
        "id": "_3u56LCT_r6F",
        "colab": {
          "base_uri": "https://localhost:8080/"
        },
        "outputId": "1f1b8d58-849f-4067-fc9a-091e3728479c"
      },
      "source": [
        "tf.random.set_seed(42)\n",
        "\n",
        "train_set = csv_reader_dataset(train_filepaths, batch_size=3)\n",
        "for X_batch, y_batch in train_set.take(2):\n",
        "    print(\"X =\", X_batch)\n",
        "    print(\"y =\", y_batch)\n",
        "    print()"
      ],
      "execution_count": null,
      "outputs": [
        {
          "output_type": "stream",
          "name": "stdout",
          "text": [
            "X = tf.Tensor(\n",
            "[[ 0.5804519  -0.20762321  0.05616303 -0.15191229  0.01343246  0.00604472\n",
            "   1.2525111  -1.3671792 ]\n",
            " [ 5.818099    1.8491895   1.1784915   0.28173092 -1.2496178  -0.3571987\n",
            "   0.7231292  -1.0023477 ]\n",
            " [-0.9253566   0.5834586  -0.7807257  -0.28213993 -0.36530012  0.27389365\n",
            "  -0.76194876  0.72684526]], shape=(3, 8), dtype=float32)\n",
            "y = tf.Tensor(\n",
            "[[1.752]\n",
            " [1.313]\n",
            " [1.535]], shape=(3, 1), dtype=float32)\n",
            "\n",
            "X = tf.Tensor(\n",
            "[[-0.8324941   0.6625668  -0.20741376 -0.18699841 -0.14536144  0.09635526\n",
            "   0.9807942  -0.67250353]\n",
            " [-0.62183803  0.5834586  -0.19862501 -0.3500319  -1.1437552  -0.3363751\n",
            "   1.107282   -0.8674123 ]\n",
            " [ 0.8683102   0.02970133  0.3427381  -0.29872298  0.7124906   0.28026953\n",
            "  -0.72915536  0.86178064]], shape=(3, 8), dtype=float32)\n",
            "y = tf.Tensor(\n",
            "[[0.919]\n",
            " [1.028]\n",
            " [2.182]], shape=(3, 1), dtype=float32)\n",
            "\n"
          ]
        }
      ]
    },
    {
      "cell_type": "markdown",
      "metadata": {
        "id": "0Yg4dYJmMKO1"
      },
      "source": [
        "##Utiliser le dataset avec tf.keras"
      ]
    },
    {
      "cell_type": "markdown",
      "metadata": {
        "id": "LXKY4QWgNomm"
      },
      "source": [
        "Nous utilisons la fonction `csv_reader_dataset()` pour créer un dataset associé au jeu d’entraînement, un dataset pour les jeux de validation\n",
        "et un dataset pour les jeux de test :"
      ]
    },
    {
      "cell_type": "code",
      "metadata": {
        "id": "pwQkxsbQ_r6F"
      },
      "source": [
        "train_set = \n",
        "valid_set = \n",
        "test_set = "
      ],
      "execution_count": null,
      "outputs": []
    },
    {
      "cell_type": "markdown",
      "metadata": {
        "id": "xsBaMnVdObne"
      },
      "source": [
        "construction et  entraînement d'un modèle Keras avec ces dataset :"
      ]
    },
    {
      "cell_type": "code",
      "metadata": {
        "id": "laIc7mv3_r6G"
      },
      "source": [
        "keras.backend.clear_session()\n",
        "np.random.seed(42)\n",
        "tf.random.set_seed(42)\n",
        "\n",
        "model = keras.models.Sequential([\n",
        "    keras.layers.Dense(30, activation=\"relu\", input_shape=X_train.shape[1:]),\n",
        "    keras.layers.Dense(1),\n",
        "])"
      ],
      "execution_count": null,
      "outputs": []
    },
    {
      "cell_type": "code",
      "metadata": {
        "id": "0NRSz2jV_r6G"
      },
      "source": [
        "model.compile(loss=\"mse\", optimizer=keras.optimizers.SGD(learning_rate=1e-3))"
      ],
      "execution_count": null,
      "outputs": []
    },
    {
      "cell_type": "code",
      "metadata": {
        "id": "RVUDt2ZF_r6G",
        "colab": {
          "base_uri": "https://localhost:8080/"
        },
        "outputId": "ee56f3aa-5915-4e50-c717-ba1c0986cfb5"
      },
      "source": [
        "batch_size = 32\n",
        "model.fit(train_set, steps_per_epoch=len(X_train) // batch_size, epochs=10,\n",
        "          validation_data=valid_set)"
      ],
      "execution_count": null,
      "outputs": [
        {
          "output_type": "stream",
          "name": "stdout",
          "text": [
            "Epoch 1/10\n",
            "362/362 [==============================] - 2s 3ms/step - loss: 1.4679 - val_loss: 21.5124\n",
            "Epoch 2/10\n",
            "362/362 [==============================] - 1s 3ms/step - loss: 0.8735 - val_loss: 0.6648\n",
            "Epoch 3/10\n",
            "362/362 [==============================] - 1s 3ms/step - loss: 0.6317 - val_loss: 0.6196\n",
            "Epoch 4/10\n",
            "362/362 [==============================] - 1s 2ms/step - loss: 0.5933 - val_loss: 0.5669\n",
            "Epoch 5/10\n",
            "362/362 [==============================] - 1s 2ms/step - loss: 0.5629 - val_loss: 0.5402\n",
            "Epoch 6/10\n",
            "362/362 [==============================] - 1s 3ms/step - loss: 0.5693 - val_loss: 0.5209\n",
            "Epoch 7/10\n",
            "362/362 [==============================] - 1s 2ms/step - loss: 0.5231 - val_loss: 0.6130\n",
            "Epoch 8/10\n",
            "362/362 [==============================] - 1s 3ms/step - loss: 0.5074 - val_loss: 0.4818\n",
            "Epoch 9/10\n",
            "362/362 [==============================] - 1s 3ms/step - loss: 0.4963 - val_loss: 0.4904\n",
            "Epoch 10/10\n",
            "362/362 [==============================] - 1s 2ms/step - loss: 0.5023 - val_loss: 0.4585\n"
          ]
        },
        {
          "output_type": "execute_result",
          "data": {
            "text/plain": [
              "<keras.callbacks.History at 0x7f3f778a0410>"
            ]
          },
          "metadata": {},
          "execution_count": 39
        }
      ]
    },
    {
      "cell_type": "code",
      "metadata": {
        "id": "0MWj8tr7_r6G",
        "colab": {
          "base_uri": "https://localhost:8080/"
        },
        "outputId": "9be66baf-2df0-4463-8579-385dae939819"
      },
      "source": [
        "model.evaluate(test_set, steps=len(X_test) // batch_size)"
      ],
      "execution_count": null,
      "outputs": [
        {
          "output_type": "stream",
          "name": "stdout",
          "text": [
            "161/161 [==============================] - 0s 2ms/step - loss: 0.4788\n"
          ]
        },
        {
          "output_type": "execute_result",
          "data": {
            "text/plain": [
              "0.4787752628326416"
            ]
          },
          "metadata": {},
          "execution_count": 40
        }
      ]
    }
  ]
}